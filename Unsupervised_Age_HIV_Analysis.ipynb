{
 "cells": [
  {
   "cell_type": "markdown",
   "metadata": {},
   "source": [
    "# Unsupervised analysis of HIV and age associated methylation signals"
   ]
  },
  {
   "cell_type": "markdown",
   "metadata": {},
   "source": [
    "#### Imports and Helper Functions"
   ]
  },
  {
   "cell_type": "code",
   "execution_count": 2,
   "metadata": {
    "collapsed": false
   },
   "outputs": [
    {
     "data": {
      "text/html": [
       "importing IPython notebook from <a href='./Setup/Imports.ipynb' target='_blank'>Setup/Imports</a>"
      ]
     },
     "metadata": {},
     "output_type": "display_data"
    },
    {
     "name": "stdout",
     "output_type": "stream",
     "text": [
      "Populating the interactive namespace from numpy and matplotlib\n"
     ]
    }
   ],
   "source": [
    "import NotebookImport\n",
    "from Setup.Imports import *"
   ]
  },
  {
   "cell_type": "code",
   "execution_count": 3,
   "metadata": {
    "collapsed": false
   },
   "outputs": [
    {
     "data": {
      "text/html": [
       "importing IPython notebook from <a href='./Parallel/Age_HIV_Features.ipynb' target='_blank'>Parallel/Age_HIV_Features</a>"
      ]
     },
     "metadata": {},
     "output_type": "display_data"
    },
    {
     "data": {
      "text/html": [
       "importing IPython notebook from <a href='./HIV_Age_Advancement.ipynb' target='_blank'>HIV_Age_Advancement</a>"
      ]
     },
     "metadata": {},
     "output_type": "display_data"
    },
    {
     "data": {
      "text/html": [
       "importing IPython notebook from <a href='./Setup/MethylationAgeModels.ipynb' target='_blank'>Setup/MethylationAgeModels</a>"
      ]
     },
     "metadata": {},
     "output_type": "display_data"
    },
    {
     "data": {
      "text/html": [
       "importing IPython notebook from <a href='./Setup/Read_HIV_Data.ipynb' target='_blank'>Setup/Read_HIV_Data</a>"
      ]
     },
     "metadata": {},
     "output_type": "display_data"
    }
   ],
   "source": [
    "import Parallel.Age_HIV_Features as fx"
   ]
  },
  {
   "cell_type": "code",
   "execution_count": 4,
   "metadata": {
    "collapsed": false
   },
   "outputs": [
    {
     "data": {
      "text/html": [
       "importing IPython notebook from <a href='./Setup/DX_Imports.ipynb' target='_blank'>Setup/DX_Imports</a>"
      ]
     },
     "metadata": {},
     "output_type": "display_data"
    }
   ],
   "source": [
    "from Setup.DX_Imports import ttest_df"
   ]
  },
  {
   "cell_type": "markdown",
   "metadata": {},
   "source": [
    "#### Taking a look age associated probes"
   ]
  },
  {
   "cell_type": "code",
   "execution_count": 5,
   "metadata": {
    "collapsed": false
   },
   "outputs": [
    {
     "data": {
      "text/plain": [
       "False    411452\n",
       "True      61592\n",
       "dtype: int64"
      ]
     },
     "execution_count": 5,
     "metadata": {},
     "output_type": "execute_result"
    }
   ],
   "source": [
    "(fx.rr > 0).value_counts()"
   ]
  },
  {
   "cell_type": "code",
   "execution_count": 6,
   "metadata": {
    "collapsed": false
   },
   "outputs": [
    {
     "data": {
      "text/plain": [
       "0    411452\n",
       "1     34665\n",
       "2     26927\n",
       "dtype: int64"
      ]
     },
     "execution_count": 6,
     "metadata": {},
     "output_type": "execute_result"
    }
   ],
   "source": [
    "fx.rr.value_counts()"
   ]
  },
  {
   "cell_type": "markdown",
   "metadata": {},
   "source": [
    "### Unsupervised Analysis of Age-Associated Probes"
   ]
  },
  {
   "cell_type": "markdown",
   "metadata": {},
   "source": [
    "* Now we are taking these age associated probes and looking in our new dataset for broad trends \n",
    "* For now, mainly I'm just doing basic PCA on the normalized dataset"
   ]
  },
  {
   "cell_type": "code",
   "execution_count": 8,
   "metadata": {
    "collapsed": false
   },
   "outputs": [],
   "source": [
    "df_hiv2 = fx.df_hiv.ix[:, fx.duration.index]\n",
    "df_hiv2 = df_hiv2.dropna(1, how='all')\n",
    "\n",
    "dd = logit_adj(df_hiv2)\n",
    "m = dd.mean(1)\n",
    "s = dd.std(1)\n",
    "df_norm = dd.subtract(m, axis=0).divide(s, axis=0)"
   ]
  },
  {
   "cell_type": "code",
   "execution_count": 9,
   "metadata": {
    "collapsed": false
   },
   "outputs": [],
   "source": [
    "idx = ti(fx.rr > 1)\n",
    "#idx = df_norm.index \n",
    "U,S,vH = frame_svd(df_norm.ix[fx.probe_idx].ix[idx])"
   ]
  },
  {
   "cell_type": "markdown",
   "metadata": {},
   "source": [
    "The first PC captures about 19% of the variance in the data"
   ]
  },
  {
   "cell_type": "code",
   "execution_count": 10,
   "metadata": {
    "collapsed": false
   },
   "outputs": [
    {
     "data": {
      "text/plain": [
       "array([ 0.19263648,  0.09834372,  0.04463382,  0.03695052,  0.02871613])"
      ]
     },
     "execution_count": 10,
     "metadata": {},
     "output_type": "execute_result"
    }
   ],
   "source": [
    "p = S ** 2 / sum(S ** 2)\n",
    "p[:5]"
   ]
  },
  {
   "cell_type": "code",
   "execution_count": 11,
   "metadata": {
    "collapsed": false
   },
   "outputs": [
    {
     "data": {
      "image/png": "[encoded data removed]",
      "text/plain": [
       "<matplotlib.figure.Figure at 0x7f77bce01590>"
      ]
     },
     "metadata": {},
     "output_type": "display_data"
    }
   ],
   "source": [
    "fig, ax = subplots(1,1, figsize=(4,3))\n",
    "rr = -1*vH[0]\n",
    "k = fx.pred_c.index\n",
    "hiv = fx.duration != 'Control'\n",
    "age = fx.age\n",
    "\n",
    "sns.regplot(*match_series(age.ix[k], rr.ix[ti(hiv==0)]),\n",
    "            ax=ax, label='HIV+', ci=None)\n",
    "sns.regplot(*match_series(age.ix[k], rr.ix[ti(hiv>0)]),\n",
    "            ax=ax, label='Control', ci=None)\n",
    "ax.set_ylabel('First PC of validated markers', size=12)\n",
    "ax.set_xlabel('Chronological age (years)', size=14)\n",
    "\n",
    "ax.set_yticks([0])\n",
    "ax.axhline(0, ls='--', lw=2.5, color='grey', zorder=-1)\n",
    "ax.set_xbound(23,70)\n",
    "ax.set_ybound(-.25,.28)\n",
    "prettify_ax(ax)\n",
    "fig.tight_layout()\n",
    "fig.savefig(FIGDIR + 'PC1_validated.pdf')"
   ]
  },
  {
   "cell_type": "markdown",
   "metadata": {},
   "source": [
    "Here I am doing a drop-1 test for an interaction term of age X HIV.  In the second act of this analysis we filter a few more patients with data that doesn't agree between aging models.  In general I think these are bad samples, and removing them does improve this result and make the lines more parallel than shown here.  I'm not using these filters here because it seemed a little ad-hoc to go back and apply them before we even looked at aging models and it is generally hard to report an iterative analysis in a journal paper."
   ]
  },
  {
   "cell_type": "code",
   "execution_count": 12,
   "metadata": {
    "collapsed": false
   },
   "outputs": [],
   "source": [
    "import statsmodels.api as sm"
   ]
  },
  {
   "cell_type": "code",
   "execution_count": 13,
   "metadata": {
    "collapsed": false
   },
   "outputs": [
    {
     "data": {
      "text/plain": [
       "(2.4912199645619921, 0.11448295270975471, 1.0)"
      ]
     },
     "execution_count": 13,
     "metadata": {},
     "output_type": "execute_result"
    }
   ],
   "source": [
    "y = vH[0]\n",
    "intercept = pd.Series(1, index=y.index)\n",
    "\n",
    "X = pd.concat([intercept, age, hiv], axis=1, keys=['Intercept', 'age', 'HIV'])\n",
    "X = X.dropna().ix[y.index]\n",
    "m1 = sm.OLS(y, X).fit()\n",
    "\n",
    "X = pd.concat([intercept, age, hiv, hiv*age], axis=1, keys=['Intercept', 'age', 'HIV', 'int'])\n",
    "X = X.dropna().ix[y.index]\n",
    "m2 = sm.OLS(y, X).fit()\n",
    "\n",
    "m2.compare_lr_test(m1)"
   ]
  },
  {
   "cell_type": "code",
   "execution_count": 14,
   "metadata": {
    "collapsed": false
   },
   "outputs": [
    {
     "data": {
      "text/html": [
       "<table class=\"simpletable\">\n",
       "<caption>OLS Regression Results</caption>\n",
       "<tr>\n",
       "  <th>Dep. Variable:</th>            <td>y</td>        <th>  R-squared:         </th> <td>   0.389</td>\n",
       "</tr>\n",
       "<tr>\n",
       "  <th>Model:</th>                   <td>OLS</td>       <th>  Adj. R-squared:    </th> <td>   0.382</td>\n",
       "</tr>\n",
       "<tr>\n",
       "  <th>Method:</th>             <td>Least Squares</td>  <th>  F-statistic:       </th> <td>   55.96</td>\n",
       "</tr>\n",
       "<tr>\n",
       "  <th>Date:</th>             <td>Thu, 17 Sep 2015</td> <th>  Prob (F-statistic):</th> <td>1.55e-19</td>\n",
       "</tr>\n",
       "<tr>\n",
       "  <th>Time:</th>                 <td>11:34:33</td>     <th>  Log-Likelihood:    </th> <td>  254.33</td>\n",
       "</tr>\n",
       "<tr>\n",
       "  <th>No. Observations:</th>      <td>   179</td>      <th>  AIC:               </th> <td>  -502.7</td>\n",
       "</tr>\n",
       "<tr>\n",
       "  <th>Df Residuals:</th>          <td>   176</td>      <th>  BIC:               </th> <td>  -493.1</td>\n",
       "</tr>\n",
       "<tr>\n",
       "  <th>Df Model:</th>              <td>     2</td>      <th>                     </th>     <td> </td>   \n",
       "</tr>\n",
       "</table>\n",
       "<table class=\"simpletable\">\n",
       "<tr>\n",
       "      <td></td>         <th>coef</th>     <th>std err</th>      <th>t</th>      <th>P>|t|</th> <th>[95.0% Conf. Int.]</th> \n",
       "</tr>\n",
       "<tr>\n",
       "  <th>Intercept</th> <td>    0.2209</td> <td>    0.026</td> <td>    8.482</td> <td> 0.000</td> <td>    0.169     0.272</td>\n",
       "</tr>\n",
       "<tr>\n",
       "  <th>age</th>       <td>   -0.0032</td> <td>    0.001</td> <td>   -6.275</td> <td> 0.000</td> <td>   -0.004    -0.002</td>\n",
       "</tr>\n",
       "<tr>\n",
       "  <th>HIV</th>       <td>   -0.0948</td> <td>    0.010</td> <td>   -9.075</td> <td> 0.000</td> <td>   -0.115    -0.074</td>\n",
       "</tr>\n",
       "</table>\n",
       "<table class=\"simpletable\">\n",
       "<tr>\n",
       "  <th>Omnibus:</th>       <td>17.211</td> <th>  Durbin-Watson:     </th> <td>   2.090</td>\n",
       "</tr>\n",
       "<tr>\n",
       "  <th>Prob(Omnibus):</th> <td> 0.000</td> <th>  Jarque-Bera (JB):  </th> <td>  20.083</td>\n",
       "</tr>\n",
       "<tr>\n",
       "  <th>Skew:</th>          <td>-0.683</td> <th>  Prob(JB):          </th> <td>4.36e-05</td>\n",
       "</tr>\n",
       "<tr>\n",
       "  <th>Kurtosis:</th>      <td> 3.908</td> <th>  Cond. No.          </th> <td>    283.</td>\n",
       "</tr>\n",
       "</table>"
      ],
      "text/plain": [
       "<class 'statsmodels.iolib.summary.Summary'>\n",
       "\"\"\"\n",
       "                            OLS Regression Results                            \n",
       "==============================================================================\n",
       "Dep. Variable:                      y   R-squared:                       0.389\n",
       "Model:                            OLS   Adj. R-squared:                  0.382\n",
       "Method:                 Least Squares   F-statistic:                     55.96\n",
       "Date:                Thu, 17 Sep 2015   Prob (F-statistic):           1.55e-19\n",
       "Time:                        11:34:33   Log-Likelihood:                 254.33\n",
       "No. Observations:                 179   AIC:                            -502.7\n",
       "Df Residuals:                     176   BIC:                            -493.1\n",
       "Df Model:                           2                                         \n",
       "==============================================================================\n",
       "                 coef    std err          t      P>|t|      [95.0% Conf. Int.]\n",
       "------------------------------------------------------------------------------\n",
       "Intercept      0.2209      0.026      8.482      0.000         0.169     0.272\n",
       "age           -0.0032      0.001     -6.275      0.000        -0.004    -0.002\n",
       "HIV           -0.0948      0.010     -9.075      0.000        -0.115    -0.074\n",
       "==============================================================================\n",
       "Omnibus:                       17.211   Durbin-Watson:                   2.090\n",
       "Prob(Omnibus):                  0.000   Jarque-Bera (JB):               20.083\n",
       "Skew:                          -0.683   Prob(JB):                     4.36e-05\n",
       "Kurtosis:                       3.908   Cond. No.                         283.\n",
       "==============================================================================\n",
       "\"\"\""
      ]
     },
     "execution_count": 14,
     "metadata": {},
     "output_type": "execute_result"
    }
   ],
   "source": [
    "m1.summary()"
   ]
  },
  {
   "cell_type": "code",
   "execution_count": 16,
   "metadata": {
    "collapsed": false
   },
   "outputs": [
    {
     "data": {
      "text/plain": [
       "Intercept    1.13e-05\n",
       "age          4.83e-03\n",
       "HIV          7.05e-01\n",
       "int          1.19e-01\n",
       "dtype: float64"
      ]
     },
     "execution_count": 16,
     "metadata": {},
     "output_type": "execute_result"
    }
   ],
   "source": [
    "m2.pvalues"
   ]
  },
  {
   "cell_type": "code",
   "execution_count": 17,
   "metadata": {
    "collapsed": false
   },
   "outputs": [
    {
     "data": {
      "text/plain": [
       "Intercept    8.78e-15\n",
       "age          2.64e-09\n",
       "HIV          2.25e-16\n",
       "dtype: float64"
      ]
     },
     "execution_count": 17,
     "metadata": {},
     "output_type": "execute_result"
    }
   ],
   "source": [
    "m1.pvalues"
   ]
  },
  {
   "cell_type": "markdown",
   "metadata": {},
   "source": [
    "Here I'm calculating the effect sise of HIV presence across the top principal components.  The idea is that an effect of 25 years means the the presence of HIV has an equivalent effect as 25 years of age on the molecular signal. "
   ]
  },
  {
   "cell_type": "code",
   "execution_count": 18,
   "metadata": {
    "collapsed": false
   },
   "outputs": [
    {
     "data": {
      "text/plain": [
       "0     8.34\n",
       "1    67.84\n",
       "2     1.08\n",
       "3    38.76\n",
       "4   -77.23\n",
       "dtype: float64"
      ]
     },
     "execution_count": 18,
     "metadata": {},
     "output_type": "execute_result"
    }
   ],
   "source": [
    "cc = {}\n",
    "for i,y in vH.iteritems():\n",
    "    mod_all = sm.OLS(y, X)\n",
    "    res_ref = mod_all.fit()\n",
    "    cc[i] = res_ref.params['HIV'] / res_ref.params['age']\n",
    "cc = pd.Series(cc)\n",
    "cc.head()"
   ]
  },
  {
   "cell_type": "code",
   "execution_count": 19,
   "metadata": {
    "collapsed": false
   },
   "outputs": [],
   "source": [
    "t_hiv = ttest_df(hiv, df_norm)"
   ]
  },
  {
   "cell_type": "code",
   "execution_count": 20,
   "metadata": {
    "collapsed": false
   },
   "outputs": [
    {
     "data": {
      "text/plain": [
       "0    411452\n",
       "1     34665\n",
       "2     26927\n",
       "dtype: int64"
      ]
     },
     "execution_count": 20,
     "metadata": {},
     "output_type": "execute_result"
    }
   ],
   "source": [
    "rr = bhCorrection(fx.p_vals.in_set_s1) < .01\n",
    "rr = rr + pd.Series(1, index=idx).ix[rr.index].fillna(0)\n",
    "rr.value_counts()"
   ]
  },
  {
   "cell_type": "markdown",
   "metadata": {},
   "source": [
    "#### Association with HIV of Age Associated Probes"
   ]
  },
  {
   "cell_type": "code",
   "execution_count": 21,
   "metadata": {
    "collapsed": false
   },
   "outputs": [
    {
     "data": {
      "image/png": "[encoded data removed]",
      "text/plain": [
       "<matplotlib.figure.Figure at 0x7f77bcd6ca50>"
      ]
     },
     "metadata": {},
     "output_type": "display_data"
    }
   ],
   "source": [
    "fig, ax = subplots(figsize=(4,4))\n",
    "draw_dist(t_hiv, rr, ax=ax, colors={0: 'grey', 1: colors_th[1], 2: colors_th[3]})\n",
    "ax.set_xlabel('HIV association (t-statistic)')\n",
    "ax.set_ylabel('density')\n",
    "ax.axvline(0, ls='--', lw=2.5, color='grey')\n",
    "ax.set_yticks([])\n",
    "prettify_ax(ax)\n",
    "fig.tight_layout()\n",
    "fig.savefig(FIGDIR + 't_dens.pdf')"
   ]
  },
  {
   "cell_type": "code",
   "execution_count": 22,
   "metadata": {
    "collapsed": false
   },
   "outputs": [
    {
     "data": {
      "text/plain": [
       "F    2586.27\n",
       "p       0.00\n",
       "dtype: float64"
      ]
     },
     "execution_count": 22,
     "metadata": {},
     "output_type": "execute_result"
    }
   ],
   "source": [
    "anova(rr>1, t_hiv)"
   ]
  },
  {
   "cell_type": "markdown",
   "metadata": {},
   "source": [
    "#### Association with HIV of Age Associated Probes- Split by Hypo/Hyper methylation"
   ]
  },
  {
   "cell_type": "code",
   "execution_count": 23,
   "metadata": {
    "collapsed": false
   },
   "outputs": [
    {
     "data": {
      "image/png": "[encoded data removed]",
      "text/plain": [
       "<matplotlib.figure.Figure at 0x7f77bcd6c690>"
      ]
     },
     "metadata": {},
     "output_type": "display_data"
    }
   ],
   "source": [
    "fig, axs = subplots(1,2, figsize=(13,4))\n",
    "draw_dist(t_hiv.ix[ti(fx.mm > .5)], rr, ax=axs[0])\n",
    "draw_dist(t_hiv.ix[ti(fx.mm < .5)], rr, ax=axs[1])"
   ]
  },
  {
   "cell_type": "code",
   "execution_count": 24,
   "metadata": {
    "collapsed": false
   },
   "outputs": [],
   "source": [
    "direction = fx.res.in_set_s1.multi_variate.age > 0"
   ]
  },
  {
   "cell_type": "code",
   "execution_count": 25,
   "metadata": {
    "collapsed": false
   },
   "outputs": [
    {
     "data": {
      "text/plain": [
       "odds_ratio    6.03\n",
       "p             0.00\n",
       "dtype: float64"
      ]
     },
     "execution_count": 25,
     "metadata": {},
     "output_type": "execute_result"
    }
   ],
   "source": [
    "fisher_exact_test(fx.mm < .5, direction.ix[ti(rr > 0)])"
   ]
  },
  {
   "cell_type": "markdown",
   "metadata": {},
   "source": [
    "# Looking at Upstream Probes"
   ]
  },
  {
   "cell_type": "markdown",
   "metadata": {},
   "source": [
    "These are probes that trend away from random, and validate in both cohorts."
   ]
  },
  {
   "cell_type": "code",
   "execution_count": 29,
   "metadata": {
    "collapsed": false
   },
   "outputs": [
    {
     "data": {
      "text/plain": [
       "7967"
      ]
     },
     "execution_count": 29,
     "metadata": {},
     "output_type": "execute_result"
    }
   ],
   "source": [
    "r2 = ti(fx.rr > 1)\n",
    "direction = fx.res.in_set_s1.multi_variate.age > 0\n",
    "r3 = ti(((fx.mm < .5).ix[r2] == direction.ix[r2]) == False)\n",
    "len(r3)"
   ]
  },
  {
   "cell_type": "code",
   "execution_count": 30,
   "metadata": {
    "collapsed": true
   },
   "outputs": [],
   "source": [
    "idx = r3\n",
    "U,S,vH = frame_svd(df_norm.ix[idx])"
   ]
  },
  {
   "cell_type": "markdown",
   "metadata": {},
   "source": [
    "The first PC capture about 25% of the variation"
   ]
  },
  {
   "cell_type": "code",
   "execution_count": 31,
   "metadata": {
    "collapsed": false
   },
   "outputs": [
    {
     "data": {
      "text/plain": [
       "array([ 0.14613607,  0.09732037,  0.04516041,  0.03142676,  0.02604059])"
      ]
     },
     "execution_count": 31,
     "metadata": {},
     "output_type": "execute_result"
    }
   ],
   "source": [
    "p = S ** 2 / sum(S ** 2)\n",
    "p[:5]"
   ]
  },
  {
   "cell_type": "code",
   "execution_count": 32,
   "metadata": {
    "collapsed": false
   },
   "outputs": [
    {
     "data": {
      "image/png": "[encoded data removed]",
      "text/plain": [
       "<matplotlib.figure.Figure at 0x7f77bcdc3450>"
      ]
     },
     "metadata": {},
     "output_type": "display_data"
    }
   ],
   "source": [
    "fig, ax = subplots(1,1, figsize=(4,3))\n",
    "rr = vH[0]\n",
    "hiv = fx.duration != 'Control'\n",
    "\n",
    "sns.regplot(*match_series(age, rr.ix[ti(hiv==0)]),\n",
    "            ax=ax, label='HIV+', ci=None)\n",
    "sns.regplot(*match_series(age, rr.ix[ti(hiv>0)]),\n",
    "            ax=ax, label='Control', ci=None)\n",
    "ax.set_ylabel('first PC')\n",
    "ax.set_yticks([0])\n",
    "ax.axhline(0, ls='--', color='grey', zorder=-1)\n",
    "ax.set_xbound(23,70)\n",
    "ax.set_ybound(-.25,.25)\n",
    "prettify_ax(ax)\n",
    "fig.savefig(FIGDIR + 'PC1_validated.pdf')"
   ]
  },
  {
   "cell_type": "code",
   "execution_count": 33,
   "metadata": {
    "collapsed": false
   },
   "outputs": [
    {
     "data": {
      "text/plain": [
       "(1.1298061889274322, 0.28781668290682894, 1.0)"
      ]
     },
     "execution_count": 33,
     "metadata": {},
     "output_type": "execute_result"
    }
   ],
   "source": [
    "y = vH[0]\n",
    "intercept = pd.Series(1, index=y.index)\n",
    "\n",
    "X = pd.concat([intercept, age, hiv], axis=1, \n",
    "              keys=['Intercept', 'age', 'HIV'])\n",
    "X = X.dropna().ix[y.index]\n",
    "m1 = sm.OLS(y, X).fit()\n",
    "\n",
    "X = pd.concat([intercept, age, hiv, hiv*age], axis=1, \n",
    "              keys=['Intercept', 'age', 'HIV', 'int'])\n",
    "X = X.dropna().ix[y.index]\n",
    "m2 = sm.OLS(y, X).fit()\n",
    "\n",
    "m2.compare_lr_test(m1)"
   ]
  },
  {
   "cell_type": "code",
   "execution_count": 34,
   "metadata": {
    "collapsed": false
   },
   "outputs": [
    {
     "data": {
      "text/plain": [
       "Intercept    5.41e-08\n",
       "age          1.19e-04\n",
       "HIV          3.11e-01\n",
       "int          2.94e-01\n",
       "dtype: float64"
      ]
     },
     "execution_count": 34,
     "metadata": {},
     "output_type": "execute_result"
    }
   ],
   "source": [
    "m2.pvalues"
   ]
  },
  {
   "cell_type": "code",
   "execution_count": 35,
   "metadata": {
    "collapsed": false
   },
   "outputs": [
    {
     "data": {
      "text/plain": [
       "Intercept    4.79e-18\n",
       "age          6.42e-12\n",
       "HIV          3.07e-18\n",
       "dtype: float64"
      ]
     },
     "execution_count": 35,
     "metadata": {},
     "output_type": "execute_result"
    }
   ],
   "source": [
    "m1.pvalues"
   ]
  }
 ],
 "metadata": {
  "kernelspec": {
   "display_name": "Python 2",
   "language": "python",
   "name": "python2"
  },
  "language_info": {
   "codemirror_mode": {
    "name": "ipython",
    "version": 2
   },
   "file_extension": ".py",
   "mimetype": "text/x-python",
   "name": "python",
   "nbconvert_exporter": "python",
   "pygments_lexer": "ipython2",
   "version": "2.7.9"
  }
 },
 "nbformat": 4,
 "nbformat_minor": 0
}

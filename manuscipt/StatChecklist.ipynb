{
 "metadata": {
  "kernelspec": {
   "codemirror_mode": {
    "name": "ipython",
    "version": 2
   },
   "display_name": "IPython (Python 2)",
   "language": "python",
   "name": "python2"
  },
  "name": "",
  "signature": "sha256:8de15f92fa34a4dcf42571b67569a3fb65787ee77261d0a57512ae5a3f2e925c"
 },
 "nbformat": 3,
 "nbformat_minor": 0,
 "worksheets": [
  {
   "cells": [
    {
     "cell_type": "code",
     "collapsed": false,
     "input": [
      "import pandas as pd"
     ],
     "language": "python",
     "metadata": {},
     "outputs": [],
     "prompt_number": 1
    },
    {
     "cell_type": "heading",
     "level": 1,
     "metadata": {},
     "source": [
      "Advancement of aging in HIV+ individuals revealed by epigenomic profiling"
     ]
    },
    {
     "cell_type": "heading",
     "level": 3,
     "metadata": {},
     "source": [
      "Data Introduction Processing"
     ]
    },
    {
     "cell_type": "markdown",
     "metadata": {},
     "source": [
      "To explore the dynamics of epigenetic modification in HIV-infected patients, we collected 137 Caucasian male cases with limited comorbidities treated under standard HAART therepy along with 48 Caucasian male controls (Supplementary Table). Whole blood was taken from each patient and genome-wide DNA methylation profiles were measured via the Ilumina Infinium HumanMethylation450 BeadChip assay. Data were normalized by standard processing pipelines for this assay format (Methods); quality control measures resulted in 5 controls and 3 being removed."
     ]
    },
    {
     "cell_type": "markdown",
     "metadata": {},
     "source": [
      "####Standard Filters, Quality Control  \n",
      "* Number of cases: 137 \n",
      "* Number of controls: 46 \n",
      "* Discarded samples: 2 controls\n",
      "\n",
      "####Model Concordance\n",
      "* Number of cases: 134\n",
      "* Number of Controls: 44\n",
      "* Discarded Samples: 2 control, 3 cases"
     ]
    },
    {
     "cell_type": "heading",
     "level": 3,
     "metadata": {},
     "source": [
      "Naive Model of HIV and Aging"
     ]
    },
    {
     "cell_type": "markdown",
     "metadata": {},
     "source": [
      "To test the hypothesis that patients with chronic HIV infection undergo epigenetic remodeling similar to that occurring in aging, we constructed linear models of the association between age and/or HIV status and methylation levels.  Methylation markers associated with aging are also overwhelmingly associated with HIV infection, as seen by the agreement of the sign and magnitude of global methylation changes across both traits (Figure 1a, Odds ratio of sign = 2.3, Pearson correlation r = 0.35, n = 485,512 probes).  To assess the interplay of these two variables, we constructed a set of multivariate models estimating the dependence of methylation levels on both age and HIV status for each probe.  Among these, 7% of probes are best modeled with a combination of age and HIV status and when this is the case, the effect of HIV is usually in agreement with age advancement (83% of models, P < 10x).  Among these, the partial effect of HIV infection is equivalent to about 30 years of aging on average (Figure 1b-c). Although this effect seems large, it is important to note that while many markers are associated with age, there remains a considerable amount of variability that is not explained by this factor alone. While this result shows shared epigenetic phenotypes of HIV and chronological age, it remains difficult to directly tie the process of biological aging to HIV infection."
     ]
    },
    {
     "cell_type": "markdown",
     "metadata": {},
     "source": [
      "####Univariate linear models\n",
      "* Odds-ratio of agreement in sign between HIV and age coorelations: 2.3 \n",
      "* Correlation between HIV and age coorelations: 0.35\n",
      "* Number of probes tested 485,512"
     ]
    },
    {
     "cell_type": "markdown",
     "metadata": {},
     "source": [
      "####Multivatiate linear models  \n",
      "* Fraction of probes best fit by combination of age and HIV: 7% \n",
      "* Fraction of these probes with sign of HIV and Age in agreement: 83%, $P<10^{16}$ \n",
      "* Average (mean) parital effect of HIV infection: ~30 years"
     ]
    },
    {
     "cell_type": "markdown",
     "metadata": {},
     "source": [
      "####Multivatiate linear models (v2)\n",
      "* Fraction of probes best fit by combination of age and HIV: 1.3% \n",
      "* Fraction of these probes with sign of HIV and Age in agreement: 88%, $P=10^X$ \n",
      "* Average (median) parital effect of HIV infection: ~23.5 years"
     ]
    },
    {
     "cell_type": "heading",
     "level": 3,
     "metadata": {},
     "source": [
      "Benchmarking Methylation Age Models"
     ]
    },
    {
     "cell_type": "markdown",
     "metadata": {},
     "source": [
      "We then sought to more directly quantify the effect of HIV infection on human aging.  For this, we applied two distinct models of molecular aging to the data (Hannum, Horvath, Methods).  While these models used slightly different methodology and different training data in their formulations, in practice we find that their predictions are very similar (r=.9), and in post-hoc analysis found much of the variation in the models is likely attributable to measurement error.  To benchmark these two models, we incorporated independent datasets not used for training of either model, and found that the models have comparable performance on whole blood samples. Furthermore a consensus of the two predictions out-performs either individual model, and is thus used throughout the rest of the study (Methods).  "
     ]
    },
    {
     "cell_type": "heading",
     "level": 4,
     "metadata": {},
     "source": [
      "Model Preformance"
     ]
    },
    {
     "cell_type": "code",
     "collapsed": false,
     "input": [
      "internal_controls = pd.DataFrame([[46, .93, 3.6, .082],\n",
      "                                  [46, .93, 3.6, .083],\n",
      "                                  [46, .94, 3.3, .077], \n",
      "                                  [44, .95, 3.1, .070]], \n",
      "                                 index=['Hannum','Horvath','Merged','Merged, Filtered'],\n",
      "                                 columns=['n', 'r', 'error (years)', '% error'])\n",
      "hiv_cohort = pd.DataFrame([[137, .76, 5.5, .13],\n",
      "                           [137, .77, 6.8, .16],\n",
      "                           [137, .79, 6.0, .14], \n",
      "                           [134, .8,  5.8, .13]], \n",
      "                          index=['Hannum','Horvath','Merged','Merged, Filtered'],\n",
      "                          columns=['n', 'r', 'error (years)', '% error'])\n",
      "\n",
      "d = pd.concat([internal_controls, hiv_cohort], axis=1, \n",
      "              keys=['Internal Controls','HIV Cohort'])\n",
      "d"
     ],
     "language": "python",
     "metadata": {},
     "outputs": [
      {
       "html": [
        "<div style=\"max-height:1000px;max-width:1500px;overflow:auto;\">\n",
        "<table border=\"1\" class=\"dataframe\">\n",
        "  <thead>\n",
        "    <tr>\n",
        "      <th></th>\n",
        "      <th colspan=\"4\" halign=\"left\">Internal Controls</th>\n",
        "      <th colspan=\"4\" halign=\"left\">HIV Cohort</th>\n",
        "    </tr>\n",
        "    <tr>\n",
        "      <th></th>\n",
        "      <th>n</th>\n",
        "      <th>r</th>\n",
        "      <th>error (years)</th>\n",
        "      <th>% error</th>\n",
        "      <th>n</th>\n",
        "      <th>r</th>\n",
        "      <th>error (years)</th>\n",
        "      <th>% error</th>\n",
        "    </tr>\n",
        "  </thead>\n",
        "  <tbody>\n",
        "    <tr>\n",
        "      <th>Hannum</th>\n",
        "      <td> 46</td>\n",
        "      <td> 0.93</td>\n",
        "      <td> 3.6</td>\n",
        "      <td> 0.082</td>\n",
        "      <td> 137</td>\n",
        "      <td> 0.76</td>\n",
        "      <td> 5.5</td>\n",
        "      <td> 0.13</td>\n",
        "    </tr>\n",
        "    <tr>\n",
        "      <th>Horvath</th>\n",
        "      <td> 46</td>\n",
        "      <td> 0.93</td>\n",
        "      <td> 3.6</td>\n",
        "      <td> 0.083</td>\n",
        "      <td> 137</td>\n",
        "      <td> 0.77</td>\n",
        "      <td> 6.8</td>\n",
        "      <td> 0.16</td>\n",
        "    </tr>\n",
        "    <tr>\n",
        "      <th>Merged</th>\n",
        "      <td> 46</td>\n",
        "      <td> 0.94</td>\n",
        "      <td> 3.3</td>\n",
        "      <td> 0.077</td>\n",
        "      <td> 137</td>\n",
        "      <td> 0.79</td>\n",
        "      <td> 6.0</td>\n",
        "      <td> 0.14</td>\n",
        "    </tr>\n",
        "    <tr>\n",
        "      <th>Merged, Filtered</th>\n",
        "      <td> 44</td>\n",
        "      <td> 0.95</td>\n",
        "      <td> 3.1</td>\n",
        "      <td> 0.070</td>\n",
        "      <td> 134</td>\n",
        "      <td> 0.80</td>\n",
        "      <td> 5.8</td>\n",
        "      <td> 0.13</td>\n",
        "    </tr>\n",
        "  </tbody>\n",
        "</table>\n",
        "</div>"
       ],
       "metadata": {},
       "output_type": "pyout",
       "prompt_number": 33,
       "text": [
        "                  Internal Controls                                HIV Cohort  \\\n",
        "                                  n     r  error (years)  % error           n   \n",
        "Hannum                           46  0.93            3.6    0.082         137   \n",
        "Horvath                          46  0.93            3.6    0.083         137   \n",
        "Merged                           46  0.94            3.3    0.077         137   \n",
        "Merged, Filtered                 44  0.95            3.1    0.070         134   \n",
        "\n",
        "                                                \n",
        "                     r  error (years)  % error  \n",
        "Hannum            0.76            5.5     0.13  \n",
        "Horvath           0.77            6.8     0.16  \n",
        "Merged            0.79            6.0     0.14  \n",
        "Merged, Filtered  0.80            5.8     0.13  "
       ]
      }
     ],
     "prompt_number": 33
    },
    {
     "cell_type": "code",
     "collapsed": false,
     "input": [
      "model_agreement = pd.DataFrame([[46, .95, 3.3, .074],\n",
      "                                [137, .86, 3.6, .072]], \n",
      "                          index=['Internal Controls','HIV Cohort'dd],\n",
      "                          columns=['n', 'r', 'error (years)', '% error'])\n",
      "model_agreement"
     ],
     "language": "python",
     "metadata": {},
     "outputs": [
      {
       "html": [
        "<div style=\"max-height:1000px;max-width:1500px;overflow:auto;\">\n",
        "<table border=\"1\" class=\"dataframe\">\n",
        "  <thead>\n",
        "    <tr style=\"text-align: right;\">\n",
        "      <th></th>\n",
        "      <th>n</th>\n",
        "      <th>r</th>\n",
        "      <th>error (years)</th>\n",
        "      <th>% error</th>\n",
        "    </tr>\n",
        "  </thead>\n",
        "  <tbody>\n",
        "    <tr>\n",
        "      <th>Internal Controls</th>\n",
        "      <td>  46</td>\n",
        "      <td> 0.95</td>\n",
        "      <td> 3.3</td>\n",
        "      <td> 0.074</td>\n",
        "    </tr>\n",
        "    <tr>\n",
        "      <th>HIV Cohort</th>\n",
        "      <td> 137</td>\n",
        "      <td> 0.86</td>\n",
        "      <td> 3.6</td>\n",
        "      <td> 0.072</td>\n",
        "    </tr>\n",
        "  </tbody>\n",
        "</table>\n",
        "</div>"
       ],
       "metadata": {},
       "output_type": "pyout",
       "prompt_number": 34,
       "text": [
        "                     n     r  error (years)  % error\n",
        "Internal Controls   46  0.95            3.3    0.074\n",
        "HIV Cohort         137  0.86            3.6    0.072"
       ]
      }
     ],
     "prompt_number": 34
    },
    {
     "cell_type": "markdown",
     "metadata": {},
     "source": [
      "* Try and quantify effect of measurment error \n",
      "* Out of study benchmarks \n",
      "    * Need to gather numbers for these \n",
      "    * Show that preformance is comparable and that consensus is slightly better"
     ]
    },
    {
     "cell_type": "heading",
     "level": 3,
     "metadata": {},
     "source": [
      "Application of Aging Model"
     ]
    },
    {
     "cell_type": "markdown",
     "metadata": {},
     "source": [
      "We applied this consensus aging model to our cohort of HIV patients and healthy controls (Table 1). The predictions for the control patients have very high concordance with subject chronological age, with 94% agreement and an average error of 3.3 years (Figure 2a). Consistent with the age advancement hypothesis, HIV infected patients show an increase in biological age across the cohort as compared to the controls with an average effect of 5.2 years (t-test P < 10-7, Figure 2b-c). "
     ]
    },
    {
     "cell_type": "markdown",
     "metadata": {},
     "source": [
      "* __Table 1__: of all models and fits.  \n",
      "* Model fit of controls: 95% agreement, average error of 3.3 years \n",
      "* Increase of HIV compared to controls: __ANCOVA__ P < X  \n",
      "* Average effect size of increase: 5.2 years "
     ]
    },
    {
     "cell_type": "markdown",
     "metadata": {},
     "source": [
      "Interestingly, we find that patients with recent HIV infection have similar age advancement as those patients with chronic infection (Mann-Whitney U, P > 0.5, Figure 2c). Furthermore, in a linear model we find that the slope of chronological verses molecular time since infection does not differ from one (slope=0.98 +/- 0.06) whereas the intersect term is significantly positive (b=5.66 +/- 0.96). These data suggest that the aging of patients with HIV seems to be a constant advancement in molecular age relatively early in the course of the infection, as opposed to an acceleration of the rate of aging."
     ]
    },
    {
     "cell_type": "markdown",
     "metadata": {},
     "source": [
      "* Age advancment in HIV short vs. HIV long: Mann-Whitney U, P > 0.5  \n",
      "* Linear model of HIV vs. Controls \n",
      "    * slope: 0.98 +/- 0.06 \n",
      "    * Intercept: 5.66 +/- 0.96 "
     ]
    },
    {
     "cell_type": "heading",
     "level": 3,
     "metadata": {},
     "source": [
      "Multivariate Aging Models"
     ]
    },
    {
     "cell_type": "markdown",
     "metadata": {},
     "source": [
      "Indeed, we do find associations of cellular composition with patient age in our case and control datasets.  Furthermore, we find the ratio of CD8 T-cells to CD4 T-cells about 15 times higher in HIV-infected patients.  While direct effects of such composition changes were mitigated by the adjustment of methylation levels as described in the Methods, this does not rule out downstream, indirect changes in the methylome due to cellular composition. To assess this, we constructed a multivariate linear model on age advancement, with cell composition as well as the HIV indicator variable as a constant effect.  In this model, the HIV term remains significant with an average age advancement of 4.4 +/- 1.1 years while the presence of natural killer T-cells as well as the absence of CD4 T-cells also account for additional increases in apparent methylation age. In an even more conservative test, we modeled the age advancement with cellular composition alone, and found that the unexplained variation in this model had a significant association with HIV infection (P = 0.02).  While the direction of causality in the relationships between HIV, cell composition and aging remain unclear, this analysis shows that in the limiting case, HIV still has some independent association with advanced molecular aging."
     ]
    },
    {
     "cell_type": "markdown",
     "metadata": {},
     "source": [
      "####Confounding\n",
      "* Association of cellular composition with patient age: (Supplemental Figure?)  \n",
      "* Ratio of CD8 to CD4 T-cells: ~15   \n",
      "\n",
      "####Multivariate Model 1: Grab bag\n",
      "* HIV effect: 4.4 +/- 1.1 years \n",
      "* Other contributions: CD4T and NK cells\n",
      "* Supplemental Figure?  \n",
      "\n",
      "####Multivariate Model 2: Two Step  \n",
      "* Should we compare fits? \n",
      "* Association of residuals wit HIV \n",
      "* Tack on to Supplemental Figure"
     ]
    },
    {
     "cell_type": "heading",
     "level": 3,
     "metadata": {},
     "source": [
      "HIV Aging vs. Healthy Aging"
     ]
    },
    {
     "cell_type": "markdown",
     "metadata": {},
     "source": [
      "We next sought to assess whether the epigenetic remodeling responsible for the accelerated age phenotype differed within HIV-infected patients as compared to the controls.  Surprisingly we found very high concordance of the molecular markers associated with this advanced aging in the HIV cohort and our compilation of healthy controls (r = .68).  Furthermore, this agreement of age advancement between HIV cases and the control data is higher than the agreement between technical batches in the run (Table).  Thus while it is clear that HIV effects the epigenome through molecular aging, we see no evidence that this process is different than normal environmental factors that lead to age advancement. "
     ]
    },
    {
     "cell_type": "markdown",
     "metadata": {},
     "source": [
      "* Correlates of age advancment in healthy tissues  \n",
      "    * Literature review \n",
      "    * Show in control data-sets  \n",
      "    \n",
      "* Comparison of HIV+ to controls  \n",
      "    * Internal vs. external controls\n",
      "    * Show effect of data-set size (downsample?)\n",
      "    * Compare to reproducability across batches   "
     ]
    },
    {
     "cell_type": "heading",
     "level": 1,
     "metadata": {},
     "source": [
      "Figures "
     ]
    },
    {
     "cell_type": "heading",
     "level": 4,
     "metadata": {},
     "source": [
      "Figure 1"
     ]
    },
    {
     "cell_type": "markdown",
     "metadata": {},
     "source": [
      "* Panel a\n",
      "    * Age vs. HIV linear model r-values \n",
      "    * Hexbin + marginals\n",
      "\n",
      "* Panel b\n",
      "    * Sample linear model \n",
      "* Panel c\n",
      "    * Distrubution of HIV effect size"
     ]
    },
    {
     "cell_type": "heading",
     "level": 4,
     "metadata": {},
     "source": [
      "Figure 2"
     ]
    },
    {
     "cell_type": "markdown",
     "metadata": {},
     "source": [
      "* Panel a  \n",
      "    * Age vs. bio-age, control samples\n",
      "    * r-value, error matching text\n",
      "* Panel b\n",
      "    * time since onset vs. bio-time since onset, HIV patients\n",
      "    * r-value, slope, intercept\n",
      "* Panel c\n",
      "    * Violin-plot, residual on controls, short-HIV, and long-HIV"
     ]
    },
    {
     "cell_type": "heading",
     "level": 1,
     "metadata": {},
     "source": [
      "Supplemental Figures"
     ]
    },
    {
     "cell_type": "heading",
     "level": 4,
     "metadata": {},
     "source": [
      "Cell Composition Adjustement"
     ]
    },
    {
     "cell_type": "heading",
     "level": 4,
     "metadata": {},
     "source": [
      "Cell Composition Benchmarking"
     ]
    },
    {
     "cell_type": "heading",
     "level": 4,
     "metadata": {},
     "source": [
      "Age Model Benchmarks"
     ]
    },
    {
     "cell_type": "heading",
     "level": 4,
     "metadata": {},
     "source": [
      "Age Model Comparisons"
     ]
    },
    {
     "cell_type": "markdown",
     "metadata": {},
     "source": [
      "* Flag disagreeing samples"
     ]
    },
    {
     "cell_type": "heading",
     "level": 4,
     "metadata": {},
     "source": [
      "Cellular Composition and Age"
     ]
    },
    {
     "cell_type": "heading",
     "level": 4,
     "metadata": {},
     "source": [
      "Multivariate Models"
     ]
    },
    {
     "cell_type": "heading",
     "level": 4,
     "metadata": {},
     "source": [
      "Age advancment in healthy tissue  "
     ]
    },
    {
     "cell_type": "markdown",
     "metadata": {},
     "source": [
      "* Control data-sets\n",
      "* Top probes, genes\n",
      "* Correlation between datasets"
     ]
    }
   ],
   "metadata": {}
  }
 ]
}
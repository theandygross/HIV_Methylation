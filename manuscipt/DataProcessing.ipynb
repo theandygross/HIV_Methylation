{
 "metadata": {
  "kernelspec": {
   "codemirror_mode": {
    "name": "ipython",
    "version": 2
   },
   "display_name": "IPython (Python 2)",
   "language": "python",
   "name": "python2"
  },
  "name": "",
  "signature": "sha256:cd3147f9e0ee6488212262bbeb55a4d57021a4844ef4b1e98b39738b9ba4ddcc"
 },
 "nbformat": 3,
 "nbformat_minor": 0,
 "worksheets": [
  {
   "cells": [
    {
     "cell_type": "heading",
     "level": 1,
     "metadata": {},
     "source": [
      "Data Processing Pipeline"
     ]
    },
    {
     "cell_type": "heading",
     "level": 2,
     "metadata": {},
     "source": [
      "Datasets"
     ]
    },
    {
     "cell_type": "heading",
     "level": 3,
     "metadata": {},
     "source": [
      "HIV Dataset  "
     ]
    },
    {
     "cell_type": "heading",
     "level": 4,
     "metadata": {},
     "source": [
      "Summary"
     ]
    },
    {
     "cell_type": "markdown",
     "metadata": {},
     "source": [
      "* Summarized in [Read HIV Data](../Setup.Read_HIV_Data) notebook \n",
      "* 142 cases, 50 controls\n",
      "* All white, 2 with current alcohol use, 1 with cannabis  \n",
      "* None are diabetic or HCV+ \n",
      "* All adherent to drugs"
     ]
    },
    {
     "cell_type": "heading",
     "level": 4,
     "metadata": {},
     "source": [
      "Filters (QC)"
     ]
    },
    {
     "cell_type": "markdown",
     "metadata": {},
     "source": [
      "* 5 patients not treated with HAART therepy \n",
      "* 2 female controls removed \n",
      "* 2 controls removed due to data quality (MINFI pipeline, probe detection criteria) "
     ]
    },
    {
     "cell_type": "heading",
     "level": 4,
     "metadata": {},
     "source": [
      "Filters (age models)"
     ]
    },
    {
     "cell_type": "markdown",
     "metadata": {},
     "source": [
      "Looking at agreement between Hannum and Horvath models.  The idea here is that when they disagree it is likely a sign of poor data quality, or that our models do a great job of describing the aging process for a particular patien ([Relavant code](../HIV_Age_Advancement_Composition_Adj.ipynb#Quality-Control)).\n",
      "\n",
      "* Drop 5 cases, 1 control \n",
      "* 2/6 samples have non-zero detection p-values for probes in one or both of the models"
     ]
    },
    {
     "cell_type": "heading",
     "level": 2,
     "metadata": {},
     "source": [
      "Data Processing"
     ]
    },
    {
     "cell_type": "markdown",
     "metadata": {},
     "source": [
      "* Primary processing done with MINFI R package, described in this [Notebook](../PreProcessing/Methylation_Normalization_MINFI.ipynb)  \n",
      "    * All data quantile normalized together \n",
      "    * Needs large memory machine (~100GB)\n",
      "* Cell-counts calculated using estimateCellCounts \n",
      "    * Uses flow-sorted data \n",
      "        * from Housmann et. al\n",
      "        * R package FlowSorted.Blood.450k \n",
      "        * Normalized with rest of data for consistancy\n",
      "    * Benchmarked for HIV data in [Cell Composition Benchmark](../Benchmarks/Cell_Composition_Bechmark.ipynb)\n",
      "* Detection p-values obtained by detectionP function\n",
      "    * Processed and dumped to HDFS in [this notebook](../PreProcessing/save_detection_p_values.ipynb)  \n",
      "* All data normalized to reference distribution via BMIQ \n",
      "    * Modified code from Horvath paper \n",
      "    * Use Hannum data, as gold standard for Hannum model, Horvath's supplied gold-standard for his model  \n",
      "    * [Horvath pipeline script](../PreProcessing/Normalize_For_Horvath/BMIQ_Horvath.ipynb)  \n",
      "    * [Hannum pipeline script](../PreProcessing/Normalize_For_Horvath/BMIQ_Normalization.ipynb)\n",
      "* Each probe adjusted for cell-composition\n",
      "    * Hannum: quantile normalization -> adjustment -> BMIQ\n",
      "    * Horvath: quantile normalization -> BMIQ -> adjustement"
     ]
    }
   ],
   "metadata": {}
  }
 ]
}
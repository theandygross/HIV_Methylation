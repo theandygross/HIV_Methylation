{
 "metadata": {
  "name": "",
  "signature": "sha256:0c592af3bdd1be6ce3e6187933222fc9ad73df3036e3024bda4a534c281c1ee0"
 },
 "nbformat": 3,
 "nbformat_minor": 0,
 "worksheets": [
  {
   "cells": [
    {
     "cell_type": "heading",
     "level": 1,
     "metadata": {},
     "source": [
      "GEO Methylation Survey"
     ]
    },
    {
     "cell_type": "markdown",
     "metadata": {},
     "source": [
      "###Aging-induced differential methylation in human PBMCs occurs with but often without change in expression of the associated gene (DNA Methylation)\n",
      "\n",
      "####[GSE49064](http://www.ncbi.nlm.nih.gov/geo/query/acc.cgi?acc=GSE49064)\n",
      "* PBMCs\n",
      "* Peripheral blood mononuclear cells were isolated from 10 volunteers (5 young 5 old), treated with the synthetic PPARalpha agonists WY14,643 or control for 13 hrs, and subjected to genome-wide DNA methylation and gene expression analysis. This entry contains the DNA methylation data.\n",
      "* 20 samples"
     ]
    },
    {
     "cell_type": "markdown",
     "metadata": {},
     "source": [
      "###Genome-wide signatures of differential DNA methylation and gene expression in pediatric ALL\n",
      "\n",
      "####[GSE49031](http://www.ncbi.nlm.nih.gov/geo/query/acc.cgi?acc=GSE49032)  \n",
      "* The DNA methylation levels of primary pediatric ALL samples taken at diagnosis (n= 764), remission(n=86), first relapse (n=27), second relapse (n=5), fractionated blood cells from healthy blood donors (n=51), and methylation +/- controls (n=11) were analyzed with the Illumina Infinium HumanMethylation 450k BeadChips. One ALL sample was run in duplicate (technical replicate).\n",
      "\n",
      "* [Link to publication](http://www.ncbi.nlm.nih.gov/pmc/articles/PMC4014804/)"
     ]
    },
    {
     "cell_type": "markdown",
     "metadata": {},
     "source": [
      "###Human DNA methylation profiles for the HBV vaccine responses study \n",
      "\n",
      "####[GSE48300](http://www.ncbi.nlm.nih.gov/geo/query/acc.cgi?acc=GSE48300) \n",
      "* 25 Samples\n",
      "* Binned into good and poor response"
     ]
    },
    {
     "cell_type": "markdown",
     "metadata": {},
     "source": [
      "###Methylation profiles in non-alcoholic fatty liver disease \n",
      "####[GSE49542](http://www.ncbi.nlm.nih.gov/geo/query/acc.cgi?acc=GSE49542)  \n",
      "* 59 samples\n",
      "* Three technical replicates were included for quality control along with 35 mild NAFLD (33 unique samples) and 24 advanced NAFLD (23 unique sample). "
     ]
    },
    {
     "cell_type": "markdown",
     "metadata": {},
     "source": [
      "###DNA methylation differences between human regulatory T cells and conventional T cells \n",
      "####[GSE49667](http://www.ncbi.nlm.nih.gov/geo/query/acc.cgi?acc=GSE49667)  \n",
      "* Na\u00efve and rTreg cells were sorted from buffy coats of 3 healthy male donors (M28, 29, 30) and then activated for 6 days with anti-CD3 and anti-CD28 antibodies, supplemented with IL-2 at day 4. DNA was harvested and bisulfite converted for methylation analysis on illumina HM450 array from 2-3 biological replicates of each cell type: rTreg (M28, M30), na\u00efve (M28, M29, M30), Act-na\u00efve (M28, M29, M30) and Act-rTreg (M29, M30)."
     ]
    },
    {
     "cell_type": "markdown",
     "metadata": {},
     "source": [
      "###DNA Methylation Signature of Childhood Chronic Physical Aggression in T Cells of Both Men and Women\n",
      "####[GSE53191](http://www.ncbi.nlm.nih.gov/geo/query/acc.cgi?acc=GSE53191)  \n",
      "* 12 Samples  \n",
      "* Genome-wide promoter methylation profiles of T cell DNA from adult males and females on a Chronic Physical Aggression (CPA) trajectory during childhood and adolescence were compared to adults on a normative physical aggression trajectories (NPA). Each sample was bisulphite converted gDNA pooled in equimolar amounts. Three different pools of genomic DNA were made per group: male CPA (2 or 3 different subjects per pool), male NPA (4 different subjects per pool), female CPA (2 different subjects per pool) and female NPA (4 or 5 different subjects per pool) . The Illumina Infinium 450k Human DNA methylation Beadchip was used to obtain DNA methylation profiles of the 2 groups in both sex.\n"
     ]
    },
    {
     "cell_type": "markdown",
     "metadata": {},
     "source": [
      "###Epigenome analysis of smoking in peripheral blood mononuclear cells (PBMC) samples  \n",
      "####[GSE53045](http://www.ncbi.nlm.nih.gov/geo/query/acc.cgi?acc=GSE53045) \n",
      "* Genome wide DNA methylation profiling of smokers and non-smokers in PBMC samples. The Illumina Infinium 450k Human DNA methylation Beadchip v1.1 was used to obtain DNA methylation profiles across 485,577 CpGs in PBMC samples. Samples included 50 smokers and 61 non-smokers \n",
      "* All African American \n",
      "* [Link to paper](http://www.biomedcentral.com/1471-2164/15/151) \n",
      "* Need to get age from authors"
     ]
    },
    {
     "cell_type": "markdown",
     "metadata": {},
     "source": [
      "###Intra-MZ pair discordance and longitudinal variation of whole-genome scale DNA methylation in adults \n",
      "####[GSE51388](http://www.ncbi.nlm.nih.gov/geo/query/acc.cgi?acc=GSE51388)  \n",
      "* In this study, we used Illumina Infinium HumanMethylation450 Beadchips to compare DNA methylation profiles in blood from 10 pairs of MZ twins and 8 individuals recruited at 0, 3, 6, and 9 months."
     ]
    },
    {
     "cell_type": "markdown",
     "metadata": {},
     "source": [
      "###Methylome Analysis and Epigenetic Changes Associated with Menarcheal Age\n",
      "####[GSE51057](http://www.ncbi.nlm.nih.gov/geo/query/acc.cgi?acc=GSE51057)  \n",
      "* Epigenome-wide association study of age at menarche in a group of 329 women from the EPIC-Italy cohort."
     ]
    },
    {
     "cell_type": "markdown",
     "metadata": {},
     "source": [
      "###EPIC-Italy at HuGeF \n",
      "* This Series contains data from 845 participants (188 men and 657 women) in the EPIC-Italy cohort that was produced at the Human Genetics Foundation (HuGeF) in Turin, Italy.\n",
      "At the last follow-up (2010), 424 participants remained cancer-free, 235 had developed primary breast cancer, 166 had developed primary colorectal cancer, and 20 had developed other primary cancers."
     ]
    },
    {
     "cell_type": "markdown",
     "metadata": {},
     "source": [
      "###DNA methylation profiling can classify HIV-associated lymphomas \n",
      "####[GSE42372](http://www.ncbi.nlm.nih.gov/geo/query/acc.cgi?acc=GSE42372)  \n",
      "* HIV-positive patients have a higher risk of non-Hodgkin's lymphoma with poor prognostic features. To characterize features of HIV-associated lymphoma, we compared the genome-wide DNA methylation profiles in between 11 HIV-associated and 20 non-HIV lymphoma samples by Illumina Infinium HumanMethylation450 BeadChip v1.0."
     ]
    }
   ],
   "metadata": {}
  }
 ]
}
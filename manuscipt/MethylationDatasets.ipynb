{
 "metadata": {
  "kernelspec": {
   "codemirror_mode": {
    "name": "ipython",
    "version": 2
   },
   "display_name": "IPython (Python 2)",
   "language": "python",
   "name": "python2"
  },
  "name": "",
  "signature": "sha256:a3ae0783bb83be32322a69ece5b49ba4c39c8b168648ca0ec534748038a87fcb"
 },
 "nbformat": 3,
 "nbformat_minor": 0,
 "worksheets": [
  {
   "cells": [
    {
     "cell_type": "heading",
     "level": 1,
     "metadata": {},
     "source": [
      "Data Sources"
     ]
    },
    {
     "cell_type": "heading",
     "level": 2,
     "metadata": {},
     "source": [
      "UCSD"
     ]
    },
    {
     "cell_type": "markdown",
     "metadata": {},
     "source": [
      "* Hannum et. al \n",
      "    * ~1000 patients\n",
      "    * Glaucoma GWAS\n",
      "* HIV Study \n",
      "    * ~150 cases\n",
      "    * 50 controls"
     ]
    },
    {
     "cell_type": "heading",
     "level": 2,
     "metadata": {},
     "source": [
      "EPIC"
     ]
    },
    {
     "cell_type": "heading",
     "level": 2,
     "metadata": {},
     "source": [
      "Framingham"
     ]
    },
    {
     "cell_type": "markdown",
     "metadata": {},
     "source": [
      "* [DBGap Page](http://www.ncbi.nlm.nih.gov/projects/gap/cgi-bin/study.cgi?study_id=phs000724.v1.p9)  \n",
      "* Need to get IRB"
     ]
    },
    {
     "cell_type": "heading",
     "level": 2,
     "metadata": {},
     "source": [
      "Lorthian"
     ]
    },
    {
     "cell_type": "markdown",
     "metadata": {},
     "source": [
      "* 2000 patients\n",
      "* Some multiple timepoints \n",
      "* Almost there with the data"
     ]
    },
    {
     "cell_type": "heading",
     "level": 2,
     "metadata": {},
     "source": [
      "German Data"
     ]
    },
    {
     "cell_type": "markdown",
     "metadata": {},
     "source": [
      "* [Cross-sectional and longitudinal changes in DNA methylation with age: an epigenome-wide analysis revealing over 60 novel age-associated CpG sites](http://hmg.oxfordjournals.org/content/23/5/1186.full)  \n",
      "* 965 patients  \n",
      "* Followup for 67 patients \n",
      "* \"at the time when we submitted this manuscript to HMG (more than 1 year ago) it was not required to make the data public avialable\""
     ]
    },
    {
     "cell_type": "heading",
     "level": 2,
     "metadata": {},
     "source": [
      "Circadian Brains"
     ]
    },
    {
     "cell_type": "markdown",
     "metadata": {},
     "source": [
      "* [24-Hour Rhythms of DNA Methylation and Their Relation with Rhythms of RNA Expression in the Human Dorsolateral Prefrontal Cortex](http://www.plosgenetics.org/article/info%3Adoi%2F10.1371%2Fjournal.pgen.1004792)\n",
      "* post-mortem human dorsolateral prefrontal cortex samples from 738 \n",
      "* The authors confirm that all data underlying the findings are fully available without restriction. The data are publicly available. They can be obtained by request via an online request tool, which can be found at http://www.rush.edu/radc."
     ]
    }
   ],
   "metadata": {}
  }
 ]
}
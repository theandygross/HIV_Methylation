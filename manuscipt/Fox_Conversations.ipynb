{
 "metadata": {
  "name": "",
  "signature": "sha256:03dba468c0a496fd45daf7078b08ef32aab439a08680c32d0c5a14eab0007d50"
 },
 "nbformat": 3,
 "nbformat_minor": 0,
 "worksheets": [
  {
   "cells": [
    {
     "cell_type": "heading",
     "level": 3,
     "metadata": {},
     "source": [
      "June 10, 2014"
     ]
    },
    {
     "cell_type": "markdown",
     "metadata": {},
     "source": [
      "Trey: \n",
      "\n",
      "Here is my quick notes by the way, it roughly correlates to points in the results section of a paper:\n",
      "\n",
      "SO FAR:\n",
      "\n",
      "a. Data are good quality\n",
      "\n",
      "b. Both Hannum and Horvath methylation models recapitulate aging of the normal controls. Horvath model is based on more data and thus we use it here.\n",
      "\n",
      "c. HIV-infected individuals do appear older. \n",
      "\n",
      "d. The effect appears to be aging advancement (vs. aging accleration).There is no dependency on long term versus short term infection. (No change in slope, just change in y-intercept).\n",
      "\n",
      "TO DO: \n",
      "\n",
      "e. How general vs. specific is the aging signal?  Are advanced aging, cancer, and HIV infection really all the same phenotype?  Tease apart the influence on the methylome of these factors: Age, HIVSpecific, StressGeneral, InfectionTime.\n",
      "\n",
      "f. Report on signal linked to infection time, i.e. InfectionTime variable."
     ]
    },
    {
     "cell_type": "heading",
     "level": 3,
     "metadata": {},
     "source": [
      "June 11, 2014"
     ]
    },
    {
     "cell_type": "markdown",
     "metadata": {},
     "source": [
      "Fox:\n",
      "\n",
      "thinking about the data sets from the Horvath paper, perhaps two candidates (both from TCGA, both using the 450K chip, both with increased methylome age vs biological) from the cancer sets would be Data #2 (AML, bone marrow, since it is related to \"blood cells\") and Data #(cervical CA, as Phil stated, viral induced)"
     ]
    },
    {
     "cell_type": "markdown",
     "metadata": {},
     "source": [
      "Phil:\n",
      "\n",
      "Great talking to you guys!\n",
      "\n",
      "Goals (timeline ~1mth)\n",
      "\n",
      "IDKER LAB\n",
      "* Select appropriate cancer and (if possible) other disease methylome data sets from published studies to identify HIV, general disease stress and aging markers.\n",
      "* Look at the HIV specific markers, identify underlying genes, map to pathways and explore biological function and possible connections to virus / immune biology.\n",
      "* Develop appropriate test statistics to provide meaningful p-values on changes in slope vs. changes in y-intercept.\n",
      "* Perform unsupervised and supervised clustering to explore complete methylome or markers in the model only.\n",
      "* Explore other study parameters and their effect on the methylome signature -> cognitive performance, treatment type, other comorbidities, drug abuse etc.\n",
      "\n",
      "FOX LAB\n",
      "* Initiate acquisition of additional verification samples.\n",
      "* Explore funding landscape for additional chip runs.\n",
      "* Gather as much data as possible about the cellular composition of the samples for both HIV and Controls.\n",
      "* Pilot SIV methylome studies\n",
      "\n",
      "Best,\n",
      "\n",
      "Phil"
     ]
    },
    {
     "cell_type": "heading",
     "level": 3,
     "metadata": {},
     "source": [
      "July 21, 2014"
     ]
    },
    {
     "cell_type": "markdown",
     "metadata": {},
     "source": [
      "Phil:\n",
      "\n",
      "Hi Howard,\n",
      "\n",
      "We have finished a thorough analysis of the HIV aging phenotype and so far the advanced age we observed seems robust. We also analyzed other general systemic stresses like cancer, schizophrenia, and dementia without observing any changes in aging. We have now begun to take cell composition into account and it seems that there is some link between the biological HIV methylome age and NK-cell count. Is it possible to get the leukocyte panel for these samples? I think this is the next thing we will have to take into account.\n",
      "\n",
      "Best,\n",
      "\n",
      "Phil"
     ]
    },
    {
     "cell_type": "heading",
     "level": 3,
     "metadata": {},
     "source": [
      "July 31, 2014"
     ]
    },
    {
     "cell_type": "markdown",
     "metadata": {},
     "source": [
      "here we go with all the hematology and chemistry/metabolic data. They did not do NK cell count, not unexpected, most don't, as NK cells are never that frequent. Since the DNA was made from whole blood in general ~50% of the cells are neutrophils and ~40% are lymphocytes (and then ~10% monocytes and other cells); of the lymphocytes usually a max of ~10% are NK cells so those would only contribute 4% of the signal from the DNA. \n",
      "But anyway here is everything. The main thing of interest to the HIV field is the absolute CD4 cell count. Normal is low of 400-500 to a high of 1000-1500, depending on definitions. <200 gets you a definition of immunosuppressed/AIDS; on this sheet the median is 480 and 14 are <200, so of course down but not really that bad.\n",
      "There are some missing values we can double check on, and some things that clearly look off (specifically the Absolute Lymphocyte count, think those ones with single digits and a decimal really should be x1000) but can start here. Note that for Plasma HIV RNA (rnvalue PLASMA), for the log10 values (rnlog10 PLASMA) those equal to or below the lower limit of quantification (LLQ), which is 50, are all assigned the log10 of 50 (1.69897 or 1.699 depending on their rounding).\n",
      "Once you have a look at this, let's schedule another call - Sandy will be in touch!\n",
      "Thanks\n",
      "Howard"
     ]
    },
    {
     "cell_type": "markdown",
     "metadata": {},
     "source": []
    }
   ],
   "metadata": {}
  }
 ]
}
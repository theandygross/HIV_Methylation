{
 "cells": [
  {
   "cell_type": "markdown",
   "metadata": {},
   "source": [
    "# Read in Methylation Aging Models"
   ]
  },
  {
   "cell_type": "markdown",
   "metadata": {},
   "source": [
    "* These are linear models generated in different studies.\n",
    "* To reconstruct the age predictor from these models me must add a linear combination of the input probes."
   ]
  },
  {
   "cell_type": "code",
   "execution_count": 4,
   "metadata": {
    "collapsed": false
   },
   "outputs": [
    {
     "data": {
      "text/html": [
       "importing IPython notebook from <a href='./Imports.ipynb' target='_blank'>Imports</a>"
      ]
     },
     "metadata": {},
     "output_type": "display_data"
    },
    {
     "name": "stdout",
     "output_type": "stream",
     "text": [
      "Populating the interactive namespace from numpy and matplotlib\n"
     ]
    }
   ],
   "source": [
    "import NotebookImport\n",
    "from Imports import path"
   ]
  },
  {
   "cell_type": "code",
   "execution_count": 5,
   "metadata": {
    "collapsed": false
   },
   "outputs": [],
   "source": [
    "import numpy as np\n",
    "import pandas as pd"
   ]
  },
  {
   "cell_type": "markdown",
   "metadata": {},
   "source": [
    "### Horvath's Transfer Functions  \n",
    "* He trains his model on a non-linear transform of the age as an output  \n",
    "* These are helper functions to go back and forth the origional age and transformed age spaces"
   ]
  },
  {
   "cell_type": "code",
   "execution_count": 6,
   "metadata": {
    "collapsed": false
   },
   "outputs": [],
   "source": [
    "def tranfer_fx(x, adult_age=20):\n",
    "    x = np.float(x)\n",
    "    x=(x+1)/(1+adult_age)\n",
    "    y = np.log(x) if x <= 1 else x - 1\n",
    "    return y\n",
    "    \n",
    "\n",
    "def anti_tranfer_fx(x, adult_age=20):\n",
    "    if x < 0:\n",
    "        return (1+adult_age)*np.exp(x)-1\n",
    "    else:\n",
    "        return (1+adult_age)*x+adult_age"
   ]
  },
  {
   "cell_type": "markdown",
   "metadata": {},
   "source": [
    "### Horvath Model  \n",
    "* Relies on data normalized by Horvath's normalization function do not plug in unnormalized beta values  \n",
    "* Horvath preforms a non-linear transform to his data prior to modeling, so after our predictions are made we must run the anti-tranfer function in order to get at age predictions  \n",
    "* Here I am using the model trained with shrunken coefficients as I expect this to generalize better"
   ]
  },
  {
   "cell_type": "code",
   "execution_count": 7,
   "metadata": {
    "collapsed": false
   },
   "outputs": [],
   "source": [
    "horvath_model = pd.read_table(path + 'data/Horvath_Model.csv', index_col=0, \n",
    "                              skiprows=[0,1])\n",
    "horvath_intercept = horvath_model.CoefficientTraining['(Intercept)']\n",
    "horvath_model = horvath_model.iloc[1:]\n",
    "\n",
    "def run_horvath_model(df):\n",
    "    '''\n",
    "    Uses global variables horvath_model and horvath_intercept.  At some point I should\n",
    "    move this to a class.\n",
    "    \n",
    "    Input data-frame should be normalized using Horvath's normalization script.\n",
    "    '''\n",
    "    df = df.T.fillna(horvath_model.medianByCpG).T\n",
    "    df = df.ix[horvath_model.CoefficientTraining.dropna().index]\n",
    "    pred_age = df.T.dot(horvath_model.CoefficientTraining.dropna()) + horvath_intercept\n",
    "    pred_age = pred_age.apply(anti_tranfer_fx)\n",
    "    pred_age.name = 'predicted age (Horvath)'\n",
    "    return pred_age"
   ]
  },
  {
   "cell_type": "markdown",
   "metadata": {},
   "source": [
    "### Hannum Model  \n",
    "* Hannum does no supply an intercept with his model  \n",
    "* In the paper, these is talk about gender and BMI covariates, but I can not find these anywhere"
   ]
  },
  {
   "cell_type": "code",
   "execution_count": 8,
   "metadata": {
    "collapsed": false
   },
   "outputs": [],
   "source": [
    "hannum_model = pd.read_csv(path + 'data/Hannum_All.csv', index_col=0)\n",
    "\n",
    "def run_hannum_model(df):\n",
    "    df = df.ix[hannum_model.Coefficient.index]\n",
    "    pred_age = df.T.dot(hannum_model.Coefficient)\n",
    "    pred_age.name = 'predicted age (Hannum)'\n",
    "    return pred_age"
   ]
  }
 ],
 "metadata": {
  "kernelspec": {
   "display_name": "Python 2",
   "language": "python",
   "name": "python2"
  },
  "language_info": {
   "codemirror_mode": {
    "name": "ipython",
    "version": 2
   },
   "file_extension": ".py",
   "mimetype": "text/x-python",
   "name": "python",
   "nbconvert_exporter": "python",
   "pygments_lexer": "ipython2",
   "version": "2.7.9"
  }
 },
 "nbformat": 4,
 "nbformat_minor": 0
}

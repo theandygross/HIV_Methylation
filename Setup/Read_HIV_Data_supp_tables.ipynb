{
 "metadata": {
  "kernelspec": {
   "codemirror_mode": {
    "name": "ipython",
    "version": 2
   },
   "display_name": "IPython (Python 2)",
   "language": "python",
   "name": "python2"
  },
  "name": "",
  "signature": "sha256:b62479f4906971f736b732939affc3020ed0e3e2679a4323ff93c59b416db052"
 },
 "nbformat": 3,
 "nbformat_minor": 0,
 "worksheets": [
  {
   "cells": [
    {
     "cell_type": "heading",
     "level": 1,
     "metadata": {},
     "source": [
      "Read HIV Data"
     ]
    },
    {
     "cell_type": "code",
     "collapsed": false,
     "input": [
      "import os\n",
      "if os.getcwd().endswith('Setup'):\n",
      "    os.chdir('..')"
     ],
     "language": "python",
     "metadata": {},
     "outputs": [],
     "prompt_number": 57
    },
    {
     "cell_type": "code",
     "collapsed": false,
     "input": [
      "import NotebookImport\n",
      "from Setup.Imports import *"
     ],
     "language": "python",
     "metadata": {},
     "outputs": [],
     "prompt_number": 58
    },
    {
     "cell_type": "heading",
     "level": 3,
     "metadata": {},
     "source": [
      "Read in Clinical Data"
     ]
    },
    {
     "cell_type": "code",
     "collapsed": false,
     "input": [
      "c1 = pd.read_excel(ucsd_path + 'DESIGN_Fox_v2_Samples-ChipLAyout-Clinical UNMC-UCSD methylomestudy.xlsx', \n",
      "                   'HIV- samples from OldStudy', index_col=0)\n",
      "c2 = pd.read_excel(ucsd_path + 'DESIGN_Fox_v2_Samples-ChipLAyout-Clinical UNMC-UCSD methylomestudy.xlsx', \n",
      "                   'HIV+ samples', index_col=0)\n",
      "clinical = c1.append(c2)\n",
      "clinical['Sentrix_Position'] = clinical['Sentrix_Position\\\\'].map(lambda s: s[:-1])\n",
      "del clinical['Sentrix_Position\\\\']"
     ],
     "language": "python",
     "metadata": {},
     "outputs": [],
     "prompt_number": 115
    },
    {
     "cell_type": "markdown",
     "metadata": {},
     "source": [
      "Update clinical data with new data provided by Howard Fox"
     ]
    },
    {
     "cell_type": "code",
     "collapsed": false,
     "input": [
      "age_new = pd.read_csv(ucsd_path + 'UpdatesAges-Infection.csv', index_col=0)\n",
      "age = age_new.age.combine_first(clinical.age)\n",
      "age.name= 'age'\n",
      "clinical['age'] = age\n",
      "l = 'estimated duration hiv (months)'\n",
      "clinical[l] = age_new['Estimated Duration HIV+ (months)'].combine_first(clinical[l])"
     ],
     "language": "python",
     "metadata": {},
     "outputs": [],
     "prompt_number": 116
    },
    {
     "cell_type": "markdown",
     "metadata": {},
     "source": [
      "Clean up diabetes across annotation files"
     ]
    },
    {
     "cell_type": "code",
     "collapsed": false,
     "input": [
      "diabetes = clinical['diabetes'].combine_first(clinical['Diabetes @ 000'])\n",
      "diabetes = diabetes.replace('N','no')\n",
      "clinical['diabetes'] = diabetes\n",
      "del clinical['Diabetes @ 000']\n",
      "diabetes.value_counts()"
     ],
     "language": "python",
     "metadata": {},
     "outputs": [
      {
       "metadata": {},
       "output_type": "pyout",
       "prompt_number": 128,
       "text": [
        "no    192\n",
        "dtype: int64"
       ]
      }
     ],
     "prompt_number": 128
    },
    {
     "cell_type": "markdown",
     "metadata": {},
     "source": [
      "All of the patients are white or Caucasian"
     ]
    },
    {
     "cell_type": "code",
     "collapsed": false,
     "input": [
      "ethnicity = clinical.ethnicity\n",
      "ethnicity = ethnicity.replace('wht','white')\n",
      "ethnicity = ethnicity.replace('Caucasian - European','white')\n",
      "clinical['ethnicity'] = ethnicity\n",
      "ethnicity.value_counts()"
     ],
     "language": "python",
     "metadata": {},
     "outputs": [
      {
       "metadata": {},
       "output_type": "pyout",
       "prompt_number": 132,
       "text": [
        "white    192\n",
        "dtype: int64"
       ]
      }
     ],
     "prompt_number": 132
    },
    {
     "cell_type": "markdown",
     "metadata": {},
     "source": [
      "Sex is not recorded for the cases but they are all HIV+ men."
     ]
    },
    {
     "cell_type": "code",
     "collapsed": false,
     "input": [
      "clinical['sex'] = clinical['sex'].fillna('M')"
     ],
     "language": "python",
     "metadata": {},
     "outputs": [],
     "prompt_number": 138
    },
    {
     "cell_type": "markdown",
     "metadata": {},
     "source": [
      "Fix BMI to unified labels"
     ]
    },
    {
     "cell_type": "code",
     "collapsed": false,
     "input": [
      "bmi = clinical['bmi'].combine_first(clinical['BMI'])\n",
      "clinical['BMI'] = bmi\n",
      "clinical = clinical[clinical.columns.diff(['bmi'])]"
     ],
     "language": "python",
     "metadata": {},
     "outputs": [],
     "prompt_number": 167
    },
    {
     "cell_type": "code",
     "collapsed": false,
     "input": [
      "#Do not import\n",
      "bmi.hist()"
     ],
     "language": "python",
     "metadata": {},
     "outputs": [
      {
       "metadata": {},
       "output_type": "pyout",
       "prompt_number": 168,
       "text": [
        "<matplotlib.axes.AxesSubplot at 0x7f549b30df90>"
       ]
      },
      {
       "metadata": {},
       "output_type": "display_data",
       "png": "[encoded data removed]",
       "text": [
        "<matplotlib.figure.Figure at 0x7f549b30d590>"
       ]
      }
     ],
     "prompt_number": 168
    },
    {
     "cell_type": "code",
     "collapsed": false,
     "input": [
      "current_usage = [\"Current 'Other' dx\", 'Current Alcohol dx',\n",
      "                 'Current Bipolar I', 'Current Bipolar II',\n",
      "                 'Current Cannabis dx', 'Current Cocaine dx',\n",
      "                 'Current Dysthymia', 'Current Halucinogen dx',\n",
      "                 'Current Inhalant dx', 'Current MDD',\n",
      "                 'Current Methamphetamine dx', 'Current Opioid dx',\n",
      "                 'Current PCP dx', 'Current Sedative dx',\n",
      "                 'Any Current Substance dx']\n",
      "current_usage = clinical[current_usage]\n",
      "current_usage.dropna(how='all').apply(pd.value_counts).fillna(0).T"
     ],
     "language": "python",
     "metadata": {},
     "outputs": [
      {
       "html": [
        "<div style=\"max-height:1000px;max-width:1500px;overflow:auto;\">\n",
        "<table border=\"1\" class=\"dataframe\">\n",
        "  <thead>\n",
        "    <tr style=\"text-align: right;\">\n",
        "      <th></th>\n",
        "      <th>NO</th>\n",
        "      <th>YES</th>\n",
        "    </tr>\n",
        "  </thead>\n",
        "  <tbody>\n",
        "    <tr>\n",
        "      <th>Current 'Other' dx</th>\n",
        "      <td> 142</td>\n",
        "      <td>  0</td>\n",
        "    </tr>\n",
        "    <tr>\n",
        "      <th>Current Alcohol dx</th>\n",
        "      <td> 140</td>\n",
        "      <td>  2</td>\n",
        "    </tr>\n",
        "    <tr>\n",
        "      <th>Current Bipolar I</th>\n",
        "      <td> 142</td>\n",
        "      <td>  0</td>\n",
        "    </tr>\n",
        "    <tr>\n",
        "      <th>Current Bipolar II</th>\n",
        "      <td> 142</td>\n",
        "      <td>  0</td>\n",
        "    </tr>\n",
        "    <tr>\n",
        "      <th>Current Cannabis dx</th>\n",
        "      <td> 141</td>\n",
        "      <td>  1</td>\n",
        "    </tr>\n",
        "    <tr>\n",
        "      <th>Current Cocaine dx</th>\n",
        "      <td> 142</td>\n",
        "      <td>  0</td>\n",
        "    </tr>\n",
        "    <tr>\n",
        "      <th>Current Dysthymia</th>\n",
        "      <td> 142</td>\n",
        "      <td>  0</td>\n",
        "    </tr>\n",
        "    <tr>\n",
        "      <th>Current Halucinogen dx</th>\n",
        "      <td> 142</td>\n",
        "      <td>  0</td>\n",
        "    </tr>\n",
        "    <tr>\n",
        "      <th>Current Inhalant dx</th>\n",
        "      <td> 142</td>\n",
        "      <td>  0</td>\n",
        "    </tr>\n",
        "    <tr>\n",
        "      <th>Current MDD</th>\n",
        "      <td> 120</td>\n",
        "      <td> 22</td>\n",
        "    </tr>\n",
        "    <tr>\n",
        "      <th>Current Methamphetamine dx</th>\n",
        "      <td> 142</td>\n",
        "      <td>  0</td>\n",
        "    </tr>\n",
        "    <tr>\n",
        "      <th>Current Opioid dx</th>\n",
        "      <td> 142</td>\n",
        "      <td>  0</td>\n",
        "    </tr>\n",
        "    <tr>\n",
        "      <th>Current PCP dx</th>\n",
        "      <td> 142</td>\n",
        "      <td>  0</td>\n",
        "    </tr>\n",
        "    <tr>\n",
        "      <th>Current Sedative dx</th>\n",
        "      <td> 142</td>\n",
        "      <td>  0</td>\n",
        "    </tr>\n",
        "    <tr>\n",
        "      <th>Any Current Substance dx</th>\n",
        "      <td> 139</td>\n",
        "      <td>  3</td>\n",
        "    </tr>\n",
        "  </tbody>\n",
        "</table>\n",
        "</div>"
       ],
       "metadata": {},
       "output_type": "pyout",
       "prompt_number": 114,
       "text": [
        "                             NO  YES\n",
        "Current 'Other' dx          142    0\n",
        "Current Alcohol dx          140    2\n",
        "Current Bipolar I           142    0\n",
        "Current Bipolar II          142    0\n",
        "Current Cannabis dx         141    1\n",
        "Current Cocaine dx          142    0\n",
        "Current Dysthymia           142    0\n",
        "Current Halucinogen dx      142    0\n",
        "Current Inhalant dx         142    0\n",
        "Current MDD                 120   22\n",
        "Current Methamphetamine dx  142    0\n",
        "Current Opioid dx           142    0\n",
        "Current PCP dx              142    0\n",
        "Current Sedative dx         142    0\n",
        "Any Current Substance dx    139    3"
       ]
      }
     ],
     "prompt_number": 114
    },
    {
     "cell_type": "code",
     "collapsed": false,
     "input": [
      "past_usage = [\"LT 'Other' dx\",  'LT Alcohol dx', 'LT Bipolar I', \n",
      "              'LT Bipolar II', 'LT Cannabis dx', 'LT Cocaine dx',\n",
      "              'LT Dysthymia', 'LT Halucinogen dx', 'LT Inhalant dx',\n",
      "              'LT MDD', 'LT Methamphetamine dx', 'LT Opioid dx',\n",
      "              'LT PCP dx', 'LT Sedative dx', 'Any LT Substance dx']\n",
      "past_usage = clinical[past_usage]\n",
      "past_usage.dropna(how='all').apply(pd.value_counts).fillna(0).T"
     ],
     "language": "python",
     "metadata": {},
     "outputs": [
      {
       "html": [
        "<div style=\"max-height:1000px;max-width:1500px;overflow:auto;\">\n",
        "<table border=\"1\" class=\"dataframe\">\n",
        "  <thead>\n",
        "    <tr style=\"text-align: right;\">\n",
        "      <th></th>\n",
        "      <th>NO</th>\n",
        "      <th>YES</th>\n",
        "    </tr>\n",
        "  </thead>\n",
        "  <tbody>\n",
        "    <tr>\n",
        "      <th>LT 'Other' dx</th>\n",
        "      <td> 141</td>\n",
        "      <td>   1</td>\n",
        "    </tr>\n",
        "    <tr>\n",
        "      <th>LT Alcohol dx</th>\n",
        "      <td>  50</td>\n",
        "      <td>  92</td>\n",
        "    </tr>\n",
        "    <tr>\n",
        "      <th>LT Bipolar I</th>\n",
        "      <td> 142</td>\n",
        "      <td>   0</td>\n",
        "    </tr>\n",
        "    <tr>\n",
        "      <th>LT Bipolar II</th>\n",
        "      <td> 142</td>\n",
        "      <td>   0</td>\n",
        "    </tr>\n",
        "    <tr>\n",
        "      <th>LT Cannabis dx</th>\n",
        "      <td>  99</td>\n",
        "      <td>  43</td>\n",
        "    </tr>\n",
        "    <tr>\n",
        "      <th>LT Cocaine dx</th>\n",
        "      <td> 112</td>\n",
        "      <td>  30</td>\n",
        "    </tr>\n",
        "    <tr>\n",
        "      <th>LT Dysthymia</th>\n",
        "      <td> 141</td>\n",
        "      <td>   1</td>\n",
        "    </tr>\n",
        "    <tr>\n",
        "      <th>LT Halucinogen dx</th>\n",
        "      <td> 123</td>\n",
        "      <td>  19</td>\n",
        "    </tr>\n",
        "    <tr>\n",
        "      <th>LT Inhalant dx</th>\n",
        "      <td> 134</td>\n",
        "      <td>   8</td>\n",
        "    </tr>\n",
        "    <tr>\n",
        "      <th>LT MDD</th>\n",
        "      <td>  58</td>\n",
        "      <td>  84</td>\n",
        "    </tr>\n",
        "    <tr>\n",
        "      <th>LT Methamphetamine dx</th>\n",
        "      <td> 104</td>\n",
        "      <td>  38</td>\n",
        "    </tr>\n",
        "    <tr>\n",
        "      <th>LT Opioid dx</th>\n",
        "      <td> 131</td>\n",
        "      <td>  11</td>\n",
        "    </tr>\n",
        "    <tr>\n",
        "      <th>LT PCP dx</th>\n",
        "      <td> 138</td>\n",
        "      <td>   4</td>\n",
        "    </tr>\n",
        "    <tr>\n",
        "      <th>LT Sedative dx</th>\n",
        "      <td> 132</td>\n",
        "      <td>  10</td>\n",
        "    </tr>\n",
        "    <tr>\n",
        "      <th>Any LT Substance dx</th>\n",
        "      <td>  36</td>\n",
        "      <td> 106</td>\n",
        "    </tr>\n",
        "  </tbody>\n",
        "</table>\n",
        "</div>"
       ],
       "metadata": {},
       "output_type": "pyout",
       "prompt_number": 7,
       "text": [
        "                        NO  YES\n",
        "LT 'Other' dx          141    1\n",
        "LT Alcohol dx           50   92\n",
        "LT Bipolar I           142    0\n",
        "LT Bipolar II          142    0\n",
        "LT Cannabis dx          99   43\n",
        "LT Cocaine dx          112   30\n",
        "LT Dysthymia           141    1\n",
        "LT Halucinogen dx      123   19\n",
        "LT Inhalant dx         134    8\n",
        "LT MDD                  58   84\n",
        "LT Methamphetamine dx  104   38\n",
        "LT Opioid dx           131   11\n",
        "LT PCP dx              138    4\n",
        "LT Sedative dx         132   10\n",
        "Any LT Substance dx     36  106"
       ]
      }
     ],
     "prompt_number": 7
    },
    {
     "cell_type": "code",
     "collapsed": false,
     "input": [
      "usage = current_usage.join(past_usage).dropna(how='all')\n",
      "usage.to_csv(FIGDIR + 'drug_usage.csv')"
     ],
     "language": "python",
     "metadata": {},
     "outputs": [],
     "prompt_number": 70
    },
    {
     "cell_type": "code",
     "collapsed": false,
     "input": [
      "merge_col = ['age','BMI','sex','diabetes','ethnicity','Sample_Plate','Sample_Well',\n",
      "             'Sentrix_ID','Sentrix_Position']\n",
      "shared_clinical = clinical[merge_col]\n",
      "shared_clinical.to_csv(FIGDIR + 'shared_clinical.csv')"
     ],
     "language": "python",
     "metadata": {},
     "outputs": [],
     "prompt_number": 169
    },
    {
     "cell_type": "code",
     "collapsed": false,
     "input": [
      "c = [u'Site', u'ARV History', u'ARV Status', u'BDI > 17', u'CDC stage', \n",
      "     u'estimated duration hiv (months)', u'Current Regimen',\n",
      "     u'Regimen Type', u'adherence %',\n",
      "     u'HCV', u'IADL', u'RPR', u'Utox', \n",
      "     u'beck total', u'global impairment', u'paofi total',]\n",
      "hiv_clinical = clinical[c].dropna(axis=0)\n",
      "hiv_clinical.to_csv(FIGDIR + 'hiv_clinical.csv')"
     ],
     "language": "python",
     "metadata": {},
     "outputs": [],
     "prompt_number": 166
    },
    {
     "cell_type": "heading",
     "level": 4,
     "metadata": {},
     "source": [
      "Trimming the clinical dataset"
     ]
    },
    {
     "cell_type": "markdown",
     "metadata": {},
     "source": [
      "None of the patients are diabetic"
     ]
    },
    {
     "cell_type": "code",
     "collapsed": false,
     "input": [
      "clinical.diabetes.value_counts()"
     ],
     "language": "python",
     "metadata": {},
     "outputs": [
      {
       "metadata": {},
       "output_type": "pyout",
       "prompt_number": 9,
       "text": [
        "N    50\n",
        "dtype: int64"
       ]
      }
     ],
     "prompt_number": 9
    },
    {
     "cell_type": "code",
     "collapsed": false,
     "input": [
      "clinical['Diabetes @ 000'].value_counts()"
     ],
     "language": "python",
     "metadata": {},
     "outputs": [
      {
       "metadata": {},
       "output_type": "pyout",
       "prompt_number": 10,
       "text": [
        "no    142\n",
        "dtype: int64"
       ]
      }
     ],
     "prompt_number": 10
    },
    {
     "cell_type": "markdown",
     "metadata": {},
     "source": [
      "All of the patients are hepatitis C negative"
     ]
    },
    {
     "cell_type": "code",
     "collapsed": false,
     "input": [
      "clinical['HCV'].dropna(0).value_counts(0)"
     ],
     "language": "python",
     "metadata": {},
     "outputs": [
      {
       "metadata": {},
       "output_type": "pyout",
       "prompt_number": 11,
       "text": [
        "Neg    142\n",
        "dtype: int64"
       ]
      }
     ],
     "prompt_number": 11
    },
    {
     "cell_type": "markdown",
     "metadata": {},
     "source": [
      "All patients are currently using anti-retoviral therepy, but 5 patients treatment is not classified as HAART"
     ]
    },
    {
     "cell_type": "code",
     "collapsed": false,
     "input": [
      "clinical['ARV History'].value_counts()"
     ],
     "language": "python",
     "metadata": {},
     "outputs": [
      {
       "metadata": {},
       "output_type": "pyout",
       "prompt_number": 12,
       "text": [
        "Currently Using    142\n",
        "dtype: int64"
       ]
      }
     ],
     "prompt_number": 12
    },
    {
     "cell_type": "code",
     "collapsed": false,
     "input": [
      "clinical['ARV Status'].value_counts()"
     ],
     "language": "python",
     "metadata": {},
     "outputs": [
      {
       "metadata": {},
       "output_type": "pyout",
       "prompt_number": 13,
       "text": [
        "HAART        137\n",
        "non-HAART      5\n",
        "dtype: int64"
       ]
      }
     ],
     "prompt_number": 13
    },
    {
     "cell_type": "markdown",
     "metadata": {},
     "source": [
      "All patients are reported as adhererent, but a few are not 100% adherent"
     ]
    },
    {
     "cell_type": "code",
     "collapsed": false,
     "input": [
      "clinical['adherent'].value_counts()"
     ],
     "language": "python",
     "metadata": {},
     "outputs": [
      {
       "metadata": {},
       "output_type": "pyout",
       "prompt_number": 14,
       "text": [
        "Adherent    142\n",
        "dtype: int64"
       ]
      }
     ],
     "prompt_number": 14
    },
    {
     "cell_type": "code",
     "collapsed": false,
     "input": [
      "#Do not import\n",
      "clinical['adherence %'].hist()"
     ],
     "language": "python",
     "metadata": {},
     "outputs": [
      {
       "metadata": {},
       "output_type": "pyout",
       "prompt_number": 15,
       "text": [
        "<matplotlib.axes.AxesSubplot at 0x7f54ec24b590>"
       ]
      },
      {
       "metadata": {},
       "output_type": "display_data",
       "png": "[encoded data removed]",
       "text": [
        "<matplotlib.figure.Figure at 0x7f54fff53d90>"
       ]
      }
     ],
     "prompt_number": 15
    },
    {
     "cell_type": "markdown",
     "metadata": {},
     "source": [
      "We have a wide varienty of regimens with 81 unique combinations of 35 drugs"
     ]
    },
    {
     "cell_type": "code",
     "collapsed": false,
     "input": [
      "reg = clinical['Current Regimen'].dropna().str.split('/').map(sorted)\n",
      "drugs = {r for s in reg for r in s}\n",
      "drug_mat = pd.DataFrame({i: {d: d in s for d in drugs} for i,s in \n",
      "                         reg.iteritems()}).T\n",
      "drug_mat.sum().order()"
     ],
     "language": "python",
     "metadata": {},
     "outputs": [
      {
       "metadata": {},
       "output_type": "pyout",
       "prompt_number": 16,
       "text": [
        "EVG      1\n",
        "TPV      1\n",
        "DDC      1\n",
        "DRV      2\n",
        "SQV      2\n",
        "APV      2\n",
        "BDT      2\n",
        "BSD      3\n",
        "SQV2     3\n",
        "DLV      4\n",
        "FPV      5\n",
        "T20      8\n",
        "NFV      8\n",
        "D4T      9\n",
        "DDI     15\n",
        "NVP     26\n",
        "ABV     30\n",
        "LPV     30\n",
        "EFV     31\n",
        "ZDV     35\n",
        "ATV     46\n",
        "FTC     52\n",
        "3TC     63\n",
        "RTV     82\n",
        "TFV     91\n",
        "dtype: int64"
       ]
      }
     ],
     "prompt_number": 16
    },
    {
     "cell_type": "markdown",
     "metadata": {},
     "source": [
      "These can be broken down into 8 regimen types"
     ]
    },
    {
     "cell_type": "code",
     "collapsed": false,
     "input": [
      "clinical['Regimen Type'].value_counts()"
     ],
     "language": "python",
     "metadata": {},
     "outputs": [
      {
       "metadata": {},
       "output_type": "pyout",
       "prompt_number": 17,
       "text": [
        "PI/NRTI Based       69\n",
        "NNRTI/NRTI Based    43\n",
        "3-class             22\n",
        "NRTI Based           3\n",
        "PI/NNRTI Based       2\n",
        "4+ class             1\n",
        "NNRTI Based          1\n",
        "PI Based             1\n",
        "dtype: int64"
       ]
      }
     ],
     "prompt_number": 17
    },
    {
     "cell_type": "code",
     "collapsed": false,
     "input": [
      "kill_list = ['zhang id', 'diabetes', 'Methylation ID', 'Diabetes @ 000',\n",
      "             'Sentrix_ID','Sample_Plate','Sample_Well','Sentrix_Position\\\\',\n",
      "             ]\n",
      "drugs = ['ARV History', 'ARV Status', 'Current Regimen', 'Regimen Type',\n",
      "         'adherence %' ,'adherent']"
     ],
     "language": "python",
     "metadata": {},
     "outputs": [],
     "prompt_number": 18
    },
    {
     "cell_type": "code",
     "collapsed": false,
     "input": [
      "left = [c for c in clinical if c not in past_usage and c not in current_usage\n",
      "        and c not in drugs]"
     ],
     "language": "python",
     "metadata": {},
     "outputs": [],
     "prompt_number": 19
    },
    {
     "cell_type": "code",
     "collapsed": false,
     "input": [
      "age = clinical.age"
     ],
     "language": "python",
     "metadata": {},
     "outputs": [],
     "prompt_number": 20
    },
    {
     "cell_type": "code",
     "collapsed": false,
     "input": [
      "clinical['BDI > 17'].value_counts()"
     ],
     "language": "python",
     "metadata": {},
     "outputs": [
      {
       "metadata": {},
       "output_type": "pyout",
       "prompt_number": 21,
       "text": [
        "0    91\n",
        "1    51\n",
        "dtype: int64"
       ]
      }
     ],
     "prompt_number": 21
    },
    {
     "cell_type": "code",
     "collapsed": false,
     "input": [
      "clinical['ARV History'].value_counts()"
     ],
     "language": "python",
     "metadata": {},
     "outputs": [
      {
       "metadata": {},
       "output_type": "pyout",
       "prompt_number": 22,
       "text": [
        "Currently Using    142\n",
        "dtype: int64"
       ]
      }
     ],
     "prompt_number": 22
    },
    {
     "cell_type": "code",
     "collapsed": false,
     "input": [
      "clinical['CDC stage'].value_counts()"
     ],
     "language": "python",
     "metadata": {},
     "outputs": [
      {
       "metadata": {},
       "output_type": "pyout",
       "prompt_number": 25,
       "text": [
        "C3    57\n",
        "B3    24\n",
        "A2    20\n",
        "A3    17\n",
        "B2    14\n",
        "C2     6\n",
        "A1     4\n",
        "dtype: int64"
       ]
      }
     ],
     "prompt_number": 25
    },
    {
     "cell_type": "markdown",
     "metadata": {},
     "source": [
      "IADL = Instrumental activities of daily living"
     ]
    },
    {
     "cell_type": "code",
     "collapsed": false,
     "input": [
      "iadl = clinical.IADL\n",
      "iadl.value_counts()"
     ],
     "language": "python",
     "metadata": {},
     "outputs": [
      {
       "metadata": {},
       "output_type": "pyout",
       "prompt_number": 26,
       "text": [
        "indep      109\n",
        "dep         25\n",
        "missing      8\n",
        "dtype: int64"
       ]
      }
     ],
     "prompt_number": 26
    },
    {
     "cell_type": "markdown",
     "metadata": {},
     "source": [
      "Global imparement"
     ]
    },
    {
     "cell_type": "code",
     "collapsed": false,
     "input": [
      "clinical['global impairment'].value_counts()"
     ],
     "language": "python",
     "metadata": {},
     "outputs": [
      {
       "metadata": {},
       "output_type": "pyout",
       "prompt_number": 27,
       "text": [
        "nml    74\n",
        "imp    68\n",
        "dtype: int64"
       ]
      }
     ],
     "prompt_number": 27
    },
    {
     "cell_type": "markdown",
     "metadata": {},
     "source": [
      "Patient's Assessment of Own Functioning Inventory (PAOFI)"
     ]
    },
    {
     "cell_type": "code",
     "collapsed": false,
     "input": [
      "#Do not import\n",
      "paofi = clinical['paofi total']\n",
      "paofi.hist()"
     ],
     "language": "python",
     "metadata": {},
     "outputs": [
      {
       "metadata": {},
       "output_type": "pyout",
       "prompt_number": 32,
       "text": [
        "<matplotlib.axes.AxesSubplot at 0x7f54e7293590>"
       ]
      },
      {
       "metadata": {},
       "output_type": "display_data",
       "png": "[encoded data removed]",
       "text": [
        "<matplotlib.figure.Figure at 0x7f54e7293f10>"
       ]
      }
     ],
     "prompt_number": 32
    },
    {
     "cell_type": "markdown",
     "metadata": {},
     "source": [
      "RPR (Rapid plasma reagin) is a diagnostic used to detect syphilis"
     ]
    },
    {
     "cell_type": "code",
     "collapsed": false,
     "input": [
      "clinical.RPR.value_counts()"
     ],
     "language": "python",
     "metadata": {},
     "outputs": [
      {
       "metadata": {},
       "output_type": "pyout",
       "prompt_number": 33,
       "text": [
        "Neg    136\n",
        "Pos      6\n",
        "dtype: int64"
       ]
      }
     ],
     "prompt_number": 33
    },
    {
     "cell_type": "heading",
     "level": 4,
     "metadata": {},
     "source": [
      "Batches"
     ]
    },
    {
     "cell_type": "code",
     "collapsed": false,
     "input": [
      "site = clinical.Site\n",
      "site.value_counts()"
     ],
     "language": "python",
     "metadata": {},
     "outputs": [
      {
       "metadata": {},
       "output_type": "pyout",
       "prompt_number": 34,
       "text": [
        "UCSD       73\n",
        "VNDRBLT    69\n",
        "dtype: int64"
       ]
      }
     ],
     "prompt_number": 34
    },
    {
     "cell_type": "code",
     "collapsed": false,
     "input": [
      "clinical.Utox.value_counts()"
     ],
     "language": "python",
     "metadata": {},
     "outputs": [
      {
       "metadata": {},
       "output_type": "pyout",
       "prompt_number": 35,
       "text": [
        "utox neg    130\n",
        "utox pos     12\n",
        "dtype: int64"
       ]
      }
     ],
     "prompt_number": 35
    },
    {
     "cell_type": "markdown",
     "metadata": {},
     "source": [
      "Beck Depression Inventory is a questionarre measuring depression levels (from [Wikipedia](http://en.wikipedia.org/wiki/Beck_Depression_Inventory))\n",
      "* 0\u201313: minimal depression \n",
      "* 14\u201319: mild depression  \n",
      "* 20\u201328: moderate depression  \n",
      "* 29\u201363: severe depression."
     ]
    },
    {
     "cell_type": "code",
     "collapsed": false,
     "input": [
      "#Do not import\n",
      "beck = clinical['beck total'].dropna()\n",
      "beck.hist()"
     ],
     "language": "python",
     "metadata": {},
     "outputs": [
      {
       "metadata": {},
       "output_type": "pyout",
       "prompt_number": 36,
       "text": [
        "<matplotlib.axes.AxesSubplot at 0x7f54e71a2e10>"
       ]
      },
      {
       "metadata": {},
       "output_type": "display_data",
       "png": "[encoded data removed]",
       "text": [
        "<matplotlib.figure.Figure at 0x7f54e70c4590>"
       ]
      }
     ],
     "prompt_number": 36
    },
    {
     "cell_type": "code",
     "collapsed": false,
     "input": [
      "#Do not import\n",
      "clinical['paofi total'].hist()"
     ],
     "language": "python",
     "metadata": {},
     "outputs": [
      {
       "metadata": {},
       "output_type": "pyout",
       "prompt_number": 37,
       "text": [
        "<matplotlib.axes.AxesSubplot at 0x7f54e5797bd0>"
       ]
      },
      {
       "metadata": {},
       "output_type": "display_data",
       "png": "[encoded data removed]",
       "text": [
        "<matplotlib.figure.Figure at 0x7f54e72d9f50>"
       ]
      }
     ],
     "prompt_number": 37
    },
    {
     "cell_type": "heading",
     "level": 4,
     "metadata": {},
     "source": [
      "Read in lab blood work data"
     ]
    },
    {
     "cell_type": "markdown",
     "metadata": {},
     "source": [
      "* abstract exam date onto exam year for anonymity"
     ]
    },
    {
     "cell_type": "code",
     "collapsed": false,
     "input": [
      "labs = pd.read_excel(ucsd_path + 'fox_methylation_labdata_073014.xlsx',\n",
      "                     index_col=0)\n",
      "labs['nb exam year']= labs['nb exam date'].map(lambda s: s.year)\n",
      "del labs['nb exam date']\n",
      "labs = labs.dropna(axis=1, how='all')\n",
      "labs = labs.ix[labs.index.intersection(clinical.index)]"
     ],
     "language": "python",
     "metadata": {},
     "outputs": [],
     "prompt_number": 207
    },
    {
     "cell_type": "code",
     "collapsed": false,
     "input": [
      "hiv_rna = labs[['rnvalue PLASMA','LLQ PLASMA']]\n",
      "hiv_rna.to_csv(FIGDIR + 'hiv_rna.csv')"
     ],
     "language": "python",
     "metadata": {},
     "outputs": [],
     "prompt_number": 216
    },
    {
     "cell_type": "code",
     "collapsed": false,
     "input": [
      "labs.WBC.hist()"
     ],
     "language": "python",
     "metadata": {},
     "outputs": [
      {
       "metadata": {},
       "output_type": "pyout",
       "prompt_number": 259,
       "text": [
        "<matplotlib.axes.AxesSubplot at 0x7f549b0859d0>"
       ]
      },
      {
       "metadata": {},
       "output_type": "display_data",
       "png": "[encoded data removed]",
       "text": [
        "<matplotlib.figure.Figure at 0x7f549b31ef10>"
       ]
      }
     ],
     "prompt_number": 259
    },
    {
     "cell_type": "code",
     "collapsed": false,
     "input": [
      "chem = ['WBC','RBC','HGB','HCT','MCV',\n",
      "        'MCH','MCHC','Platelets']\n",
      "labs[chem].to_csv(FIGDIR + 'blood_workup.csv')"
     ],
     "language": "python",
     "metadata": {},
     "outputs": [],
     "prompt_number": 262
    },
    {
     "cell_type": "code",
     "collapsed": false,
     "input": [
      "imm= ['CD4 Absolute',\n",
      "      'CD8 Absolute',\n",
      "      'CD3 Absolute',\n",
      "      'CD4/CD8 ratio',\n",
      "      'Neutrophil %','Lymphocyte %',\n",
      "      'Monocyte %','Eosinophil %','Basophil %']\n",
      "cell_types = ['Neutrophil %','Lymphocyte %','Monocyte %',\n",
      "              'Eosinophil %','Basophil %']\n",
      "hiv_imm = labs[imm].dropna(how='all')"
     ],
     "language": "python",
     "metadata": {},
     "outputs": [],
     "prompt_number": 254
    },
    {
     "cell_type": "markdown",
     "metadata": {},
     "source": [
      "* Dropping five patients because they don't look Kosher  \n",
      "* Renormalizing cell percentages because some don't sum to 100%"
     ]
    },
    {
     "cell_type": "code",
     "collapsed": false,
     "input": [
      "keepers = labs.index.diff(['RG065','RG175','RG279','RA182','RM285'])\n",
      "hiv_imm[cell_types] = hiv_imm[cell_types].div(hiv_imm[cell_types].sum(1), axis=0) * 100\n",
      "keep = pd.Series('Keep', keepers).ix[hiv_imm.index].fillna('Reject')\n",
      "hiv_imm['QC status'] = keep\n",
      "hiv_imm.to_csv(FIGDIR + 'HIV_cell_comp.csv')"
     ],
     "language": "python",
     "metadata": {},
     "outputs": [],
     "prompt_number": 256
    },
    {
     "cell_type": "code",
     "collapsed": false,
     "input": [
      "#Do not import\n",
      "fig, axs = subplots(1,2, figsize=(9,4))\n",
      "clinical.age.hist(ax=axs[0])\n",
      "clinical['estimated duration hiv (months)'].hist(ax=axs[1])\n",
      "axs[0].set_xlabel('Age')\n",
      "axs[1].set_xlabel('estimated duration hiv (months)')\n",
      "for ax in axs:\n",
      "    ax.set_ylabel('# of Patients')\n",
      "    prettify_ax(ax)"
     ],
     "language": "python",
     "metadata": {},
     "outputs": [
      {
       "metadata": {},
       "output_type": "display_data",
       "png": "[encoded data removed]",
       "text": [
        "<matplotlib.figure.Figure at 0x7f54e576c850>"
       ]
      }
     ],
     "prompt_number": 39
    },
    {
     "cell_type": "markdown",
     "metadata": {},
     "source": [
      "As can be seen above, we have two groups of patients with respect to HIV duration, we don't really have the sample size to tease apart any differences other than this main distiction so for now I am just treating duration of HIV as a categorical variable (e.g. controls, short exposure and long exposure)"
     ]
    },
    {
     "cell_type": "code",
     "collapsed": false,
     "input": [
      "duration = clinical['estimated duration hiv (months)']\n",
      "duration = (1.*duration.notnull()) + (1.*duration > 100)\n",
      "duration = duration.map({0:'Control',1:'HIV Short',2:'HIV Long'})\n",
      "duration.value_counts()"
     ],
     "language": "python",
     "metadata": {},
     "outputs": [
      {
       "metadata": {},
       "output_type": "pyout",
       "prompt_number": 268,
       "text": [
        "HIV Long     105\n",
        "Control       50\n",
        "HIV Short     37\n",
        "dtype: int64"
       ]
      }
     ],
     "prompt_number": 268
    },
    {
     "cell_type": "markdown",
     "metadata": {},
     "source": [
      "###Patient Selection Criteria\n",
      "* There are a couple of female patients in the controls, we are going to get rid of those as all of the cases are males  \n",
      "* Most of the HIV patients are under HAART therepy, there are a few that are not and we are going to filter those out for now and possibly look at them after the primary analysis"
     ]
    },
    {
     "cell_type": "code",
     "collapsed": false,
     "input": [
      "duration = duration.ix[ti(clinical['ARV Status'] != 'non-HAART')]\n",
      "duration = duration.ix[ti(clinical.sex != 'F')].dropna()\n",
      "duration.value_counts()"
     ],
     "language": "python",
     "metadata": {},
     "outputs": [
      {
       "metadata": {},
       "output_type": "pyout",
       "prompt_number": 269,
       "text": [
        "HIV Long     104\n",
        "Control       48\n",
        "HIV Short     33\n",
        "dtype: int64"
       ]
      }
     ],
     "prompt_number": 269
    },
    {
     "cell_type": "markdown",
     "metadata": {},
     "source": [
      "###Read in HIV Methylation data  "
     ]
    },
    {
     "cell_type": "markdown",
     "metadata": {},
     "source": [
      "Read in quantile-normalized data, adjusted for cellular compositions and then normalized agin using BMIQ."
     ]
    },
    {
     "cell_type": "code",
     "collapsed": false,
     "input": [
      "df_hiv = pd.read_hdf('/data/methylation_norm.h5', 'quant_BMIQ_adj')\n",
      "df_hiv = df_hiv.ix[:, duration.index]\n",
      "df_hiv = df_hiv.dropna(1)"
     ],
     "language": "python",
     "metadata": {},
     "outputs": [],
     "prompt_number": 42
    },
    {
     "cell_type": "markdown",
     "metadata": {},
     "source": [
      "Read in data processed with BMIQ using Horvath's gold standard."
     ]
    },
    {
     "cell_type": "code",
     "collapsed": false,
     "input": [
      "df_hiv_n = pd.read_hdf('/data/methylation_norm.h5', 'BMIQ_Horvath')\n",
      "df_hiv_n = df_hiv_n.ix[:, duration.index]\n",
      "df_hiv_n = df_hiv_n.dropna(1)"
     ],
     "language": "python",
     "metadata": {},
     "outputs": [],
     "prompt_number": 43
    },
    {
     "cell_type": "markdown",
     "metadata": {},
     "source": [
      "Adjust this data for cellular composition.  This is done after the normalization to not mess around with Horvath's pipeline too much. "
     ]
    },
    {
     "cell_type": "code",
     "collapsed": false,
     "input": [
      "flow_sorted_data = pd.read_hdf('/data/methylation_annotation.h5','flow_sorted_data_horvath_norm')\n",
      "cell_type = pd.read_hdf('/data/methylation_annotation.h5', 'label_map')\n",
      "cell_counts = pd.read_hdf('/data/dx_methylation.h5', 'cell_counts')"
     ],
     "language": "python",
     "metadata": {},
     "outputs": [],
     "prompt_number": 44
    },
    {
     "cell_type": "code",
     "collapsed": false,
     "input": [
      "n2 = flow_sorted_data.groupby(cell_type, axis=1).mean()\n",
      "avg = n2[cell_counts.columns].dot(cell_counts.ix[df_hiv.columns].T)\n",
      "d2 = df_hiv_n.ix[avg.index, df_hiv.columns].dropna(axis=[0,1], how='all')\n",
      "cc = avg.ix[:, ti(duration=='Control')].mean(1)\n",
      "df_hiv_n = (d2 - avg).add(cc, axis=0).dropna(how='all')"
     ],
     "language": "python",
     "metadata": {},
     "outputs": [],
     "prompt_number": 45
    },
    {
     "cell_type": "code",
     "collapsed": false,
     "input": [
      "keepers = duration.index.intersection(df_hiv.columns.intersection(df_hiv_n.columns))\n",
      "duration = duration.ix[keepers]"
     ],
     "language": "python",
     "metadata": {},
     "outputs": [],
     "prompt_number": 46
    },
    {
     "cell_type": "code",
     "collapsed": false,
     "input": [
      "duration.value_counts()"
     ],
     "language": "python",
     "metadata": {},
     "outputs": [
      {
       "metadata": {},
       "output_type": "pyout",
       "prompt_number": 47,
       "text": [
        "HIV Long     104\n",
        "Control       46\n",
        "HIV Short     33\n",
        "dtype: int64"
       ]
      }
     ],
     "prompt_number": 47
    },
    {
     "cell_type": "code",
     "collapsed": false,
     "input": [
      "store = pd.HDFStore('/data/dx_methylation.h5')\n",
      "study = store['study']\n",
      "age = store['age']\n",
      "gender = store['gender']"
     ],
     "language": "python",
     "metadata": {},
     "outputs": [],
     "prompt_number": 48
    },
    {
     "cell_type": "heading",
     "level": 3,
     "metadata": {},
     "source": [
      "Set up Probe Filters"
     ]
    },
    {
     "cell_type": "code",
     "collapsed": false,
     "input": [
      "detection_p = pd.read_hdf('/data/dx_methylation.h5', 'detection_p')\n",
      "#detection_p = detection_p[detection_p[0] > 10e-5]\n",
      "detection_p = detection_p[detection_p.Sample_Name.isin(duration.index)]"
     ],
     "language": "python",
     "metadata": {},
     "outputs": [],
     "prompt_number": 50
    },
    {
     "cell_type": "code",
     "collapsed": false,
     "input": [
      "ff = detection_p.groupby('level_0').size() > 3\n",
      "ff.value_counts()"
     ],
     "language": "python",
     "metadata": {},
     "outputs": [
      {
       "metadata": {},
       "output_type": "pyout",
       "prompt_number": 51,
       "text": [
        "False    33337\n",
        "True     12520\n",
        "dtype: int64"
       ]
      }
     ],
     "prompt_number": 51
    },
    {
     "cell_type": "code",
     "collapsed": false,
     "input": [
      "STORE = '/data/methylation_annotation.h5'\n",
      "snps = pd.read_hdf(STORE, 'snps')"
     ],
     "language": "python",
     "metadata": {},
     "outputs": [],
     "prompt_number": 54
    },
    {
     "cell_type": "code",
     "collapsed": false,
     "input": [
      "snp_near = (snps.Probe_SNPs != '')\n",
      "snp_near.value_counts()"
     ],
     "language": "python",
     "metadata": {},
     "outputs": [
      {
       "metadata": {},
       "output_type": "pyout",
       "prompt_number": 55,
       "text": [
        "False    425620\n",
        "True      59892\n",
        "dtype: int64"
       ]
      }
     ],
     "prompt_number": 55
    },
    {
     "cell_type": "code",
     "collapsed": false,
     "input": [
      "probe_idx = df_hiv.index.diff(ti(ff))"
     ],
     "language": "python",
     "metadata": {},
     "outputs": [],
     "prompt_number": 56
    }
   ],
   "metadata": {}
  }
 ]
}
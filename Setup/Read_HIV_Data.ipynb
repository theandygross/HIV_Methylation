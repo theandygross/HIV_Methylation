{
 "cells": [
  {
   "cell_type": "markdown",
   "metadata": {},
   "source": [
    "# Read HIV Data"
   ]
  },
  {
   "cell_type": "code",
   "execution_count": 1,
   "metadata": {
    "collapsed": false
   },
   "outputs": [],
   "source": [
    "import os\n",
    "if os.getcwd().endswith('Setup'):\n",
    "    os.chdir('..')"
   ]
  },
  {
   "cell_type": "code",
   "execution_count": 2,
   "metadata": {
    "collapsed": false
   },
   "outputs": [
    {
     "data": {
      "text/html": [
       "importing IPython notebook from <a href='./Setup/Imports.ipynb' target='_blank'>Setup/Imports</a>"
      ]
     },
     "metadata": {},
     "output_type": "display_data"
    },
    {
     "name": "stdout",
     "output_type": "stream",
     "text": [
      "Populating the interactive namespace from numpy and matplotlib\n"
     ]
    }
   ],
   "source": [
    "import NotebookImport\n",
    "from Setup.Imports import *"
   ]
  },
  {
   "cell_type": "markdown",
   "metadata": {},
   "source": [
    "### Read in Clinical Data"
   ]
  },
  {
   "cell_type": "code",
   "execution_count": 3,
   "metadata": {
    "collapsed": false
   },
   "outputs": [],
   "source": [
    "c1 = pd.read_excel(ucsd_path + 'DESIGN_Fox_v2_Samples-ChipLAyout-Clinical UNMC-UCSD methylomestudy.xlsx', \n",
    "                   'HIV- samples from OldStudy', index_col=0)\n",
    "c2 = pd.read_excel(ucsd_path + 'DESIGN_Fox_v2_Samples-ChipLAyout-Clinical UNMC-UCSD methylomestudy.xlsx', \n",
    "                   'HIV+ samples', index_col=0)\n",
    "clinical = c1.append(c2)\n",
    "clinical['Sentrix_Position'] = clinical['Sentrix_Position\\\\'].map(lambda s: s[:-1])\n",
    "del clinical['Sentrix_Position\\\\']"
   ]
  },
  {
   "cell_type": "markdown",
   "metadata": {},
   "source": [
    "Update clinical data with new data provided by Howard Fox"
   ]
  },
  {
   "cell_type": "code",
   "execution_count": 4,
   "metadata": {
    "collapsed": false
   },
   "outputs": [],
   "source": [
    "age_new = pd.read_csv(ucsd_path + 'UpdatesAges-Infection.csv', index_col=0)\n",
    "age = age_new.age.combine_first(clinical.age)\n",
    "age.name= 'age'\n",
    "clinical['age'] = age\n",
    "l = 'estimated duration hiv (months)'\n",
    "clinical[l] = age_new['Estimated Duration HIV+ (months)'].combine_first(clinical[l])"
   ]
  },
  {
   "cell_type": "markdown",
   "metadata": {},
   "source": [
    "Clean up diabetes across annotation files"
   ]
  },
  {
   "cell_type": "code",
   "execution_count": 5,
   "metadata": {
    "collapsed": false
   },
   "outputs": [
    {
     "data": {
      "text/plain": [
       "no    192\n",
       "dtype: int64"
      ]
     },
     "execution_count": 5,
     "metadata": {},
     "output_type": "execute_result"
    }
   ],
   "source": [
    "diabetes = clinical['diabetes'].combine_first(clinical['Diabetes @ 000'])\n",
    "diabetes = diabetes.replace('N','no')\n",
    "clinical['diabetes'] = diabetes\n",
    "del clinical['Diabetes @ 000']\n",
    "diabetes.value_counts()"
   ]
  },
  {
   "cell_type": "markdown",
   "metadata": {},
   "source": [
    "All of the patients are white or Caucasian"
   ]
  },
  {
   "cell_type": "code",
   "execution_count": 6,
   "metadata": {
    "collapsed": false
   },
   "outputs": [
    {
     "data": {
      "text/plain": [
       "white    192\n",
       "dtype: int64"
      ]
     },
     "execution_count": 6,
     "metadata": {},
     "output_type": "execute_result"
    }
   ],
   "source": [
    "ethnicity = clinical.ethnicity\n",
    "ethnicity = ethnicity.replace('wht','white')\n",
    "ethnicity = ethnicity.replace('Caucasian - European','white')\n",
    "clinical['ethnicity'] = ethnicity\n",
    "ethnicity.value_counts()"
   ]
  },
  {
   "cell_type": "markdown",
   "metadata": {},
   "source": [
    "Sex is not recorded for the cases but they are all HIV+ men."
   ]
  },
  {
   "cell_type": "code",
   "execution_count": 7,
   "metadata": {
    "collapsed": false
   },
   "outputs": [],
   "source": [
    "clinical['sex'] = clinical['sex'].fillna('M')"
   ]
  },
  {
   "cell_type": "markdown",
   "metadata": {},
   "source": [
    "Fix BMI to unified labels"
   ]
  },
  {
   "cell_type": "code",
   "execution_count": 8,
   "metadata": {
    "collapsed": false
   },
   "outputs": [],
   "source": [
    "bmi = clinical['bmi'].combine_first(clinical['BMI'])\n",
    "clinical['BMI'] = bmi\n",
    "clinical = clinical[clinical.columns.difference(['bmi'])]"
   ]
  },
  {
   "cell_type": "code",
   "execution_count": 9,
   "metadata": {
    "collapsed": false
   },
   "outputs": [
    {
     "data": {
      "text/plain": [
       "<matplotlib.axes.AxesSubplot at 0x7f0b7015c290>"
      ]
     },
     "execution_count": 9,
     "metadata": {},
     "output_type": "execute_result"
    },
    {
     "data": {
      "image/png": "[encoded data removed]",
      "text/plain": [
       "<matplotlib.figure.Figure at 0x7f0b701441d0>"
      ]
     },
     "metadata": {},
     "output_type": "display_data"
    }
   ],
   "source": [
    "#Do not import\n",
    "bmi.hist()"
   ]
  },
  {
   "cell_type": "code",
   "execution_count": 10,
   "metadata": {
    "collapsed": false
   },
   "outputs": [
    {
     "data": {
      "text/html": [
       "<div style=\"max-height:1000px;max-width:1500px;overflow:auto;\">\n",
       "<table border=\"1\" class=\"dataframe\">\n",
       "  <thead>\n",
       "    <tr style=\"text-align: right;\">\n",
       "      <th></th>\n",
       "      <th>NO</th>\n",
       "      <th>YES</th>\n",
       "    </tr>\n",
       "  </thead>\n",
       "  <tbody>\n",
       "    <tr>\n",
       "      <th>Current 'Other' dx</th>\n",
       "      <td> 142</td>\n",
       "      <td>  0</td>\n",
       "    </tr>\n",
       "    <tr>\n",
       "      <th>Current Alcohol dx</th>\n",
       "      <td> 140</td>\n",
       "      <td>  2</td>\n",
       "    </tr>\n",
       "    <tr>\n",
       "      <th>Current Bipolar I</th>\n",
       "      <td> 142</td>\n",
       "      <td>  0</td>\n",
       "    </tr>\n",
       "    <tr>\n",
       "      <th>Current Bipolar II</th>\n",
       "      <td> 142</td>\n",
       "      <td>  0</td>\n",
       "    </tr>\n",
       "    <tr>\n",
       "      <th>Current Cannabis dx</th>\n",
       "      <td> 141</td>\n",
       "      <td>  1</td>\n",
       "    </tr>\n",
       "    <tr>\n",
       "      <th>Current Cocaine dx</th>\n",
       "      <td> 142</td>\n",
       "      <td>  0</td>\n",
       "    </tr>\n",
       "    <tr>\n",
       "      <th>Current Dysthymia</th>\n",
       "      <td> 142</td>\n",
       "      <td>  0</td>\n",
       "    </tr>\n",
       "    <tr>\n",
       "      <th>Current Halucinogen dx</th>\n",
       "      <td> 142</td>\n",
       "      <td>  0</td>\n",
       "    </tr>\n",
       "    <tr>\n",
       "      <th>Current Inhalant dx</th>\n",
       "      <td> 142</td>\n",
       "      <td>  0</td>\n",
       "    </tr>\n",
       "    <tr>\n",
       "      <th>Current MDD</th>\n",
       "      <td> 120</td>\n",
       "      <td> 22</td>\n",
       "    </tr>\n",
       "    <tr>\n",
       "      <th>Current Methamphetamine dx</th>\n",
       "      <td> 142</td>\n",
       "      <td>  0</td>\n",
       "    </tr>\n",
       "    <tr>\n",
       "      <th>Current Opioid dx</th>\n",
       "      <td> 142</td>\n",
       "      <td>  0</td>\n",
       "    </tr>\n",
       "    <tr>\n",
       "      <th>Current PCP dx</th>\n",
       "      <td> 142</td>\n",
       "      <td>  0</td>\n",
       "    </tr>\n",
       "    <tr>\n",
       "      <th>Current Sedative dx</th>\n",
       "      <td> 142</td>\n",
       "      <td>  0</td>\n",
       "    </tr>\n",
       "    <tr>\n",
       "      <th>Any Current Substance dx</th>\n",
       "      <td> 139</td>\n",
       "      <td>  3</td>\n",
       "    </tr>\n",
       "  </tbody>\n",
       "</table>\n",
       "</div>"
      ],
      "text/plain": [
       "                             NO  YES\n",
       "Current 'Other' dx          142    0\n",
       "Current Alcohol dx          140    2\n",
       "Current Bipolar I           142    0\n",
       "Current Bipolar II          142    0\n",
       "Current Cannabis dx         141    1\n",
       "Current Cocaine dx          142    0\n",
       "Current Dysthymia           142    0\n",
       "Current Halucinogen dx      142    0\n",
       "Current Inhalant dx         142    0\n",
       "Current MDD                 120   22\n",
       "Current Methamphetamine dx  142    0\n",
       "Current Opioid dx           142    0\n",
       "Current PCP dx              142    0\n",
       "Current Sedative dx         142    0\n",
       "Any Current Substance dx    139    3"
      ]
     },
     "execution_count": 10,
     "metadata": {},
     "output_type": "execute_result"
    }
   ],
   "source": [
    "current_usage = [\"Current 'Other' dx\", 'Current Alcohol dx',\n",
    "                 'Current Bipolar I', 'Current Bipolar II',\n",
    "                 'Current Cannabis dx', 'Current Cocaine dx',\n",
    "                 'Current Dysthymia', 'Current Halucinogen dx',\n",
    "                 'Current Inhalant dx', 'Current MDD',\n",
    "                 'Current Methamphetamine dx', 'Current Opioid dx',\n",
    "                 'Current PCP dx', 'Current Sedative dx',\n",
    "                 'Any Current Substance dx']\n",
    "current_usage = clinical[current_usage]\n",
    "current_usage.dropna(how='all').apply(pd.value_counts).fillna(0).T"
   ]
  },
  {
   "cell_type": "code",
   "execution_count": 11,
   "metadata": {
    "collapsed": false
   },
   "outputs": [
    {
     "data": {
      "text/html": [
       "<div style=\"max-height:1000px;max-width:1500px;overflow:auto;\">\n",
       "<table border=\"1\" class=\"dataframe\">\n",
       "  <thead>\n",
       "    <tr style=\"text-align: right;\">\n",
       "      <th></th>\n",
       "      <th>NO</th>\n",
       "      <th>YES</th>\n",
       "    </tr>\n",
       "  </thead>\n",
       "  <tbody>\n",
       "    <tr>\n",
       "      <th>LT 'Other' dx</th>\n",
       "      <td> 141</td>\n",
       "      <td>   1</td>\n",
       "    </tr>\n",
       "    <tr>\n",
       "      <th>LT Alcohol dx</th>\n",
       "      <td>  50</td>\n",
       "      <td>  92</td>\n",
       "    </tr>\n",
       "    <tr>\n",
       "      <th>LT Bipolar I</th>\n",
       "      <td> 142</td>\n",
       "      <td>   0</td>\n",
       "    </tr>\n",
       "    <tr>\n",
       "      <th>LT Bipolar II</th>\n",
       "      <td> 142</td>\n",
       "      <td>   0</td>\n",
       "    </tr>\n",
       "    <tr>\n",
       "      <th>LT Cannabis dx</th>\n",
       "      <td>  99</td>\n",
       "      <td>  43</td>\n",
       "    </tr>\n",
       "    <tr>\n",
       "      <th>LT Cocaine dx</th>\n",
       "      <td> 112</td>\n",
       "      <td>  30</td>\n",
       "    </tr>\n",
       "    <tr>\n",
       "      <th>LT Dysthymia</th>\n",
       "      <td> 141</td>\n",
       "      <td>   1</td>\n",
       "    </tr>\n",
       "    <tr>\n",
       "      <th>LT Halucinogen dx</th>\n",
       "      <td> 123</td>\n",
       "      <td>  19</td>\n",
       "    </tr>\n",
       "    <tr>\n",
       "      <th>LT Inhalant dx</th>\n",
       "      <td> 134</td>\n",
       "      <td>   8</td>\n",
       "    </tr>\n",
       "    <tr>\n",
       "      <th>LT MDD</th>\n",
       "      <td>  58</td>\n",
       "      <td>  84</td>\n",
       "    </tr>\n",
       "    <tr>\n",
       "      <th>LT Methamphetamine dx</th>\n",
       "      <td> 104</td>\n",
       "      <td>  38</td>\n",
       "    </tr>\n",
       "    <tr>\n",
       "      <th>LT Opioid dx</th>\n",
       "      <td> 131</td>\n",
       "      <td>  11</td>\n",
       "    </tr>\n",
       "    <tr>\n",
       "      <th>LT PCP dx</th>\n",
       "      <td> 138</td>\n",
       "      <td>   4</td>\n",
       "    </tr>\n",
       "    <tr>\n",
       "      <th>LT Sedative dx</th>\n",
       "      <td> 132</td>\n",
       "      <td>  10</td>\n",
       "    </tr>\n",
       "    <tr>\n",
       "      <th>Any LT Substance dx</th>\n",
       "      <td>  36</td>\n",
       "      <td> 106</td>\n",
       "    </tr>\n",
       "  </tbody>\n",
       "</table>\n",
       "</div>"
      ],
      "text/plain": [
       "                        NO  YES\n",
       "LT 'Other' dx          141    1\n",
       "LT Alcohol dx           50   92\n",
       "LT Bipolar I           142    0\n",
       "LT Bipolar II          142    0\n",
       "LT Cannabis dx          99   43\n",
       "LT Cocaine dx          112   30\n",
       "LT Dysthymia           141    1\n",
       "LT Halucinogen dx      123   19\n",
       "LT Inhalant dx         134    8\n",
       "LT MDD                  58   84\n",
       "LT Methamphetamine dx  104   38\n",
       "LT Opioid dx           131   11\n",
       "LT PCP dx              138    4\n",
       "LT Sedative dx         132   10\n",
       "Any LT Substance dx     36  106"
      ]
     },
     "execution_count": 11,
     "metadata": {},
     "output_type": "execute_result"
    }
   ],
   "source": [
    "past_usage = [\"LT 'Other' dx\",  'LT Alcohol dx', 'LT Bipolar I', \n",
    "              'LT Bipolar II', 'LT Cannabis dx', 'LT Cocaine dx',\n",
    "              'LT Dysthymia', 'LT Halucinogen dx', 'LT Inhalant dx',\n",
    "              'LT MDD', 'LT Methamphetamine dx', 'LT Opioid dx',\n",
    "              'LT PCP dx', 'LT Sedative dx', 'Any LT Substance dx']\n",
    "past_usage = clinical[past_usage]\n",
    "past_usage.dropna(how='all').apply(pd.value_counts).fillna(0).T"
   ]
  },
  {
   "cell_type": "markdown",
   "metadata": {},
   "source": [
    "#### Trimming the clinical dataset"
   ]
  },
  {
   "cell_type": "markdown",
   "metadata": {},
   "source": [
    "None of the patients are diabetic"
   ]
  },
  {
   "cell_type": "code",
   "execution_count": 12,
   "metadata": {
    "collapsed": false
   },
   "outputs": [
    {
     "data": {
      "text/plain": [
       "no    192\n",
       "dtype: int64"
      ]
     },
     "execution_count": 12,
     "metadata": {},
     "output_type": "execute_result"
    }
   ],
   "source": [
    "clinical.diabetes.value_counts()"
   ]
  },
  {
   "cell_type": "markdown",
   "metadata": {},
   "source": [
    "All of the patients are hepatitis C negative"
   ]
  },
  {
   "cell_type": "code",
   "execution_count": 13,
   "metadata": {
    "collapsed": false
   },
   "outputs": [
    {
     "data": {
      "text/plain": [
       "Neg    142\n",
       "dtype: int64"
      ]
     },
     "execution_count": 13,
     "metadata": {},
     "output_type": "execute_result"
    }
   ],
   "source": [
    "clinical['HCV'].dropna(0).value_counts(0)"
   ]
  },
  {
   "cell_type": "markdown",
   "metadata": {},
   "source": [
    "All patients are currently using anti-retoviral therepy, but 5 patients treatment is not classified as HAART"
   ]
  },
  {
   "cell_type": "code",
   "execution_count": 14,
   "metadata": {
    "collapsed": false
   },
   "outputs": [
    {
     "data": {
      "text/plain": [
       "Currently Using    142\n",
       "dtype: int64"
      ]
     },
     "execution_count": 14,
     "metadata": {},
     "output_type": "execute_result"
    }
   ],
   "source": [
    "clinical['ARV History'].value_counts()"
   ]
  },
  {
   "cell_type": "code",
   "execution_count": 15,
   "metadata": {
    "collapsed": false
   },
   "outputs": [
    {
     "data": {
      "text/plain": [
       "HAART        137\n",
       "non-HAART      5\n",
       "dtype: int64"
      ]
     },
     "execution_count": 15,
     "metadata": {},
     "output_type": "execute_result"
    }
   ],
   "source": [
    "clinical['ARV Status'].value_counts()"
   ]
  },
  {
   "cell_type": "markdown",
   "metadata": {},
   "source": [
    "All patients are reported as adhererent, but a few are not 100% adherent"
   ]
  },
  {
   "cell_type": "code",
   "execution_count": 16,
   "metadata": {
    "collapsed": false
   },
   "outputs": [
    {
     "data": {
      "text/plain": [
       "Adherent    142\n",
       "dtype: int64"
      ]
     },
     "execution_count": 16,
     "metadata": {},
     "output_type": "execute_result"
    }
   ],
   "source": [
    "clinical['adherent'].value_counts()"
   ]
  },
  {
   "cell_type": "code",
   "execution_count": 17,
   "metadata": {
    "collapsed": false
   },
   "outputs": [
    {
     "data": {
      "text/plain": [
       "<matplotlib.axes.AxesSubplot at 0x7f0b415c20d0>"
      ]
     },
     "execution_count": 17,
     "metadata": {},
     "output_type": "execute_result"
    },
    {
     "data": {
      "image/png": "[encoded data removed]",
      "text/plain": [
       "<matplotlib.figure.Figure at 0x7f0b4162fcd0>"
      ]
     },
     "metadata": {},
     "output_type": "display_data"
    }
   ],
   "source": [
    "#Do not import\n",
    "clinical['adherence %'].hist()"
   ]
  },
  {
   "cell_type": "markdown",
   "metadata": {},
   "source": [
    "We have a wide varienty of regimens with 81 unique combinations of 35 drugs"
   ]
  },
  {
   "cell_type": "code",
   "execution_count": 18,
   "metadata": {
    "collapsed": false
   },
   "outputs": [
    {
     "data": {
      "text/plain": [
       "EVG      1\n",
       "TPV      1\n",
       "DDC      1\n",
       "DRV      2\n",
       "SQV      2\n",
       "APV      2\n",
       "BDT      2\n",
       "BSD      3\n",
       "SQV2     3\n",
       "DLV      4\n",
       "FPV      5\n",
       "T20      8\n",
       "NFV      8\n",
       "D4T      9\n",
       "DDI     15\n",
       "NVP     26\n",
       "ABV     30\n",
       "LPV     30\n",
       "EFV     31\n",
       "ZDV     35\n",
       "ATV     46\n",
       "FTC     52\n",
       "3TC     63\n",
       "RTV     82\n",
       "TFV     91\n",
       "dtype: int64"
      ]
     },
     "execution_count": 18,
     "metadata": {},
     "output_type": "execute_result"
    }
   ],
   "source": [
    "reg = clinical['Current Regimen'].dropna().str.split('/').map(sorted)\n",
    "drugs = {r for s in reg for r in s}\n",
    "drug_mat = pd.DataFrame({i: {d: d in s for d in drugs} for i,s in \n",
    "                         reg.iteritems()}).T\n",
    "drug_mat.sum().order()"
   ]
  },
  {
   "cell_type": "markdown",
   "metadata": {},
   "source": [
    "These can be broken down into 8 regimen types"
   ]
  },
  {
   "cell_type": "code",
   "execution_count": 19,
   "metadata": {
    "collapsed": false
   },
   "outputs": [
    {
     "data": {
      "text/plain": [
       "PI/NRTI Based       69\n",
       "NNRTI/NRTI Based    43\n",
       "3-class             22\n",
       "NRTI Based           3\n",
       "PI/NNRTI Based       2\n",
       "4+ class             1\n",
       "NNRTI Based          1\n",
       "PI Based             1\n",
       "dtype: int64"
      ]
     },
     "execution_count": 19,
     "metadata": {},
     "output_type": "execute_result"
    }
   ],
   "source": [
    "clinical['Regimen Type'].value_counts()"
   ]
  },
  {
   "cell_type": "code",
   "execution_count": 20,
   "metadata": {
    "collapsed": false
   },
   "outputs": [],
   "source": [
    "kill_list = ['zhang id', 'diabetes', 'Methylation ID', \n",
    "             'Sentrix_ID','Sample_Plate','Sample_Well','Sentrix_Position',\n",
    "             ]\n",
    "drugs = ['ARV History', 'ARV Status', 'Current Regimen', 'Regimen Type',\n",
    "         'adherence %' ,'adherent']"
   ]
  },
  {
   "cell_type": "code",
   "execution_count": 21,
   "metadata": {
    "collapsed": false
   },
   "outputs": [],
   "source": [
    "left = [c for c in clinical if c not in past_usage and c not in current_usage\n",
    "        and c not in drugs]"
   ]
  },
  {
   "cell_type": "code",
   "execution_count": 22,
   "metadata": {
    "collapsed": false
   },
   "outputs": [],
   "source": [
    "age = clinical.age"
   ]
  },
  {
   "cell_type": "code",
   "execution_count": 23,
   "metadata": {
    "collapsed": false
   },
   "outputs": [
    {
     "data": {
      "text/plain": [
       "0    91\n",
       "1    51\n",
       "dtype: int64"
      ]
     },
     "execution_count": 23,
     "metadata": {},
     "output_type": "execute_result"
    }
   ],
   "source": [
    "clinical['BDI > 17'].value_counts()"
   ]
  },
  {
   "cell_type": "code",
   "execution_count": 24,
   "metadata": {
    "collapsed": false
   },
   "outputs": [
    {
     "data": {
      "text/plain": [
       "Currently Using    142\n",
       "dtype: int64"
      ]
     },
     "execution_count": 24,
     "metadata": {},
     "output_type": "execute_result"
    }
   ],
   "source": [
    "clinical['ARV History'].value_counts()"
   ]
  },
  {
   "cell_type": "code",
   "execution_count": 25,
   "metadata": {
    "collapsed": false
   },
   "outputs": [
    {
     "data": {
      "text/plain": [
       "C3    57\n",
       "B3    24\n",
       "A2    20\n",
       "A3    17\n",
       "B2    14\n",
       "C2     6\n",
       "A1     4\n",
       "dtype: int64"
      ]
     },
     "execution_count": 25,
     "metadata": {},
     "output_type": "execute_result"
    }
   ],
   "source": [
    "clinical['CDC stage'].value_counts()"
   ]
  },
  {
   "cell_type": "markdown",
   "metadata": {},
   "source": [
    "IADL = Instrumental activities of daily living"
   ]
  },
  {
   "cell_type": "code",
   "execution_count": 26,
   "metadata": {
    "collapsed": false
   },
   "outputs": [
    {
     "data": {
      "text/plain": [
       "indep      109\n",
       "dep         25\n",
       "missing      8\n",
       "dtype: int64"
      ]
     },
     "execution_count": 26,
     "metadata": {},
     "output_type": "execute_result"
    }
   ],
   "source": [
    "iadl = clinical.IADL\n",
    "iadl.value_counts()"
   ]
  },
  {
   "cell_type": "markdown",
   "metadata": {},
   "source": [
    "Global imparement"
   ]
  },
  {
   "cell_type": "code",
   "execution_count": 27,
   "metadata": {
    "collapsed": false
   },
   "outputs": [
    {
     "data": {
      "text/plain": [
       "nml    74\n",
       "imp    68\n",
       "dtype: int64"
      ]
     },
     "execution_count": 27,
     "metadata": {},
     "output_type": "execute_result"
    }
   ],
   "source": [
    "clinical['global impairment'].value_counts()"
   ]
  },
  {
   "cell_type": "markdown",
   "metadata": {},
   "source": [
    "Patient's Assessment of Own Functioning Inventory (PAOFI)"
   ]
  },
  {
   "cell_type": "code",
   "execution_count": 28,
   "metadata": {
    "collapsed": false
   },
   "outputs": [
    {
     "data": {
      "text/plain": [
       "<matplotlib.axes.AxesSubplot at 0x7f0b40fb7450>"
      ]
     },
     "execution_count": 28,
     "metadata": {},
     "output_type": "execute_result"
    },
    {
     "data": {
      "image/png": "[encoded data removed]",
      "text/plain": [
       "<matplotlib.figure.Figure at 0x7f0b4101e710>"
      ]
     },
     "metadata": {},
     "output_type": "display_data"
    }
   ],
   "source": [
    "#Do not import\n",
    "paofi = clinical['paofi total']\n",
    "paofi.hist()"
   ]
  },
  {
   "cell_type": "markdown",
   "metadata": {},
   "source": [
    "RPR (Rapid plasma reagin) is a diagnostic used to detect syphilis"
   ]
  },
  {
   "cell_type": "code",
   "execution_count": 29,
   "metadata": {
    "collapsed": false
   },
   "outputs": [
    {
     "data": {
      "text/plain": [
       "Neg    136\n",
       "Pos      6\n",
       "dtype: int64"
      ]
     },
     "execution_count": 29,
     "metadata": {},
     "output_type": "execute_result"
    }
   ],
   "source": [
    "clinical.RPR.value_counts()"
   ]
  },
  {
   "cell_type": "markdown",
   "metadata": {},
   "source": [
    "#### Batches"
   ]
  },
  {
   "cell_type": "code",
   "execution_count": 30,
   "metadata": {
    "collapsed": false
   },
   "outputs": [
    {
     "data": {
      "text/plain": [
       "UCSD       73\n",
       "VNDRBLT    69\n",
       "dtype: int64"
      ]
     },
     "execution_count": 30,
     "metadata": {},
     "output_type": "execute_result"
    }
   ],
   "source": [
    "site = clinical.Site\n",
    "site.value_counts()"
   ]
  },
  {
   "cell_type": "code",
   "execution_count": 31,
   "metadata": {
    "collapsed": false
   },
   "outputs": [
    {
     "data": {
      "text/plain": [
       "utox neg    130\n",
       "utox pos     12\n",
       "dtype: int64"
      ]
     },
     "execution_count": 31,
     "metadata": {},
     "output_type": "execute_result"
    }
   ],
   "source": [
    "clinical.Utox.value_counts()"
   ]
  },
  {
   "cell_type": "markdown",
   "metadata": {},
   "source": [
    "Beck Depression Inventory is a questionarre measuring depression levels (from [Wikipedia](http://en.wikipedia.org/wiki/Beck_Depression_Inventory))\n",
    "* 0–13: minimal depression \n",
    "* 14–19: mild depression  \n",
    "* 20–28: moderate depression  \n",
    "* 29–63: severe depression."
   ]
  },
  {
   "cell_type": "code",
   "execution_count": 32,
   "metadata": {
    "collapsed": false
   },
   "outputs": [
    {
     "data": {
      "text/plain": [
       "<matplotlib.axes.AxesSubplot at 0x7f0b40ebe850>"
      ]
     },
     "execution_count": 32,
     "metadata": {},
     "output_type": "execute_result"
    },
    {
     "data": {
      "image/png": "[encoded data removed]",
      "text/plain": [
       "<matplotlib.figure.Figure at 0x7f0b40f24890>"
      ]
     },
     "metadata": {},
     "output_type": "display_data"
    }
   ],
   "source": [
    "#Do not import\n",
    "beck = clinical['beck total'].dropna()\n",
    "beck.hist()"
   ]
  },
  {
   "cell_type": "code",
   "execution_count": 33,
   "metadata": {
    "collapsed": false
   },
   "outputs": [
    {
     "data": {
      "text/plain": [
       "<matplotlib.axes.AxesSubplot at 0x7f0b410a2d90>"
      ]
     },
     "execution_count": 33,
     "metadata": {},
     "output_type": "execute_result"
    },
    {
     "data": {
      "image/png": "[encoded data removed]",
      "text/plain": [
       "<matplotlib.figure.Figure at 0x7f0b40e7f390>"
      ]
     },
     "metadata": {},
     "output_type": "display_data"
    }
   ],
   "source": [
    "#Do not import\n",
    "clinical['paofi total'].hist()"
   ]
  },
  {
   "cell_type": "markdown",
   "metadata": {},
   "source": [
    "#### Read in lab blood work data"
   ]
  },
  {
   "cell_type": "markdown",
   "metadata": {},
   "source": [
    "* abstract exam date onto exam year for anonymity"
   ]
  },
  {
   "cell_type": "code",
   "execution_count": 34,
   "metadata": {
    "collapsed": false
   },
   "outputs": [],
   "source": [
    "labs = pd.read_excel(ucsd_path + 'fox_methylation_labdata_073014.xlsx',\n",
    "                     index_col=0)\n",
    "labs['nb exam year']= labs['nb exam date'].map(lambda s: s.year)\n",
    "del labs['nb exam date']\n",
    "labs = labs.dropna(axis=1, how='all')\n",
    "labs = labs.ix[labs.index.intersection(clinical.index)]"
   ]
  },
  {
   "cell_type": "markdown",
   "metadata": {},
   "source": [
    "* Dropping five patients because they don't look Kosher  \n",
    "* Renormalizing cell percentages because some don't sum to 100%"
   ]
  },
  {
   "cell_type": "code",
   "execution_count": 35,
   "metadata": {
    "collapsed": false
   },
   "outputs": [
    {
     "data": {
      "image/png": "[encoded data removed]",
      "text/plain": [
       "<matplotlib.figure.Figure at 0x7f0b415f2ad0>"
      ]
     },
     "metadata": {},
     "output_type": "display_data"
    }
   ],
   "source": [
    "#Do not import\n",
    "fig, axs = subplots(1,2, figsize=(9,4))\n",
    "clinical.age.hist(ax=axs[0])\n",
    "clinical['estimated duration hiv (months)'].hist(ax=axs[1])\n",
    "axs[0].set_xlabel('Age')\n",
    "axs[1].set_xlabel('estimated duration hiv (months)')\n",
    "for ax in axs:\n",
    "    ax.set_ylabel('# of Patients')\n",
    "    prettify_ax(ax)"
   ]
  },
  {
   "cell_type": "markdown",
   "metadata": {},
   "source": [
    "As can be seen above, we have two groups of patients with respect to HIV duration, we don't really have the sample size to tease apart any differences other than this main distiction so for now I am just treating duration of HIV as a categorical variable (e.g. controls, short exposure and long exposure)"
   ]
  },
  {
   "cell_type": "code",
   "execution_count": 36,
   "metadata": {
    "collapsed": false
   },
   "outputs": [
    {
     "data": {
      "text/plain": [
       "HIV Long     105\n",
       "Control       50\n",
       "HIV Short     37\n",
       "dtype: int64"
      ]
     },
     "execution_count": 36,
     "metadata": {},
     "output_type": "execute_result"
    }
   ],
   "source": [
    "duration = clinical['estimated duration hiv (months)']\n",
    "duration = (1.*duration.notnull()) + (1.*duration > 100)\n",
    "duration = duration.map({0:'Control',1:'HIV Short',2:'HIV Long'})\n",
    "duration.value_counts()"
   ]
  },
  {
   "cell_type": "markdown",
   "metadata": {},
   "source": [
    "### Patient Selection Criteria\n",
    "* There are a couple of female patients in the controls, we are going to get rid of those as all of the cases are males  \n",
    "* Most of the HIV patients are under HAART therepy, there are a few that are not and we are going to filter those out for now and possibly look at them after the primary analysis"
   ]
  },
  {
   "cell_type": "code",
   "execution_count": 37,
   "metadata": {
    "collapsed": false
   },
   "outputs": [
    {
     "data": {
      "text/plain": [
       "HIV Long     104\n",
       "Control       48\n",
       "HIV Short     33\n",
       "dtype: int64"
      ]
     },
     "execution_count": 37,
     "metadata": {},
     "output_type": "execute_result"
    }
   ],
   "source": [
    "duration = duration.ix[ti(clinical['ARV Status'] != 'non-HAART')]\n",
    "duration = duration.ix[ti(clinical.sex != 'F')].dropna()\n",
    "duration.value_counts()"
   ]
  },
  {
   "cell_type": "markdown",
   "metadata": {},
   "source": [
    "### Read in HIV Methylation data  "
   ]
  },
  {
   "cell_type": "markdown",
   "metadata": {},
   "source": [
    "Read in quantile-normalized data, adjusted for cellular compositions and then normalized agin using BMIQ."
   ]
  },
  {
   "cell_type": "code",
   "execution_count": 38,
   "metadata": {
    "collapsed": false
   },
   "outputs": [],
   "source": [
    "df_hiv = pd.read_hdf('/data_ssd/methylation_norm.h5', 'quant_BMIQ_adj')"
   ]
  },
  {
   "cell_type": "code",
   "execution_count": 39,
   "metadata": {
    "collapsed": false
   },
   "outputs": [],
   "source": [
    "df_hiv = pd.read_hdf('/data_ssd/methylation_norm.h5', 'quant_BMIQ_adj')\n",
    "df_hiv = df_hiv.ix[:, duration.index]\n",
    "df_hiv = df_hiv.dropna(1)"
   ]
  },
  {
   "cell_type": "markdown",
   "metadata": {},
   "source": [
    "Read in data processed with BMIQ using Horvath's gold standard."
   ]
  },
  {
   "cell_type": "code",
   "execution_count": 40,
   "metadata": {
    "collapsed": false
   },
   "outputs": [],
   "source": [
    "df_hiv_n = pd.read_hdf('/data_ssd/methylation_norm.h5', 'BMIQ_Horvath')\n",
    "df_hiv_n = df_hiv_n.ix[:, duration.index]\n",
    "df_hiv_n = df_hiv_n.dropna(1)\n",
    "df_hiv_n = df_hiv_n.groupby(level=0).first()"
   ]
  },
  {
   "cell_type": "markdown",
   "metadata": {},
   "source": [
    "Adjust this data for cellular composition.  This is done after the normalization to not mess around with Horvath's pipeline too much. "
   ]
  },
  {
   "cell_type": "code",
   "execution_count": 41,
   "metadata": {
    "collapsed": false
   },
   "outputs": [],
   "source": [
    "flow_sorted_data = pd.read_hdf('/data_ssd/methylation_annotation.h5','flow_sorted_data_horvath_norm')\n",
    "cell_type = pd.read_hdf('/data_ssd/methylation_annotation.h5', 'label_map')\n",
    "cell_counts = pd.read_hdf('/data_ssd/dx_methylation.h5', 'cell_counts')\n",
    "cell_counts = cell_counts.groupby(level=0, axis=0).first()"
   ]
  },
  {
   "cell_type": "code",
   "execution_count": 42,
   "metadata": {
    "collapsed": false
   },
   "outputs": [],
   "source": [
    "n2 = flow_sorted_data.groupby(cell_type, axis=1).mean()\n",
    "avg = n2[cell_counts.columns].dot(cell_counts.ix[df_hiv.columns].T)\n",
    "d2 = df_hiv_n.ix[avg.index, df_hiv.columns].dropna(axis=[0,1], how='all')\n",
    "cc = avg.ix[:, ti(duration=='Control')].mean(1)\n",
    "df_hiv_n = (d2 - avg).add(cc, axis=0).dropna(how='all')"
   ]
  },
  {
   "cell_type": "code",
   "execution_count": 43,
   "metadata": {
    "collapsed": false
   },
   "outputs": [],
   "source": [
    "keepers = duration.index.intersection(df_hiv.columns.intersection(df_hiv_n.columns))\n",
    "duration = duration.ix[keepers]\n",
    "duration = duration.groupby(level=0).first()"
   ]
  },
  {
   "cell_type": "code",
   "execution_count": 44,
   "metadata": {
    "collapsed": false
   },
   "outputs": [],
   "source": [
    "consent = c1['zhang id'].isin([12373001,12805001,14055003,15455001]) == False\n",
    "duration = duration.ix[duration.index.difference(ti(consent == False))]"
   ]
  },
  {
   "cell_type": "code",
   "execution_count": 46,
   "metadata": {
    "collapsed": false
   },
   "outputs": [
    {
     "data": {
      "text/plain": [
       "Index([u'METI-29', u'METI-31', u'METI-41', u'METI-43'], dtype='object')"
      ]
     },
     "execution_count": 46,
     "metadata": {},
     "output_type": "execute_result"
    }
   ],
   "source": [
    "ti(c1['zhang id'].isin([12373001,12805001,14055003,15455001]))"
   ]
  },
  {
   "cell_type": "code",
   "execution_count": 45,
   "metadata": {
    "collapsed": false
   },
   "outputs": [
    {
     "data": {
      "text/plain": [
       "HIV Long     104\n",
       "Control       42\n",
       "HIV Short     33\n",
       "dtype: int64"
      ]
     },
     "execution_count": 45,
     "metadata": {},
     "output_type": "execute_result"
    }
   ],
   "source": [
    "duration.value_counts()"
   ]
  },
  {
   "cell_type": "code",
   "execution_count": 48,
   "metadata": {
    "collapsed": false
   },
   "outputs": [],
   "source": [
    "store = pd.HDFStore('/data_ssd/dx_methylation.h5')\n",
    "study = store['study']\n",
    "age = store['age']\n",
    "gender = store['gender']"
   ]
  },
  {
   "cell_type": "markdown",
   "metadata": {},
   "source": [
    "### Set up Probe Filters"
   ]
  },
  {
   "cell_type": "code",
   "execution_count": 49,
   "metadata": {
    "collapsed": false
   },
   "outputs": [],
   "source": [
    "detection_p = pd.read_hdf('/data_ssd/dx_methylation.h5', 'detection_p')\n",
    "#detection_p = detection_p[detection_p[0] > 10e-5]\n",
    "detection_p = detection_p[detection_p.Sample_Name.isin(duration.index)]"
   ]
  },
  {
   "cell_type": "code",
   "execution_count": 50,
   "metadata": {
    "collapsed": false
   },
   "outputs": [
    {
     "data": {
      "text/plain": [
       "False    33349\n",
       "True     12468\n",
       "dtype: int64"
      ]
     },
     "execution_count": 50,
     "metadata": {},
     "output_type": "execute_result"
    }
   ],
   "source": [
    "ff = detection_p.groupby('level_0').size() > 3\n",
    "ff.value_counts()"
   ]
  },
  {
   "cell_type": "code",
   "execution_count": 51,
   "metadata": {
    "collapsed": false
   },
   "outputs": [],
   "source": [
    "STORE = '/data_ssd/methylation_annotation.h5'\n",
    "snps = pd.read_hdf(STORE, 'snps')"
   ]
  },
  {
   "cell_type": "code",
   "execution_count": 52,
   "metadata": {
    "collapsed": false
   },
   "outputs": [
    {
     "data": {
      "text/plain": [
       "False    425620\n",
       "True      59892\n",
       "dtype: int64"
      ]
     },
     "execution_count": 52,
     "metadata": {},
     "output_type": "execute_result"
    }
   ],
   "source": [
    "snp_near = (snps.Probe_SNPs != '')\n",
    "snp_near.value_counts()"
   ]
  },
  {
   "cell_type": "code",
   "execution_count": 53,
   "metadata": {
    "collapsed": false
   },
   "outputs": [],
   "source": [
    "probe_idx = df_hiv.index.difference(ti(ff))"
   ]
  }
 ],
 "metadata": {
  "kernelspec": {
   "display_name": "Python 2",
   "language": "python",
   "name": "python2"
  },
  "language_info": {
   "codemirror_mode": {
    "name": "ipython",
    "version": 2
   },
   "file_extension": ".py",
   "mimetype": "text/x-python",
   "name": "python",
   "nbconvert_exporter": "python",
   "pygments_lexer": "ipython2",
   "version": "2.7.9"
  }
 },
 "nbformat": 4,
 "nbformat_minor": 0
}

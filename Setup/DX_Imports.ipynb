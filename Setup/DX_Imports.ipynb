{
 "metadata": {
  "kernelspec": {
   "codemirror_mode": {
    "name": "ipython",
    "version": 2
   },
   "display_name": "IPython (Python 2)",
   "language": "python",
   "name": "python2"
  },
  "name": "",
  "signature": "sha256:571c15758b0646ed3686645aa736cea7fdc60f5bd4090198c2cb1311cd9012fe"
 },
 "nbformat": 3,
 "nbformat_minor": 0,
 "worksheets": [
  {
   "cells": [
    {
     "cell_type": "heading",
     "level": 1,
     "metadata": {},
     "source": [
      "Helpers for Finding Differentially Methylated Probes"
     ]
    },
    {
     "cell_type": "code",
     "collapsed": false,
     "input": [
      "import os\n",
      "if os.getcwd().endswith('Setup'):\n",
      "    os.chdir('..')"
     ],
     "language": "python",
     "metadata": {},
     "outputs": [],
     "prompt_number": 1
    },
    {
     "cell_type": "code",
     "collapsed": false,
     "input": [
      "import NotebookImport\n",
      "from Setup.Imports import *"
     ],
     "language": "python",
     "metadata": {},
     "outputs": [
      {
       "html": [
        "importing IPython notebook from <a href='./Setup/Imports.ipynb' target='_blank'>Setup/Imports</a>"
       ],
       "metadata": {},
       "output_type": "display_data"
      },
      {
       "output_type": "stream",
       "stream": "stdout",
       "text": [
        "Populating the interactive namespace from numpy and matplotlib\n"
       ]
      }
     ],
     "prompt_number": 2
    },
    {
     "cell_type": "code",
     "collapsed": false,
     "input": [
      "from scipy.special import logit\n",
      "\n",
      "logit_adj = lambda df: logit(df.clip(.001, .999))"
     ],
     "language": "python",
     "metadata": {},
     "outputs": [],
     "prompt_number": 3
    },
    {
     "cell_type": "markdown",
     "metadata": {},
     "source": [
      "Couple of minor tweaks"
     ]
    },
    {
     "cell_type": "code",
     "collapsed": false,
     "input": [
      "def boxplot_panel(hit_vec, response_df):\n",
      "    \"\"\"\n",
      "    Draws a series of paired boxplots with the rows of the response_df\n",
      "    split according to hit_vec.  \n",
      "    \"\"\"\n",
      "    b = response_df.copy()\n",
      "    #b.columns = pd.MultiIndex.from_arrays([b.columns, hit_vec.ix[b.columns]])\n",
      "    b = b.T\n",
      "    v1, v2 = hit_vec.unique()\n",
      "    test = lambda v: Stats.anova(hit_vec, v)\n",
      "    res = b.apply(test).T\n",
      "    #p = res.p.order()\n",
      "    p = res.p\n",
      "    b = b.ix[:, p.index]\n",
      "    \n",
      "    l1 = list(b.ix[ti(hit_vec == v1)].as_matrix().T)\n",
      "    l2 = list(b.ix[ti(hit_vec == v2)].as_matrix().T)\n",
      "\n",
      "    boxes = [x for t in zip(l1, l2) for x in t]\n",
      "    ax1, bp = paired_boxplot(boxes)\n",
      "    \n",
      "    y_lim = (response_df.T.quantile(.9).max()) * 1.2\n",
      "    pts = [(i * 3.5 + .5, y_lim) for i, n in enumerate(p) if n < .0000001]\n",
      "    if len(pts) > 0:\n",
      "        s1 = ax1.scatter(*zip(*pts), marker='$**$', label='$p<10^{-5}$', s=200)\n",
      "    else:\n",
      "        s1 = None\n",
      "    pts = [(i * 3.5 + .5, y_lim) for i, n in enumerate(p) if (n < .01)\n",
      "           and (n > .0000001)]\n",
      "    if len(pts) > 0:\n",
      "        s2 = ax1.scatter(*zip(*pts), marker='$*$', label='$p<10^{-2}$', s=30)\n",
      "    else:\n",
      "        s2 = None\n",
      "    #ax1.set_xticklabels(b.columns)\n",
      "    ax1.set_xticklabels('')\n",
      "    #ax1.set_ybound(-.2,.3)\n",
      "    #ax1.legend(bp['boxes'][:2] + [s2, s1],\n",
      "    #           (v1, v2, '$p<10^{-2}$', '$p<10^{-5}$'),\n",
      "    #           loc='best', scatterpoints=1)"
     ],
     "language": "python",
     "metadata": {},
     "outputs": [],
     "prompt_number": 4
    },
    {
     "cell_type": "heading",
     "level": 4,
     "metadata": {},
     "source": [
      "Additional R helper functions"
     ]
    },
    {
     "cell_type": "code",
     "collapsed": false,
     "input": [
      "binomial = robjects.r.binomial('logit')\n",
      "formula_r = robjects.Formula\n",
      "\n",
      "def convert_to_r_series(s):\n",
      "    s_r = robjects.FloatVector(s)\n",
      "    s_r.name = list(s.index)\n",
      "    return s_r\n",
      "\n",
      "\n",
      "def r_cbind(df_r, s):\n",
      "    '''\n",
      "    df_r is a rpy2 DataFrame\n",
      "    s is a Pandas Series\n",
      "    '''\n",
      "    idx = list(robjects.r.rownames(df_r))\n",
      "    s_r = convert_to_r_series(s.ix[idx])\n",
      "    df_r_new = df_r.cbind(s_r)\n",
      "    df_r_new.names[-1] = s.name\n",
      "    return df_r_new"
     ],
     "language": "python",
     "metadata": {},
     "outputs": [],
     "prompt_number": 5
    },
    {
     "cell_type": "heading",
     "level": 4,
     "metadata": {},
     "source": [
      "Some functions for dealing with entropy of a matrix"
     ]
    },
    {
     "cell_type": "code",
     "collapsed": false,
     "input": [
      "def svd_entropy(df):\n",
      "    U,S,vH = frame_svd(df)\n",
      "    p = S ** 2 / sum(S ** 2)\n",
      "    entropy = -1 * sum((p * np.log(p))) / log(len(p))\n",
      "    return entropy\n",
      "\n",
      "def entropy_gain(split, df):\n",
      "    df = df.ix[:, split.index]\n",
      "    h_all = svd_entropy(df)\n",
      "    h_1 = svd_entropy(df.ix[:, ti(split)])\n",
      "    h_0 = svd_entropy(df.ix[:, ti(split==False)])\n",
      "    ratio = h_all - (h_1*split.mean() + h_0*(1-split.mean()))\n",
      "    return pd.Series({'gain':ratio, 'h_all': h_all, 'h_0':h_0, 'h_1':h_1})"
     ],
     "language": "python",
     "metadata": {},
     "outputs": [],
     "prompt_number": 6
    },
    {
     "cell_type": "heading",
     "level": 4,
     "metadata": {},
     "source": [
      "Helper functions for diffential expression"
     ]
    },
    {
     "cell_type": "code",
     "collapsed": false,
     "input": [
      "def ttest_df(split_vec, df):\n",
      "    dmean = df.T.groupby(split_vec).mean().T\n",
      "    dvar = df.T.groupby(split_vec).var().T\n",
      "    dn = df.T.groupby(split_vec).count().astype(float).T\n",
      "    s12 = ((((dn[True] - 1)*dvar[True]) + ((dn[False] - 1)*dvar[False])) / \n",
      "           (dn.sum(1) - 2)) ** .5\n",
      "    t = (dmean[True] - dmean[False]) / (s12 * np.sqrt((1/dn[True]) + (1/dn[False])))\n",
      "    t = t.dropna()\n",
      "    return t\n",
      "\n",
      "def effect_size(split_vec, df):\n",
      "    dmean = df.T.groupby(split_vec).mean().T\n",
      "    return pd.concat([dmean[True], dmean[False], dmean[True] - dmean[False]],\n",
      "                     axis=1, keys=['g1','g2','d'])"
     ],
     "language": "python",
     "metadata": {},
     "outputs": [],
     "prompt_number": 7
    },
    {
     "cell_type": "markdown",
     "metadata": {},
     "source": [
      "####Read in Gene Sets  \n",
      "* I don't like this thing with the paths, hopfully fix later"
     ]
    },
    {
     "cell_type": "code",
     "collapsed": false,
     "input": [
      "from Data.Annotations import read_in_pathways\n",
      "\n",
      "gs, gl = read_in_pathways('/cellar/users/agross/TCGA_Code/TCGA/Extra_Data/c2.cp.v3.0.symbols_edit.csv')\n",
      "gs = pd.DataFrame({p: pd.Series(1, index=s) for p,s in gs.iteritems()})\n",
      "gs = gs.ix[gl.keys()].fillna(0)\n",
      "gene_sets = gs"
     ],
     "language": "python",
     "metadata": {},
     "outputs": [],
     "prompt_number": 9
    },
    {
     "cell_type": "heading",
     "level": 3,
     "metadata": {},
     "source": [
      "Read in Probe Annotations from Data-Store"
     ]
    },
    {
     "cell_type": "markdown",
     "metadata": {},
     "source": [
      "* These are parsed out in [Compile_Probe_Annoations](./Compile_Probe_Annotations.ipynb) notebook."
     ]
    },
    {
     "cell_type": "code",
     "collapsed": false,
     "input": [
      "STORE = '/data/methylation_annotation.h5'\n",
      "islands = pd.read_hdf(STORE, 'islands')\n",
      "locations = pd.read_hdf(STORE, 'locations')\n",
      "other = pd.read_hdf(STORE, 'other')\n",
      "snps = pd.read_hdf(STORE, 'snps')\n",
      "probe_annotations = pd.read_hdf(STORE, 'probe_annotations')"
     ],
     "language": "python",
     "metadata": {},
     "outputs": [],
     "prompt_number": 10
    },
    {
     "cell_type": "heading",
     "level": 4,
     "metadata": {},
     "source": [
      "Auxilary function to map a data-vector from probes onto CpG Islands"
     ]
    },
    {
     "cell_type": "markdown",
     "metadata": {},
     "source": [
      " * I've got some globals going on in here\n",
      " * If I keep it, I'm probalby going to have to move this to a class"
     ]
    },
    {
     "cell_type": "code",
     "collapsed": false,
     "input": [
      "isl = islands.sort(['Islands_Name','Relation_to_Island']).dropna()\n",
      "isl = isl[isl.Islands_Name.isin(ti(isl.Islands_Name.value_counts() > 7))]\n",
      "\n",
      "ot = other.Regulatory_Feature_Name\n",
      "ot = ot[ot.isin(ti(ot.value_counts()> 7))]\n",
      "\n",
      "gb = pd.concat([isl, probe_annotations], axis=1)\n",
      "gb = gb[gb.Gene_Symbol.notnull() & gb.Islands_Name.notnull()]\n",
      "\n",
      "g2 = gb.sort('Islands_Name')\n",
      "\n",
      "top_gene = lambda s: s.Gene_Symbol.value_counts().index[0]\n",
      "island_to_gene = g2.groupby('Islands_Name').apply(top_gene)\n",
      "\n",
      "def map_to_islands(s):\n",
      "    '''\n",
      "    s is a Series of measurments on the probe level.\n",
      "    '''\n",
      "    on_island = s.groupby(isl.Islands_Name).mean().order()\n",
      "    \n",
      "    v = pd.concat([island_to_gene, on_island], axis=1).set_index(0)[1]\n",
      "    islands_mapped_to_genes = v.groupby(level=0).mean().order()\n",
      "    return on_island, islands_mapped_to_genes\n"
     ],
     "language": "python",
     "metadata": {},
     "outputs": [],
     "prompt_number": 11
    },
    {
     "cell_type": "heading",
     "level": 4,
     "metadata": {},
     "source": [
      "Helper for making CpG island plots"
     ]
    },
    {
     "cell_type": "code",
     "collapsed": false,
     "input": [
      "def island_plot_maker(df, split, islands, ann, colors=None):\n",
      "    '''\n",
      "    df:      a DataFrame of probe beta values\n",
      "    islands: a DataFrame mapping probes to CpG islands and \n",
      "             annotations\n",
      "    ann:     a DataFrame mapping probes to gene annotations\n",
      "             and genomic coordinates of probe\n",
      "    '''\n",
      "    if colors is None:\n",
      "        colors = colors_st\n",
      "    groups = split.dropna().unique()\n",
      "    assert len(groups) == 2\n",
      "    \n",
      "    def f(region):\n",
      "        p = ti(islands.Islands_Name == region)\n",
      "        p3 = ann.ix[p].join(islands.ix[p]).sort('Genomic_Coordinate')\n",
      "        p = p3.index\n",
      "        in_island = ti(p3.Relation_to_Island == 'Island')\n",
      "        \n",
      "        fig, ax = subplots(figsize=(10,4))\n",
      "        for i,g in enumerate(groups):\n",
      "            ax.scatter(p3.Genomic_Coordinate, df[ti(split == g)].ix[p].mean(1),\n",
      "                       color=colors[i], label=g)\n",
      "        ax.axvspan(p3.Genomic_Coordinate.ix[in_island[0]] - 30, \n",
      "                   p3.Genomic_Coordinate.ix[in_island[-1]] + 30, \n",
      "                   alpha=.2, color=colors[2], label='Island')\n",
      "        ax.set_xlabel('Genomic Coordinate')\n",
      "        ax.set_ylabel('Beta Value')\n",
      "        ax.legend(loc='lower right', fancybox=True)\n",
      "        prettify_ax(ax)\n",
      "    return f"
     ],
     "language": "python",
     "metadata": {},
     "outputs": [],
     "prompt_number": 12
    }
   ],
   "metadata": {}
  }
 ]
}
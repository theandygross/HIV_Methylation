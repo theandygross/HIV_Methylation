{
 "cells": [
  {
   "cell_type": "markdown",
   "metadata": {},
   "source": [
    "# Global Imports"
   ]
  },
  {
   "cell_type": "code",
   "execution_count": 1,
   "metadata": {
    "collapsed": false
   },
   "outputs": [
    {
     "name": "stdout",
     "output_type": "stream",
     "text": [
      "Populating the interactive namespace from numpy and matplotlib\n"
     ]
    }
   ],
   "source": [
    "%pylab inline"
   ]
  },
  {
   "cell_type": "code",
   "execution_count": 2,
   "metadata": {
    "collapsed": false
   },
   "outputs": [
    {
     "data": {
      "text/plain": [
       "['#e41a1c', '#377eb8', '#4daf4a', '#984ea3', '#ff7f00', '#ffff33', '#a65628']"
      ]
     },
     "execution_count": 2,
     "metadata": {},
     "output_type": "execute_result"
    }
   ],
   "source": [
    "rcParams['axes.color_cycle']"
   ]
  },
  {
   "cell_type": "markdown",
   "metadata": {},
   "source": [
    "### External Package Imports"
   ]
  },
  {
   "cell_type": "code",
   "execution_count": null,
   "metadata": {
    "collapsed": false
   },
   "outputs": [],
   "source": [
    "from __future__ import division"
   ]
  },
  {
   "cell_type": "code",
   "execution_count": 2,
   "metadata": {
    "collapsed": false
   },
   "outputs": [],
   "source": [
    "import os as os\n",
    "import pickle as pickle\n",
    "import pandas as pd"
   ]
  },
  {
   "cell_type": "markdown",
   "metadata": {},
   "source": [
    "### Module Imports"
   ]
  },
  {
   "cell_type": "code",
   "execution_count": 7,
   "metadata": {
    "collapsed": false
   },
   "outputs": [],
   "source": [
    "from Helpers.LinAlg import *\n",
    "from Helpers.Pandas import *\n",
    "from Helpers.RPY2 import *\n",
    "from Stats.Scipy import *\n",
    "from Stats.Regression import *\n",
    "\n",
    "from Figures.FigureHelpers import *\n",
    "from Figures.Pandas import *\n",
    "from Figures.Boxplots import *\n",
    "from Figures.Regression import *"
   ]
  },
  {
   "cell_type": "markdown",
   "metadata": {},
   "source": [
    "### Tweaking Display Parameters"
   ]
  },
  {
   "cell_type": "code",
   "execution_count": 5,
   "metadata": {
    "collapsed": false
   },
   "outputs": [],
   "source": [
    "pd.set_option('precision', 3)\n",
    "pd.set_option('display.width', 300)\n",
    "plt.rcParams['font.size'] = 14"
   ]
  },
  {
   "cell_type": "code",
   "execution_count": null,
   "metadata": {
    "collapsed": false
   },
   "outputs": [],
   "source": [
    "import seaborn as sns\n",
    "\n",
    "sns.set_context(\"paper\", font_scale=1.7, rc={\"lines.linewidth\": 2.5})\n",
    "sns.set_style(\"white\")"
   ]
  },
  {
   "cell_type": "code",
   "execution_count": 6,
   "metadata": {
    "collapsed": false
   },
   "outputs": [],
   "source": [
    "'''Color schemes for paper taken from http://colorbrewer2.org/'''\n",
    "colors = ['#e41a1c', '#377eb8', '#4daf4a', '#984ea3', '#ff7f00', \n",
    "          '#ffff33', '#a65628']\n",
    "colors_st = ['#CA0020', '#F4A582', '#92C5DE', '#0571B0']\n",
    "colors_th = ['#E66101', '#FDB863', '#B2ABD2', '#5E3C99']"
   ]
  },
  {
   "cell_type": "markdown",
   "metadata": {},
   "source": [
    "Preform a logit transformation while constraining extreme values."
   ]
  },
  {
   "cell_type": "code",
   "execution_count": 1,
   "metadata": {
    "collapsed": false
   },
   "outputs": [],
   "source": [
    "from scipy.special import logit\n",
    "\n",
    "logit_adj = lambda df: logit(df.clip(.001, .999))"
   ]
  },
  {
   "cell_type": "markdown",
   "metadata": {},
   "source": [
    "### Model Fit/Assessment Helpers"
   ]
  },
  {
   "cell_type": "code",
   "execution_count": 1,
   "metadata": {
    "collapsed": false
   },
   "outputs": [],
   "source": [
    "def detrend(x,y):\n",
    "    x, y = match_series(x, y)\n",
    "    reg = linear_regression(x, y)\n",
    "    adj = (y - reg['intercept']) / reg['slope']\n",
    "    return adj"
   ]
  },
  {
   "cell_type": "code",
   "execution_count": 3,
   "metadata": {
    "collapsed": false
   },
   "outputs": [],
   "source": [
    "def get_error(x, y, groups=None, denominator='mean'):\n",
    "    if groups is not None:\n",
    "        r = pd.DataFrame({g: get_error(x.ix[ti(groups==g)], y, denominator=denominator) \n",
    "                          for g in groups.unique()})\n",
    "        return r\n",
    "    if denominator == 'x':\n",
    "        d = x\n",
    "    elif denominator == 'y':\n",
    "        d = y\n",
    "    else:\n",
    "        d = (x + y) / 2.\n",
    "    \n",
    "    pct_error = ((x - y) / d).abs().dropna().mean() * 100.\n",
    "    avg_error = (x- y).abs().dropna().mean()\n",
    "    return pd.Series({'error (years)': avg_error, '% error': pct_error})"
   ]
  },
  {
   "cell_type": "code",
   "execution_count": null,
   "metadata": {
    "collapsed": false
   },
   "outputs": [],
   "source": [
    "def model_fit(m, age):\n",
    "    reg = linear_regression(age, m)\n",
    "    error = get_error(age, m)\n",
    "    vec = pd.Series({'n': int(len(m.dropna())), \n",
    "                     'r': reg['r-value'],\n",
    "                     'error (years)': error['error (years)'],\n",
    "                     '% error': error['% error']})\n",
    "    return vec.ix[['n','r','error (years)', '% error']]"
   ]
  },
  {
   "cell_type": "markdown",
   "metadata": {},
   "source": [
    "Preform two step linear adjustement. \n",
    "* First on each data-source seperately\n",
    "* Then on all data-sources combined"
   ]
  },
  {
   "cell_type": "code",
   "execution_count": 4,
   "metadata": {
    "collapsed": false
   },
   "outputs": [],
   "source": [
    "def two_step_adjustment(m1, m2, age, groups):\n",
    "    m1_adj = {}\n",
    "    m2_adj = {}\n",
    "    k = m1.index.intersection(m2.index)\n",
    "    for s in groups.unique():\n",
    "        pts = ti(groups == s).intersection(k)\n",
    "        m1_adj[s] = detrend(age, m1.ix[pts])\n",
    "        m2_adj[s] = detrend(age, m2.ix[pts])\n",
    "    m1_adj = pd.concat(m1_adj.values())\n",
    "    m2_adj = pd.concat(m2_adj.values())\n",
    "    mc_adj = (m1_adj + m2_adj) / 2.\n",
    "    mc_adj = detrend(age, mc_adj)\n",
    "    mc_adj.name = 'Predicted Age (Combined)'\n",
    "    return m1_adj, m2_adj, mc_adj"
   ]
  },
  {
   "cell_type": "markdown",
   "metadata": {},
   "source": [
    "Manhattan plot"
   ]
  },
  {
   "cell_type": "code",
   "execution_count": 3,
   "metadata": {
    "collapsed": false
   },
   "outputs": [],
   "source": [
    "def manhattan(vec, chrom, coords, ax=None, ybound=None,\n",
    "              flow='up', ticks=True):\n",
    "    fig, ax = init_ax(ax, figsize=(9,3))\n",
    "    x = 0\n",
    "    chr_coords = []\n",
    "    for i,c in enumerate(map(str, range(1,23))):\n",
    "        v = vec.ix[ti(chrom == c)].dropna()\n",
    "        series_scatter(coords + x, v, s=10, ax=ax, \n",
    "                       color=colors[i % 5], \n",
    "                       ann=None, alpha=1) \n",
    "        chr_len = coords.ix[v.index].max()\n",
    "        x = x + chr_len + 3e7\n",
    "        chr_coords += [x - (chr_len / 2.)]\n",
    "    ax.set_xbound(-3e7, x + 3e7)\n",
    "    if ybound is not None:\n",
    "        ax.set_ybound(ybound[0],ybound[1])\n",
    "    ax.set_xlabel('Chromosome')\n",
    "    \n",
    "    if ticks:\n",
    "        ax.set_xticks(chr_coords)\n",
    "        ax.set_xticklabels(map(str, range(1,23)))\n",
    "    else:\n",
    "        ax.set_xticks([])\n",
    "    top = flow == 'down'\n",
    "    prettify_ax(ax, top)"
   ]
  },
  {
   "cell_type": "markdown",
   "metadata": {},
   "source": [
    "### Global Parameters"
   ]
  },
  {
   "cell_type": "markdown",
   "metadata": {},
   "source": [
    "While it is not always the best practice to set global parameters, I find that for analyses such as these it is beneficial for a few reasons.  \n",
    "* Selection criteria can be established in one place and updates can be propagated to all subsequent analyses  \n",
    "* Things such as hard paths can be extracted from the logic and placed in one central location"
   ]
  },
  {
   "cell_type": "code",
   "execution_count": 27,
   "metadata": {
    "collapsed": false
   },
   "outputs": [],
   "source": [
    "FIGDIR = '/cellar/users/agross/figures/'\n",
    "\n",
    "path = '/cellar/users/agross/TCGA_Code/Methlation/'\n",
    "ucsd_path = path + 'data/UCSD_Methylation/'\n",
    "hannum_path = path + 'data/Hannum/'\n",
    "path_italy = path + 'data/EPIC_ITALY/'"
   ]
  }
 ],
 "metadata": {
  "kernelspec": {
   "display_name": "Python 2",
   "language": "python",
   "name": "python2"
  },
  "language_info": {
   "codemirror_mode": {
    "name": "ipython",
    "version": 2
   },
   "file_extension": ".py",
   "mimetype": "text/x-python",
   "name": "python",
   "nbconvert_exporter": "python",
   "pygments_lexer": "ipython2",
   "version": "2.7.9"
  }
 },
 "nbformat": 4,
 "nbformat_minor": 0
}

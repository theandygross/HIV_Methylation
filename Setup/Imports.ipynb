{
 "metadata": {
  "kernelspec": {
   "codemirror_mode": {
    "name": "ipython",
    "version": 2
   },
   "display_name": "IPython (Python 2)",
   "language": "python",
   "name": "python2"
  },
  "name": "",
  "signature": "sha256:e67bdba0978f2c73a80614620b5436423b3061533bffab841382631e1320858e"
 },
 "nbformat": 3,
 "nbformat_minor": 0,
 "worksheets": [
  {
   "cells": [
    {
     "cell_type": "heading",
     "level": 1,
     "metadata": {},
     "source": [
      "Global Imports"
     ]
    },
    {
     "cell_type": "code",
     "collapsed": false,
     "input": [
      "%pylab inline"
     ],
     "language": "python",
     "metadata": {},
     "outputs": [
      {
       "output_type": "stream",
       "stream": "stdout",
       "text": [
        "Populating the interactive namespace from numpy and matplotlib\n"
       ]
      }
     ],
     "prompt_number": 1
    },
    {
     "cell_type": "heading",
     "level": 3,
     "metadata": {},
     "source": [
      "External Package Imports"
     ]
    },
    {
     "cell_type": "code",
     "collapsed": false,
     "input": [
      "import os as os\n",
      "import pickle as pickle\n",
      "import pandas as pd"
     ],
     "language": "python",
     "metadata": {},
     "outputs": [],
     "prompt_number": 2
    },
    {
     "cell_type": "heading",
     "level": 3,
     "metadata": {},
     "source": [
      "Module Imports"
     ]
    },
    {
     "cell_type": "code",
     "collapsed": false,
     "input": [
      "from Helpers.LinAlg import *\n",
      "from Helpers.Pandas import *\n",
      "from Stats.Scipy import *\n",
      "\n",
      "from Figures.FigureHelpers import *\n",
      "from Figures.Pandas import *\n",
      "from Figures.Boxplots import *\n",
      "from Figures.Regression import *"
     ],
     "language": "python",
     "metadata": {},
     "outputs": [],
     "prompt_number": 7
    },
    {
     "cell_type": "code",
     "collapsed": false,
     "input": [
      "import rpy2.robjects as robjects\n",
      "from pandas.rpy.common import convert_to_r_dataframe"
     ],
     "language": "python",
     "metadata": {},
     "outputs": [],
     "prompt_number": 4
    },
    {
     "cell_type": "heading",
     "level": 3,
     "metadata": {},
     "source": [
      "Tweaking Display Parameters"
     ]
    },
    {
     "cell_type": "code",
     "collapsed": false,
     "input": [
      "pd.set_option('precision', 3)\n",
      "pd.set_option('display.width', 300)\n",
      "plt.rcParams['font.size'] = 14"
     ],
     "language": "python",
     "metadata": {},
     "outputs": [],
     "prompt_number": 5
    },
    {
     "cell_type": "code",
     "collapsed": false,
     "input": [
      "'''Color schemes for paper taken from http://colorbrewer2.org/'''\n",
      "colors = plt.rcParams['axes.color_cycle']\n",
      "colors_st = ['#CA0020', '#F4A582', '#92C5DE', '#0571B0']\n",
      "colors_th = ['#E66101', '#FDB863', '#B2ABD2', '#5E3C99']"
     ],
     "language": "python",
     "metadata": {},
     "outputs": [],
     "prompt_number": 6
    },
    {
     "cell_type": "code",
     "collapsed": false,
     "input": [
      "from scipy.special import logit\n",
      "\n",
      "logit_adj = lambda df: logit(df.clip(.001, .999))"
     ],
     "language": "python",
     "metadata": {},
     "outputs": [],
     "prompt_number": 25
    },
    {
     "cell_type": "markdown",
     "metadata": {},
     "source": [
      "Modified from TCGA package to not deal with survival"
     ]
    },
    {
     "cell_type": "code",
     "collapsed": false,
     "input": [
      "def process_factors(cov, standardize=True):\n",
      "    '''\n",
      "    Coerce covariates and feature into format suitable for R's\n",
      "    regression functions. \n",
      "    '''\n",
      "    if type(cov) == pd.Series:\n",
      "        cov = pd.concat([cov], axis=1)\n",
      "    elif type(cov) == list:\n",
      "        assert map(type, cov) == ([pd.Series] * len(cov))\n",
      "        cov = pd.concat(cov, axis=1).dropna()\n",
      "        \n",
      "    c_real = cov.ix[:, cov.dtypes.isin([np.dtype(float), np.dtype(int),\n",
      "                                            pd.np.dtype('float64')])]\n",
      "    if standardize:\n",
      "        c_real = (c_real - c_real.mean()) / c_real.std()\n",
      "    df = c_real.combine_first(cov)\n",
      "    df = df.groupby(level=0).first()\n",
      "    df = df.dropna()\n",
      "    df = convert_to_r_dataframe(df)\n",
      "    return df"
     ],
     "language": "python",
     "metadata": {},
     "outputs": [],
     "prompt_number": 26
    },
    {
     "cell_type": "heading",
     "level": 3,
     "metadata": {},
     "source": [
      "Model Fit/Assessment Helpers"
     ]
    },
    {
     "cell_type": "code",
     "collapsed": false,
     "input": [
      "def detrend(x,y):\n",
      "    x, y = match_series(x, y)\n",
      "    reg = linear_regression(x, y)\n",
      "    adj = (y - reg['intercept']) / reg['slope']\n",
      "    return adj"
     ],
     "language": "python",
     "metadata": {},
     "outputs": [],
     "prompt_number": 1
    },
    {
     "cell_type": "code",
     "collapsed": false,
     "input": [
      "def get_error(x, y, groups=None, denominator='mean'):\n",
      "    if groups is not None:\n",
      "        r = pd.DataFrame({g: get_error(x.ix[ti(groups==g)], y, denominator=denominator) \n",
      "                          for g in groups.unique()})\n",
      "        return r\n",
      "    if denominator == 'x':\n",
      "        d = x\n",
      "    elif denominator == 'y':\n",
      "        d = y\n",
      "    else:\n",
      "        d = (x + y) / 2.\n",
      "    \n",
      "    pct_error = ((x - y) / d).abs().dropna().mean()\n",
      "    avg_error = (x- y).abs().dropna().mean()\n",
      "    return pd.Series({'error (years)': avg_error, '% error': pct_error})"
     ],
     "language": "python",
     "metadata": {},
     "outputs": [],
     "prompt_number": 5
    },
    {
     "cell_type": "code",
     "collapsed": false,
     "input": [
      "def model_fit(m, age):\n",
      "    reg = linear_regression(age, m)\n",
      "    error = get_error(age, m)\n",
      "    vec = pd.Series({'n': int(len(m.dropna())), \n",
      "                     'r': reg['r-value'],\n",
      "                     'error (years)': error['error (years)'],\n",
      "                     '% error': error['% error']})\n",
      "    return vec.ix[['n','r','error (years)', '% error']]"
     ],
     "language": "python",
     "metadata": {},
     "outputs": []
    },
    {
     "cell_type": "markdown",
     "metadata": {},
     "source": [
      "Preform two step linear adjustement. \n",
      "* First on each data-source seperately\n",
      "* Then on all data-sources combined"
     ]
    },
    {
     "cell_type": "code",
     "collapsed": false,
     "input": [
      "def two_step_adjustment(m1, m2, age, groups):\n",
      "    m1_adj = {}\n",
      "    m2_adj = {}\n",
      "    k = m1.index.intersection(m2.index)\n",
      "    for s in groups.unique():\n",
      "        pts = ti(groups == s).intersection(k)\n",
      "        m1_adj[s] = detrend(age, m1.ix[pts])\n",
      "        m2_adj[s] = detrend(age, m2.ix[pts])\n",
      "    m1_adj = pd.concat(m1_adj.values())\n",
      "    m2_adj = pd.concat(m2_adj.values())\n",
      "    mc_adj = (m1_adj + m2_adj) / 2.\n",
      "    mc_adj = detrend(age, mc_adj)\n",
      "    mc_adj.name = 'Predicted Age (Combined)'\n",
      "    return m1_adj, m2_adj, mc_adj"
     ],
     "language": "python",
     "metadata": {},
     "outputs": [],
     "prompt_number": 4
    },
    {
     "cell_type": "heading",
     "level": 3,
     "metadata": {},
     "source": [
      "Global Parameters"
     ]
    },
    {
     "cell_type": "markdown",
     "metadata": {},
     "source": [
      "While it is not always the best practice to set global parameters, I find that for analyses such as these it is beneficial for a few reasons.  \n",
      "* Selection criteria can be established in one place and updates can be propagated to all subsequent analyses  \n",
      "* Things such as hard paths can be extracted from the logic and placed in one central location"
     ]
    },
    {
     "cell_type": "code",
     "collapsed": false,
     "input": [
      "FIGDIR = '/cellar/users/agross/figures/'\n",
      "\n",
      "path = '/cellar/users/agross/TCGA_Code/Methlation/'\n",
      "ucsd_path = path + 'data/UCSD_Methylation/'\n",
      "hannum_path = path + 'data/Hannum/'\n",
      "path_italy = path + 'data/EPIC_ITALY/'"
     ],
     "language": "python",
     "metadata": {},
     "outputs": [],
     "prompt_number": 27
    }
   ],
   "metadata": {}
  }
 ]
}
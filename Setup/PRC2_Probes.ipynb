{
 "cells": [
  {
   "cell_type": "markdown",
   "metadata": {},
   "source": [
    "# Read PRC2 Probes"
   ]
  },
  {
   "cell_type": "code",
   "execution_count": 2,
   "metadata": {
    "collapsed": false
   },
   "outputs": [],
   "source": [
    "import NotebookImport\n",
    "from DX_Imports import *"
   ]
  },
  {
   "cell_type": "code",
   "execution_count": 3,
   "metadata": {
    "collapsed": false
   },
   "outputs": [],
   "source": [
    "import pandas as pd\n",
    "import os as os"
   ]
  },
  {
   "cell_type": "code",
   "execution_count": 4,
   "metadata": {
    "collapsed": false
   },
   "outputs": [
    {
     "name": "stdout",
     "output_type": "stream",
     "text": [
      "Reading in PRC2 probes\n"
     ]
    }
   ],
   "source": [
    "print 'Reading in PRC2 probes'"
   ]
  },
  {
   "cell_type": "code",
   "execution_count": 5,
   "metadata": {
    "collapsed": false
   },
   "outputs": [],
   "source": [
    "path = '/cellar/users/agross/Data/GeneSets/PRC2_Binding/'"
   ]
  },
  {
   "cell_type": "code",
   "execution_count": 6,
   "metadata": {
    "collapsed": false
   },
   "outputs": [],
   "source": [
    "r = {}\n",
    "for f in os.listdir(path):\n",
    "    df = pd.read_table(path + f, header=None, \n",
    "                       names=['chr','start','end','name','score','sig'])\n",
    "    df['chr'] = df['chr'].str.replace('chr','')\n",
    "\n",
    "    res = {}\n",
    "    for c in df['chr'].unique():\n",
    "        df_c = probe_annotations[probe_annotations.Chromosome == c]\n",
    "        coord = df_c.Genomic_Coordinate\n",
    "        test_p = lambda p: (coord >= p.start) & (coord <= p.end)\n",
    "        res[c] = df[df.chr == c].apply(test_p, 1).any()\n",
    "    res = pd.concat(res).groupby(level=1).sum()\n",
    "    r[f] = res\n",
    "r = pd.concat(r, 1)"
   ]
  },
  {
   "cell_type": "code",
   "execution_count": 8,
   "metadata": {
    "collapsed": false
   },
   "outputs": [],
   "source": [
    "r.to_csv(path + 'mapped_to_methylation_probes.csv')"
   ]
  },
  {
   "cell_type": "markdown",
   "metadata": {},
   "source": [
    "I'm using a cutoff of 3/5 datasets to annotate a binding site."
   ]
  },
  {
   "cell_type": "code",
   "execution_count": 7,
   "metadata": {
    "collapsed": false
   },
   "outputs": [],
   "source": [
    "prc2_probes = r.sum(1)>2"
   ]
  }
 ],
 "metadata": {
  "kernelspec": {
   "display_name": "Python 2",
   "language": "python",
   "name": "python2"
  },
  "language_info": {
   "codemirror_mode": {
    "name": "ipython",
    "version": 2
   },
   "file_extension": ".py",
   "mimetype": "text/x-python",
   "name": "python",
   "nbconvert_exporter": "python",
   "pygments_lexer": "ipython2",
   "version": "2.7.9"
  }
 },
 "nbformat": 4,
 "nbformat_minor": 0
}

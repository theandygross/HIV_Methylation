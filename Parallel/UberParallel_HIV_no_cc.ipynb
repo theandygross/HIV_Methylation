{
 "cells": [
  {
   "cell_type": "code",
   "execution_count": 1,
   "metadata": {
    "collapsed": false
   },
   "outputs": [
    {
     "name": "stdout",
     "output_type": "stream",
     "text": [
      "Overwriting run_model.py\n"
     ]
    }
   ],
   "source": [
    "%%file run_model.py\n",
    "#!/cellar/users/agross/anaconda2/bin/python\n",
    "\n",
    "import sys\n",
    "import pandas as pd\n",
    "import statsmodels.api as sm\n",
    "\n",
    "store = sys.argv[1]\n",
    "outdir = sys.argv[2]\n",
    "table_name = sys.argv[3]\n",
    "out_suffix = sys.argv[4]\n",
    "covariates = sys.argv[5:]\n",
    "print sys.argv\n",
    "\n",
    "c_age = pd.read_hdf(store, 'age')\n",
    "hiv = pd.read_hdf(store, 'HIV')\n",
    "cell_counts = pd.read_hdf(store, 'cell_counts')\n",
    "df = pd.read_hdf(store, table_name)\n",
    "\n",
    "intercept = pd.Series(1, index=hiv.index)\n",
    "\n",
    "X = pd.concat([intercept, hiv, cell_counts.CD4T, cell_counts.CD8T,\n",
    "               cell_counts.NK, cell_counts.Bcell, cell_counts.Mono,\n",
    "               c_age], axis=1, \n",
    "              keys=['Intercept','HIV', 'CD4T','CD8T','NK','Bcell','Mono',\n",
    "                    'age'])\n",
    "X = X.ix[df.columns]\n",
    "X = X.dropna()\n",
    "X = X[['HIV','Intercept'] + covariates]\n",
    "\n",
    "X_reduced = X[['Intercept'] + covariates]\n",
    "print X.shape\n",
    "\n",
    "p = {}\n",
    "d_hiv = {}\n",
    "w = (len(hiv) - hiv.map(hiv.value_counts())).astype(float) / len(hiv)\n",
    "w = w.ix[X.index]\n",
    "df = df.ix[:, X.index]\n",
    "\n",
    "for i,y in df.iterrows():\n",
    "    y.name = 'marker'\n",
    "    mod_all = sm.WLS(y, X, weights=w)\n",
    "    res_ref = mod_all.fit()\n",
    "    p[i] = res_ref.params\n",
    "    \n",
    "    mod_reduced = sm.WLS(y, X_reduced, weights=w)\n",
    "    m1 = mod_reduced.fit()\n",
    "    d_hiv[i] = res_ref.compare_lr_test(m1)\n",
    "\n",
    "p = pd.DataFrame(p).T\n",
    "d_hiv = pd.DataFrame(d_hiv, index=['LR','p','df']).T\n",
    "\n",
    "out = pd.concat([p, d_hiv], \n",
    "                keys=['multi_variate','HIV_LR'],\n",
    "                axis=1)\n",
    "out.to_csv('{}/{}_{}.csv'.format(outdir, table_name, out_suffix))"
   ]
  },
  {
   "cell_type": "code",
   "execution_count": 2,
   "metadata": {
    "collapsed": true
   },
   "outputs": [],
   "source": [
    "import os as os\n",
    "import pandas as pd"
   ]
  },
  {
   "cell_type": "code",
   "execution_count": 3,
   "metadata": {
    "collapsed": false
   },
   "outputs": [],
   "source": [
    "!chmod 755 run_model.py"
   ]
  },
  {
   "cell_type": "code",
   "execution_count": 4,
   "metadata": {
    "collapsed": false
   },
   "outputs": [],
   "source": [
    "pwd = !pwd\n",
    "pwd = pwd[0]"
   ]
  },
  {
   "cell_type": "code",
   "execution_count": 5,
   "metadata": {
    "collapsed": false
   },
   "outputs": [],
   "source": [
    "store = '/cellar/users/agross/Data/tmp/for_parallel.h5'\n",
    "outdir = '/cellar/users/agross/Data/tmp'\n",
    "#px = ['in_set_s1','in_set_s2','in_set_s3', 'out_set_s1','out_set_s3']\n",
    "table_prefix = 'hiv_consented'\n",
    "path = outdir + '/' + table_prefix\n",
    "if not os.path.isdir(path):\n",
    "    os.makedirs(path)"
   ]
  },
  {
   "cell_type": "code",
   "execution_count": 6,
   "metadata": {
    "collapsed": false
   },
   "outputs": [],
   "source": [
    "def generate_sge(covariates, njobs, store, table_prefix, outdir, out_suffix,\n",
    "                 script_dir='.', threads=16):\n",
    "    print 'Writing scripts and SGE driver to {}'.format(script_dir)\n",
    "    if not os.path.isdir(script_dir):\n",
    "        os.makedirs(script_dir)\n",
    "\n",
    "    sge =  ['#! /bin/csh']\n",
    "    sge += ['#$ -S /bin/csh']\n",
    "    sge += ['#$ -o {}'.format(script_dir)]\n",
    "    sge += ['#$ -e {}'.format(script_dir)]\n",
    "    sge += ['#$ -cwd']\n",
    "    sge += ['#$ -t 1-{}'.format(njobs)]\n",
    "    sge += ['#$ -tc {}'.format(threads)]\n",
    "    \n",
    "    sge += ['hostname']\n",
    "    sge += ['date']\n",
    "    cov = ' '.join(covariates)\n",
    "    sge += [('{}/run_model.py {} {} {}/chunk_$SGE_TASK_ID '  \n",
    "             '{} {}').format(script_dir, store, outdir, \n",
    "                             table_prefix, out_suffix, cov)]\n",
    "    sge += ['date']\n",
    "    \n",
    "    sge = '\\n'.join(sge)\n",
    "    \n",
    "    f = open('{}/sge_{}_{}.sh'.format(script_dir, table_prefix, out_suffix), \n",
    "             'wb')\n",
    "    f.write(sge)\n",
    "    f.close()  "
   ]
  },
  {
   "cell_type": "code",
   "execution_count": 7,
   "metadata": {
    "collapsed": false
   },
   "outputs": [],
   "source": [
    "#generate_sge(['age'], 100, store, table_prefix, outdir, 'hiv_age', threads=100) \n",
    "#generate_sge(['bio_age'], 100, store, table_prefix, outdir, 'hiv_bioage', threads=100) \n",
    "#generate_sge(['age','bio_age'], 100, store, table_prefix, outdir, 'hiv_age_bio_age', \n",
    "#             threads=100) "
   ]
  },
  {
   "cell_type": "code",
   "execution_count": 8,
   "metadata": {
    "collapsed": false
   },
   "outputs": [
    {
     "name": "stdout",
     "output_type": "stream",
     "text": [
      "Writing scripts and SGE driver to .\n"
     ]
    }
   ],
   "source": [
    "generate_sge(['age'], 100, store, \n",
    "             table_prefix, outdir, 'hiv_age', threads=100) \n",
    "#generate_sge(['age', 'CD4T','CD8T','NK','Bcell','Mono'], 100, store, \n",
    "#             table_prefix, outdir, 'hiv_age_cc', threads=100) \n",
    "#generate_sge(['bio_age', 'CD4T','CD8T','NK','Bcell','Mono'], 100, store, \n",
    "#             table_prefix, outdir, 'hiv_bioage_cc', threads=100) \n",
    "#generate_sge(['age','bio_age', 'CD4T','CD8T','NK','Bcell','Mono'], 100, store, \n",
    "#             table_prefix, outdir, 'hiv_age_bio_age_cc', threads=100) "
   ]
  },
  {
   "cell_type": "code",
   "execution_count": 9,
   "metadata": {
    "collapsed": false
   },
   "outputs": [],
   "source": [
    "#generate_sge(['CD4T','CD8T','NK','Bcell','Mono'], 100, store, \n",
    "#             table_prefix, outdir, 'hiv_cc', threads=100) "
   ]
  },
  {
   "cell_type": "markdown",
   "metadata": {},
   "source": [
    "I have a discrepency with SGE and the way I number my tables... this is a patch to just run this table seperately.  I will try and fix the bug ASAP."
   ]
  },
  {
   "cell_type": "code",
   "execution_count": 10,
   "metadata": {
    "collapsed": false
   },
   "outputs": [
    {
     "name": "stdout",
     "output_type": "stream",
     "text": [
      "['./run_model.py', '/cellar/users/agross/Data/tmp/for_parallel.h5', '/cellar/users/agross/Data/tmp', 'hiv_consented/chunk_0', 'hiv_age', 'age']\n",
      "(174, 3)\n"
     ]
    }
   ],
   "source": [
    "covariates = ['age']\n",
    "cov = ' '.join(covariates)\n",
    "!./run_model.py $store $outdir $table_prefix/chunk_0 hiv_age $cov"
   ]
  },
  {
   "cell_type": "code",
   "execution_count": 10,
   "metadata": {
    "collapsed": false,
    "scrolled": true
   },
   "outputs": [
    {
     "name": "stdout",
     "output_type": "stream",
     "text": [
      "['./run_model.py', '/cellar/users/agross/Data/tmp/for_parallel.h5', '/cellar/users/agross/Data/tmp', 'hiv_consented/chunk_0', 'hiv_age_cc', 'age', 'CD4T', 'CD8T', 'NK', 'Bcell', 'Mono']\n",
      "(174, 8)\n"
     ]
    }
   ],
   "source": [
    "covariates = ['age', 'CD4T','CD8T','NK','Bcell','Mono']\n",
    "cov = ' '.join(covariates)\n",
    "!./run_model.py $store $outdir $table_prefix/chunk_0 hiv_age_cc $cov"
   ]
  },
  {
   "cell_type": "code",
   "execution_count": 19,
   "metadata": {
    "collapsed": false
   },
   "outputs": [],
   "source": [
    "res = pd.concat([pd.read_csv(path + '/' + t, header=[0,1], index_col=0) \n",
    "                for t in os.listdir(path) if t.endswith('hiv_age.csv')])"
   ]
  },
  {
   "cell_type": "code",
   "execution_count": 21,
   "metadata": {
    "collapsed": false
   },
   "outputs": [],
   "source": [
    "res.to_csv('/cellar/users/agross/TCGA_Code/Methlation/data/hiv_age_models.csv')"
   ]
  }
 ],
 "metadata": {
  "kernelspec": {
   "display_name": "Python 2",
   "language": "python",
   "name": "python2"
  },
  "language_info": {
   "codemirror_mode": {
    "name": "ipython",
    "version": 2
   },
   "file_extension": ".py",
   "mimetype": "text/x-python",
   "name": "python",
   "nbconvert_exporter": "python",
   "pygments_lexer": "ipython2",
   "version": "2.7.9"
  }
 },
 "nbformat": 4,
 "nbformat_minor": 0
}

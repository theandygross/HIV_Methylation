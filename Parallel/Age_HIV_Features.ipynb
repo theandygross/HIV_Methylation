{
 "cells": [
  {
   "cell_type": "markdown",
   "metadata": {},
   "source": [
    "# Creating Feature Sets for HIV and Age"
   ]
  },
  {
   "cell_type": "code",
   "execution_count": 1,
   "metadata": {
    "collapsed": false
   },
   "outputs": [],
   "source": [
    "import os \n",
    "if os.getcwd().endswith('Parallel'):\n",
    "    os.chdir('..')"
   ]
  },
  {
   "cell_type": "code",
   "execution_count": 2,
   "metadata": {
    "collapsed": false
   },
   "outputs": [
    {
     "data": {
      "text/html": [
       "importing IPython notebook from <a href='./HIV_Age_Advancement.ipynb' target='_blank'>HIV_Age_Advancement</a>"
      ]
     },
     "metadata": {},
     "output_type": "display_data"
    },
    {
     "data": {
      "text/html": [
       "importing IPython notebook from <a href='./Setup/Imports.ipynb' target='_blank'>Setup/Imports</a>"
      ]
     },
     "metadata": {},
     "output_type": "display_data"
    },
    {
     "name": "stdout",
     "output_type": "stream",
     "text": [
      "Populating the interactive namespace from numpy and matplotlib\n"
     ]
    },
    {
     "data": {
      "text/html": [
       "importing IPython notebook from <a href='./Setup/MethylationAgeModels.ipynb' target='_blank'>Setup/MethylationAgeModels</a>"
      ]
     },
     "metadata": {},
     "output_type": "display_data"
    },
    {
     "data": {
      "text/html": [
       "importing IPython notebook from <a href='./Setup/Read_HIV_Data.ipynb' target='_blank'>Setup/Read_HIV_Data</a>"
      ]
     },
     "metadata": {},
     "output_type": "display_data"
    }
   ],
   "source": [
    "import NotebookImport\n",
    "from HIV_Age_Advancement import *"
   ]
  },
  {
   "cell_type": "code",
   "execution_count": 3,
   "metadata": {
    "collapsed": false
   },
   "outputs": [],
   "source": [
    "def size_normalize(vec, order, s=10001):\n",
    "    p = int(np.ceil(s / 2.) - 1)\n",
    "    rank = lambda v: np.mean(v < v[p])\n",
    "    vec = vec.ix[order.order().index].dropna()\n",
    "    rolling_rank = pd.rolling_apply(vec, s, rank, center=True)\n",
    "    return rolling_rank"
   ]
  },
  {
   "cell_type": "markdown",
   "metadata": {},
   "source": [
    "### Read in HIV Case Control Models"
   ]
  },
  {
   "cell_type": "code",
   "execution_count": 4,
   "metadata": {
    "collapsed": false
   },
   "outputs": [],
   "source": [
    "outdir = '/cellar/users/agross/Data/tmp'\n",
    "p = outdir + '/hiv_consented/'\n",
    "def read_models(suffix):\n",
    "    df = pd.concat([pd.read_csv(p + f, index_col=0, header=[0,1]) for \n",
    "                    f in os.listdir(p) if f.endswith('{}.csv'.format(suffix))])\n",
    "    return df"
   ]
  },
  {
   "cell_type": "code",
   "execution_count": 5,
   "metadata": {
    "collapsed": false
   },
   "outputs": [],
   "source": [
    "r4 = read_models('hiv_age_cc')"
   ]
  },
  {
   "cell_type": "code",
   "execution_count": 6,
   "metadata": {
    "collapsed": false
   },
   "outputs": [
    {
     "data": {
      "text/plain": [
       "False    391683\n",
       "True      81361\n",
       "dtype: int64"
      ]
     },
     "execution_count": 6,
     "metadata": {},
     "output_type": "execute_result"
    }
   ],
   "source": [
    "gg = bhCorrection(r4.HIV_LR.p.ix[probe_idx]) < .01\n",
    "gg.value_counts()"
   ]
  },
  {
   "cell_type": "markdown",
   "metadata": {},
   "source": [
    "### Read in Age Models"
   ]
  },
  {
   "cell_type": "markdown",
   "metadata": {},
   "source": [
    "* Here we went and ran [this notebook](../Parallel/UberParallel_age.ipynb) \n",
    "* Now we need to unpack the data and combine it together"
   ]
  },
  {
   "cell_type": "code",
   "execution_count": 7,
   "metadata": {
    "collapsed": false
   },
   "outputs": [
    {
     "data": {
      "text/plain": [
       "473044"
      ]
     },
     "execution_count": 7,
     "metadata": {},
     "output_type": "execute_result"
    }
   ],
   "source": [
    "outdir = '/cellar/users/agross/Data/tmp'\n",
    "tables = ['in_set_s1','in_set_s2','in_set_s3']\n",
    "\n",
    "res = {}\n",
    "for tp in tables:\n",
    "    p = outdir + '/' + tp + '/'\n",
    "    res[tp] = pd.concat([pd.read_csv(p + f, index_col=0, header=[0,1]) for \n",
    "                    f in os.listdir(p) if f.endswith('age_out.csv')])\n",
    "res = pd.concat(res, axis=1)\n",
    "\n",
    "p_vals = res.xs('age_LR', axis=1, level=1).xs('p', axis=1, level=1)\n",
    "p_vals = p_vals.ix[probe_idx].dropna()\n",
    "len(p_vals)"
   ]
  },
  {
   "cell_type": "code",
   "execution_count": 8,
   "metadata": {
    "collapsed": false
   },
   "outputs": [],
   "source": [
    "def disorder_frac(direction, beta, test_set):\n",
    "    ct = pd.crosstab(beta < .5, direction.ix[test_set]>0)\n",
    "    return (1.*ct[1][1] + ct[0][0]) / ct.sum().sum()"
   ]
  },
  {
   "cell_type": "markdown",
   "metadata": {},
   "source": [
    "#### Nested Screen for Age Associated Probes"
   ]
  },
  {
   "cell_type": "markdown",
   "metadata": {},
   "source": [
    "* First pass is Hannum et al. dataset \n",
    "* Next we look in the probes passing stage 1 for probes in the EPIC dataset  \n",
    "* The two tiers is for power, we only need to correct in stage II for the number of probes passing stage I  \n",
    "* I'm using a Benjamini-Hochberg adusted p-value cutoff of 0.01"
   ]
  },
  {
   "cell_type": "code",
   "execution_count": 9,
   "metadata": {
    "collapsed": false
   },
   "outputs": [
    {
     "data": {
      "text/plain": [
       "61592"
      ]
     },
     "execution_count": 9,
     "metadata": {},
     "output_type": "execute_result"
    }
   ],
   "source": [
    "rr = ti(bhCorrection(p_vals.in_set_s1) < .01)\n",
    "len(rr)"
   ]
  },
  {
   "cell_type": "code",
   "execution_count": 10,
   "metadata": {
    "collapsed": false
   },
   "outputs": [
    {
     "data": {
      "text/plain": [
       "26927"
      ]
     },
     "execution_count": 10,
     "metadata": {},
     "output_type": "execute_result"
    }
   ],
   "source": [
    "v = p_vals.in_set_s3.ix[rr]\n",
    "r2 = ti(bhCorrection(v) < .01)\n",
    "len(r2)"
   ]
  },
  {
   "cell_type": "code",
   "execution_count": 11,
   "metadata": {
    "collapsed": false
   },
   "outputs": [
    {
     "data": {
      "text/plain": [
       "0    411452\n",
       "1     34665\n",
       "2     26927\n",
       "dtype: int64"
      ]
     },
     "execution_count": 11,
     "metadata": {},
     "output_type": "execute_result"
    }
   ],
   "source": [
    "rr = bhCorrection(p_vals.in_set_s1) < .01\n",
    "rr = rr + pd.Series(1, index=r2).ix[rr.index].fillna(0)\n",
    "rr.value_counts()"
   ]
  },
  {
   "cell_type": "markdown",
   "metadata": {},
   "source": [
    "### Size Normalize Datasets"
   ]
  },
  {
   "cell_type": "code",
   "execution_count": 12,
   "metadata": {
    "collapsed": false
   },
   "outputs": [],
   "source": [
    "mm = df_hiv.ix[:, ti(hiv == 'HIV-')].mean(1)"
   ]
  },
  {
   "cell_type": "code",
   "execution_count": 13,
   "metadata": {
    "collapsed": false
   },
   "outputs": [],
   "source": [
    "hiv_rolled = size_normalize(r4.HIV_LR.p, mm)\n",
    "age_rolled = size_normalize(p_vals.in_set_s1, mm)"
   ]
  },
  {
   "cell_type": "markdown",
   "metadata": {},
   "source": [
    "### Form Feature Sets"
   ]
  },
  {
   "cell_type": "code",
   "execution_count": 14,
   "metadata": {
    "collapsed": false
   },
   "outputs": [],
   "source": [
    "g_age = bhCorrection(p_vals.in_set_s1.ix[probe_idx]) < .01\n",
    "g_age_2 = pd.Series(True, r2).ix[probe_idx].fillna(False)\n",
    "g_age = g_age_2\n",
    "g_hiv = bhCorrection(r4.HIV_LR.p.ix[probe_idx]) < .01\n",
    "combo = combine(g_age, g_hiv) == 'both'"
   ]
  },
  {
   "cell_type": "code",
   "execution_count": 15,
   "metadata": {
    "collapsed": false
   },
   "outputs": [
    {
     "data": {
      "text/plain": [
       "odds_ratio    1.29e+00\n",
       "p             3.88e-59\n",
       "dtype: float64"
      ]
     },
     "execution_count": 15,
     "metadata": {},
     "output_type": "execute_result"
    }
   ],
   "source": [
    "#Do not import\n",
    "fisher_exact_test(g_age, g_hiv)"
   ]
  },
  {
   "cell_type": "code",
   "execution_count": 16,
   "metadata": {
    "collapsed": false
   },
   "outputs": [
    {
     "data": {
      "text/plain": [
       "False    467413\n",
       "True       5631\n",
       "dtype: int64"
      ]
     },
     "execution_count": 16,
     "metadata": {},
     "output_type": "execute_result"
    }
   ],
   "source": [
    "combo.value_counts()"
   ]
  },
  {
   "cell_type": "markdown",
   "metadata": {},
   "source": [
    "Feature sets from rolling statistics"
   ]
  },
  {
   "cell_type": "code",
   "execution_count": 17,
   "metadata": {
    "collapsed": false
   },
   "outputs": [],
   "source": [
    "g_hiv_r = hiv_rolled.rank(ascending=True).dropna() < g_hiv.sum()\n",
    "g_age_r = age_rolled.rank(ascending=True).dropna() < g_age.sum()"
   ]
  },
  {
   "cell_type": "markdown",
   "metadata": {},
   "source": [
    "Nominal significance thresholds"
   ]
  },
  {
   "cell_type": "code",
   "execution_count": 18,
   "metadata": {
    "collapsed": false
   },
   "outputs": [],
   "source": [
    "g_hiv_nom = r4.HIV_LR.p < .05\n",
    "g_age_nom = p_vals.in_set_s1 < .05"
   ]
  },
  {
   "cell_type": "markdown",
   "metadata": {},
   "source": [
    "Nominal significance thresholds: rolled"
   ]
  },
  {
   "cell_type": "code",
   "execution_count": 19,
   "metadata": {
    "collapsed": false
   },
   "outputs": [],
   "source": [
    "hiv_nom_r = hiv_rolled.rank(ascending=True).dropna() < g_hiv_nom.sum()\n",
    "age_nom_r = age_rolled.rank(ascending=True).dropna() < g_age_nom.sum()"
   ]
  },
  {
   "cell_type": "markdown",
   "metadata": {},
   "source": [
    "Bonferroni adjusted thresholds"
   ]
  },
  {
   "cell_type": "code",
   "execution_count": 20,
   "metadata": {
    "collapsed": false
   },
   "outputs": [],
   "source": [
    "g_hiv_b = (r4.HIV_LR.ix[probe_idx].p * len(r4)) < .01\n",
    "g_age_b = (p_vals.in_set_s1.ix[probe_idx] * len(p_vals)) < .01"
   ]
  },
  {
   "cell_type": "markdown",
   "metadata": {},
   "source": [
    "Combinations"
   ]
  },
  {
   "cell_type": "code",
   "execution_count": 21,
   "metadata": {
    "collapsed": false
   },
   "outputs": [],
   "source": [
    "combo = combine(g_age, g_hiv) == 'both'\n",
    "combo_b = combine(g_hiv_b, g_age_b) == 'both'\n",
    "combo_r = combine(g_age_r, g_hiv_r) == 'both'"
   ]
  },
  {
   "cell_type": "code",
   "execution_count": 22,
   "metadata": {
    "collapsed": false
   },
   "outputs": [],
   "source": [
    "features = {'HIV (BH)': g_hiv & (g_age_nom == False), \n",
    "            'HIV (adj)': g_hiv_r & (age_nom_r == False), \n",
    "            'HIV (Bonf)': g_hiv_b & (g_age_nom == False), \n",
    "            'Age (BH)': g_age_2 & (g_hiv_nom == False), \n",
    "            'Age (adj)': g_age_r & (hiv_nom_r == False),\n",
    "            'Age (Bonf)': g_age_b & (g_hiv_nom == False),\n",
    "            'HIV + Age (BH)': combo, \n",
    "            'HIV + Age (adj)': combo_r,\n",
    "            'HIV + Age (Bonf)': combo_b}"
   ]
  },
  {
   "cell_type": "code",
   "execution_count": 23,
   "metadata": {
    "collapsed": false
   },
   "outputs": [
    {
     "data": {
      "text/html": [
       "<div>\n",
       "<table border=\"1\" class=\"dataframe\">\n",
       "  <thead>\n",
       "    <tr style=\"text-align: right;\">\n",
       "      <th></th>\n",
       "      <th>False</th>\n",
       "      <th>True</th>\n",
       "    </tr>\n",
       "  </thead>\n",
       "  <tbody>\n",
       "    <tr>\n",
       "      <th>Age (BH)</th>\n",
       "      <td>457710</td>\n",
       "      <td>15334</td>\n",
       "    </tr>\n",
       "    <tr>\n",
       "      <th>Age (Bonf)</th>\n",
       "      <td>467844</td>\n",
       "      <td>5200</td>\n",
       "    </tr>\n",
       "    <tr>\n",
       "      <th>Age (adj)</th>\n",
       "      <td>446957</td>\n",
       "      <td>16087</td>\n",
       "    </tr>\n",
       "    <tr>\n",
       "      <th>HIV (BH)</th>\n",
       "      <td>421899</td>\n",
       "      <td>51145</td>\n",
       "    </tr>\n",
       "    <tr>\n",
       "      <th>HIV (Bonf)</th>\n",
       "      <td>462149</td>\n",
       "      <td>10895</td>\n",
       "    </tr>\n",
       "    <tr>\n",
       "      <th>HIV (adj)</th>\n",
       "      <td>423348</td>\n",
       "      <td>52164</td>\n",
       "    </tr>\n",
       "    <tr>\n",
       "      <th>HIV + Age (BH)</th>\n",
       "      <td>467413</td>\n",
       "      <td>5631</td>\n",
       "    </tr>\n",
       "    <tr>\n",
       "      <th>HIV + Age (Bonf)</th>\n",
       "      <td>472713</td>\n",
       "      <td>331</td>\n",
       "    </tr>\n",
       "    <tr>\n",
       "      <th>HIV + Age (adj)</th>\n",
       "      <td>458003</td>\n",
       "      <td>5041</td>\n",
       "    </tr>\n",
       "  </tbody>\n",
       "</table>\n",
       "</div>"
      ],
      "text/plain": [
       "                   False  True \n",
       "Age (BH)          457710  15334\n",
       "Age (Bonf)        467844   5200\n",
       "Age (adj)         446957  16087\n",
       "HIV (BH)          421899  51145\n",
       "HIV (Bonf)        462149  10895\n",
       "HIV (adj)         423348  52164\n",
       "HIV + Age (BH)    467413   5631\n",
       "HIV + Age (Bonf)  472713    331\n",
       "HIV + Age (adj)   458003   5041"
      ]
     },
     "execution_count": 23,
     "metadata": {},
     "output_type": "execute_result"
    }
   ],
   "source": [
    "c1 = pd.DataFrame({i:v.value_counts() for i,v in features.iteritems()}).T\n",
    "c1"
   ]
  },
  {
   "cell_type": "markdown",
   "metadata": {},
   "source": [
    "Second pass to simplify things..."
   ]
  },
  {
   "cell_type": "code",
   "execution_count": 24,
   "metadata": {
    "collapsed": false
   },
   "outputs": [],
   "source": [
    "features = {'HIV (BH)': g_hiv & (g_age_2 == False), \n",
    "            'HIV (adj)': g_hiv_r & (age_nom_r == False), \n",
    "            'HIV (Bonf)': g_hiv_b & (g_age_b == False), \n",
    "            'Age (BH)': g_age_2 & (g_hiv == False), \n",
    "            'Age (adj)': g_age_r & (g_hiv == False),\n",
    "            'Age (Bonf)': g_age_b & (g_hiv_b == False),\n",
    "            'HIV + Age (BH)': combo, \n",
    "            'HIV + Age (adj)': combo_r,\n",
    "            'HIV + Age (Bonf)': combo_b}"
   ]
  },
  {
   "cell_type": "code",
   "execution_count": 25,
   "metadata": {
    "collapsed": false
   },
   "outputs": [
    {
     "data": {
      "text/html": [
       "<div>\n",
       "<table border=\"1\" class=\"dataframe\">\n",
       "  <thead>\n",
       "    <tr style=\"text-align: right;\">\n",
       "      <th></th>\n",
       "      <th>False</th>\n",
       "      <th>True</th>\n",
       "    </tr>\n",
       "  </thead>\n",
       "  <tbody>\n",
       "    <tr>\n",
       "      <th>Age (BH)</th>\n",
       "      <td>451748</td>\n",
       "      <td>21296</td>\n",
       "    </tr>\n",
       "    <tr>\n",
       "      <th>Age (Bonf)</th>\n",
       "      <td>463978</td>\n",
       "      <td>9066</td>\n",
       "    </tr>\n",
       "    <tr>\n",
       "      <th>Age (adj)</th>\n",
       "      <td>441226</td>\n",
       "      <td>21818</td>\n",
       "    </tr>\n",
       "    <tr>\n",
       "      <th>HIV (BH)</th>\n",
       "      <td>397314</td>\n",
       "      <td>75730</td>\n",
       "    </tr>\n",
       "    <tr>\n",
       "      <th>HIV (Bonf)</th>\n",
       "      <td>455339</td>\n",
       "      <td>17705</td>\n",
       "    </tr>\n",
       "    <tr>\n",
       "      <th>HIV (adj)</th>\n",
       "      <td>423348</td>\n",
       "      <td>52164</td>\n",
       "    </tr>\n",
       "    <tr>\n",
       "      <th>HIV + Age (BH)</th>\n",
       "      <td>467413</td>\n",
       "      <td>5631</td>\n",
       "    </tr>\n",
       "    <tr>\n",
       "      <th>HIV + Age (Bonf)</th>\n",
       "      <td>472713</td>\n",
       "      <td>331</td>\n",
       "    </tr>\n",
       "    <tr>\n",
       "      <th>HIV + Age (adj)</th>\n",
       "      <td>458003</td>\n",
       "      <td>5041</td>\n",
       "    </tr>\n",
       "  </tbody>\n",
       "</table>\n",
       "</div>"
      ],
      "text/plain": [
       "                   False  True \n",
       "Age (BH)          451748  21296\n",
       "Age (Bonf)        463978   9066\n",
       "Age (adj)         441226  21818\n",
       "HIV (BH)          397314  75730\n",
       "HIV (Bonf)        455339  17705\n",
       "HIV (adj)         423348  52164\n",
       "HIV + Age (BH)    467413   5631\n",
       "HIV + Age (Bonf)  472713    331\n",
       "HIV + Age (adj)   458003   5041"
      ]
     },
     "execution_count": 25,
     "metadata": {},
     "output_type": "execute_result"
    }
   ],
   "source": [
    "c1 = pd.DataFrame({i:v.value_counts() for i,v in features.iteritems()}).T\n",
    "c1"
   ]
  }
 ],
 "metadata": {
  "kernelspec": {
   "display_name": "Python 2",
   "language": "python",
   "name": "python2"
  },
  "language_info": {
   "codemirror_mode": {
    "name": "ipython",
    "version": 2
   },
   "file_extension": ".py",
   "mimetype": "text/x-python",
   "name": "python",
   "nbconvert_exporter": "python",
   "pygments_lexer": "ipython2",
   "version": "2.7.9"
  }
 },
 "nbformat": 4,
 "nbformat_minor": 0
}

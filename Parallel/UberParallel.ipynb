{
 "metadata": {
  "kernelspec": {
   "codemirror_mode": {
    "name": "ipython",
    "version": 2
   },
   "display_name": "IPython (Python 2)",
   "language": "python",
   "name": "python2"
  },
  "name": "",
  "signature": "sha256:50bcea714e12e682ae0e6dee3ab95e2eed5f6b0151b7723e7b8ed685aebb5dc1"
 },
 "nbformat": 3,
 "nbformat_minor": 0,
 "worksheets": [
  {
   "cells": [
    {
     "cell_type": "code",
     "collapsed": false,
     "input": [
      "%%file run_model.py\n",
      "#!/cellar/users/agross/anaconda2/bin/python\n",
      "\n",
      "import sys\n",
      "import pandas as pd\n",
      "import statsmodels.api as sm\n",
      "\n",
      "store = sys.argv[1]\n",
      "outdir = sys.argv[2]\n",
      "table_name = sys.argv[3]\n",
      "\n",
      "fmla = 'marker ~ age + HIV'\n",
      "\n",
      "age = pd.read_hdf(store, 'age')\n",
      "hiv = pd.read_hdf(store, 'HIV')\n",
      "cell_counts = pd.read_hdf(store, 'cell_counts')\n",
      "duration_t = pd.read_hdf(store, 'duration')\n",
      "df = pd.read_hdf(store, table_name)\n",
      "\n",
      "intercept = pd.Series(1, index=hiv.index)\n",
      "X = pd.concat([intercept, age, hiv, cell_counts.CD4T, cell_counts.CD8T,\n",
      "               cell_counts.NK, cell_counts.Bcell, cell_counts.Mono], axis=1, \n",
      "              keys=['Intercept', 'age', 'HIV', 'CD4T',\n",
      "                    'CD8T','NK','Bcell','Mono'])\n",
      "X = X.ix[df.columns]\n",
      "X = X.dropna()\n",
      "\n",
      "X_age = X[['Intercept','age', 'CD4T', 'CD8T','NK','Bcell','Mono']]\n",
      "X_HIV = X[['Intercept','HIV', 'CD4T', 'CD8T','NK','Bcell','Mono']]\n",
      "\n",
      "p = {}\n",
      "d_age = {}\n",
      "d_hiv = {}\n",
      "w = (len(hiv) - hiv.map(hiv.value_counts())).astype(float) / len(hiv)\n",
      "w = w.ix[X.index]\n",
      "\n",
      "for i,y in df.iterrows():\n",
      "    y = y.ix[X.index]\n",
      "    y.name = 'marker'\n",
      "    mod_all = sm.WLS(y, X, weights=w)\n",
      "    res_ref = mod_all.fit()\n",
      "    p[i] = res_ref.params\n",
      "    \n",
      "    mod_age = sm.WLS(y, X_age, weights=w)\n",
      "    m1 = mod_age.fit()\n",
      "    d_hiv[i] = res_ref.compare_lr_test(m1)\n",
      "    \n",
      "    mod_hiv = sm.WLS(y, X_HIV, weights=w)\n",
      "    m2 = mod_hiv.fit()\n",
      "    d_age[i] = res_ref.compare_lr_test(m2)\n",
      "p = pd.DataFrame(p).T\n",
      "d_age = pd.DataFrame(d_age, index=['LR','p','df']).T\n",
      "d_hiv = pd.DataFrame(d_hiv, index=['LR','p','df']).T\n",
      "\n",
      "out = pd.concat([p, d_age, d_hiv], \n",
      "                keys=['multi_variate','age_LR','HIV_LR'],\n",
      "                axis=1)\n",
      "out.to_csv('{}/{}_out.csv'.format(outdir, table_name))"
     ],
     "language": "python",
     "metadata": {},
     "outputs": [
      {
       "output_type": "stream",
       "stream": "stdout",
       "text": [
        "Overwriting run_model.py\n"
       ]
      }
     ],
     "prompt_number": 62
    },
    {
     "cell_type": "code",
     "collapsed": false,
     "input": [
      "!chmod 755 run_model.py"
     ],
     "language": "python",
     "metadata": {},
     "outputs": [],
     "prompt_number": 54
    },
    {
     "cell_type": "code",
     "collapsed": false,
     "input": [
      "pwd = !pwd\n",
      "pwd = pwd[0]"
     ],
     "language": "python",
     "metadata": {},
     "outputs": [],
     "prompt_number": 55
    },
    {
     "cell_type": "code",
     "collapsed": false,
     "input": [
      "outdir = '/cellar/users/agross/Data/tmp'\n",
      "table_prefix = 'df_norm'"
     ],
     "language": "python",
     "metadata": {},
     "outputs": [],
     "prompt_number": 56
    },
    {
     "cell_type": "code",
     "collapsed": false,
     "input": [
      "import os as os"
     ],
     "language": "python",
     "metadata": {},
     "outputs": [],
     "prompt_number": 57
    },
    {
     "cell_type": "code",
     "collapsed": false,
     "input": [
      "store = '/cellar/users/agross/Data/tmp/for_parallel.h5'\n",
      "\n",
      "def generate_sge(jobs, script_dir='./', threads=16):\n",
      "    print 'Writing scripts and SGE driver to {}'.format(script_dir)\n",
      "    if not os.path.isdir(script_dir):\n",
      "        os.makedirs(script_dir)\n",
      "\n",
      "    sge =  ['#! /bin/csh']\n",
      "    sge += ['#$ -S /bin/csh']\n",
      "    sge += ['#$ -o {}'.format(script_dir)]\n",
      "    sge += ['#$ -e {}'.format(script_dir)]\n",
      "    sge += ['#$ -cwd']\n",
      "    sge += ['#$ -t 1-{}'.format(len(jobs) + 1)]\n",
      "    sge += ['#$ -tc {}'.format(threads)]\n",
      "    \n",
      "    sge += ['hostname']\n",
      "    sge += ['date']\n",
      "    sge += ['{}/run_model.py {} {} {}/chunk_$SGE_TASK_ID'.format(pwd, store, outdir,\n",
      "                                                                 table_prefix)]\n",
      "    sge += ['date']\n",
      "    \n",
      "    sge = '\\n'.join(sge)\n",
      "    \n",
      "    f = open('{}/sge.sh'.format(script_dir), 'wb')\n",
      "    f.write(sge)\n",
      "    f.close()  "
     ],
     "language": "python",
     "metadata": {},
     "outputs": [],
     "prompt_number": 58
    },
    {
     "cell_type": "code",
     "collapsed": false,
     "input": [
      "!rm -f /cellar/users/agross/Data/tmp/df_norm/*"
     ],
     "language": "python",
     "metadata": {},
     "outputs": [],
     "prompt_number": 59
    },
    {
     "cell_type": "code",
     "collapsed": false,
     "input": [
      "generate_sge(range(99), pwd, threads=100)"
     ],
     "language": "python",
     "metadata": {},
     "outputs": [
      {
       "output_type": "stream",
       "stream": "stdout",
       "text": [
        "Writing scripts and SGE driver to /cellar/users/agross/TCGA_Code/Methlation\n"
       ]
      }
     ],
     "prompt_number": 60
    },
    {
     "cell_type": "code",
     "collapsed": false,
     "input": [
      "!run_model.py $store $outdir df_norm/chunk_1"
     ],
     "language": "python",
     "metadata": {},
     "outputs": [],
     "prompt_number": 61
    }
   ],
   "metadata": {}
  }
 ]
}
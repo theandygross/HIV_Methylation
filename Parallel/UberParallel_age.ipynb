{
 "metadata": {
  "kernelspec": {
   "codemirror_mode": {
    "name": "ipython",
    "version": 2
   },
   "display_name": "IPython (Python 2)",
   "language": "python",
   "name": "python2"
  },
  "name": "",
  "signature": "sha256:7984fd30654ba7087678220ec55012698b752161cb329c7b2e0cfde26774223e"
 },
 "nbformat": 3,
 "nbformat_minor": 0,
 "worksheets": [
  {
   "cells": [
    {
     "cell_type": "code",
     "collapsed": false,
     "input": [
      "%%file run_model.py\n",
      "#!/cellar/users/agross/anaconda2/bin/python\n",
      "\n",
      "import sys\n",
      "\n",
      "import pandas as pd\n",
      "import statsmodels.api as sm\n",
      "\n",
      "store = sys.argv[1]\n",
      "outdir = sys.argv[2]\n",
      "table_name = sys.argv[3]\n",
      "\n",
      "fmla = 'marker ~ age + CD4T + CD8T + NK + Bcell + Mono + study'\n",
      "\n",
      "c_age = pd.read_hdf(store, 'age')\n",
      "b_age = pd.read_hdf(store, 'bio_age')\n",
      "gender = pd.read_hdf(store, 'gender')\n",
      "age = c_age\n",
      "\n",
      "cell_counts = pd.read_hdf(store, 'cell_counts')\n",
      "df = pd.read_hdf(store, table_name)\n",
      "df = df.dropna(1)\n",
      "\n",
      "intercept = pd.Series(1, index=df.columns)\n",
      "X = pd.concat([intercept, age, cell_counts.CD4T, cell_counts.CD8T,\n",
      "               cell_counts.NK, cell_counts.Bcell, cell_counts.Mono,\n",
      "               gender], axis=1, \n",
      "              keys=['Intercept','age', 'CD4T','CD8T','NK','Bcell','Mono',\n",
      "                    'gender'])\n",
      "X = X.dropna()\n",
      "idx = X.index.intersection(df.columns)\n",
      "X = X.ix[idx]\n",
      "df = df.ix[:, idx]\n",
      "\n",
      "X_HIV = X[['Intercept','CD4T','CD8T','NK','Bcell','Mono','gender']]\n",
      "\n",
      "p = {}\n",
      "d_hiv = {}\n",
      "\n",
      "for i,y in df.iterrows():\n",
      "    y.name = 'marker'\n",
      "    mod_all = sm.OLS(y, X)\n",
      "    res_ref = mod_all.fit()\n",
      "    p[i] = res_ref.params\n",
      "    \n",
      "    mod_hiv = sm.OLS(y, X_HIV)\n",
      "    m1 = mod_hiv.fit()\n",
      "    d_hiv[i] = res_ref.compare_lr_test(m1)\n",
      "\n",
      "p = pd.DataFrame(p).T\n",
      "d_hiv = pd.DataFrame(d_hiv, index=['LR','p','df']).T\n",
      "\n",
      "out = pd.concat([p, d_hiv], \n",
      "                keys=['multi_variate','age_LR'],\n",
      "                axis=1)\n",
      "out.to_csv('{}/{}_age_out.csv'.format(outdir, table_name))"
     ],
     "language": "python",
     "metadata": {},
     "outputs": [
      {
       "output_type": "stream",
       "stream": "stdout",
       "text": [
        "Overwriting run_model.py\n"
       ]
      }
     ],
     "prompt_number": 6
    },
    {
     "cell_type": "code",
     "collapsed": false,
     "input": [
      "!chmod 755 run_model.py"
     ],
     "language": "python",
     "metadata": {},
     "outputs": [],
     "prompt_number": 7
    },
    {
     "cell_type": "code",
     "collapsed": false,
     "input": [
      "import os as os"
     ],
     "language": "python",
     "metadata": {},
     "outputs": [],
     "prompt_number": 8
    },
    {
     "cell_type": "code",
     "collapsed": false,
     "input": [],
     "language": "python",
     "metadata": {},
     "outputs": [],
     "prompt_number": 8
    },
    {
     "cell_type": "code",
     "collapsed": false,
     "input": [
      "def generate_sge(jobs, store, table_prefix, outdir, script_dir='./', threads=16):\n",
      "    print 'Writing scripts and SGE driver to {}'.format(script_dir)\n",
      "    if not os.path.isdir(script_dir):\n",
      "        os.makedirs(script_dir)\n",
      "\n",
      "    sge =  ['#! /bin/csh']\n",
      "    sge += ['#$ -S /bin/csh']\n",
      "    sge += ['#$ -o {}'.format(script_dir)]\n",
      "    sge += ['#$ -e {}'.format(script_dir)]\n",
      "    sge += ['#$ -cwd']\n",
      "    sge += ['#$ -t 1-{}'.format(len(jobs) + 1)]\n",
      "    sge += ['#$ -tc {}'.format(threads)]\n",
      "    \n",
      "    sge += ['hostname']\n",
      "    sge += ['date']\n",
      "    sge += ['{}/run_model.py {} {} {}/chunk_$SGE_TASK_ID'.format(script_dir, store, outdir,\n",
      "                                                                 table_prefix)]\n",
      "    sge += ['date']\n",
      "    \n",
      "    sge = '\\n'.join(sge)\n",
      "    \n",
      "    f = open('{}/sge_{}.sh'.format(script_dir, table_prefix), 'wb')\n",
      "    f.write(sge)\n",
      "    f.close()  "
     ],
     "language": "python",
     "metadata": {},
     "outputs": [],
     "prompt_number": 9
    },
    {
     "cell_type": "code",
     "collapsed": false,
     "input": [
      "store = '/cellar/users/agross/Data/tmp/for_parallel.h5'\n",
      "outdir = '/cellar/users/agross/Data/tmp'\n",
      "#px = ['in_set_s1','in_set_s2','in_set_s3', 'out_set_s1','out_set_s3']\n",
      "px = ['in_set_s1','in_set_s2','in_set_s3']\n",
      "\n",
      "for table_prefix in px:\n",
      "    path = outdir + '/' + table_prefix\n",
      "    if not os.path.isdir(path):\n",
      "        os.makedirs(path)\n",
      "    generate_sge(range(99), store, table_prefix, outdir, threads=100) "
     ],
     "language": "python",
     "metadata": {},
     "outputs": [
      {
       "output_type": "stream",
       "stream": "stdout",
       "text": [
        "Writing scripts and SGE driver to ./\n",
        "Writing scripts and SGE driver to ./\n",
        "Writing scripts and SGE driver to ./\n"
       ]
      }
     ],
     "prompt_number": 5
    },
    {
     "cell_type": "markdown",
     "metadata": {},
     "source": [
      "I have a discrepency with SGE and the way I number my tables... this is a patch to just run this table seperately.  I will try and fix the bug ASAP."
     ]
    },
    {
     "cell_type": "code",
     "collapsed": false,
     "input": [
      "covariates = ['age', 'CD4T','CD8T','NK','Bcell','Mono']\n",
      "cov = ' '.join(covariates)\n",
      "!./run_model.py $store $outdir in_set_s1/chunk_0 "
     ],
     "language": "python",
     "metadata": {},
     "outputs": [],
     "prompt_number": 10
    },
    {
     "cell_type": "code",
     "collapsed": false,
     "input": [
      "covariates = ['age', 'CD4T','CD8T','NK','Bcell','Mono']\n",
      "cov = ' '.join(covariates)\n",
      "!./run_model.py $store $outdir in_set_s2/chunk_0 "
     ],
     "language": "python",
     "metadata": {},
     "outputs": [],
     "prompt_number": 12
    },
    {
     "cell_type": "code",
     "collapsed": false,
     "input": [
      "covariates = ['age', 'CD4T','CD8T','NK','Bcell','Mono']\n",
      "cov = ' '.join(covariates)\n",
      "!./run_model.py $store $outdir in_set_s3/chunk_0 "
     ],
     "language": "python",
     "metadata": {},
     "outputs": [],
     "prompt_number": 11
    }
   ],
   "metadata": {}
  }
 ]
}
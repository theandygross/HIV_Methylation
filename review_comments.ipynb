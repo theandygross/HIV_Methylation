{
 "cells": [
  {
   "cell_type": "markdown",
   "metadata": {},
   "source": [
    "# Molecular Cell Reviews"
   ]
  },
  {
   "cell_type": "markdown",
   "metadata": {},
   "source": [
    "Dear Trey,\n",
    "\n",
    "I apologize for the delay and I am enclosing the comments that the reviewers made on your paper. The view is that the results are potentially interesting, but that it would be premature to consider the paper further for Molecular Cell without the inclusion of significant further data. __Both reviewers have concerns about the analysis from the mix cell population and suggest that age and HIV signatures should be reproduced in flow-sorted cell population.__ It is difficult to say whether it would be appropriate to consider a revised paper without knowing the results of the further experiments that the reviewers require. In principle, we consider resubmissions to satisfy reviewers' concerns only within a two month period after the original decision. I hope the detailed comments will be helpful. I should also mention that you will not be able to submit a revised manuscript in EM without contacting me first to request reactivation of the file. If you do decide to submit a revised manuscript, please send me a detailed description of the new data and a response to the reviewers' criticisms when you are ready to do so and I will be happy to discuss with you whether I think it will be productive to continue consideration of the paper. \n",
    "\n",
    "\n",
    "Best wishes,\n",
    "\n",
    "Miao"
   ]
  },
  {
   "cell_type": "markdown",
   "metadata": {},
   "source": [
    "##Reviewer #3\n",
    "\n",
    "    This is an interesting approach to computationally model what the effects of HIV are on the age of individuals.\n",
    "\n",
    "We thank the reviewer for their favorable view of our work."
   ]
  },
  {
   "cell_type": "markdown",
   "metadata": {},
   "source": [
    "    I am not 100% convinced by the idea that these authors and others have advanced that looking at the 5mC levels can be used to assess biological age.\n",
    "\n",
    "We feel that the literature strongly supports the use of methylation signatures for assessment of biological aging. This has been utilized not only by our group but many external groups as well resulting in the following publications: \n",
    "* List\n",
    "* of publications\n",
    "* that use\n",
    "* the models\n",
    "\n",
    "We would also like to highlight the recent use of these models in a cohort of over 2000 patients in Marioni et al. Here the authors show a clear correlation between age and biological age in multiple longituninal patient cohorts and further show that biological age advancement is associated with increased risk of all-cause mortality, even within the context of many confounding variables. "
   ]
  },
  {
   "cell_type": "markdown",
   "metadata": {},
   "source": [
    "    I think that the authors would strengthen their argument by analyzing in more detail that with age and disease blood cell types will change. Rather than testing through computational modeling that these changes will probably not affect their models it would be better to test this experimentally by FACS sorting populations and repeating some of the analysis.\n",
    "    \n",
    "    I think that the caveat discussed in Figure S2 is quite important. Both age and HIV infection will change cell type composition and therefore the methylation patterns of a whole blood population. Can the authors repeat a portion of the analysis on some FACS sorted populations to test how much of the observed change is due to cellular type changes?\n",
    "    While the correlations are high in Figure S2 that degree of difference could be sufficient to skew the whole blood analysis.\n",
    "We feel that the reviewer does not take issue with the methods used to adjust the confounding effects of cellular composition, but rather would like to see experimental validation for such a procedure as well. While they post-date the time of this study's initiation, the effects of cellular composition and aging is highlighted by a number of influential papers which we have taken very seriously throughout this study. \n",
    "\n",
    "In preliminary analysis we were very concerned with the confounding effects of age, cellular composition and HIV in this analysis. We have conducted extensive simulations to determine whether the effect we were seeing could be explained away by this confounding factor. In the end we determined that the variability seen in the probes used in the aging models due to cellular composition was too small to explain the effect seen in our cohort, but indeed we did find that adjusting out the effect as described in our method did improve model preformance assessed in our control datasets as well as our primary HIV+ cohort. We have reproduced some of this analysis below: "
   ]
  },
  {
   "cell_type": "markdown",
   "metadata": {},
   "source": [
    "     Additionally since HIV statistics are available the conclusions that the authors draw should be compared to what is known about HIV. \n",
    "     \n",
    "We thank the reviewer for the comment and have reflected this in a revised discussion. "
   ]
  },
  {
   "cell_type": "markdown",
   "metadata": {},
   "source": [
    "    Either way it is an interesting result but the authors need to be clear about what it is that they have shown.\n",
    "We agree that conveying the specificity of the result being shown is very important and have added additional discussion to address this. "
   ]
  },
  {
   "cell_type": "markdown",
   "metadata": {
    "collapsed": true
   },
   "source": [
    "    The above validation is extremely important both for the general analysis as well as the subsequent example with HLA which could be explained by changes in cell types being analyzed as Figure 4E seems to suggest. \n",
    "We applogizie for the potential ambiguity of this figure. The HLA association is found in a manner that is independent with cellular composition. The associations fed into this analysis were modeled in a multi-variate context with celular composition variables as covariates. In hindsight we agree that the inclusion of Figure 4E does serve to confuse the reader as it seems to suggest that these changes could be due __exclusively__ to cellular composition as opposed to HIV infection. The point being made here was that there seems to be an effect of both HIV infection AND cellular composition among these probes. We have attempted to clarify this in the text and have included multivariate models for the reviewers inspection."
   ]
  },
  {
   "cell_type": "markdown",
   "metadata": {},
   "source": [
    "    In the intro the authors state that biological age has been correlated with cancer but the paper drawing this correlation has since issued an erratum stating that cancer is not associated with increased DNA methylation age (Horvath S Genome Biol 2013 and erratum 2015). \n",
    "We did not cite Horvath in this sentence but rather our own prior work (Hannum et al 2012, Figure 4). The Horvath model was a bit ambitious in trying to create a general model without the use of internal normalization (as we did with our HIV- controls in this study), for that reason his application of the model to diseased tissue without calibrating to healthy samples is slightly misguided and subject to various confounding factors and batch effects. We are very confident in the results presented in Hannum et. al."
   ]
  },
  {
   "cell_type": "markdown",
   "metadata": {},
   "source": [
    "    In Figure 1A how many sites identified from EPIC as age associated were not identified in Hannum et al? This data would be more informative if represented as a Venn diagram to show the overlapping 26,927 sites between the two analyses. It would be useful to also include the codes used for the analyses throughout the paper as a supplemental link. \n",
    "\n",
    "We are happy to provide all code, made available at __THIS SITE__. We apploigize for the delay, but documenting such lengthy analysis takes considerable time. \n",
    "\n",
    "We did not show the overlap as the study design was in the form of a two tiered screen to increase statistical power. In the second tier we only tested (and thus corrected for) the probes that passed the first stage of the test. \n",
    "\n",
    "We would be happy to report the overlap of the two screens in a supplemental figure, but note that doing as the reviewer suggests would alter the study design. Preforming a screen for age associated probes on the whole probe array yeilds 30820 age-associated probes at a 1% FDR. Of these 20322 probes are significant in both sets with an odd-ratio of the overlap being about 19. "
   ]
  },
  {
   "cell_type": "markdown",
   "metadata": {},
   "source": [
    "    Figure 1B and 1C do not have any numerical values on the y-axis. 1C also does not have the associated R2 value so we do not know what the extent of the correlation is. \n",
    "    \n",
    "__Should I just add them?__\n",
    "\n",
    "A correlation value for Figure 1C is not really appropriate as we are showing a multivariate model. We are happy to include the multivariate model as a supplemental table. "
   ]
  },
  {
   "cell_type": "markdown",
   "metadata": {},
   "source": [
    "    Is there a reason why r is used instead of the typical r2 in Figures 2 and S2?  \n",
    "This was just a convention that was used to remain consistant with prior work in biological aging. (Hannum, Horvath, Marioni)."
   ]
  },
  {
   "cell_type": "markdown",
   "metadata": {},
   "source": [
    "\tI am unclear as to what the authors mean by advanced as opposed to accelerated aging? How can you distinguish between the two?  \n",
    "There is some debate in the field as to whether age phenotypes are due to accute stress early in infection, or chronic stress due to prolonged exposure to the disease and subsequent antiretroviral drugs, or both. We expect that in the former situation one would see an advancment in aging that is constant and consistant despite the duration of infection, whereas in the later one would see an increase in the age effect as duration of infection increases. We observed an age advancement. \n",
    "\n",
    "We tested for advanment by comparing the offset term in a linear regression model to the null model that the offset is equal to 0. This was rejected.  \n",
    "\n",
    "We tested for acceleration by comparing the slope term in a linear regression model to the null model that the slope is equal to 1. We failed to reject this hypothesis. "
   ]
  },
  {
   "cell_type": "markdown",
   "metadata": {},
   "source": [
    "    While the authors report an expected total mortality risk (+19%) this presumably can now be compared to the actual mortality risk increase. Is there not sufficient data to conclude what the effect of HIV infection is on mortality rate?  \n",
    "This figure was extrapolated from the recent Marioni et al study. While estimates for the effect of HIV on mortaility are widespread, it is difficult to decouple co-morbidities from the effects of HIV-mediated aging as they are so entwined. This was an attempt to reconsile this. We understand the reveiewers confusion and have attempted to clarify this in the text. "
   ]
  },
  {
   "cell_type": "markdown",
   "metadata": {},
   "source": [
    "    It seems as though the odds ratios for HIV and age are mostly opposite except in CpG islands and gene bodies. Wouldn't this argue for the effects of HIV and aging being separate except for at these two locations? \n",
    "    \n",
    "Bellow we look within each annoted site and found that there was a significant overlap within all genomic contexts. This is potentially confusing because of the context of these tests. In Figure 3 we look at a different metric though namely the association of probes annotated to age, hiv, or both with the functional annotation. This test is close to independent of the overlap between age and hiv as the number of probes associated with both is small compared to the marginals. "
   ]
  },
  {
   "cell_type": "markdown",
   "metadata": {},
   "source": [
    "     I am unclear as to what the authors mean by disorder for age-associated methylation state. In any particular cell a site is either methylated or unmethylated. If a population has a 5mC level of 50% at a particular site this suggests that half of the cells are methylated at that site and the other half are not methylated. I do not understand how this implies disorder. Could the authors explain this in more detail? \n",
    "     \n",
    "This is correct. The hypothesis is that when a site is under active regulation, most cells will have a consistant methylation status, thus the pooled population state will approach a 0% or 100% methylation state. When half of the cells have methylation at a site we expect more of a random effect of methylation as regulation would skew the average away from this value. "
   ]
  },
  {
   "cell_type": "markdown",
   "metadata": {},
   "source": [
    "## Reviewer 4"
   ]
  },
  {
   "cell_type": "markdown",
   "metadata": {},
   "source": [
    "    These findings are certainly very interesting.\n",
    "    \n",
    "We thank the reviewer for their generally favorable review of our work and hope to address all concerns expressed herein. "
   ]
  },
  {
   "cell_type": "markdown",
   "metadata": {},
   "source": [
    "    I have concerns that they may be explained by residual cell type confounding that is not removed by the statistical approach used. The paper would be greatly strengthened by providing further evidence that the effects are not simply a readout of cell type composition changes induced by aging and HIV. These effects are strong and I am not convinced that they are fully corrected for in this analysis. \n",
    "\n",
    "We agree that this is a major issue in nearly all studies of methylation in non-pure cellular populations. We have gone to great lengths to show that the aging effects are non due to trivial changes in blood composition and __will now go into gory detail of everything that we did__."
   ]
  },
  {
   "cell_type": "markdown",
   "metadata": {},
   "source": [
    "    The only way to be certain would be to repeat analysis on a subset of \n",
    "    purified cell populations from these bulk samples. Barring this there should, in my opinion, be greater emphasis placed on the fact that the statistical adjustments performed are not guaranteed to completely remove confounding. \n",
    "    \n",
    "\n",
    "We agree with the reviewer that this would be the optimal mode of action. Unfortunately the use of genome-wide methylation data for such analyses is relatively new and the importance of accounting for cellular heterogenety was not as well documented at the time of study design as it is currently. Despite this we feel that in our given experiment, the effect size of the age advancment is big enough to rule out changes in HIV-associated cellular composition as the culprit for the __entirety__ of the effect, while we do concede that some level of confounding is likely present, despite our best efforts. "
   ]
  },
  {
   "cell_type": "markdown",
   "metadata": {},
   "source": [
    "    The following possible scenario needs to be ruled out more convincingly:\n",
    "    - Both aging and HIV affect cell-type composition (e.g. CD4/CD8 ratio).\n",
    "    - The effects of cell-type composition on the methylome may not be fully removed by a linear regression model fit using cell-type composition estimates as covariates. The methylome of old and HIV positive individuals therefore contains residual effects of cell type changes (e.g. decreased CD4+ count) that then account for the observed similarities between the aging and HIV whole blood methylomes.\n",
    "    \n",
    "We have attempted to address this in the multivariate models presented in the suppmental data. We have reproduced them here for your perusal:"
   ]
  },
  {
   "cell_type": "markdown",
   "metadata": {},
   "source": [
    "    The method used to adjust methylation values for cell type composition effects (Experimental procedures - Data pre-processing) is similar to taking the residuals from a regression fit to cell composition estimates. The Jaffe and Irizarry paper cited by the authors examined this approach and caution against relying too much on it since it may not be effective at removing confounding:\n",
    "    \"A simple linear regression model including the cell composition percentages as covariates has been suggested as a way to adjust for the confounding. We applied this method to the data from Hannum et al. and Alisch et al. and found that the adjusted estimates are, on average, closer to 0 (Figure S6A in Additional file 2). However, at this level of confounding it is not clear that this naïve approach will in fact produce unbiased adjusted estimates (Figure 4A)\"\n",
    "\n",
    "We agree with the reviewer on this point. Our attempt was to address the confounding in a way that was simple and reproducable. As described in the supplement, we do not expect this to account for the entrity of the effect, and have thus included a number of additional controls which show that the effects we observe hold within the context of a multivariate model including cellular coposition. While alternative metrics such as RUV have been suggested, this would destroy much of the HIV-associated signal due to the cellular composition differences between the cases and controls. Given our study design, we feel that the approach we took was the most appropriate of those available to us. \n",
    "\n",
    "Regaurding the statements from the Jaffe and Irizarry paper, we took these very seriously, but do not expect them to be as harsh as reported within the context of our cohort for a number of reasons. If you refer to figure 2 of this paper, you can see the observed changes in blood composition with age across many datasets. While these effects are real and significant, a large portion of the cell-composition remodeling take place within individuals that are very old or very young. Within the age range of our study (25-68 years) these effects are much more moderate. While we do not deny that they are likely to manifest, the severity of the effect is likely much smaller within this restricted age range. __Reproduce these plots for our data__."
   ]
  },
  {
   "cell_type": "markdown",
   "metadata": {},
   "source": [
    "    It would be useful to know how many of the CpGs associated with age (26,927), and HIV (81,361) are also strongly differentially methylated across cell-types. One could for example, plot a cell-type association p-value histogram for these sites using p-values from this Jaffe and Irizarry table: http://www.genomebiology.com/2014/15/2/R31/suppl/S3\n",
    "    If it is highly enriched for small p-values, I would be cautious about claiming that the cell type effects have been fully corrected for as the authors believe. \n",
    "    \n",
    "We thank the reviewer for the excellent suggestion. We would like to clarify one point with regaurds to cellular composition. Despite it now well established confounding nature with studies such as ours, methylation at sites which are variable across cell types should not be discounted from such studies. There remain many situations in which methylation may change __within__ any one given cell type which could be biologically meaningfull. The confounding factor occurs when the methylation within any given cell remains constant, but changing the mixture of cellular populations gives rise to an observed change in the pooled methylation estimate. In fact, we would argue that a methylation site that is differentially methylated in a given cell type is more likely to change in response to a cellular stress such as aging or HIV due to its percived importance in that particular cell type. This being said, we understand the limitations of our study design and have caried out the controls as suggested. \n",
    "\n",
    "For age associated probes we see a strong overlap of the cell-type dependent probes with the validated age associated probes. This is very strong for the nominally cell-type specific probes (odd-ratio ~7 for P < .1) and gets weaker as we look at probes with a stronger association with cell type (odds-ratio 2.5 for P < 10e-6). In contrast for the HIV associated probes, we see a small enrichment for nominally cell-type specific probes (odds-ratio 1.2 for P < .1) which becomes neutral negative enrichment for stronger association with cell type (odd-ratio .95, for P < 10e-6). Together we take that there may be some slight overlap of weakly cell type associated probes with our HIV associated probes, but the effect is rather small and likely a reflection of global factors influencing both rather than a direct causative relationship. \n",
    "\n",
    "In addition we conducted a similar screen looking at probes associated with changes between CD4T cells and CD8T cells, which seems more relavant to the study at hand. In this analysis we saw a weak mutual exclusive (odds ratio ~.8) association at all cutoff between change in CD4/8 T-cell levels and the association with HIV. "
   ]
  },
  {
   "cell_type": "markdown",
   "metadata": {},
   "source": [
    "    It would be reassuring if the link between the HIV infection and aging signatures (from \"Unsupervised analysis shows shared phenotypes of HIV and age\") still hold when analysis is restricted to CpGs with no cell-type dependency (e.g. cell type composition p-value>0.1). \n",
    "    \n",
    "We have preformed the above analysis for the 1646 probes which had no association with cell-type (P > .1) and were also associated with age. Again we \n",
    "see the same associations of the first principal component with both HIV and age."
   ]
  },
  {
   "cell_type": "markdown",
   "metadata": {},
   "source": [
    "    It seems to me that the link between HLA methylation and CD4/CD8 ratio might be explained by differential methylation between these cell types in this region. If this is the case, I would expect the differential methylation between CD4-CD8 would track closely with the differential methylation between HIV+/HIV- as shown in Fig4D.  \n",
    "\n",
    "In the constuction of this plot, we used cellular composition as a covariate. I'll plot a bunch of multivariate models and overwhelm you with them. "
   ]
  }
 ],
 "metadata": {
  "kernelspec": {
   "display_name": "Python 2",
   "language": "python",
   "name": "python2"
  },
  "language_info": {
   "codemirror_mode": {
    "name": "ipython",
    "version": 2
   },
   "file_extension": ".py",
   "mimetype": "text/x-python",
   "name": "python",
   "nbconvert_exporter": "python",
   "pygments_lexer": "ipython2",
   "version": "2.7.9"
  }
 },
 "nbformat": 4,
 "nbformat_minor": 0
}

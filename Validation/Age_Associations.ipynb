{
 "cells": [
  {
   "cell_type": "markdown",
   "metadata": {},
   "source": [
    "# Process Normalized Cross-Study Dataset"
   ]
  },
  {
   "cell_type": "markdown",
   "metadata": {},
   "source": [
    "For differential expression analysis, we processed all of the data together on a high memory node.  This was done using the minfi package in R, and all data were normalized using the preprocessQuantile function.  For a full script of the R pipeline see the [Methylation_Normalization_MINFI](./Methylation_Normalization_MINFI.ipynb) notebook."
   ]
  },
  {
   "cell_type": "markdown",
   "metadata": {},
   "source": [
    "Imports and helper functions from [Imports](Imports.ipynb) notebook."
   ]
  },
  {
   "cell_type": "code",
   "execution_count": 1,
   "metadata": {
    "collapsed": false
   },
   "outputs": [
    {
     "name": "stdout",
     "output_type": "stream",
     "text": [
      "/cellar/users/agross/TCGA_Code/Methlation\n"
     ]
    }
   ],
   "source": [
    "cd .."
   ]
  },
  {
   "cell_type": "code",
   "execution_count": 2,
   "metadata": {
    "collapsed": false
   },
   "outputs": [
    {
     "data": {
      "text/html": [
       "importing IPython notebook from <a href='./Setup/Imports.ipynb' target='_blank'>Setup/Imports</a>"
      ]
     },
     "metadata": {},
     "output_type": "display_data"
    },
    {
     "name": "stdout",
     "output_type": "stream",
     "text": [
      "Populating the interactive namespace from numpy and matplotlib\n"
     ]
    }
   ],
   "source": [
    "import NotebookImport\n",
    "from Setup.Imports import *"
   ]
  },
  {
   "cell_type": "markdown",
   "metadata": {},
   "source": [
    "### Read in Validation Data"
   ]
  },
  {
   "cell_type": "code",
   "execution_count": 3,
   "metadata": {
    "collapsed": true
   },
   "outputs": [],
   "source": [
    "path = '/cellar/users/agross/TCGA_Code/Methlation/data/Validation/'"
   ]
  },
  {
   "cell_type": "code",
   "execution_count": 4,
   "metadata": {
    "collapsed": false
   },
   "outputs": [],
   "source": [
    "df_hiv =  pd.read_csv(path + 'betas_BMIQ.csv', index_col=0)"
   ]
  },
  {
   "cell_type": "markdown",
   "metadata": {},
   "source": [
    "#### Read in annotations "
   ]
  },
  {
   "cell_type": "code",
   "execution_count": 5,
   "metadata": {
    "collapsed": false
   },
   "outputs": [],
   "source": [
    "hiv_ann = pd.read_excel(path + 'Methylome human NEUvs WB.xlsx', \n",
    "                        sheetname='HIV', skiprows=2, index_col=0)\n",
    "control_ann = pd.read_excel(path + 'Methylome human NEUvs WB.xlsx',\n",
    "                            sheetname='Negative', skiprows=2, index_col=0)\n",
    "ann = pd.concat([hiv_ann, control_ann], keys=['HIV+','HIV-'])\n",
    "ann = ann.reset_index()\n",
    "ann = ann.rename(columns={'Age (years)': 'age', 'level_0':'HIV'})\n",
    "ann = ann.set_index('PATID')\n",
    "ann = ann.ix[df_hiv.columns]"
   ]
  },
  {
   "cell_type": "code",
   "execution_count": 6,
   "metadata": {
    "collapsed": true
   },
   "outputs": [],
   "source": [
    "from IPython.display import clear_output\n",
    "from rpy2.robjects import pandas2ri\n",
    "pandas2ri.activate()"
   ]
  },
  {
   "cell_type": "code",
   "execution_count": 7,
   "metadata": {
    "collapsed": true
   },
   "outputs": [],
   "source": [
    "import statsmodels.api as sm"
   ]
  },
  {
   "cell_type": "code",
   "execution_count": 8,
   "metadata": {
    "collapsed": true
   },
   "outputs": [],
   "source": [
    "hiv = ann.HIV == 'HIV+'\n",
    "intercept = pd.Series(1, index=hiv.index)\n",
    "age = ann.age\n",
    "\n",
    "X = pd.concat([intercept, hiv, age], axis=1, \n",
    "              keys=['Intercept','HIV', 'age'])\n",
    "X_reduced = X[['Intercept','HIV']]\n",
    "\n",
    "w = (len(hiv) - hiv.map(hiv.value_counts())).astype(float) / len(hiv)\n",
    "w = w.ix[X.index]\n",
    "\n",
    "X = X.ix[df_hiv.columns]"
   ]
  },
  {
   "cell_type": "code",
   "execution_count": 9,
   "metadata": {
    "collapsed": false
   },
   "outputs": [
    {
     "name": "stdout",
     "output_type": "stream",
     "text": [
      "CPU times: user 26min 41s, sys: 4.33 s, total: 26min 45s\n",
      "Wall time: 26min 48s\n"
     ]
    }
   ],
   "source": [
    "%%time\n",
    "p = {}\n",
    "d_hiv = {}\n",
    "\n",
    "df = logit_adj(df_hiv)\n",
    "for i,y in df.iterrows():\n",
    "    y.name = 'marker'\n",
    "    y = logit_adj(y)\n",
    "    mod_all = sm.WLS(y, X, weights=w)\n",
    "    res_ref = mod_all.fit()\n",
    "    p[i] = res_ref.params\n",
    "    \n",
    "    mod_reduced = sm.WLS(y, X_reduced, weights=w)\n",
    "    m1 = mod_reduced.fit()\n",
    "    d_hiv[i] = res_ref.compare_lr_test(m1)\n",
    "\n",
    "coef = pd.DataFrame(p).T\n",
    "d_age = pd.DataFrame(d_hiv, index=['LR','p','df']).T"
   ]
  },
  {
   "cell_type": "code",
   "execution_count": 11,
   "metadata": {
    "collapsed": true
   },
   "outputs": [],
   "source": [
    "monocyte_corr = pd.read_csv('/cellar/users/agross/Data/Methylation_Controls/monocyte_age_corr.csv',\n",
    "                            index_col=0, squeeze=True)"
   ]
  },
  {
   "cell_type": "code",
   "execution_count": 15,
   "metadata": {
    "collapsed": false
   },
   "outputs": [
    {
     "data": {
      "text/html": [
       "importing IPython notebook from <a href='./Parallel/Age_HIV_Features.ipynb' target='_blank'>Parallel/Age_HIV_Features</a>"
      ]
     },
     "metadata": {},
     "output_type": "display_data"
    },
    {
     "data": {
      "text/html": [
       "importing IPython notebook from <a href='./HIV_Age_Advancement.ipynb' target='_blank'>HIV_Age_Advancement</a>"
      ]
     },
     "metadata": {},
     "output_type": "display_data"
    },
    {
     "data": {
      "text/html": [
       "importing IPython notebook from <a href='./Setup/MethylationAgeModels.ipynb' target='_blank'>Setup/MethylationAgeModels</a>"
      ]
     },
     "metadata": {},
     "output_type": "display_data"
    },
    {
     "data": {
      "text/html": [
       "importing IPython notebook from <a href='./Setup/Read_HIV_Data.ipynb' target='_blank'>Setup/Read_HIV_Data</a>"
      ]
     },
     "metadata": {},
     "output_type": "display_data"
    }
   ],
   "source": [
    "import Parallel.Age_HIV_Features as fx"
   ]
  },
  {
   "cell_type": "code",
   "execution_count": 10,
   "metadata": {
    "collapsed": false
   },
   "outputs": [
    {
     "data": {
      "text/html": [
       "importing IPython notebook from <a href='./Setup/Read_HIV_Data.ipynb' target='_blank'>Setup/Read_HIV_Data</a>"
      ]
     },
     "metadata": {},
     "output_type": "display_data"
    }
   ],
   "source": [
    "from Setup.Read_HIV_Data import *"
   ]
  },
  {
   "cell_type": "code",
   "execution_count": 32,
   "metadata": {
    "collapsed": false
   },
   "outputs": [],
   "source": [
    "import Setup.DX_Imports as dx"
   ]
  },
  {
   "cell_type": "code",
   "execution_count": 12,
   "metadata": {
    "collapsed": true
   },
   "outputs": [],
   "source": [
    "ann = dx.probe_annotations.sort(['Chromosome','Genomic_Coordinate'])"
   ]
  },
  {
   "cell_type": "code",
   "execution_count": 13,
   "metadata": {
    "collapsed": false
   },
   "outputs": [
    {
     "data": {
      "text/plain": [
       "False    441114\n",
       "True      44398\n",
       "dtype: int64"
      ]
     },
     "execution_count": 13,
     "metadata": {},
     "output_type": "execute_result"
    }
   ],
   "source": [
    "dx = bhCorrection(d_hiv.p) < .05\n",
    "dx.value_counts()"
   ]
  },
  {
   "cell_type": "code",
   "execution_count": 14,
   "metadata": {
    "collapsed": true
   },
   "outputs": [],
   "source": [
    "mm = df_hiv.mean(1)"
   ]
  },
  {
   "cell_type": "code",
   "execution_count": 15,
   "metadata": {
    "collapsed": false
   },
   "outputs": [
    {
     "data": {
      "text/html": [
       "importing IPython notebook from <a href='./Parallel/Age_HIV_Features.ipynb' target='_blank'>Parallel/Age_HIV_Features</a>"
      ]
     },
     "metadata": {},
     "output_type": "display_data"
    },
    {
     "data": {
      "text/html": [
       "importing IPython notebook from <a href='./HIV_Age_Advancement.ipynb' target='_blank'>HIV_Age_Advancement</a>"
      ]
     },
     "metadata": {},
     "output_type": "display_data"
    },
    {
     "data": {
      "text/html": [
       "importing IPython notebook from <a href='./Setup/MethylationAgeModels.ipynb' target='_blank'>Setup/MethylationAgeModels</a>"
      ]
     },
     "metadata": {},
     "output_type": "display_data"
    }
   ],
   "source": [
    "import Parallel.Age_HIV_Features as fx"
   ]
  },
  {
   "cell_type": "code",
   "execution_count": 16,
   "metadata": {
    "collapsed": false
   },
   "outputs": [
    {
     "data": {
      "text/plain": [
       "False    454866\n",
       "True      18178\n",
       "dtype: int64"
      ]
     },
     "execution_count": 16,
     "metadata": {},
     "output_type": "execute_result"
    }
   ],
   "source": [
    "a,b = match_series((fx.mm > .5), (p.HIV < 0))\n",
    "a,b = match_series(a,b)\n",
    "direction = a == b\n",
    "\n",
    "hiv_bh = dx \n",
    "hiv_bh = (hiv_bh & (direction == False) & (fx.g_age == False)).dropna()\n",
    "hiv_bh = hiv_bh.ix[probe_idx].ix[ann.index].dropna()\n",
    "#hiv_bh = hiv_bh & (t_hiv.abs() > 1) \n",
    "hiv_bh.value_counts()"
   ]
  },
  {
   "cell_type": "code",
   "execution_count": 17,
   "metadata": {
    "collapsed": false
   },
   "outputs": [
    {
     "data": {
      "text/plain": [
       "False    468259\n",
       "True      17253\n",
       "dtype: int64"
      ]
     },
     "execution_count": 17,
     "metadata": {},
     "output_type": "execute_result"
    }
   ],
   "source": [
    "dx_gran = bhCorrection(d_hiv.p) < .01\n",
    "dx_gran.value_counts()"
   ]
  },
  {
   "cell_type": "code",
   "execution_count": 197,
   "metadata": {
    "collapsed": false
   },
   "outputs": [
    {
     "data": {
      "text/plain": [
       "3.285441282439364"
      ]
     },
     "execution_count": 197,
     "metadata": {},
     "output_type": "execute_result"
    }
   ],
   "source": [
    "dx_gran_u = bhCorrection(d_hiv.p.ix[ti(fx.g_hiv == True)]) < .01\n",
    "dx_gran_d = bhCorrection(d_hiv.p.ix[ti(fx.g_hiv == False)]) < .01\n",
    "dx_gran_u.mean() / dx_gran_d.mean()"
   ]
  },
  {
   "cell_type": "code",
   "execution_count": 199,
   "metadata": {
    "collapsed": false
   },
   "outputs": [
    {
     "data": {
      "text/plain": [
       "False    74028\n",
       "True      7333\n",
       "dtype: int64"
      ]
     },
     "execution_count": 199,
     "metadata": {},
     "output_type": "execute_result"
    }
   ],
   "source": [
    "dx_gran_t = bhCorrection(d_hiv.p.ix[ti(fx.g_hiv == True)]) < .01\n",
    "dx_gran_t.value_counts()"
   ]
  },
  {
   "cell_type": "code",
   "execution_count": 162,
   "metadata": {
    "collapsed": false
   },
   "outputs": [
    {
     "data": {
      "text/plain": [
       "odds_ratio    7.52e-01\n",
       "p             2.17e-75\n",
       "dtype: float64"
      ]
     },
     "execution_count": 162,
     "metadata": {},
     "output_type": "execute_result"
    }
   ],
   "source": [
    "fisher_exact_test(direction, dx_gran)"
   ]
  },
  {
   "cell_type": "code",
   "execution_count": 130,
   "metadata": {
    "collapsed": false
   },
   "outputs": [
    {
     "data": {
      "text/plain": [
       "False    446117\n",
       "True      26927\n",
       "dtype: int64"
      ]
     },
     "execution_count": 130,
     "metadata": {},
     "output_type": "execute_result"
    }
   ],
   "source": [
    "fx.g_age.value_counts()"
   ]
  },
  {
   "cell_type": "code",
   "execution_count": 141,
   "metadata": {
    "collapsed": false
   },
   "outputs": [],
   "source": [
    "r = pd.concat([fx.g_age, dx_gran, fx.g_hiv], \n",
    "              keys=['age','pure','mixed'], axis=1).dropna().astype(int).astype(str).apply(lambda s: ''.join(s), axis=1)"
   ]
  },
  {
   "cell_type": "code",
   "execution_count": 150,
   "metadata": {
    "collapsed": false
   },
   "outputs": [
    {
     "data": {
      "text/plain": [
       "odds_ratio     1.56e+00\n",
       "p             1.18e-184\n",
       "dtype: float64"
      ]
     },
     "execution_count": 150,
     "metadata": {},
     "output_type": "execute_result"
    }
   ],
   "source": [
    "fisher_exact_test(fx.g_age, d_hiv.p.rank() < sum(fx.g_hiv))"
   ]
  },
  {
   "cell_type": "code",
   "execution_count": 153,
   "metadata": {
    "collapsed": true
   },
   "outputs": [],
   "source": [
    "d = df_hiv.groupby(hiv, axis=1).mean()\n",
    "dx = d[1] - d[0]"
   ]
  },
  {
   "cell_type": "code",
   "execution_count": 161,
   "metadata": {
    "collapsed": false
   },
   "outputs": [
    {
     "data": {
      "text/plain": [
       "odds_ratio    2.31e+00\n",
       "p             9.62e-51\n",
       "dtype: float64"
      ]
     },
     "execution_count": 161,
     "metadata": {},
     "output_type": "execute_result"
    }
   ],
   "source": [
    "fisher_exact_test(combine(fx.g_age, fx.g_hiv) == 'both', dx_gran)"
   ]
  },
  {
   "cell_type": "code",
   "execution_count": 159,
   "metadata": {
    "collapsed": false
   },
   "outputs": [
    {
     "data": {
      "text/plain": [
       "odds_ratio    1.76e+00\n",
       "p             1.20e-84\n",
       "dtype: float64"
      ]
     },
     "execution_count": 159,
     "metadata": {},
     "output_type": "execute_result"
    }
   ],
   "source": [
    "fisher_exact_test(fx.g_age, dx_gran)"
   ]
  },
  {
   "cell_type": "code",
   "execution_count": 190,
   "metadata": {
    "collapsed": false
   },
   "outputs": [
    {
     "data": {
      "text/plain": [
       "odds_ratio    2.21\n",
       "p             0.00\n",
       "dtype: float64"
      ]
     },
     "execution_count": 190,
     "metadata": {},
     "output_type": "execute_result"
    }
   ],
   "source": [
    "fisher_exact_test(fx.g_hiv, dx_gran)"
   ]
  },
  {
   "cell_type": "code",
   "execution_count": null,
   "metadata": {
    "collapsed": true
   },
   "outputs": [],
   "source": []
  },
  {
   "cell_type": "code",
   "execution_count": 63,
   "metadata": {
    "collapsed": false
   },
   "outputs": [
    {
     "data": {
      "text/plain": [
       "odds_ratio    1.7\n",
       "p             0.0\n",
       "dtype: float64"
      ]
     },
     "execution_count": 63,
     "metadata": {},
     "output_type": "execute_result"
    }
   ],
   "source": [
    "fisher_exact_test(fx.g_hiv_nom, d_hiv.p < .01)"
   ]
  },
  {
   "cell_type": "code",
   "execution_count": 18,
   "metadata": {
    "collapsed": false
   },
   "outputs": [
    {
     "data": {
      "text/plain": [
       "odds_ratio    1.31e+00\n",
       "p             4.07e-20\n",
       "dtype: float64"
      ]
     },
     "execution_count": 18,
     "metadata": {},
     "output_type": "execute_result"
    }
   ],
   "source": [
    "fisher_exact_test(fx.g_hiv.ix[ti(direction == False)], dx_gran)"
   ]
  },
  {
   "cell_type": "code",
   "execution_count": 20,
   "metadata": {
    "collapsed": false
   },
   "outputs": [
    {
     "data": {
      "text/plain": [
       "odds_ratio    3.59\n",
       "p             0.00\n",
       "dtype: float64"
      ]
     },
     "execution_count": 20,
     "metadata": {},
     "output_type": "execute_result"
    }
   ],
   "source": [
    "fisher_exact_test(fx.g_hiv.ix[ti(direction)], dx_gran)"
   ]
  },
  {
   "cell_type": "code",
   "execution_count": 21,
   "metadata": {
    "collapsed": false
   },
   "outputs": [
    {
     "data": {
      "text/html": [
       "<div>\n",
       "<table border=\"1\" class=\"dataframe\">\n",
       "  <thead>\n",
       "    <tr style=\"text-align: right;\">\n",
       "      <th>d</th>\n",
       "      <th>False</th>\n",
       "      <th>True</th>\n",
       "    </tr>\n",
       "    <tr>\n",
       "      <th>h</th>\n",
       "      <th></th>\n",
       "      <th></th>\n",
       "    </tr>\n",
       "  </thead>\n",
       "  <tbody>\n",
       "    <tr>\n",
       "      <th>False</th>\n",
       "      <td>379832</td>\n",
       "      <td>11851</td>\n",
       "    </tr>\n",
       "    <tr>\n",
       "      <th>True</th>\n",
       "      <td>76106</td>\n",
       "      <td>5255</td>\n",
       "    </tr>\n",
       "  </tbody>\n",
       "</table>\n",
       "</div>"
      ],
      "text/plain": [
       "d       False  True \n",
       "h                   \n",
       "False  379832  11851\n",
       "True    76106   5255"
      ]
     },
     "execution_count": 21,
     "metadata": {},
     "output_type": "execute_result"
    }
   ],
   "source": [
    "pd.crosstab(fx.g_hiv, dx_gran)"
   ]
  },
  {
   "cell_type": "code",
   "execution_count": 22,
   "metadata": {
    "collapsed": false
   },
   "outputs": [
    {
     "data": {
      "text/plain": [
       "RASA3      8\n",
       "TBCD       8\n",
       "PRKCZ      7\n",
       "HDAC4      7\n",
       "CBFA2T3    6\n",
       "dtype: int64"
      ]
     },
     "execution_count": 22,
     "metadata": {},
     "output_type": "execute_result"
    }
   ],
   "source": [
    "ann.Gene_Symbol.ix[ti(fx.g_hiv & dx_gran)].value_counts().head()"
   ]
  },
  {
   "cell_type": "code",
   "execution_count": 23,
   "metadata": {
    "collapsed": true
   },
   "outputs": [],
   "source": [
    "dd = dx_gran.ix[ti(fx.g_hiv)]\n",
    "m = dd.mean()\n",
    "w = 10\n",
    "t = lambda s: sp.stats.binom_test(s, w, p=m)\n",
    "v = pd.concat([pd.rolling_mean(s, w, center=True) for i,s in \n",
    "               dd.groupby(ann.Chromosome)])\n",
    "lookup = pd.Series({i: t(i) for i in (v.dropna() * w).unique()})\n",
    "biom_p = (v.dropna() * w).map(lookup).order()"
   ]
  },
  {
   "cell_type": "code",
   "execution_count": 25,
   "metadata": {
    "collapsed": false
   },
   "outputs": [
    {
     "data": {
      "text/plain": [
       "odds_ratio    5.23\n",
       "p             0.07\n",
       "dtype: float64"
      ]
     },
     "execution_count": 25,
     "metadata": {},
     "output_type": "execute_result"
    }
   ],
   "source": [
    "fisher_exact_test(dx_gran.ix[ti(direction==False)], ann.Gene_Symbol=='HCP5')"
   ]
  },
  {
   "cell_type": "code",
   "execution_count": 133,
   "metadata": {
    "collapsed": false
   },
   "outputs": [
    {
     "data": {
      "text/plain": [
       "HCP5              3\n",
       "CAPN2             2\n",
       "JMJD6;C17orf95    2\n",
       "TFDP1             2\n",
       "ABLIM1            1\n",
       "dtype: int64"
      ]
     },
     "execution_count": 133,
     "metadata": {},
     "output_type": "execute_result"
    }
   ],
   "source": [
    "ann.ix[ti(hiv_bh)].Gene_Symbol.value_counts().head()"
   ]
  },
  {
   "cell_type": "code",
   "execution_count": 26,
   "metadata": {
    "collapsed": false
   },
   "outputs": [],
   "source": [
    "m = hiv_bh.mean()\n",
    "w = 200\n",
    "t = lambda s: sp.stats.binom_test(s, w, p=m)\n",
    "v = pd.concat([pd.rolling_mean(s, w, center=True) for i,s in \n",
    "               hiv_bh.groupby(ann.Chromosome)])\n",
    "lookup = pd.Series({i: t(i) for i in (v.dropna() * w).unique()})\n",
    "biom_p = (v.dropna() * w).map(lookup).order()"
   ]
  },
  {
   "cell_type": "code",
   "execution_count": 27,
   "metadata": {
    "collapsed": true
   },
   "outputs": [],
   "source": [
    "def manhattan(vec, chrom, coords, ax=None, ybound=None,\n",
    "              flow='up', ticks=True, gap=3e7):\n",
    "    fig, ax = init_ax(ax, figsize=(9,3))\n",
    "    x = 0\n",
    "    chr_coords = []\n",
    "    for i,c in enumerate(map(str, range(1,23))):\n",
    "        v = vec.ix[ti(chrom == c)].dropna()\n",
    "        series_scatter(coords + x, v, s=10, ax=ax, \n",
    "                       color=colors[i % 5], \n",
    "                       ann=None, alpha=1, rasterized=True) \n",
    "        chr_len = coords.ix[v.index].max()\n",
    "        x = x + chr_len + gap\n",
    "        chr_coords += [x - (chr_len / 2.)]\n",
    "    ax.set_xbound(gap, x + gap)\n",
    "    if ybound is not None:\n",
    "        ax.set_ybound(ybound[0],ybound[1])\n",
    "    ax.set_xlabel('Chromosome')\n",
    "    \n",
    "    if ticks:\n",
    "        ax.set_xticks(chr_coords)\n",
    "        ax.set_xticklabels(map(str, range(1,23)))\n",
    "    else:\n",
    "        ax.set_xticks([])\n",
    "    top = flow == 'down'\n",
    "    prettify_ax(ax, top)"
   ]
  },
  {
   "cell_type": "code",
   "execution_count": 28,
   "metadata": {
    "collapsed": false
   },
   "outputs": [
    {
     "data": {
      "image/png": "[encoded data removed]",
      "text/plain": [
       "<matplotlib.figure.Figure at 0x7fc984fc1cd0>"
      ]
     },
     "metadata": {},
     "output_type": "display_data"
    }
   ],
   "source": [
    "manhattan(-1*np.log10(biom_p), ann.Chromosome, ann.Genomic_Coordinate,\n",
    "          ybound=[0,12], ticks=False)"
   ]
  },
  {
   "cell_type": "code",
   "execution_count": 29,
   "metadata": {
    "collapsed": true
   },
   "outputs": [],
   "source": [
    "full_region = ((ann.Chromosome == '6') & \n",
    "                   ann.Genomic_Coordinate.isin(range(25000000, 35000000)))\n",
    "histone_region = ((ann.Chromosome == '6') & \n",
    "                   ann.Genomic_Coordinate.isin(range(25000000, 29570008)))\n",
    "hla_region = ((ann.Chromosome == '6') & \n",
    "              ann.Genomic_Coordinate.isin(range(29570008, 33377112)))"
   ]
  },
  {
   "cell_type": "code",
   "execution_count": 30,
   "metadata": {
    "collapsed": true
   },
   "outputs": [],
   "source": [
    "gwas = pd.read_csv('./data/Euro_CHAVI_Setpoint_liftover.csv', index_col=0)\n",
    "gwas.chromosome = gwas.chromosome.astype(str)"
   ]
  },
  {
   "cell_type": "code",
   "execution_count": 17,
   "metadata": {
    "collapsed": false
   },
   "outputs": [
    {
     "data": {
      "text/plain": [
       "FOX201    False\n",
       "FOX202    False\n",
       "FOX203    False\n",
       "FOX204    False\n",
       "FOX205    False\n",
       "FOX206    False\n",
       "FOX207    False\n",
       "FOX208    False\n",
       "FOX209    False\n",
       "FOX211    False\n",
       "FOX212    False\n",
       "FOX213    False\n",
       "FOX214    False\n",
       "FOX215    False\n",
       "FOX216    False\n",
       "FOX217    False\n",
       "FOX218    False\n",
       "FOX219    False\n",
       "FOX221    False\n",
       "FOX222    False\n",
       "FOX224    False\n",
       "FOX225    False\n",
       "FOX227    False\n",
       "FOX351     True\n",
       "FOX352     True\n",
       "FOX353     True\n",
       "FOX354     True\n",
       "FOX355     True\n",
       "FOX356     True\n",
       "FOX357     True\n",
       "FOX361     True\n",
       "FOX362     True\n",
       "FOX363     True\n",
       "FOX365     True\n",
       "FOX366     True\n",
       "FOX369     True\n",
       "FOX374     True\n",
       "FOX375     True\n",
       "FOX376     True\n",
       "FOX377     True\n",
       "FOX378     True\n",
       "FOX379     True\n",
       "FOX380     True\n",
       "FOX381     True\n",
       "FOX382     True\n",
       "FOX383     True\n",
       "FOX384     True\n",
       "FOX385     True\n",
       "Name: HIV, dtype: bool"
      ]
     },
     "execution_count": 17,
     "metadata": {},
     "output_type": "execute_result"
    }
   ],
   "source": [
    "hiv.sort_index()"
   ]
  },
  {
   "cell_type": "code",
   "execution_count": 55,
   "metadata": {
    "collapsed": false
   },
   "outputs": [],
   "source": [
    "tt = dx.ttest_df(hiv, df_hiv)"
   ]
  },
  {
   "cell_type": "code",
   "execution_count": 75,
   "metadata": {
    "collapsed": false
   },
   "outputs": [
    {
     "data": {
      "text/plain": [
       "<matplotlib.text.Text at 0x7fc983189390>"
      ]
     },
     "execution_count": 75,
     "metadata": {},
     "output_type": "execute_result"
    },
    {
     "data": {
      "image/png": "[encoded data removed]",
      "text/plain": [
       "<matplotlib.figure.Figure at 0x7fc983232cd0>"
      ]
     },
     "metadata": {},
     "output_type": "display_data"
    }
   ],
   "source": [
    "fig, axs  = subplots(2,1, figsize=(10,6), sharex=True)\n",
    "\n",
    "ax=axs[0]\n",
    "k = ti((gwas.chromosome == '6') & \n",
    "       gwas.Map.isin(range(20000000, 40000000)))\n",
    "x = gwas.Map.ix[k]\n",
    "rr = -1*gwas['-logP']\n",
    "\n",
    "series_scatter(x, rr, color=colors[0],\n",
    "               s=20, ax=ax, ann=None,\n",
    "               edgecolor='grey')\n",
    "\n",
    "ax.set_ylabel('GWAS P-value')\n",
    "ax.set_yticks(range(-12, 1, 2))\n",
    "ax.set_yticklabels(range(-12, 1, 2), size=14)\n",
    "ax.set_ylim(-12,0)\n",
    "ax.set_xlabel('')\n",
    "#ax.axvspan(29570008, 33377112, alpha=.1)\n",
    "ax.set_xbound(x.min(), x.max())\n",
    "prettify_ax(ax, top=True)\n",
    "\n",
    "k = ti((ann.Chromosome == '6') & \n",
    "       ann.Genomic_Coordinate.isin(range(20000000, 40000000)))\n",
    "x = ann.Genomic_Coordinate.ix[k].order()\n",
    "\n",
    "ax = axs[1]\n",
    "\n",
    "d = (tt[tt.abs() > 0] > 0).ix[ann.index].dropna()\n",
    "v = pd.concat([pd.rolling_mean(s, 200, center=True) for i,s in \n",
    "               d.groupby(ann.Chromosome)])\n",
    "v = (v - v.mean()) / v.std()\n",
    "\n",
    "series_scatter(x[::5], v.ix[x.index], s=20, ann=None, color=colors[0],\n",
    "               edgecolor='grey', ax=ax, alpha=1)\n",
    "\n",
    "ax.axhline(0, ls='--', color='black', lw=3)\n",
    "ax.set_ylabel('Enrichment')\n",
    "ax.spines['bottom'].set_visible(False)\n",
    "#ax.axvspan(29570008, 33377112, alpha=.1)\n",
    "ax.set_xbound(x.min(), x.max())\n",
    "prettify_ax(ax)\n",
    "ax.set_xlabel('')"
   ]
  },
  {
   "cell_type": "code",
   "execution_count": 76,
   "metadata": {
    "collapsed": false
   },
   "outputs": [
    {
     "data": {
      "text/plain": [
       "odds_ratio   NaN\n",
       "p            NaN\n",
       "dtype: float64"
      ]
     },
     "execution_count": 76,
     "metadata": {},
     "output_type": "execute_result"
    }
   ],
   "source": [
    "fisher_exact_test(dx, hla_region)"
   ]
  },
  {
   "cell_type": "code",
   "execution_count": 58,
   "metadata": {
    "collapsed": false
   },
   "outputs": [
    {
     "data": {
      "text/plain": [
       "False    455008\n",
       "True      18036\n",
       "dtype: int64"
      ]
     },
     "execution_count": 58,
     "metadata": {},
     "output_type": "execute_result"
    }
   ],
   "source": [
    "fx.g_hiv_b.value_counts()"
   ]
  },
  {
   "cell_type": "code",
   "execution_count": 59,
   "metadata": {
    "collapsed": false
   },
   "outputs": [
    {
     "data": {
      "text/plain": [
       "odds_ratio   NaN\n",
       "p            NaN\n",
       "dtype: float64"
      ]
     },
     "execution_count": 59,
     "metadata": {},
     "output_type": "execute_result"
    }
   ],
   "source": [
    "fisher_exact_test(fx.g_hiv_b, dx)"
   ]
  },
  {
   "cell_type": "code",
   "execution_count": 79,
   "metadata": {
    "collapsed": false
   },
   "outputs": [],
   "source": []
  },
  {
   "cell_type": "code",
   "execution_count": 81,
   "metadata": {
    "collapsed": true
   },
   "outputs": [],
   "source": [
    "DX = dx"
   ]
  },
  {
   "cell_type": "code",
   "execution_count": 84,
   "metadata": {
    "collapsed": true
   },
   "outputs": [],
   "source": [
    "def draw_dist_by_annotation(f, ax):\n",
    "    lw = 2.5\n",
    "    draw_dist(f.ix[ti(DX.probe_sets['Promoter'])], ax=ax)\n",
    "    draw_dist(f.ix[ti(DX.probe_sets['CpG Island'])], ax=ax)\n",
    "    draw_dist(f.ix[ti(DX.probe_sets['PRC2'])], ax=ax)\n",
    "    draw_dist(f, ax=ax, colors='grey')\n",
    "    ax.set_yticks([])\n",
    "    ax.set_xticks([0,.5,1])\n",
    "    ax.set_ylabel('Density')\n",
    "    ax.set_xlabel('Fraction with Increased Methylation')\n",
    "    ax.legend(('Promoter','CpG Island','PRC2','All Probes'))\n",
    "    prettify_ax(ax)\n",
    "    return ax"
   ]
  },
  {
   "cell_type": "code",
   "execution_count": 85,
   "metadata": {
    "collapsed": false
   },
   "outputs": [
    {
     "data": {
      "image/png": "[encoded data removed]",
      "text/plain": [
       "<matplotlib.figure.Figure at 0x7fc982f51790>"
      ]
     },
     "metadata": {},
     "output_type": "display_data"
    }
   ],
   "source": [
    "pd.crosstab()"
   ]
  },
  {
   "cell_type": "code",
   "execution_count": 89,
   "metadata": {
    "collapsed": false
   },
   "outputs": [],
   "source": [
    "probes_sets = {'PRC2': dx.prc2_probes, 'CpG island': dx.cpg_island,\n",
    "               'DHS': dx.dhs_site, 'Enhancer': dx.enhancer,\n",
    "               'Gene body': dx.gene_body, 'TSS': dx.gene_tss,\n",
    "               'Promoter': dx.promoter}"
   ]
  },
  {
   "cell_type": "code",
   "execution_count": 182,
   "metadata": {
    "collapsed": false
   },
   "outputs": [
    {
     "data": {
      "text/plain": [
       "False    203574\n",
       "True      13703\n",
       "dtype: int64"
      ]
     },
     "execution_count": 182,
     "metadata": {},
     "output_type": "execute_result"
    }
   ],
   "source": [
    "d2 = bhCorrection(d_hiv.p) < .01\n",
    "d2 = d2.ix[ti(fx.mm < .5)]\n",
    "d2.value_counts()"
   ]
  },
  {
   "cell_type": "code",
   "execution_count": 183,
   "metadata": {
    "collapsed": true
   },
   "outputs": [],
   "source": [
    "associations = {}\n",
    "for j,b in probes_sets.iteritems():\n",
    "    associations[j] = fisher_exact_test(d2,b.ix[fx.probe_idx])\n",
    "associations = pd.concat(associations)"
   ]
  },
  {
   "cell_type": "code",
   "execution_count": 184,
   "metadata": {
    "collapsed": false
   },
   "outputs": [
    {
     "data": {
      "text/html": [
       "<div>\n",
       "<table border=\"1\" class=\"dataframe\">\n",
       "  <thead>\n",
       "    <tr style=\"text-align: right;\">\n",
       "      <th></th>\n",
       "      <th>odds_ratio</th>\n",
       "      <th>p</th>\n",
       "    </tr>\n",
       "  </thead>\n",
       "  <tbody>\n",
       "    <tr>\n",
       "      <th>CpG island</th>\n",
       "      <td>2.46</td>\n",
       "      <td>0.00e+00</td>\n",
       "    </tr>\n",
       "    <tr>\n",
       "      <th>DHS</th>\n",
       "      <td>0.89</td>\n",
       "      <td>1.84e-07</td>\n",
       "    </tr>\n",
       "    <tr>\n",
       "      <th>Enhancer</th>\n",
       "      <td>0.85</td>\n",
       "      <td>1.10e-10</td>\n",
       "    </tr>\n",
       "    <tr>\n",
       "      <th>Gene body</th>\n",
       "      <td>0.99</td>\n",
       "      <td>5.29e-01</td>\n",
       "    </tr>\n",
       "    <tr>\n",
       "      <th>PRC2</th>\n",
       "      <td>0.93</td>\n",
       "      <td>2.85e-04</td>\n",
       "    </tr>\n",
       "    <tr>\n",
       "      <th>Promoter</th>\n",
       "      <td>1.21</td>\n",
       "      <td>1.22e-27</td>\n",
       "    </tr>\n",
       "    <tr>\n",
       "      <th>TSS</th>\n",
       "      <td>1.10</td>\n",
       "      <td>2.41e-08</td>\n",
       "    </tr>\n",
       "  </tbody>\n",
       "</table>\n",
       "</div>"
      ],
      "text/plain": [
       "            odds_ratio         p\n",
       "CpG island        2.46  0.00e+00\n",
       "DHS               0.89  1.84e-07\n",
       "Enhancer          0.85  1.10e-10\n",
       "Gene body         0.99  5.29e-01\n",
       "PRC2              0.93  2.85e-04\n",
       "Promoter          1.21  1.22e-27\n",
       "TSS               1.10  2.41e-08"
      ]
     },
     "execution_count": 184,
     "metadata": {},
     "output_type": "execute_result"
    }
   ],
   "source": [
    "associations.unstack()"
   ]
  },
  {
   "cell_type": "code",
   "execution_count": 185,
   "metadata": {
    "collapsed": false
   },
   "outputs": [
    {
     "data": {
      "text/plain": [
       "<matplotlib.axes.AxesSubplot at 0x7fc980b27090>"
      ]
     },
     "execution_count": 185,
     "metadata": {},
     "output_type": "execute_result"
    },
    {
     "data": {
      "image/png": "[encoded data removed]",
      "text/plain": [
       "<matplotlib.figure.Figure at 0x7fc982e94d90>"
      ]
     },
     "metadata": {},
     "output_type": "display_data"
    }
   ],
   "source": [
    "np.log2(associations.ix[:,'odds_ratio']).plot(kind='bar')"
   ]
  },
  {
   "cell_type": "code",
   "execution_count": 174,
   "metadata": {
    "collapsed": false
   },
   "outputs": [
    {
     "data": {
      "text/plain": [
       "odds_ratio     1.18e+00\n",
       "p             8.86e-107\n",
       "dtype: float64"
      ]
     },
     "execution_count": 174,
     "metadata": {},
     "output_type": "execute_result"
    }
   ],
   "source": [
    "fisher_exact_test(fx.mm < .5, fx.g_hiv)"
   ]
  },
  {
   "cell_type": "code",
   "execution_count": 178,
   "metadata": {
    "collapsed": false
   },
   "outputs": [
    {
     "data": {
      "image/png": "[encoded data removed]",
      "text/plain": [
       "<matplotlib.figure.Figure at 0x7fc980beca10>"
      ]
     },
     "metadata": {},
     "output_type": "display_data"
    }
   ],
   "source": [
    "draw_dist(fx.mm, fx.g_hiv)"
   ]
  },
  {
   "cell_type": "code",
   "execution_count": 181,
   "metadata": {
    "collapsed": false
   },
   "outputs": [
    {
     "data": {
      "image/png": "[encoded data removed]",
      "text/plain": [
       "<matplotlib.figure.Figure at 0x7fc980b83cd0>"
      ]
     },
     "metadata": {},
     "output_type": "display_data"
    }
   ],
   "source": [
    "draw_dist(fx.mm, dx_gran)"
   ]
  },
  {
   "cell_type": "code",
   "execution_count": 173,
   "metadata": {
    "collapsed": false
   },
   "outputs": [
    {
     "data": {
      "text/plain": [
       "odds_ratio    5.02\n",
       "p             0.00\n",
       "dtype: float64"
      ]
     },
     "execution_count": 173,
     "metadata": {},
     "output_type": "execute_result"
    }
   ],
   "source": [
    "fisher_exact_test(fx.mm < .5, dx_gran)"
   ]
  },
  {
   "cell_type": "code",
   "execution_count": 186,
   "metadata": {
    "collapsed": false
   },
   "outputs": [
    {
     "data": {
      "text/plain": [
       "False    264685\n",
       "True       3550\n",
       "dtype: int64"
      ]
     },
     "execution_count": 186,
     "metadata": {},
     "output_type": "execute_result"
    }
   ],
   "source": [
    "d2 = bhCorrection(d_hiv.p) < .01\n",
    "d2 = d2.ix[ti(fx.mm > .5)]\n",
    "d2.value_counts()"
   ]
  },
  {
   "cell_type": "code",
   "execution_count": 187,
   "metadata": {
    "collapsed": true
   },
   "outputs": [],
   "source": [
    "associations = {}\n",
    "for j,b in probes_sets.iteritems():\n",
    "    associations[j] = fisher_exact_test(d2,b.ix[fx.probe_idx])\n",
    "associations = pd.concat(associations)"
   ]
  },
  {
   "cell_type": "code",
   "execution_count": 188,
   "metadata": {
    "collapsed": false
   },
   "outputs": [
    {
     "data": {
      "text/html": [
       "<div>\n",
       "<table border=\"1\" class=\"dataframe\">\n",
       "  <thead>\n",
       "    <tr style=\"text-align: right;\">\n",
       "      <th></th>\n",
       "      <th>odds_ratio</th>\n",
       "      <th>p</th>\n",
       "    </tr>\n",
       "  </thead>\n",
       "  <tbody>\n",
       "    <tr>\n",
       "      <th>CpG island</th>\n",
       "      <td>1.15</td>\n",
       "      <td>3.44e-02</td>\n",
       "    </tr>\n",
       "    <tr>\n",
       "      <th>DHS</th>\n",
       "      <td>1.28</td>\n",
       "      <td>1.64e-04</td>\n",
       "    </tr>\n",
       "    <tr>\n",
       "      <th>Enhancer</th>\n",
       "      <td>0.78</td>\n",
       "      <td>1.57e-09</td>\n",
       "    </tr>\n",
       "    <tr>\n",
       "      <th>Gene body</th>\n",
       "      <td>1.27</td>\n",
       "      <td>4.28e-12</td>\n",
       "    </tr>\n",
       "    <tr>\n",
       "      <th>PRC2</th>\n",
       "      <td>0.98</td>\n",
       "      <td>7.93e-01</td>\n",
       "    </tr>\n",
       "    <tr>\n",
       "      <th>Promoter</th>\n",
       "      <td>2.07</td>\n",
       "      <td>4.64e-16</td>\n",
       "    </tr>\n",
       "    <tr>\n",
       "      <th>TSS</th>\n",
       "      <td>0.99</td>\n",
       "      <td>9.05e-01</td>\n",
       "    </tr>\n",
       "  </tbody>\n",
       "</table>\n",
       "</div>"
      ],
      "text/plain": [
       "            odds_ratio         p\n",
       "CpG island        1.15  3.44e-02\n",
       "DHS               1.28  1.64e-04\n",
       "Enhancer          0.78  1.57e-09\n",
       "Gene body         1.27  4.28e-12\n",
       "PRC2              0.98  7.93e-01\n",
       "Promoter          2.07  4.64e-16\n",
       "TSS               0.99  9.05e-01"
      ]
     },
     "execution_count": 188,
     "metadata": {},
     "output_type": "execute_result"
    }
   ],
   "source": [
    "associations.unstack()"
   ]
  },
  {
   "cell_type": "code",
   "execution_count": 124,
   "metadata": {
    "collapsed": false
   },
   "outputs": [
    {
     "data": {
      "text/plain": [
       "False    465711\n",
       "True       7333\n",
       "dtype: int64"
      ]
     },
     "execution_count": 124,
     "metadata": {},
     "output_type": "execute_result"
    }
   ],
   "source": [
    "d2 = bhCorrection(d_hiv.p.ix[ti(fx.g_hiv)]) < .01\n",
    "d2 = d2.ix[fx.g_hiv.index].fillna(False)\n",
    "d2.value_counts()"
   ]
  },
  {
   "cell_type": "code",
   "execution_count": 125,
   "metadata": {
    "collapsed": false
   },
   "outputs": [],
   "source": [
    "associations = {}\n",
    "for j,b in probes_sets.iteritems():\n",
    "    associations[j] = fisher_exact_test(d2, b.ix[fx.probe_idx])\n",
    "associations = pd.concat(associations)"
   ]
  },
  {
   "cell_type": "code",
   "execution_count": 126,
   "metadata": {
    "collapsed": false
   },
   "outputs": [
    {
     "data": {
      "text/html": [
       "<div>\n",
       "<table border=\"1\" class=\"dataframe\">\n",
       "  <thead>\n",
       "    <tr style=\"text-align: right;\">\n",
       "      <th></th>\n",
       "      <th>odds_ratio</th>\n",
       "      <th>p</th>\n",
       "    </tr>\n",
       "  </thead>\n",
       "  <tbody>\n",
       "    <tr>\n",
       "      <th>CpG island</th>\n",
       "      <td>3.29</td>\n",
       "      <td>0.00e+00</td>\n",
       "    </tr>\n",
       "    <tr>\n",
       "      <th>DHS</th>\n",
       "      <td>1.28</td>\n",
       "      <td>2.40e-13</td>\n",
       "    </tr>\n",
       "    <tr>\n",
       "      <th>Enhancer</th>\n",
       "      <td>0.66</td>\n",
       "      <td>2.37e-40</td>\n",
       "    </tr>\n",
       "    <tr>\n",
       "      <th>Gene body</th>\n",
       "      <td>0.80</td>\n",
       "      <td>1.15e-18</td>\n",
       "    </tr>\n",
       "    <tr>\n",
       "      <th>PRC2</th>\n",
       "      <td>1.58</td>\n",
       "      <td>3.52e-56</td>\n",
       "    </tr>\n",
       "    <tr>\n",
       "      <th>Promoter</th>\n",
       "      <td>1.82</td>\n",
       "      <td>1.66e-114</td>\n",
       "    </tr>\n",
       "    <tr>\n",
       "      <th>TSS</th>\n",
       "      <td>1.49</td>\n",
       "      <td>1.37e-57</td>\n",
       "    </tr>\n",
       "  </tbody>\n",
       "</table>\n",
       "</div>"
      ],
      "text/plain": [
       "            odds_ratio          p\n",
       "CpG island        3.29   0.00e+00\n",
       "DHS               1.28   2.40e-13\n",
       "Enhancer          0.66   2.37e-40\n",
       "Gene body         0.80   1.15e-18\n",
       "PRC2              1.58   3.52e-56\n",
       "Promoter          1.82  1.66e-114\n",
       "TSS               1.49   1.37e-57"
      ]
     },
     "execution_count": 126,
     "metadata": {},
     "output_type": "execute_result"
    }
   ],
   "source": [
    "associations.unstack()"
   ]
  },
  {
   "cell_type": "code",
   "execution_count": 127,
   "metadata": {
    "collapsed": false
   },
   "outputs": [
    {
     "data": {
      "text/plain": [
       "<matplotlib.axes.AxesSubplot at 0x7fc982bb8f90>"
      ]
     },
     "execution_count": 127,
     "metadata": {},
     "output_type": "execute_result"
    },
    {
     "data": {
      "image/png": "[encoded data removed]",
      "text/plain": [
       "<matplotlib.figure.Figure at 0x7fc982dd5d10>"
      ]
     },
     "metadata": {},
     "output_type": "display_data"
    }
   ],
   "source": [
    "np.log2(associations.ix[:,'odds_ratio']).plot(kind='bar')"
   ]
  }
 ],
 "metadata": {
  "kernelspec": {
   "display_name": "Python 2",
   "language": "python",
   "name": "python2"
  },
  "language_info": {
   "codemirror_mode": {
    "name": "ipython",
    "version": 2
   },
   "file_extension": ".py",
   "mimetype": "text/x-python",
   "name": "python",
   "nbconvert_exporter": "python",
   "pygments_lexer": "ipython2",
   "version": "2.7.9"
  }
 },
 "nbformat": 4,
 "nbformat_minor": 0
}

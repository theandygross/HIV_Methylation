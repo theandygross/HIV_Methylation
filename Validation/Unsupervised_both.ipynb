{
 "cells": [
  {
   "cell_type": "markdown",
   "metadata": {},
   "source": [
    "# Process Normalized Cross-Study Dataset"
   ]
  },
  {
   "cell_type": "markdown",
   "metadata": {},
   "source": [
    "For differential expression analysis, we processed all of the data together on a high memory node.  This was done using the minfi package in R, and all data were normalized using the preprocessQuantile function.  For a full script of the R pipeline see the [Methylation_Normalization_MINFI](./Methylation_Normalization_MINFI.ipynb) notebook."
   ]
  },
  {
   "cell_type": "markdown",
   "metadata": {},
   "source": [
    "Imports and helper functions from [Imports](Imports.ipynb) notebook."
   ]
  },
  {
   "cell_type": "code",
   "execution_count": 1,
   "metadata": {
    "collapsed": false
   },
   "outputs": [],
   "source": [
    "import os \n",
    "if os.getcwd().endswith('Validation'):\n",
    "    os.chdir('..')"
   ]
  },
  {
   "cell_type": "code",
   "execution_count": 2,
   "metadata": {
    "collapsed": false
   },
   "outputs": [
    {
     "data": {
      "text/html": [
       "importing IPython notebook from <a href='./Setup/Imports.ipynb' target='_blank'>Setup/Imports</a>"
      ]
     },
     "metadata": {},
     "output_type": "display_data"
    },
    {
     "name": "stdout",
     "output_type": "stream",
     "text": [
      "Populating the interactive namespace from numpy and matplotlib\n"
     ]
    }
   ],
   "source": [
    "import NotebookImport\n",
    "from Setup.Imports import *"
   ]
  },
  {
   "cell_type": "markdown",
   "metadata": {},
   "source": [
    "### Read in Validation Data"
   ]
  },
  {
   "cell_type": "code",
   "execution_count": 3,
   "metadata": {
    "collapsed": true
   },
   "outputs": [],
   "source": [
    "path = '/cellar/users/agross/TCGA_Code/Methlation/data/Validation/'"
   ]
  },
  {
   "cell_type": "code",
   "execution_count": 4,
   "metadata": {
    "collapsed": true
   },
   "outputs": [],
   "source": [
    "df_hiv =  pd.read_csv(path + 'BMIQ_Hannum2.csv', index_col=0)"
   ]
  },
  {
   "cell_type": "code",
   "execution_count": 5,
   "metadata": {
    "collapsed": false
   },
   "outputs": [],
   "source": [
    "cell_type = pd.Series(df_hiv.columns, index=df_hiv.columns)\n",
    "cell_type = cell_type.map(lambda s: s.strip()[-3:])"
   ]
  },
  {
   "cell_type": "code",
   "execution_count": 6,
   "metadata": {
    "collapsed": false
   },
   "outputs": [
    {
     "data": {
      "text/plain": [
       "(485512, 94)"
      ]
     },
     "execution_count": 6,
     "metadata": {},
     "output_type": "execute_result"
    }
   ],
   "source": [
    "df_hiv.shape"
   ]
  },
  {
   "cell_type": "code",
   "execution_count": 11,
   "metadata": {
    "collapsed": false
   },
   "outputs": [
    {
     "data": {
      "text/plain": [
       "Neu    48\n",
       "CD4    46\n",
       "dtype: int64"
      ]
     },
     "execution_count": 11,
     "metadata": {},
     "output_type": "execute_result"
    }
   ],
   "source": [
    "cell_type.value_counts()"
   ]
  },
  {
   "cell_type": "markdown",
   "metadata": {},
   "source": [
    "#### Read in annotations "
   ]
  },
  {
   "cell_type": "code",
   "execution_count": 133,
   "metadata": {
    "collapsed": true
   },
   "outputs": [],
   "source": [
    "hiv_ann = pd.read_excel(path + 'Methylome human NEUvs WB.xlsx', \n",
    "                        sheetname='HIV', skiprows=2, index_col=0)\n",
    "control_ann = pd.read_excel(path + 'Methylome human NEUvs WB.xlsx',\n",
    "                            sheetname='Negative', skiprows=2, index_col=0)\n",
    "ann = pd.concat([hiv_ann, control_ann], keys=['HIV+','HIV-'])\n",
    "ann = ann.reset_index()\n",
    "ann = ann.rename(columns={'Age (years)': 'age', 'level_0':'HIV'})\n",
    "ann = ann.set_index('PATID')"
   ]
  },
  {
   "cell_type": "code",
   "execution_count": 134,
   "metadata": {
    "collapsed": false
   },
   "outputs": [],
   "source": [
    "hiv_ann = pd.read_excel(path + 'Methylome human NEUvs WB.xlsx', \n",
    "                        sheetname='HIV', skiprows=2, index_col=0)\n",
    "control_ann = pd.read_excel(path + 'Methylome human NEUvs WB.xlsx',\n",
    "                            sheetname='Negative', skiprows=2, index_col=0)\n",
    "ann = pd.concat([hiv_ann, control_ann], keys=['HIV+','HIV-'])\n",
    "ann = ann.reset_index()\n",
    "ann = ann.rename(columns={'Age (years)': 'age', 'level_0':'HIV'})\n",
    "ann = ann.set_index('PATID')\n",
    "\n",
    "m2 = pd.read_excel('/cellar/users/agross/Downloads_Old/Methylome Study Demographic Data.xlsx',\n",
    "              skiprows=5, index_col=0)\n",
    "age2 = m2['Age (years)']\n",
    "ann = ann.ix[ann.index.union(age2.index)]\n",
    "ann['age'] = age2.combine_first(ann.age)\n",
    "ann['HIV'] = ann.HIV.fillna('HIV+')"
   ]
  },
  {
   "cell_type": "code",
   "execution_count": 135,
   "metadata": {
    "collapsed": false
   },
   "outputs": [],
   "source": [
    "age_n = pd.Series({'{}_Neu'.format(i[3:]): v for i,v in ann.age.iteritems()})\n",
    "age_t = pd.Series({'{}_CD4'.format(i[3:]): v for i,v in ann.age.iteritems()})\n",
    "age = pd.concat([age_n, age_t])\n",
    "\n",
    "hiv_n = pd.Series({'{}_Neu'.format(i[3:]): v for i,v in ann.HIV.iteritems()})\n",
    "hiv_t = pd.Series({'{}_CD4'.format(i[3:]): v for i,v in ann.HIV.iteritems()})\n",
    "hiv = pd.concat([hiv_n, hiv_t])\n",
    "hiv = hiv == 'HIV+'"
   ]
  },
  {
   "cell_type": "code",
   "execution_count": 9,
   "metadata": {
    "collapsed": false
   },
   "outputs": [
    {
     "data": {
      "text/html": [
       "importing IPython notebook from <a href='./Setup/DX_Imports.ipynb' target='_blank'>Setup/DX_Imports</a>"
      ]
     },
     "metadata": {},
     "output_type": "display_data"
    },
    {
     "data": {
      "text/html": [
       "importing IPython notebook from <a href='./Parallel/Age_HIV_Features.ipynb' target='_blank'>Parallel/Age_HIV_Features</a>"
      ]
     },
     "metadata": {},
     "output_type": "display_data"
    },
    {
     "data": {
      "text/html": [
       "importing IPython notebook from <a href='./HIV_Age_Advancement.ipynb' target='_blank'>HIV_Age_Advancement</a>"
      ]
     },
     "metadata": {},
     "output_type": "display_data"
    },
    {
     "data": {
      "text/html": [
       "importing IPython notebook from <a href='./Setup/MethylationAgeModels.ipynb' target='_blank'>Setup/MethylationAgeModels</a>"
      ]
     },
     "metadata": {},
     "output_type": "display_data"
    },
    {
     "data": {
      "text/html": [
       "importing IPython notebook from <a href='./Setup/Read_HIV_Data.ipynb' target='_blank'>Setup/Read_HIV_Data</a>"
      ]
     },
     "metadata": {},
     "output_type": "display_data"
    }
   ],
   "source": [
    "import Setup.DX_Imports as dx\n",
    "import Parallel.Age_HIV_Features as fx"
   ]
  },
  {
   "cell_type": "code",
   "execution_count": 172,
   "metadata": {
    "collapsed": true
   },
   "outputs": [],
   "source": [
    "neu_corr = pd.read_csv('/cellar/users/agross/Data/Methylation_Controls/neutrophils_age_corr.csv',\n",
    "                            index_col=0, squeeze=True)\n",
    "cd4_corr = pd.read_csv('/cellar/users/agross/Data/Methylation_Controls/CD4T_age_corr.csv',\n",
    "                            index_col=0, squeeze=True)"
   ]
  },
  {
   "cell_type": "code",
   "execution_count": 466,
   "metadata": {
    "collapsed": false
   },
   "outputs": [
    {
     "data": {
      "text/plain": [
       "5999"
      ]
     },
     "execution_count": 466,
     "metadata": {},
     "output_type": "execute_result"
    }
   ],
   "source": [
    "r2 = ti(fx.rr > 1)\n",
    "r4 = r2.intersection(ti(cd4_corr.abs() > .2))\n",
    "#r4 = cd4_corr.abs().ix[r2].dropna().order()[-10000:].index\n",
    "len(r4)"
   ]
  },
  {
   "cell_type": "code",
   "execution_count": 467,
   "metadata": {
    "collapsed": true
   },
   "outputs": [],
   "source": [
    "df = df_hiv.ix[r4, ti(cell_type=='CD4')].dropna(1)\n",
    "dd = logit_adj(df)\n",
    "m = dd.mean(1)\n",
    "s = dd.std(1)\n",
    "df_norm = dd.subtract(m, axis=0).divide(s, axis=0)"
   ]
  },
  {
   "cell_type": "code",
   "execution_count": 468,
   "metadata": {
    "collapsed": false
   },
   "outputs": [],
   "source": [
    "U,S,vH = frame_svd(df_norm)"
   ]
  },
  {
   "cell_type": "code",
   "execution_count": 469,
   "metadata": {
    "collapsed": false
   },
   "outputs": [
    {
     "data": {
      "text/plain": [
       "array([ 0.25161156,  0.18350819,  0.06644469,  0.0508525 ,  0.03071282])"
      ]
     },
     "execution_count": 469,
     "metadata": {},
     "output_type": "execute_result"
    }
   ],
   "source": [
    "p = S ** 2 / sum(S ** 2)\n",
    "p[:5]"
   ]
  },
  {
   "cell_type": "code",
   "execution_count": 470,
   "metadata": {
    "collapsed": false
   },
   "outputs": [
    {
     "data": {
      "image/png": "[encoded data removed]",
      "text/plain": [
       "<matplotlib.figure.Figure at 0x7fbb3f34efd0>"
      ]
     },
     "metadata": {},
     "output_type": "display_data"
    }
   ],
   "source": [
    "fig, ax = subplots(1,1, figsize=(4,3))\n",
    "rr1 = -1*vH[0]\n",
    "\n",
    "sns.regplot(*match_series(age, rr1.ix[ti(hiv==0)]),\n",
    "            ax=ax, label='HIV+', ci=None)\n",
    "sns.regplot(*match_series(age, rr1.ix[ti(hiv>0)]),\n",
    "            ax=ax, label='Control', ci=None)\n",
    "ax.set_ylabel('First PC', size=12)\n",
    "ax.set_xlabel('Chronological age (years)', size=14)\n",
    "\n",
    "ax.set_yticks([0])\n",
    "ax.axhline(0, ls='--', lw=2.5, color='grey', zorder=-1)\n",
    "ax.set_xbound(23,70)\n",
    "prettify_ax(ax)\n",
    "fig.tight_layout()"
   ]
  },
  {
   "cell_type": "code",
   "execution_count": 492,
   "metadata": {
    "collapsed": false
   },
   "outputs": [
    {
     "data": {
      "text/plain": [
       "9971"
      ]
     },
     "execution_count": 492,
     "metadata": {},
     "output_type": "execute_result"
    }
   ],
   "source": [
    "r2 = ti(fx.rr > 1)\n",
    "r4 = r2.intersection(ti(neu_corr.abs() > .2))\n",
    "#r4 = neu_corr.abs().ix[r2].dropna().order()[-10000:].index\n",
    "len(r4)"
   ]
  },
  {
   "cell_type": "code",
   "execution_count": 503,
   "metadata": {
    "collapsed": true
   },
   "outputs": [],
   "source": [
    "df = df_hiv.ix[r4, ti(cell_type=='Neu')].dropna(1)\n",
    "dd = logit_adj(df)\n",
    "m = dd.mean(1)\n",
    "s = dd.std(1)\n",
    "df_norm = dd.subtract(m, axis=0).divide(s, axis=0)"
   ]
  },
  {
   "cell_type": "code",
   "execution_count": 504,
   "metadata": {
    "collapsed": false
   },
   "outputs": [
    {
     "data": {
      "text/plain": [
       "array([ 0.13505059,  0.10045817,  0.07619568,  0.04236922,  0.03697217])"
      ]
     },
     "execution_count": 504,
     "metadata": {},
     "output_type": "execute_result"
    }
   ],
   "source": [
    "U,S,vH = frame_svd(df_norm)\n",
    "p = S ** 2 / sum(S ** 2)\n",
    "p[:5]"
   ]
  },
  {
   "cell_type": "code",
   "execution_count": 505,
   "metadata": {
    "collapsed": false
   },
   "outputs": [
    {
     "data": {
      "text/plain": [
       "204_Neu    1.40\n",
       "206_Neu    1.44\n",
       "219_Neu    1.82\n",
       "379_Neu    2.26\n",
       "383_Neu    4.39\n",
       "Name: 0, dtype: float64"
      ]
     },
     "execution_count": 505,
     "metadata": {},
     "output_type": "execute_result"
    }
   ],
   "source": [
    "((vH[0] - vH[0].mean()) / vH[0].std()).abs().order().tail()"
   ]
  },
  {
   "cell_type": "code",
   "execution_count": 506,
   "metadata": {
    "collapsed": false
   },
   "outputs": [
    {
     "data": {
      "text/plain": [
       "array([ 0.12436987,  0.08794486,  0.07264244,  0.0443376 ,  0.03394085])"
      ]
     },
     "execution_count": 506,
     "metadata": {},
     "output_type": "execute_result"
    }
   ],
   "source": [
    "U,S,vH = frame_svd(df_norm[[p for p in df_norm.columns if p != '383_Neu']])\n",
    "p = S ** 2 / sum(S ** 2)\n",
    "p[:5]"
   ]
  },
  {
   "cell_type": "code",
   "execution_count": 507,
   "metadata": {
    "collapsed": false
   },
   "outputs": [
    {
     "data": {
      "image/png": "[encoded data removed]",
      "text/plain": [
       "<matplotlib.figure.Figure at 0x7fbb3f34ecd0>"
      ]
     },
     "metadata": {},
     "output_type": "display_data"
    }
   ],
   "source": [
    "fig, ax = subplots(1,1, figsize=(4,3))\n",
    "rr2 = -1*vH[0]\n",
    "\n",
    "sns.regplot(*match_series(age, rr2.ix[ti(hiv==0)]),\n",
    "            ax=ax, label='HIV+', ci=None)\n",
    "sns.regplot(*match_series(age, rr2.ix[ti(hiv>0)]),\n",
    "            ax=ax, label='Control', ci=None)\n",
    "ax.set_ylabel('First PC', size=12)\n",
    "ax.set_xlabel('Chronological age (years)', size=14)\n",
    "\n",
    "ax.set_yticks([0])\n",
    "ax.axhline(0, ls='--', lw=2.5, color='grey', zorder=-1)\n",
    "ax.set_xbound(23,70)\n",
    "#ax.set_ybound(-.25,.25)\n",
    "prettify_ax(ax)\n",
    "fig.tight_layout()"
   ]
  },
  {
   "cell_type": "code",
   "execution_count": 509,
   "metadata": {
    "collapsed": false
   },
   "outputs": [
    {
     "data": {
      "image/png": "[encoded data removed]",
      "text/plain": [
       "<matplotlib.figure.Figure at 0x7fbaab0a5d50>"
      ]
     },
     "metadata": {},
     "output_type": "display_data"
    }
   ],
   "source": [
    "fig, axs = subplots(1,2, figsize=(8,3))\n",
    "\n",
    "ax = axs[0]\n",
    "sns.regplot(*match_series(age, rr1.ix[ti(hiv==0)]),\n",
    "            ax=ax, label='HIV+', ci=None)\n",
    "sns.regplot(*match_series(age, rr1.ix[ti(hiv>0)]),\n",
    "            ax=ax, label='Control', ci=None)\n",
    "ax.set_ylabel('First PC\\n(CD4+)', size=12)\n",
    "\n",
    "ax = axs[1]\n",
    "sns.regplot(*match_series(age, rr2.ix[ti(hiv==0)]),\n",
    "            ax=ax, label='HIV+', ci=None)\n",
    "sns.regplot(*match_series(age, rr2.ix[ti(hiv>0)]),\n",
    "            ax=ax, label='Control', ci=None)\n",
    "ax.set_ylabel('First PC\\n(Neutrophil)', size=12)\n",
    "\n",
    "for ax in axs:\n",
    "    ax.legend(loc='lower right', frameon=True, fancybox=True)\n",
    "    ax.set_xlabel('Chronological age (years)', size=14)\n",
    "\n",
    "    ax.set_yticks([0])\n",
    "    ax.axhline(0, ls='--', lw=2.5, color='grey', zorder=-1)\n",
    "    ax.set_xbound(23,70)\n",
    "    prettify_ax(ax)\n",
    "    \n",
    "fig.tight_layout()\n",
    "fig.savefig(FIGDIR + 'PCA_sorted.png', dpi=200)"
   ]
  }
 ],
 "metadata": {
  "kernelspec": {
   "display_name": "Python 2",
   "language": "python",
   "name": "python2"
  },
  "language_info": {
   "codemirror_mode": {
    "name": "ipython",
    "version": 2
   },
   "file_extension": ".py",
   "mimetype": "text/x-python",
   "name": "python",
   "nbconvert_exporter": "python",
   "pygments_lexer": "ipython2",
   "version": "2.7.9"
  }
 },
 "nbformat": 4,
 "nbformat_minor": 0
}

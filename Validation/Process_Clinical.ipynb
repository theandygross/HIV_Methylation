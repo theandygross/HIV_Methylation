{
 "cells": [
  {
   "cell_type": "code",
   "execution_count": 1,
   "metadata": {
    "collapsed": true
   },
   "outputs": [],
   "source": [
    "%matplotlib inline"
   ]
  },
  {
   "cell_type": "code",
   "execution_count": 2,
   "metadata": {
    "collapsed": false
   },
   "outputs": [],
   "source": [
    "import pandas as pd\n",
    "from Figures.Boxplots import violin_plot_pandas"
   ]
  },
  {
   "cell_type": "code",
   "execution_count": 3,
   "metadata": {
    "collapsed": true
   },
   "outputs": [],
   "source": [
    "path = '/cellar/users/agross/TCGA_Code/Methlation/data/Validation/'"
   ]
  },
  {
   "cell_type": "markdown",
   "metadata": {},
   "source": [
    "#### Read in annotations "
   ]
  },
  {
   "cell_type": "code",
   "execution_count": 4,
   "metadata": {
    "collapsed": true
   },
   "outputs": [],
   "source": [
    "hiv_ann = pd.read_excel(path + 'Methylome human NEUvs WB.xlsx', \n",
    "                        sheetname='HIV', skiprows=2, index_col=0)\n",
    "control_ann = pd.read_excel(path + 'Methylome human NEUvs WB.xlsx',\n",
    "                            sheetname='Negative', skiprows=2, index_col=0)\n",
    "ann = pd.concat([hiv_ann, control_ann], keys=['HIV+','HIV-'])\n",
    "ann = ann.reset_index()\n",
    "ann = ann.rename(columns={'Age (years)': 'age', 'level_0':'HIV'})\n",
    "ann = ann.set_index('PATID')\n",
    "#ann = ann.ix[betas.columns]"
   ]
  },
  {
   "cell_type": "code",
   "execution_count": 5,
   "metadata": {
    "collapsed": true
   },
   "outputs": [],
   "source": [
    "m2 = pd.read_excel('/cellar/users/agross/Downloads_Old/Methylome Study Demographic Data.xlsx',\n",
    "              skiprows=5, index_col=0)\n",
    "age2 = m2['Age (years)']\n",
    "ann = ann.ix[ann.index.union(age2.index)]\n",
    "ann['age'] = age2.combine_first(ann.age)\n",
    "ann['HIV'] = ann.HIV.fillna('HIV+')"
   ]
  },
  {
   "cell_type": "code",
   "execution_count": 6,
   "metadata": {
    "collapsed": false
   },
   "outputs": [
    {
     "data": {
      "image/png": "[encoded data removed]",
      "text/plain": [
       "<matplotlib.figure.Figure at 0x7f4a3bb3b190>"
      ]
     },
     "metadata": {},
     "output_type": "display_data"
    }
   ],
   "source": [
    "violin_plot_pandas(ann.HIV, ann.age)"
   ]
  },
  {
   "cell_type": "code",
   "execution_count": 7,
   "metadata": {
    "collapsed": true
   },
   "outputs": [],
   "source": [
    "age_n = pd.Series({'{}_Neu'.format(i[3:]): v for i,v in ann.age.iteritems()})\n",
    "age_t = pd.Series({'{}_CD4'.format(i[3:]): v for i,v in ann.age.iteritems()})\n",
    "age = pd.concat([age_n, age_t])\n",
    "\n",
    "hiv_n = pd.Series({'{}_Neu'.format(i[3:]): v for i,v in ann.HIV.iteritems()})\n",
    "hiv_t = pd.Series({'{}_CD4'.format(i[3:]): v for i,v in ann.HIV.iteritems()})\n",
    "hiv = pd.concat([hiv_n, hiv_t])"
   ]
  },
  {
   "cell_type": "code",
   "execution_count": 8,
   "metadata": {
    "collapsed": true
   },
   "outputs": [],
   "source": [
    "cell_type = pd.Series(hiv.index, index=hiv.index)\n",
    "cell_type = cell_type.map(lambda s: s.split('_')[1])"
   ]
  },
  {
   "cell_type": "code",
   "execution_count": 13,
   "metadata": {
    "collapsed": false
   },
   "outputs": [
    {
     "data": {
      "text/plain": [
       "2016.0"
      ]
     },
     "execution_count": 13,
     "metadata": {},
     "output_type": "execute_result"
    }
   ],
   "source": [
    "40.32 * 50"
   ]
  },
  {
   "cell_type": "code",
   "execution_count": null,
   "metadata": {
    "collapsed": true
   },
   "outputs": [],
   "source": []
  }
 ],
 "metadata": {
  "kernelspec": {
   "display_name": "Python 2",
   "language": "python",
   "name": "python2"
  },
  "language_info": {
   "codemirror_mode": {
    "name": "ipython",
    "version": 2
   },
   "file_extension": ".py",
   "mimetype": "text/x-python",
   "name": "python",
   "nbconvert_exporter": "python",
   "pygments_lexer": "ipython2",
   "version": "2.7.9"
  }
 },
 "nbformat": 4,
 "nbformat_minor": 0
}

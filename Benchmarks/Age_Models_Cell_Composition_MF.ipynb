{
 "cells": [
  {
   "cell_type": "markdown",
   "metadata": {},
   "source": [
    "# HIV Methylation Age: Cell Composition Coorelates of Age Advancement"
   ]
  },
  {
   "cell_type": "markdown",
   "metadata": {},
   "source": [
    "### Imports and Helper Functions"
   ]
  },
  {
   "cell_type": "code",
   "execution_count": 1,
   "metadata": {
    "collapsed": false
   },
   "outputs": [
    {
     "data": {
      "text/html": [
       "importing IPython notebook from <a href='./Model_Comparison_MF.ipynb' target='_blank'>Model_Comparison_MF</a>"
      ]
     },
     "metadata": {},
     "output_type": "display_data"
    },
    {
     "data": {
      "text/html": [
       "importing IPython notebook from <a href='./Age_Models_All_Patients.ipynb' target='_blank'>Age_Models_All_Patients</a>"
      ]
     },
     "metadata": {},
     "output_type": "display_data"
    },
    {
     "data": {
      "text/html": [
       "importing IPython notebook from <a href='./Setup/Imports.ipynb' target='_blank'>Setup/Imports</a>"
      ]
     },
     "metadata": {},
     "output_type": "display_data"
    },
    {
     "name": "stdout",
     "output_type": "stream",
     "text": [
      "Populating the interactive namespace from numpy and matplotlib\n"
     ]
    },
    {
     "data": {
      "text/html": [
       "importing IPython notebook from <a href='./Setup/MethylationAgeModels.ipynb' target='_blank'>Setup/MethylationAgeModels</a>"
      ]
     },
     "metadata": {},
     "output_type": "display_data"
    },
    {
     "data": {
      "text/html": [
       "importing IPython notebook from <a href='./Setup/Read_HIV_Data.ipynb' target='_blank'>Setup/Read_HIV_Data</a>"
      ]
     },
     "metadata": {},
     "output_type": "display_data"
    }
   ],
   "source": [
    "import NotebookImport\n",
    "from Model_Comparison_MF import *"
   ]
  },
  {
   "cell_type": "code",
   "execution_count": 2,
   "metadata": {
    "collapsed": false
   },
   "outputs": [],
   "source": [
    "pts = ti(labels.isin(['s1','s3']))\n",
    "pts = pts.intersection(mc_adj_c.index)\n",
    "age = age.ix[pts].dropna()\n",
    "pred_c = mc_adj_c.ix[pts].dropna()"
   ]
  },
  {
   "cell_type": "markdown",
   "metadata": {},
   "source": [
    "## Cell Composition"
   ]
  },
  {
   "cell_type": "code",
   "execution_count": 3,
   "metadata": {
    "collapsed": false
   },
   "outputs": [
    {
     "data": {
      "text/html": [
       "<div>\n",
       "<table border=\"1\" class=\"dataframe\">\n",
       "  <thead>\n",
       "    <tr style=\"text-align: right;\">\n",
       "      <th></th>\n",
       "      <th>rho</th>\n",
       "      <th>p</th>\n",
       "      <th>q</th>\n",
       "    </tr>\n",
       "  </thead>\n",
       "  <tbody>\n",
       "    <tr>\n",
       "      <th>CD8T</th>\n",
       "      <td>-0.15</td>\n",
       "      <td>9.25e-07</td>\n",
       "      <td>5.55e-06</td>\n",
       "    </tr>\n",
       "    <tr>\n",
       "      <th>NK</th>\n",
       "      <td>0.10</td>\n",
       "      <td>5.38e-04</td>\n",
       "      <td>1.61e-03</td>\n",
       "    </tr>\n",
       "    <tr>\n",
       "      <th>Mono</th>\n",
       "      <td>0.06</td>\n",
       "      <td>3.19e-02</td>\n",
       "      <td>6.37e-02</td>\n",
       "    </tr>\n",
       "    <tr>\n",
       "      <th>Bcell</th>\n",
       "      <td>0.04</td>\n",
       "      <td>1.36e-01</td>\n",
       "      <td>2.05e-01</td>\n",
       "    </tr>\n",
       "    <tr>\n",
       "      <th>Gran</th>\n",
       "      <td>-0.02</td>\n",
       "      <td>4.39e-01</td>\n",
       "      <td>5.27e-01</td>\n",
       "    </tr>\n",
       "    <tr>\n",
       "      <th>CD4T</th>\n",
       "      <td>-0.01</td>\n",
       "      <td>7.16e-01</td>\n",
       "      <td>7.16e-01</td>\n",
       "    </tr>\n",
       "  </tbody>\n",
       "</table>\n",
       "</div>"
      ],
      "text/plain": [
       "        rho         p         q\n",
       "CD8T  -0.15  9.25e-07  5.55e-06\n",
       "NK     0.10  5.38e-04  1.61e-03\n",
       "Mono   0.06  3.19e-02  6.37e-02\n",
       "Bcell  0.04  1.36e-01  2.05e-01\n",
       "Gran  -0.02  4.39e-01  5.27e-01\n",
       "CD4T  -0.01  7.16e-01  7.16e-01"
      ]
     },
     "execution_count": 3,
     "metadata": {},
     "output_type": "execute_result"
    }
   ],
   "source": [
    "screen_feature(age, pearson_pandas, cell_counts.T, align=False)"
   ]
  },
  {
   "cell_type": "code",
   "execution_count": 4,
   "metadata": {
    "collapsed": false
   },
   "outputs": [
    {
     "data": {
      "text/html": [
       "<div>\n",
       "<table border=\"1\" class=\"dataframe\">\n",
       "  <thead>\n",
       "    <tr style=\"text-align: right;\">\n",
       "      <th></th>\n",
       "      <th>rho</th>\n",
       "      <th>p</th>\n",
       "      <th>q</th>\n",
       "    </tr>\n",
       "  </thead>\n",
       "  <tbody>\n",
       "    <tr>\n",
       "      <th>CD8T</th>\n",
       "      <td>-0.16</td>\n",
       "      <td>1.35e-07</td>\n",
       "      <td>8.13e-07</td>\n",
       "    </tr>\n",
       "    <tr>\n",
       "      <th>NK</th>\n",
       "      <td>0.13</td>\n",
       "      <td>1.30e-05</td>\n",
       "      <td>3.91e-05</td>\n",
       "    </tr>\n",
       "    <tr>\n",
       "      <th>Mono</th>\n",
       "      <td>0.10</td>\n",
       "      <td>1.01e-03</td>\n",
       "      <td>2.02e-03</td>\n",
       "    </tr>\n",
       "    <tr>\n",
       "      <th>Bcell</th>\n",
       "      <td>-0.07</td>\n",
       "      <td>1.78e-02</td>\n",
       "      <td>2.67e-02</td>\n",
       "    </tr>\n",
       "    <tr>\n",
       "      <th>CD4T</th>\n",
       "      <td>-0.05</td>\n",
       "      <td>7.35e-02</td>\n",
       "      <td>8.82e-02</td>\n",
       "    </tr>\n",
       "    <tr>\n",
       "      <th>Gran</th>\n",
       "      <td>0.05</td>\n",
       "      <td>1.25e-01</td>\n",
       "      <td>1.25e-01</td>\n",
       "    </tr>\n",
       "  </tbody>\n",
       "</table>\n",
       "</div>"
      ],
      "text/plain": [
       "        rho         p         q\n",
       "CD8T  -0.16  1.35e-07  8.13e-07\n",
       "NK     0.13  1.30e-05  3.91e-05\n",
       "Mono   0.10  1.01e-03  2.02e-03\n",
       "Bcell -0.07  1.78e-02  2.67e-02\n",
       "CD4T  -0.05  7.35e-02  8.82e-02\n",
       "Gran   0.05  1.25e-01  1.25e-01"
      ]
     },
     "execution_count": 4,
     "metadata": {},
     "output_type": "execute_result"
    }
   ],
   "source": [
    "screen_feature(pred_c, pearson_pandas, cell_counts.T, align=False)"
   ]
  },
  {
   "cell_type": "code",
   "execution_count": 5,
   "metadata": {
    "collapsed": false
   },
   "outputs": [
    {
     "data": {
      "text/html": [
       "<div>\n",
       "<table border=\"1\" class=\"dataframe\">\n",
       "  <thead>\n",
       "    <tr style=\"text-align: right;\">\n",
       "      <th></th>\n",
       "      <th>rho</th>\n",
       "      <th>p</th>\n",
       "      <th>q</th>\n",
       "    </tr>\n",
       "  </thead>\n",
       "  <tbody>\n",
       "    <tr>\n",
       "      <th>Bcell</th>\n",
       "      <td>-0.20</td>\n",
       "      <td>5.23e-12</td>\n",
       "      <td>3.14e-11</td>\n",
       "    </tr>\n",
       "    <tr>\n",
       "      <th>Gran</th>\n",
       "      <td>0.12</td>\n",
       "      <td>3.59e-05</td>\n",
       "      <td>1.08e-04</td>\n",
       "    </tr>\n",
       "    <tr>\n",
       "      <th>CD4T</th>\n",
       "      <td>-0.08</td>\n",
       "      <td>5.25e-03</td>\n",
       "      <td>8.70e-03</td>\n",
       "    </tr>\n",
       "    <tr>\n",
       "      <th>Mono</th>\n",
       "      <td>0.08</td>\n",
       "      <td>5.80e-03</td>\n",
       "      <td>8.70e-03</td>\n",
       "    </tr>\n",
       "    <tr>\n",
       "      <th>NK</th>\n",
       "      <td>0.08</td>\n",
       "      <td>7.57e-03</td>\n",
       "      <td>9.08e-03</td>\n",
       "    </tr>\n",
       "    <tr>\n",
       "      <th>CD8T</th>\n",
       "      <td>-0.06</td>\n",
       "      <td>3.75e-02</td>\n",
       "      <td>3.75e-02</td>\n",
       "    </tr>\n",
       "  </tbody>\n",
       "</table>\n",
       "</div>"
      ],
      "text/plain": [
       "        rho         p         q\n",
       "Bcell -0.20  5.23e-12  3.14e-11\n",
       "Gran   0.12  3.59e-05  1.08e-04\n",
       "CD4T  -0.08  5.25e-03  8.70e-03\n",
       "Mono   0.08  5.80e-03  8.70e-03\n",
       "NK     0.08  7.57e-03  9.08e-03\n",
       "CD8T  -0.06  3.75e-02  3.75e-02"
      ]
     },
     "execution_count": 5,
     "metadata": {},
     "output_type": "execute_result"
    }
   ],
   "source": [
    "screen_feature((pred_c - age), pearson_pandas, cell_counts.T, align=False)"
   ]
  },
  {
   "cell_type": "code",
   "execution_count": 6,
   "metadata": {
    "collapsed": false
   },
   "outputs": [
    {
     "name": "stdout",
     "output_type": "stream",
     "text": [
      "Coefficients: (1 not defined because of singularities)\n",
      "            Estimate Std. Error t value Pr(>|t|)    \n",
      "(Intercept)   1.4800     0.8599   1.721  0.08550 .  \n",
      "NK            8.9736     3.3440   2.683  0.00739 ** \n",
      "CD4T         -5.6350     2.8913  -1.949  0.05155 .  \n",
      "CD8T         -6.0203     3.9882  -1.510  0.13144    \n",
      "Bcell       -18.8118     2.9826  -6.307 4.07e-10 ***\n",
      "Mono          4.0888     7.0568   0.579  0.56243    \n",
      "Gran              NA         NA      NA       NA    \n",
      "---\n",
      "Signif. codes:  0 ‘***’ 0.001 ‘**’ 0.01 ‘*’ 0.05 ‘.’ 0.1 ‘ ’ 1\n",
      "\n",
      "Residual standard error: 5.104 on 1128 degrees of freedom\n",
      "Multiple R-squared:  0.0537,\tAdjusted R-squared:  0.0495 \n",
      "F-statistic:  12.8 on 5 and 1128 DF,  p-value: 3.986e-12\n",
      "\n",
      "\n"
     ]
    }
   ],
   "source": [
    "residual = (pred_c - age)\n",
    "residual.name = 'residual'\n",
    "\n",
    "df = process_factors([residual, cell_counts.NK, cell_counts.CD4T, cell_counts.CD8T,\n",
    "                      cell_counts.Bcell, cell_counts.Mono, cell_counts.Gran],\n",
    "                     standardize=False)\n",
    "fmla = robjects.Formula('residual ~ NK + CD4T + CD8T + Bcell + Mono + Gran')\n",
    "m = robjects.r.lm(fmla, df)\n",
    "s = robjects.r.summary(m)\n",
    "print '\\n\\n'.join(str(s).split('\\n\\n')[-3:])"
   ]
  },
  {
   "cell_type": "code",
   "execution_count": 7,
   "metadata": {
    "collapsed": false
   },
   "outputs": [
    {
     "name": "stdout",
     "output_type": "stream",
     "text": [
      "Coefficients: (1 not defined because of singularities)\n",
      "            Estimate Std. Error t value Pr(>|t|)    \n",
      "(Intercept) 13.31146    1.02701  12.961  < 2e-16 ***\n",
      "pred_age     0.72329    0.01349  53.621  < 2e-16 ***\n",
      "NK           0.14139    2.88338   0.049  0.96090    \n",
      "CD4T         5.17463    2.59690   1.993  0.04655 *  \n",
      "CD8T        -5.48321    3.54943  -1.545  0.12267    \n",
      "Bcell       16.04825    4.91224   3.267  0.00112 ** \n",
      "Mono         3.60495    6.01347   0.599  0.54897    \n",
      "Gran              NA         NA      NA       NA    \n",
      "---\n",
      "Signif. codes:  0 ‘***’ 0.001 ‘**’ 0.01 ‘*’ 0.05 ‘.’ 0.1 ‘ ’ 1\n",
      "\n",
      "Residual standard error: 4.338 on 1124 degrees of freedom\n",
      "Multiple R-squared:  0.7309,\tAdjusted R-squared:  0.7294 \n",
      "F-statistic: 508.8 on 6 and 1124 DF,  p-value: < 2.2e-16\n",
      "\n",
      "\n"
     ]
    }
   ],
   "source": [
    "age.name = 'age'\n",
    "pred_c.name = 'pred_age'\n",
    "\n",
    "df = process_factors([age.ix[ti(in_set==True)], cell_counts.NK, cell_counts.CD4T, cell_counts.CD8T,\n",
    "                      cell_counts.Bcell, cell_counts.Mono, cell_counts.Gran,\n",
    "                      pred_c], standardize=False)\n",
    "fmla = robjects.Formula('age ~ pred_age + NK + CD4T + CD8T + Bcell + Mono + Gran')\n",
    "m = robjects.r.lm(fmla, df)\n",
    "s = robjects.r.summary(m)\n",
    "print '\\n\\n'.join(str(s).split('\\n\\n')[-3:])"
   ]
  },
  {
   "cell_type": "code",
   "execution_count": 8,
   "metadata": {
    "collapsed": false
   },
   "outputs": [
    {
     "name": "stdout",
     "output_type": "stream",
     "text": [
      "Coefficients: (1 not defined because of singularities)\n",
      "             Estimate Std. Error t value Pr(>|t|)    \n",
      "(Intercept)   1.76024    1.28973   1.365 0.172585    \n",
      "age           0.99400    0.01854  53.621  < 2e-16 ***\n",
      "NK            9.15425    3.36913   2.717 0.006687 ** \n",
      "CD4T         -5.46345    3.04535  -1.794 0.073077 .  \n",
      "CD8T         -6.20882    4.16128  -1.492 0.135968    \n",
      "Bcell       -19.21910    5.75740  -3.338 0.000871 ***\n",
      "Mono          4.72759    7.04928   0.671 0.502582    \n",
      "Gran               NA         NA      NA       NA    \n",
      "---\n",
      "Signif. codes:  0 ‘***’ 0.001 ‘**’ 0.01 ‘*’ 0.05 ‘.’ 0.1 ‘ ’ 1\n",
      "\n",
      "Residual standard error: 5.086 on 1124 degrees of freedom\n",
      "Multiple R-squared:  0.7346,\tAdjusted R-squared:  0.7332 \n",
      "F-statistic: 518.6 on 6 and 1124 DF,  p-value: < 2.2e-16\n",
      "\n",
      "\n"
     ]
    }
   ],
   "source": [
    "df = process_factors([age.ix[ti(in_set==True)], cell_counts.NK, cell_counts.CD4T, cell_counts.CD8T,\n",
    "                      cell_counts.Bcell, cell_counts.Mono, cell_counts.Gran,\n",
    "                      pred_c], standardize=False)\n",
    "fmla = robjects.Formula('pred_age ~  age + NK + CD4T + CD8T + Bcell + Mono + Gran')\n",
    "m = robjects.r.lm(fmla, df)\n",
    "s = robjects.r.summary(m)\n",
    "print '\\n\\n'.join(str(s).split('\\n\\n')[-3:])"
   ]
  },
  {
   "cell_type": "code",
   "execution_count": 9,
   "metadata": {
    "collapsed": false
   },
   "outputs": [],
   "source": [
    "pred.name = 'pred_age'"
   ]
  },
  {
   "cell_type": "code",
   "execution_count": 10,
   "metadata": {
    "collapsed": false
   },
   "outputs": [
    {
     "name": "stdout",
     "output_type": "stream",
     "text": [
      "Coefficients:\n",
      "            Estimate Std. Error t value Pr(>|t|)    \n",
      "(Intercept)  0.71727    1.09054   0.658   0.5109    \n",
      "age          0.99978    0.01855  53.901   <2e-16 ***\n",
      "CD8T        -9.06228    3.96132  -2.288   0.0223 *  \n",
      "---\n",
      "Signif. codes:  0 ‘***’ 0.001 ‘**’ 0.01 ‘*’ 0.05 ‘.’ 0.1 ‘ ’ 1\n",
      "\n",
      "Residual standard error: 5.147 on 1128 degrees of freedom\n",
      "Multiple R-squared:  0.7273,\tAdjusted R-squared:  0.7268 \n",
      "F-statistic:  1504 on 2 and 1128 DF,  p-value: < 2.2e-16\n",
      "\n",
      "\n"
     ]
    }
   ],
   "source": [
    "df = process_factors([age.ix[ti(in_set==True)], cell_counts.NK, cell_counts.CD4T, cell_counts.CD8T,\n",
    "                      cell_counts.Bcell, cell_counts.Mono, cell_counts.Gran,\n",
    "                      pred_c], standardize=False)\n",
    "fmla = robjects.Formula('pred_age ~  age + CD8T')\n",
    "m = robjects.r.lm(fmla, df)\n",
    "s = robjects.r.summary(m)\n",
    "print '\\n\\n'.join(str(s).split('\\n\\n')[-3:])"
   ]
  }
 ],
 "metadata": {
  "kernelspec": {
   "display_name": "Python 2",
   "language": "python",
   "name": "python2"
  },
  "language_info": {
   "codemirror_mode": {
    "name": "ipython",
    "version": 2
   },
   "file_extension": ".py",
   "mimetype": "text/x-python",
   "name": "python",
   "nbconvert_exporter": "python",
   "pygments_lexer": "ipython2",
   "version": "2.7.9"
  }
 },
 "nbformat": 4,
 "nbformat_minor": 0
}

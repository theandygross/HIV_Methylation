{
 "metadata": {
  "kernelspec": {
   "codemirror_mode": {
    "name": "ipython",
    "version": 2
   },
   "display_name": "IPython (Python 2)",
   "language": "python",
   "name": "python2"
  },
  "name": "",
  "signature": "sha256:d50dfc4b5fca58698381e36255999f1fb6b68956fe2555e5232f9392c17f08c9"
 },
 "nbformat": 3,
 "nbformat_minor": 0,
 "worksheets": [
  {
   "cells": [
    {
     "cell_type": "heading",
     "level": 1,
     "metadata": {},
     "source": [
      "HIV Methylation Age: Cell Composition Coorelates of Age Advancement"
     ]
    },
    {
     "cell_type": "heading",
     "level": 3,
     "metadata": {},
     "source": [
      "Imports and Helper Functions"
     ]
    },
    {
     "cell_type": "code",
     "collapsed": false,
     "input": [
      "import NotebookImport\n",
      "from Model_Comparison_MF import *"
     ],
     "language": "python",
     "metadata": {},
     "outputs": [],
     "prompt_number": 23
    },
    {
     "cell_type": "code",
     "collapsed": false,
     "input": [
      "pts = ti(labels.isin(['s1','s3']))\n",
      "pts = pts.intersection(mc_adj_c.index)\n",
      "age = age.ix[pts].dropna()\n",
      "pred_c = mc_adj_c.ix[pts].dropna()"
     ],
     "language": "python",
     "metadata": {},
     "outputs": [],
     "prompt_number": 24
    },
    {
     "cell_type": "heading",
     "level": 2,
     "metadata": {},
     "source": [
      "Cell Composition"
     ]
    },
    {
     "cell_type": "code",
     "collapsed": false,
     "input": [
      "screen_feature(age, pearson_pandas, cell_counts.T, align=False)"
     ],
     "language": "python",
     "metadata": {},
     "outputs": [
      {
       "html": [
        "<div style=\"max-height:1000px;max-width:1500px;overflow:auto;\">\n",
        "<table border=\"1\" class=\"dataframe\">\n",
        "  <thead>\n",
        "    <tr style=\"text-align: right;\">\n",
        "      <th></th>\n",
        "      <th>rho</th>\n",
        "      <th>p</th>\n",
        "      <th>q</th>\n",
        "    </tr>\n",
        "  </thead>\n",
        "  <tbody>\n",
        "    <tr>\n",
        "      <th>CD8T</th>\n",
        "      <td>-0.15</td>\n",
        "      <td> 7.99e-07</td>\n",
        "      <td> 4.79e-06</td>\n",
        "    </tr>\n",
        "    <tr>\n",
        "      <th>NK</th>\n",
        "      <td> 0.11</td>\n",
        "      <td> 2.90e-04</td>\n",
        "      <td> 8.70e-04</td>\n",
        "    </tr>\n",
        "    <tr>\n",
        "      <th>Mono</th>\n",
        "      <td> 0.06</td>\n",
        "      <td> 3.25e-02</td>\n",
        "      <td> 6.49e-02</td>\n",
        "    </tr>\n",
        "    <tr>\n",
        "      <th>Bcell</th>\n",
        "      <td> 0.05</td>\n",
        "      <td> 1.25e-01</td>\n",
        "      <td> 1.88e-01</td>\n",
        "    </tr>\n",
        "    <tr>\n",
        "      <th>Gran</th>\n",
        "      <td>-0.02</td>\n",
        "      <td> 4.07e-01</td>\n",
        "      <td> 4.88e-01</td>\n",
        "    </tr>\n",
        "    <tr>\n",
        "      <th>CD4T</th>\n",
        "      <td>-0.01</td>\n",
        "      <td> 6.81e-01</td>\n",
        "      <td> 6.81e-01</td>\n",
        "    </tr>\n",
        "  </tbody>\n",
        "</table>\n",
        "</div>"
       ],
       "metadata": {},
       "output_type": "pyout",
       "prompt_number": 26,
       "text": [
        "        rho         p         q\n",
        "CD8T  -0.15  7.99e-07  4.79e-06\n",
        "NK     0.11  2.90e-04  8.70e-04\n",
        "Mono   0.06  3.25e-02  6.49e-02\n",
        "Bcell  0.05  1.25e-01  1.88e-01\n",
        "Gran  -0.02  4.07e-01  4.88e-01\n",
        "CD4T  -0.01  6.81e-01  6.81e-01"
       ]
      }
     ],
     "prompt_number": 26
    },
    {
     "cell_type": "code",
     "collapsed": false,
     "input": [
      "screen_feature(pred_c, pearson_pandas, cell_counts.T, align=False)"
     ],
     "language": "python",
     "metadata": {},
     "outputs": [
      {
       "html": [
        "<div style=\"max-height:1000px;max-width:1500px;overflow:auto;\">\n",
        "<table border=\"1\" class=\"dataframe\">\n",
        "  <thead>\n",
        "    <tr style=\"text-align: right;\">\n",
        "      <th></th>\n",
        "      <th>rho</th>\n",
        "      <th>p</th>\n",
        "      <th>q</th>\n",
        "    </tr>\n",
        "  </thead>\n",
        "  <tbody>\n",
        "    <tr>\n",
        "      <th>CD8T</th>\n",
        "      <td>-0.16</td>\n",
        "      <td> 1.27e-07</td>\n",
        "      <td> 7.63e-07</td>\n",
        "    </tr>\n",
        "    <tr>\n",
        "      <th>NK</th>\n",
        "      <td> 0.12</td>\n",
        "      <td> 3.69e-05</td>\n",
        "      <td> 1.11e-04</td>\n",
        "    </tr>\n",
        "    <tr>\n",
        "      <th>Mono</th>\n",
        "      <td> 0.10</td>\n",
        "      <td> 1.10e-03</td>\n",
        "      <td> 2.20e-03</td>\n",
        "    </tr>\n",
        "    <tr>\n",
        "      <th>Bcell</th>\n",
        "      <td>-0.07</td>\n",
        "      <td> 1.60e-02</td>\n",
        "      <td> 2.40e-02</td>\n",
        "    </tr>\n",
        "    <tr>\n",
        "      <th>CD4T</th>\n",
        "      <td>-0.05</td>\n",
        "      <td> 8.61e-02</td>\n",
        "      <td> 1.02e-01</td>\n",
        "    </tr>\n",
        "    <tr>\n",
        "      <th>Gran</th>\n",
        "      <td> 0.05</td>\n",
        "      <td> 1.02e-01</td>\n",
        "      <td> 1.02e-01</td>\n",
        "    </tr>\n",
        "  </tbody>\n",
        "</table>\n",
        "</div>"
       ],
       "metadata": {},
       "output_type": "pyout",
       "prompt_number": 29,
       "text": [
        "        rho         p         q\n",
        "CD8T  -0.16  1.27e-07  7.63e-07\n",
        "NK     0.12  3.69e-05  1.11e-04\n",
        "Mono   0.10  1.10e-03  2.20e-03\n",
        "Bcell -0.07  1.60e-02  2.40e-02\n",
        "CD4T  -0.05  8.61e-02  1.02e-01\n",
        "Gran   0.05  1.02e-01  1.02e-01"
       ]
      }
     ],
     "prompt_number": 29
    },
    {
     "cell_type": "code",
     "collapsed": false,
     "input": [
      "screen_feature((pred_c - age), pearson_pandas, cell_counts.T, align=False)"
     ],
     "language": "python",
     "metadata": {},
     "outputs": [
      {
       "html": [
        "<div style=\"max-height:1000px;max-width:1500px;overflow:auto;\">\n",
        "<table border=\"1\" class=\"dataframe\">\n",
        "  <thead>\n",
        "    <tr style=\"text-align: right;\">\n",
        "      <th></th>\n",
        "      <th>rho</th>\n",
        "      <th>p</th>\n",
        "      <th>q</th>\n",
        "    </tr>\n",
        "  </thead>\n",
        "  <tbody>\n",
        "    <tr>\n",
        "      <th>Bcell</th>\n",
        "      <td>-0.22</td>\n",
        "      <td> 1.84e-13</td>\n",
        "      <td> 1.10e-12</td>\n",
        "    </tr>\n",
        "    <tr>\n",
        "      <th>Gran</th>\n",
        "      <td> 0.14</td>\n",
        "      <td> 4.04e-06</td>\n",
        "      <td> 1.21e-05</td>\n",
        "    </tr>\n",
        "    <tr>\n",
        "      <th>Mono</th>\n",
        "      <td> 0.08</td>\n",
        "      <td> 5.41e-03</td>\n",
        "      <td> 1.08e-02</td>\n",
        "    </tr>\n",
        "    <tr>\n",
        "      <th>CD4T</th>\n",
        "      <td>-0.08</td>\n",
        "      <td> 7.67e-03</td>\n",
        "      <td> 1.15e-02</td>\n",
        "    </tr>\n",
        "    <tr>\n",
        "      <th>CD8T</th>\n",
        "      <td>-0.06</td>\n",
        "      <td> 4.34e-02</td>\n",
        "      <td> 4.91e-02</td>\n",
        "    </tr>\n",
        "    <tr>\n",
        "      <th>NK</th>\n",
        "      <td> 0.06</td>\n",
        "      <td> 4.91e-02</td>\n",
        "      <td> 4.91e-02</td>\n",
        "    </tr>\n",
        "  </tbody>\n",
        "</table>\n",
        "</div>"
       ],
       "metadata": {},
       "output_type": "pyout",
       "prompt_number": 30,
       "text": [
        "        rho         p         q\n",
        "Bcell -0.22  1.84e-13  1.10e-12\n",
        "Gran   0.14  4.04e-06  1.21e-05\n",
        "Mono   0.08  5.41e-03  1.08e-02\n",
        "CD4T  -0.08  7.67e-03  1.15e-02\n",
        "CD8T  -0.06  4.34e-02  4.91e-02\n",
        "NK     0.06  4.91e-02  4.91e-02"
       ]
      }
     ],
     "prompt_number": 30
    },
    {
     "cell_type": "code",
     "collapsed": false,
     "input": [
      "residual = (pred_c - age)\n",
      "residual.name = 'residual'\n",
      "\n",
      "df = process_factors([residual, cell_counts.NK, cell_counts.CD4T, cell_counts.CD8T,\n",
      "                      cell_counts.Bcell, cell_counts.Mono, cell_counts.Gran],\n",
      "                     standardize=False)\n",
      "fmla = robjects.Formula('residual ~ NK + CD4T + CD8T + Bcell + Mono + Gran')\n",
      "m = robjects.r.lm(fmla, df)\n",
      "s = robjects.r.summary(m)\n",
      "print '\\n\\n'.join(str(s).split('\\n\\n')[-3:])"
     ],
     "language": "python",
     "metadata": {},
     "outputs": [
      {
       "output_type": "stream",
       "stream": "stdout",
       "text": [
        "Coefficients: (1 not defined because of singularities)\n",
        "            Estimate Std. Error t value Pr(>|t|)    \n",
        "(Intercept)   1.5889     0.8148   1.950   0.0514 .  \n",
        "NK            6.1495     3.1772   1.936   0.0532 .  \n",
        "CD4T         -5.1595     2.7401  -1.883   0.0600 .  \n",
        "CD8T         -4.8117     3.7802  -1.273   0.2033    \n",
        "Bcell       -19.2296     2.8269  -6.802 1.67e-11 ***\n",
        "Mono          3.6552     6.6870   0.547   0.5848    \n",
        "Gran              NA         NA      NA       NA    \n",
        "---\n",
        "Signif. codes:  0 \u2018***\u2019 0.001 \u2018**\u2019 0.01 \u2018*\u2019 0.05 \u2018.\u2019 0.1 \u2018 \u2019 1\n",
        "\n",
        "Residual standard error: 4.836 on 1127 degrees of freedom\n",
        "Multiple R-squared:  0.05552,\tAdjusted R-squared:  0.05133 \n",
        "F-statistic: 13.25 on 5 and 1127 DF,  p-value: 1.454e-12\n",
        "\n",
        "\n"
       ]
      }
     ],
     "prompt_number": 36
    },
    {
     "cell_type": "code",
     "collapsed": false,
     "input": [
      "age.name = 'age'\n",
      "pred_c.name = 'pred_age'\n",
      "\n",
      "df = process_factors([age.ix[ti(in_set==True)], cell_counts.NK, cell_counts.CD4T, cell_counts.CD8T,\n",
      "                      cell_counts.Bcell, cell_counts.Mono, cell_counts.Gran,\n",
      "                      pred_c], standardize=False)\n",
      "fmla = robjects.Formula('age ~ pred_age + NK + CD4T + CD8T + Bcell + Mono + Gran')\n",
      "m = robjects.r.lm(fmla, df)\n",
      "s = robjects.r.summary(m)\n",
      "print '\\n\\n'.join(str(s).split('\\n\\n')[-3:])"
     ],
     "language": "python",
     "metadata": {},
     "outputs": [
      {
       "output_type": "stream",
       "stream": "stdout",
       "text": [
        "Coefficients: (1 not defined because of singularities)\n",
        "            Estimate Std. Error t value Pr(>|t|)    \n",
        "(Intercept)  8.63318    1.61119   5.358 1.44e-07 ***\n",
        "pred_age     0.76016    0.02099  36.218  < 2e-16 ***\n",
        "NK           2.68448    4.70088   0.571   0.5683    \n",
        "CD4T         7.49367    4.35025   1.723   0.0858 .  \n",
        "CD8T        -5.26468    5.66527  -0.929   0.3533    \n",
        "Bcell       17.29304    8.03655   2.152   0.0320 *  \n",
        "Mono        17.23280    9.45391   1.823   0.0691 .  \n",
        "Gran              NA         NA      NA       NA    \n",
        "---\n",
        "Signif. codes:  0 \u2018***\u2019 0.001 \u2018**\u2019 0.01 \u2018*\u2019 0.05 \u2018.\u2019 0.1 \u2018 \u2019 1\n",
        "\n",
        "Residual standard error: 3.966 on 388 degrees of freedom\n",
        "Multiple R-squared:  0.7937,\tAdjusted R-squared:  0.7905 \n",
        "F-statistic: 248.8 on 6 and 388 DF,  p-value: < 2.2e-16\n",
        "\n",
        "\n"
       ]
      }
     ],
     "prompt_number": 37
    },
    {
     "cell_type": "code",
     "collapsed": false,
     "input": [
      "df = process_factors([age.ix[ti(in_set==True)], cell_counts.NK, cell_counts.CD4T, cell_counts.CD8T,\n",
      "                      cell_counts.Bcell, cell_counts.Mono, cell_counts.Gran,\n",
      "                      pred_c], standardize=False)\n",
      "fmla = robjects.Formula('pred_age ~  age + NK + CD4T + CD8T + Bcell + Mono + Gran')\n",
      "m = robjects.r.lm(fmla, df)\n",
      "s = robjects.r.summary(m)\n",
      "print '\\n\\n'.join(str(s).split('\\n\\n')[-3:])"
     ],
     "language": "python",
     "metadata": {},
     "outputs": [
      {
       "output_type": "stream",
       "stream": "stdout",
       "text": [
        "Coefficients: (1 not defined because of singularities)\n",
        "             Estimate Std. Error t value Pr(>|t|)    \n",
        "(Intercept)   3.49853    1.92144   1.821 0.069410 .  \n",
        "age           1.01522    0.02803  36.218  < 2e-16 ***\n",
        "NK            5.47664    5.42774   1.009 0.313598    \n",
        "CD4T         -6.00249    5.03734  -1.192 0.234147    \n",
        "CD8T         -5.17703    6.54908  -0.790 0.429720    \n",
        "Bcell       -30.98346    9.20934  -3.364 0.000844 ***\n",
        "Mono         -2.27777   10.97149  -0.208 0.835644    \n",
        "Gran               NA         NA      NA       NA    \n",
        "---\n",
        "Signif. codes:  0 \u2018***\u2019 0.001 \u2018**\u2019 0.01 \u2018*\u2019 0.05 \u2018.\u2019 0.1 \u2018 \u2019 1\n",
        "\n",
        "Residual standard error: 4.584 on 388 degrees of freedom\n",
        "Multiple R-squared:  0.7974,\tAdjusted R-squared:  0.7943 \n",
        "F-statistic: 254.5 on 6 and 388 DF,  p-value: < 2.2e-16\n",
        "\n",
        "\n"
       ]
      }
     ],
     "prompt_number": 38
    },
    {
     "cell_type": "code",
     "collapsed": false,
     "input": [
      "pred.name = 'pred_age'"
     ],
     "language": "python",
     "metadata": {},
     "outputs": [],
     "prompt_number": 39
    },
    {
     "cell_type": "code",
     "collapsed": false,
     "input": [
      "df = process_factors([age.ix[ti(in_set==True)], cell_counts.NK, cell_counts.CD4T, cell_counts.CD8T,\n",
      "                      cell_counts.Bcell, cell_counts.Mono, cell_counts.Gran,\n",
      "                      pred_c], standardize=False)\n",
      "fmla = robjects.Formula('pred_age ~  age + CD8T')\n",
      "m = robjects.r.lm(fmla, df)\n",
      "s = robjects.r.summary(m)\n",
      "print '\\n\\n'.join(str(s).split('\\n\\n')[-3:])"
     ],
     "language": "python",
     "metadata": {},
     "outputs": [
      {
       "output_type": "stream",
       "stream": "stdout",
       "text": [
        "Coefficients:\n",
        "            Estimate Std. Error t value Pr(>|t|)    \n",
        "(Intercept)  0.72162    1.63022   0.443    0.658    \n",
        "age          1.02768    0.02763  37.196   <2e-16 ***\n",
        "CD8T        -7.94124    6.16030  -1.289    0.198    \n",
        "---\n",
        "Signif. codes:  0 \u2018***\u2019 0.001 \u2018**\u2019 0.01 \u2018*\u2019 0.05 \u2018.\u2019 0.1 \u2018 \u2019 1\n",
        "\n",
        "Residual standard error: 4.665 on 392 degrees of freedom\n",
        "Multiple R-squared:  0.788,\tAdjusted R-squared:  0.7869 \n",
        "F-statistic: 728.4 on 2 and 392 DF,  p-value: < 2.2e-16\n",
        "\n",
        "\n"
       ]
      }
     ],
     "prompt_number": 40
    },
    {
     "cell_type": "code",
     "collapsed": false,
     "input": [],
     "language": "python",
     "metadata": {},
     "outputs": []
    }
   ],
   "metadata": {}
  }
 ]
}
{
 "cells": [
  {
   "cell_type": "markdown",
   "metadata": {},
   "source": [
    "# HIV Methylation Age: Epigenetic Coorelates of Age Advancement"
   ]
  },
  {
   "cell_type": "markdown",
   "metadata": {},
   "source": [
    "### Imports and Helper Functions"
   ]
  },
  {
   "cell_type": "code",
   "execution_count": 1,
   "metadata": {
    "collapsed": false
   },
   "outputs": [
    {
     "name": "stdout",
     "output_type": "stream",
     "text": [
      "/cellar/users/agross/TCGA_Code/Methlation\n"
     ]
    }
   ],
   "source": [
    "cd .."
   ]
  },
  {
   "cell_type": "code",
   "execution_count": 2,
   "metadata": {
    "collapsed": false
   },
   "outputs": [
    {
     "data": {
      "text/html": [
       "importing IPython notebook from <a href='./Setup/Imports.ipynb' target='_blank'>Setup/Imports</a>"
      ]
     },
     "metadata": {},
     "output_type": "display_data"
    },
    {
     "name": "stdout",
     "output_type": "stream",
     "text": [
      "Populating the interactive namespace from numpy and matplotlib\n"
     ]
    }
   ],
   "source": [
    "import NotebookImport\n",
    "from Setup.Imports import *"
   ]
  },
  {
   "cell_type": "code",
   "execution_count": 3,
   "metadata": {
    "collapsed": false
   },
   "outputs": [
    {
     "data": {
      "text/html": [
       "importing IPython notebook from <a href='./Parallel/Age_HIV_Features.ipynb' target='_blank'>Parallel/Age_HIV_Features</a>"
      ]
     },
     "metadata": {},
     "output_type": "display_data"
    },
    {
     "data": {
      "text/html": [
       "importing IPython notebook from <a href='./HIV_Age_Advancement.ipynb' target='_blank'>HIV_Age_Advancement</a>"
      ]
     },
     "metadata": {},
     "output_type": "display_data"
    },
    {
     "data": {
      "text/html": [
       "importing IPython notebook from <a href='./Setup/MethylationAgeModels.ipynb' target='_blank'>Setup/MethylationAgeModels</a>"
      ]
     },
     "metadata": {},
     "output_type": "display_data"
    },
    {
     "data": {
      "text/html": [
       "importing IPython notebook from <a href='./Setup/Read_HIV_Data.ipynb' target='_blank'>Setup/Read_HIV_Data</a>"
      ]
     },
     "metadata": {},
     "output_type": "display_data"
    }
   ],
   "source": [
    "import Parallel.Age_HIV_Features as fx"
   ]
  },
  {
   "cell_type": "code",
   "execution_count": 4,
   "metadata": {
    "collapsed": false
   },
   "outputs": [
    {
     "data": {
      "text/html": [
       "importing IPython notebook from <a href='./Setup/DX_Imports.ipynb' target='_blank'>Setup/DX_Imports</a>"
      ]
     },
     "metadata": {},
     "output_type": "display_data"
    }
   ],
   "source": [
    "from Setup.DX_Imports import ttest_df"
   ]
  },
  {
   "cell_type": "code",
   "execution_count": 5,
   "metadata": {
    "collapsed": false
   },
   "outputs": [
    {
     "data": {
      "text/plain": [
       "False    411452\n",
       "True      61592\n",
       "dtype: int64"
      ]
     },
     "execution_count": 5,
     "metadata": {},
     "output_type": "execute_result"
    }
   ],
   "source": [
    "(fx.rr > 0).value_counts()"
   ]
  },
  {
   "cell_type": "code",
   "execution_count": 6,
   "metadata": {
    "collapsed": false
   },
   "outputs": [
    {
     "data": {
      "text/plain": [
       "0    411452\n",
       "1     34665\n",
       "2     26927\n",
       "dtype: int64"
      ]
     },
     "execution_count": 6,
     "metadata": {},
     "output_type": "execute_result"
    }
   ],
   "source": [
    "fx.rr.value_counts()"
   ]
  },
  {
   "cell_type": "code",
   "execution_count": 7,
   "metadata": {
    "collapsed": false
   },
   "outputs": [
    {
     "data": {
      "text/plain": [
       "7967"
      ]
     },
     "execution_count": 7,
     "metadata": {},
     "output_type": "execute_result"
    }
   ],
   "source": [
    "r2 = ti(fx.rr > 1)\n",
    "direction = fx.res.in_set_s1.multi_variate.age > 0\n",
    "r3 = ti(((fx.mm < .5).ix[r2] == direction.ix[r2]) == False)\n",
    "len(r3)"
   ]
  },
  {
   "cell_type": "markdown",
   "metadata": {},
   "source": [
    "### Unsupervised Analysis of Age-Associated Probes"
   ]
  },
  {
   "cell_type": "markdown",
   "metadata": {},
   "source": [
    "* Now we are taking these age associated probes and looking in our new dataset for broad trends \n",
    "* For now, mainly I'm just doing basic PCA on the normalized dataset"
   ]
  },
  {
   "cell_type": "code",
   "execution_count": 96,
   "metadata": {
    "collapsed": false
   },
   "outputs": [],
   "source": [
    "df_hiv2 = fx.df_hiv.ix[:, fx.duration.index]\n",
    "df_hiv2 = df_hiv2.dropna(1, how='all')\n",
    "\n",
    "dd = logit_adj(df_hiv2)\n",
    "m = dd.mean(1)\n",
    "s = dd.std(1)\n",
    "df_norm = dd.subtract(m, axis=0).divide(s, axis=0)"
   ]
  },
  {
   "cell_type": "code",
   "execution_count": 97,
   "metadata": {
    "collapsed": false
   },
   "outputs": [],
   "source": [
    "idx = r3\n",
    "U,S,vH = frame_svd(df_norm.ix[idx])"
   ]
  },
  {
   "cell_type": "markdown",
   "metadata": {},
   "source": [
    "The first PC captures about 25% of the variance in the data"
   ]
  },
  {
   "cell_type": "code",
   "execution_count": 98,
   "metadata": {
    "collapsed": false
   },
   "outputs": [
    {
     "data": {
      "text/plain": [
       "array([ 0.14613607,  0.09732037,  0.04516041,  0.03142676,  0.02604059])"
      ]
     },
     "execution_count": 98,
     "metadata": {},
     "output_type": "execute_result"
    }
   ],
   "source": [
    "p = S ** 2 / sum(S ** 2)\n",
    "p[:5]"
   ]
  },
  {
   "cell_type": "code",
   "execution_count": 99,
   "metadata": {
    "collapsed": false
   },
   "outputs": [
    {
     "data": {
      "image/png": "[encoded data removed]",
      "text/plain": [
       "<matplotlib.figure.Figure at 0x7f4eeae64b50>"
      ]
     },
     "metadata": {},
     "output_type": "display_data"
    }
   ],
   "source": [
    "fig, ax = subplots(1,1, figsize=(4,3))\n",
    "rr = 1*vH[0]\n",
    "k = fx.pred_c.index\n",
    "hiv = fx.duration.ix[rr.index].dropna() != 'Control'\n",
    "age = fx.age\n",
    "\n",
    "sns.regplot(*match_series(age.ix[k], rr.ix[ti(hiv==0)]),\n",
    "            ax=ax, label='HIV+', ci=None)\n",
    "sns.regplot(*match_series(age.ix[k], rr.ix[ti(hiv>0)]),\n",
    "            ax=ax, label='Control', ci=None)\n",
    "ax.set_ylabel('First PC', size=12)\n",
    "ax.set_xlabel('Chronological age (years)', size=14)\n",
    "\n",
    "ax.set_yticks([0])\n",
    "ax.axhline(0, ls='--', lw=2.5, color='grey', zorder=-1)\n",
    "ax.set_xbound(23,70)\n",
    "ax.set_ybound(-.25,.25)\n",
    "prettify_ax(ax)\n",
    "fig.tight_layout()\n",
    "fig.savefig(FIGDIR + 'PC1_validated.pdf')"
   ]
  },
  {
   "cell_type": "markdown",
   "metadata": {},
   "source": [
    "Here I am doing a drop-1 test for an interaction term of age X HIV.  In the second act of this analysis we filter a few more patients with data that doesn't agree between aging models.  In general I think these are bad samples, and removing them does improve this result and make the lines more parallel than shown here.  I'm not using these filters here because it seemed a little ad-hoc to go back and apply them before we even looked at aging models and it is generally hard to report an iterative analysis in a journal paper."
   ]
  },
  {
   "cell_type": "code",
   "execution_count": 100,
   "metadata": {
    "collapsed": true
   },
   "outputs": [],
   "source": [
    "import statsmodels.api as sm"
   ]
  },
  {
   "cell_type": "code",
   "execution_count": 101,
   "metadata": {
    "collapsed": false
   },
   "outputs": [
    {
     "data": {
      "text/plain": [
       "(1.1298061889274322, 0.28781668290682894, 1.0)"
      ]
     },
     "execution_count": 101,
     "metadata": {},
     "output_type": "execute_result"
    }
   ],
   "source": [
    "y = vH[0]\n",
    "intercept = pd.Series(1, index=y.index)\n",
    "\n",
    "X = pd.concat([intercept, age, hiv], axis=1, keys=['Intercept', 'age', 'HIV'])\n",
    "X = X.dropna().ix[y.index]\n",
    "m1 = sm.OLS(y, X).fit()\n",
    "\n",
    "X = pd.concat([intercept, age, hiv, hiv*age], axis=1, keys=['Intercept', 'age', 'HIV', 'int'])\n",
    "X = X.dropna().ix[y.index]\n",
    "m2 = sm.OLS(y, X).fit()\n",
    "\n",
    "m2.compare_lr_test(m1)"
   ]
  },
  {
   "cell_type": "code",
   "execution_count": 102,
   "metadata": {
    "collapsed": false
   },
   "outputs": [
    {
     "data": {
      "text/plain": [
       "Intercept    5.41e-08\n",
       "age          1.19e-04\n",
       "HIV          3.11e-01\n",
       "int          2.94e-01\n",
       "dtype: float64"
      ]
     },
     "execution_count": 102,
     "metadata": {},
     "output_type": "execute_result"
    }
   ],
   "source": [
    "m2.pvalues"
   ]
  },
  {
   "cell_type": "code",
   "execution_count": 103,
   "metadata": {
    "collapsed": false
   },
   "outputs": [
    {
     "data": {
      "text/plain": [
       "Intercept    4.79e-18\n",
       "age          6.42e-12\n",
       "HIV          3.07e-18\n",
       "dtype: float64"
      ]
     },
     "execution_count": 103,
     "metadata": {},
     "output_type": "execute_result"
    }
   ],
   "source": [
    "m1.pvalues"
   ]
  },
  {
   "cell_type": "markdown",
   "metadata": {},
   "source": [
    "Here I'm calculating the effect sise of HIV presence across the top principal components.  The idea is that an effect of 25 years means the the presence of HIV has an equivalent effect as 25 years of age on the molecular signal. "
   ]
  },
  {
   "cell_type": "code",
   "execution_count": 106,
   "metadata": {
    "collapsed": false
   },
   "outputs": [
    {
     "data": {
      "text/plain": [
       "0    16.23\n",
       "1    48.20\n",
       "2   -10.29\n",
       "3    19.65\n",
       "4   -35.27\n",
       "dtype: float64"
      ]
     },
     "execution_count": 106,
     "metadata": {},
     "output_type": "execute_result"
    }
   ],
   "source": [
    "cc = {}\n",
    "for i,y in vH.iteritems():\n",
    "    mod_all = sm.OLS(y, X)\n",
    "    res_ref = mod_all.fit()\n",
    "    cc[i] = res_ref.params['HIV'] / res_ref.params['age']\n",
    "cc = pd.Series(cc)\n",
    "cc.head()"
   ]
  },
  {
   "cell_type": "code",
   "execution_count": 107,
   "metadata": {
    "collapsed": false
   },
   "outputs": [],
   "source": [
    "def entropy(p):\n",
    "    '''\n",
    "    Entropy of a methylaion vector. Here we assume 50% methylation is \n",
    "    random and 0 or 1 constitute an informative measument. \n",
    "    '''\n",
    "    q = 1. - p\n",
    "    s = np.sum((p*np.log(p)) + (q*np.log(q))) / (np.log(.5) * len(p))\n",
    "    s.name = 'Entropy'\n",
    "    return s"
   ]
  },
  {
   "cell_type": "code",
   "execution_count": 108,
   "metadata": {
    "collapsed": false
   },
   "outputs": [],
   "source": [
    "def disorder_frac(direction, beta, test_set):\n",
    "    ct = pd.crosstab(beta < .5, direction.ix[test_set]>0)\n",
    "    return (1.*ct[1][1] + ct[0][0]) / ct.sum().sum()"
   ]
  },
  {
   "cell_type": "code",
   "execution_count": 109,
   "metadata": {
    "collapsed": false
   },
   "outputs": [],
   "source": [
    "from Setup.MethylationAgeModels import *"
   ]
  },
  {
   "cell_type": "code",
   "execution_count": 110,
   "metadata": {
    "collapsed": false
   },
   "outputs": [],
   "source": [
    "model_idx = hannum_model.index.union(horvath_model.index)"
   ]
  },
  {
   "cell_type": "code",
   "execution_count": 111,
   "metadata": {
    "collapsed": false
   },
   "outputs": [
    {
     "data": {
      "text/plain": [
       "0.5298165137614679"
      ]
     },
     "execution_count": 111,
     "metadata": {},
     "output_type": "execute_result"
    }
   ],
   "source": [
    "disorder_frac(fx.res.in_set_s1.multi_variate.age, fx.mm, model_idx)"
   ]
  },
  {
   "cell_type": "code",
   "execution_count": 112,
   "metadata": {
    "collapsed": false
   },
   "outputs": [
    {
     "data": {
      "text/plain": [
       "231.0"
      ]
     },
     "execution_count": 112,
     "metadata": {},
     "output_type": "execute_result"
    }
   ],
   "source": [
    "disorder_frac(fx.res.in_set_s1.multi_variate.age, fx.mm, model_idx) * len(model_idx)"
   ]
  },
  {
   "cell_type": "code",
   "execution_count": 113,
   "metadata": {
    "collapsed": false
   },
   "outputs": [
    {
     "data": {
      "text/plain": [
       "0.5298165137614679"
      ]
     },
     "execution_count": 113,
     "metadata": {},
     "output_type": "execute_result"
    }
   ],
   "source": [
    "231 / 436."
   ]
  },
  {
   "cell_type": "code",
   "execution_count": 114,
   "metadata": {
    "collapsed": false
   },
   "outputs": [
    {
     "data": {
      "text/plain": [
       "0.2311578847176522"
      ]
     },
     "execution_count": 114,
     "metadata": {},
     "output_type": "execute_result"
    }
   ],
   "source": [
    "stats.binom_test(231, n=436)"
   ]
  },
  {
   "cell_type": "code",
   "execution_count": 115,
   "metadata": {
    "collapsed": false
   },
   "outputs": [],
   "source": [
    "model_idx = hannum_model.index.union(horvath_model.index)\n",
    "d1 = disorder_frac(fx.res.in_set_s1.multi_variate.age, fx.mm, model_idx)\n",
    "d2 = disorder_frac(fx.r4.multi_variate.HIV, fx.mm, model_idx)"
   ]
  },
  {
   "cell_type": "code",
   "execution_count": 116,
   "metadata": {
    "collapsed": false
   },
   "outputs": [
    {
     "data": {
      "text/plain": [
       "<Container object of 2 artists>"
      ]
     },
     "execution_count": 116,
     "metadata": {},
     "output_type": "execute_result"
    },
    {
     "data": {
      "image/png": "[encoded data removed]",
      "text/plain": [
       "<matplotlib.figure.Figure at 0x7f5003e87cd0>"
      ]
     },
     "metadata": {},
     "output_type": "display_data"
    }
   ],
   "source": [
    "fig, ax = subplots(figsize=(4,3))\n",
    "ax.bar([0,1], [d1,d2])"
   ]
  },
  {
   "cell_type": "code",
   "execution_count": 118,
   "metadata": {
    "collapsed": false
   },
   "outputs": [],
   "source": [
    "model_entropy = entropy(df_hiv2.ix[model_idx, hiv.index])\n",
    "all_entropy = entropy(df_hiv2.ix[fx.probe_idx, hiv.index])"
   ]
  },
  {
   "cell_type": "code",
   "execution_count": 129,
   "metadata": {
    "collapsed": false
   },
   "outputs": [
    {
     "data": {
      "text/plain": [
       "Sample_Name\n",
       "METI-8         0.68\n",
       "RM067          0.66\n",
       "Name: Entropy, dtype: float64"
      ]
     },
     "execution_count": 129,
     "metadata": {},
     "output_type": "execute_result"
    }
   ],
   "source": [
    "zscore = lambda s: (s - s.mean()) / s.std()\n",
    "e2 = all_entropy.groupby(hiv).apply(zscore)\n",
    "all_entropy[e2.abs() > 3]"
   ]
  },
  {
   "cell_type": "code",
   "execution_count": 121,
   "metadata": {
    "collapsed": false
   },
   "outputs": [
    {
     "data": {
      "text/plain": [
       "Sample_Name\n",
       "RA223          0.68\n",
       "RM067          0.71\n",
       "Name: Entropy, dtype: float64"
      ]
     },
     "execution_count": 121,
     "metadata": {},
     "output_type": "execute_result"
    }
   ],
   "source": [
    "e2 = model_entropy.groupby(hiv).apply(zscore)\n",
    "model_entropy[e2.abs() > 3]"
   ]
  },
  {
   "cell_type": "code",
   "execution_count": 123,
   "metadata": {
    "collapsed": false
   },
   "outputs": [
    {
     "data": {
      "text/plain": [
       "HIV+    137\n",
       "HIV-     42\n",
       "dtype: int64"
      ]
     },
     "execution_count": 123,
     "metadata": {},
     "output_type": "execute_result"
    }
   ],
   "source": [
    "fx.hiv.value_counts()"
   ]
  },
  {
   "cell_type": "code",
   "execution_count": 124,
   "metadata": {
    "collapsed": false
   },
   "outputs": [
    {
     "data": {
      "image/png": "[encoded data removed]",
      "text/plain": [
       "<matplotlib.figure.Figure at 0x7f5003e68290>"
      ]
     },
     "metadata": {},
     "output_type": "display_data"
    }
   ],
   "source": [
    "fig, axs = subplots(1,2, figsize=(7,3))\n",
    "\n",
    "zscore = lambda s: (s - s.mean()) / s.std()\n",
    "e2 = all_entropy.groupby(hiv).apply(zscore)\n",
    "sns.violinplot(all_entropy[e2.abs() < 3], fx.hiv, ax=axs[0], \n",
    "               order=['HIV-','HIV+'],\n",
    "               inner='points', inner_kws={\"ms\": 8}, alpha=.5,\n",
    "               bw='scott')\n",
    "axs[0].scatter([1,2], all_entropy[e2.abs() > 3], color='white', edgecolor='red',\n",
    "               alpha=1, s=20, lw=1)\n",
    "\n",
    "e2 = model_entropy.groupby(hiv).apply(zscore)\n",
    "sns.violinplot(model_entropy[e2.abs() < 3], fx.hiv, ax=axs[1], \n",
    "               order=['HIV-','HIV+'],\n",
    "               inner='points', inner_kws={\"ms\": 8}, alpha=.5,\n",
    "               bw='scott')\n",
    "axs[1].scatter([2,2], model_entropy[e2.abs() > 3], color='white', edgecolor='red',\n",
    "               alpha=1, s=20, lw=1)\n",
    "\n",
    "for ax in axs:\n",
    "    ax.set_xlabel('')\n",
    "    ax.set_yticks([])\n",
    "    ax.set_ylabel('Entropy')\n",
    "    prettify_ax(ax)\n",
    "fig.tight_layout()"
   ]
  },
  {
   "cell_type": "code",
   "execution_count": 128,
   "metadata": {
    "collapsed": false
   },
   "outputs": [
    {
     "data": {
      "image/png": "[encoded data removed]",
      "text/plain": [
       "<matplotlib.figure.Figure at 0x7f5003ee6a90>"
      ]
     },
     "metadata": {},
     "output_type": "display_data"
    }
   ],
   "source": [
    "fig, axs = subplots(1,3, figsize=(11,3), sharey=False)\n",
    "\n",
    "rr = vH[0]\n",
    "hiv = (fx.duration != 'Control').map({True:'HIV+',False:'HIV-'})\n",
    "\n",
    "ax=axs[0]\n",
    "sns.regplot(*match_series(age, rr.ix[ti(hiv=='HIV-')]),\n",
    "            ax=ax, label='HIV+', ci=None)\n",
    "sns.regplot(*match_series(age, rr.ix[ti(hiv=='HIV+')]),\n",
    "            ax=ax, label='Control', ci=None)\n",
    "ax.set_ylabel('First PC')\n",
    "ax.set_xlabel('Age (years)')\n",
    "ax.set_yticks([0])\n",
    "ax.axhline(0, ls='--', color='grey', zorder=-1)\n",
    "ax.set_xbound(23,70)\n",
    "ax.set_ybound(-.25,.25)\n",
    "prettify_ax(ax)\n",
    "\n",
    "ax = axs[1]\n",
    "zscore = lambda s: (s - s.mean()) / s.std()\n",
    "e2 = all_entropy.groupby(hiv).apply(zscore)\n",
    "sns.violinplot(all_entropy[e2.abs() < 3], hiv, ax=ax, \n",
    "               order=['HIV-','HIV+'],\n",
    "               inner='points', inner_kws={\"ms\": 8}, alpha=.5,\n",
    "               bw='scott')\n",
    "ax.scatter([1,2], all_entropy[e2.abs() > 3], color='white', edgecolor='red',\n",
    "               alpha=1, s=20, lw=1)\n",
    "\n",
    "ax = axs[2]\n",
    "e2 = model_entropy.groupby(hiv).apply(zscore)\n",
    "sns.violinplot(model_entropy[e2.abs() < 3], hiv, ax=ax, \n",
    "               order=['HIV-','HIV+'],\n",
    "               inner='points', inner_kws={\"ms\": 8}, alpha=.5,\n",
    "               bw='scott')\n",
    "ax.scatter([2,2], model_entropy[e2.abs() > 3], color='white', edgecolor='red',\n",
    "               alpha=1, s=20, lw=1)\n",
    "ax.set_ybound(.67,.72)\n",
    "\n",
    "for ax in axs[1:]:\n",
    "    ax.set_xlabel('')\n",
    "    ax.set_yticks([])\n",
    "    ax.set_ylabel('Entropy')\n",
    "    prettify_ax(ax)\n",
    "fig.tight_layout()\n",
    "fig.savefig(FIGDIR + 'xd_F4.pdf')"
   ]
  },
  {
   "cell_type": "code",
   "execution_count": 147,
   "metadata": {
    "collapsed": false
   },
   "outputs": [
    {
     "data": {
      "text/plain": [
       "HIV+    137\n",
       "HIV-     42\n",
       "dtype: int64"
      ]
     },
     "execution_count": 147,
     "metadata": {},
     "output_type": "execute_result"
    }
   ],
   "source": [
    "hiv.value_counts()"
   ]
  },
  {
   "cell_type": "code",
   "execution_count": 146,
   "metadata": {
    "collapsed": false
   },
   "outputs": [
    {
     "data": {
      "text/plain": [
       "H    5.61e+01\n",
       "p    6.97e-14\n",
       "dtype: float64"
      ]
     },
     "execution_count": 146,
     "metadata": {},
     "output_type": "execute_result"
    }
   ],
   "source": [
    "kruskal_pandas(hiv, all_entropy)"
   ]
  },
  {
   "cell_type": "code",
   "execution_count": 148,
   "metadata": {
    "collapsed": false
   },
   "outputs": [
    {
     "data": {
      "text/plain": [
       "H    1.02\n",
       "p    0.31\n",
       "dtype: float64"
      ]
     },
     "execution_count": 148,
     "metadata": {},
     "output_type": "execute_result"
    }
   ],
   "source": [
    "kruskal_pandas(hiv, model_entropy)"
   ]
  },
  {
   "cell_type": "code",
   "execution_count": 73,
   "metadata": {
    "collapsed": true
   },
   "outputs": [],
   "source": [
    "import Setup.DX_Imports as dx"
   ]
  },
  {
   "cell_type": "code",
   "execution_count": 74,
   "metadata": {
    "collapsed": false
   },
   "outputs": [],
   "source": [
    "features = {'Age only': fx.features['Age (BH)'],\n",
    "            'HIV + Age': fx.features['HIV + Age (BH)'],\n",
    "            'HIV only': fx.features['HIV (BH)']}\n",
    "\n",
    "probes_sets = {'PRC2': dx.prc2_probes, 'CpG island': dx.cpg_island,\n",
    "               'DHS': dx.dhs_site, 'Enhancer': dx.enhancer,\n",
    "               'Gene body': dx.gene_body, 'TSS': dx.gene_tss,\n",
    "               'Promoter': dx.promoter}"
   ]
  },
  {
   "cell_type": "code",
   "execution_count": 77,
   "metadata": {
    "collapsed": false
   },
   "outputs": [],
   "source": [
    "associations = {}\n",
    "for i,a in features.iteritems():\n",
    "    for j,b in probes_sets.iteritems():\n",
    "        associations[(i,j)] = fisher_exact_test(a,b)"
   ]
  },
  {
   "cell_type": "code",
   "execution_count": 82,
   "metadata": {
    "collapsed": false
   },
   "outputs": [
    {
     "data": {
      "image/png": "[encoded data removed]",
      "text/plain": [
       "<matplotlib.figure.Figure at 0x7fbc5dbb80d0>"
      ]
     },
     "metadata": {},
     "output_type": "display_data"
    }
   ],
   "source": [
    "fig, ax = subplots(figsize=(10,4.5))\n",
    "cmap = sns.diverging_palette(h_neg=210, h_pos=350, s=90, l=30, as_cmap=True)\n",
    "o = ['DHS','PRC2','CpG island','Enhancer', 'TSS','Gene body','Promoter']\n",
    "p = ['HIV only', 'Age only', 'HIV + Age']\n",
    "#p = ['Age', 'HIV']\n",
    "df = pd.concat(associations).unstack()['odds_ratio'].unstack().T\n",
    "r = sns.heatmap(df.ix[o,p].T, cmap=cmap, center=1, annot=True, fmt='0.1f')\n",
    "ax.set_xticklabels(o, rotation=20, ha='center')\n",
    "fig.tight_layout()"
   ]
  }
 ],
 "metadata": {
  "kernelspec": {
   "display_name": "Python 2",
   "language": "python",
   "name": "python2"
  },
  "language_info": {
   "codemirror_mode": {
    "name": "ipython",
    "version": 2
   },
   "file_extension": ".py",
   "mimetype": "text/x-python",
   "name": "python",
   "nbconvert_exporter": "python",
   "pygments_lexer": "ipython2",
   "version": "2.7.9"
  }
 },
 "nbformat": 4,
 "nbformat_minor": 0
}

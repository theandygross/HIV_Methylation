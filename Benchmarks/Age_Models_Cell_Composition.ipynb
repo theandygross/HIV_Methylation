{
 "metadata": {
  "kernelspec": {
   "codemirror_mode": {
    "name": "ipython",
    "version": 2
   },
   "display_name": "IPython (Python 2)",
   "language": "python",
   "name": "python2"
  },
  "name": "",
  "signature": "sha256:2a0cbe31f118fbffcb239865d603259fa61f8d3ab18df79e4de0dddf5dea94b5"
 },
 "nbformat": 3,
 "nbformat_minor": 0,
 "worksheets": [
  {
   "cells": [
    {
     "cell_type": "heading",
     "level": 1,
     "metadata": {},
     "source": [
      "HIV Methylation Age: Cell Composition Coorelates of Age Advancement"
     ]
    },
    {
     "cell_type": "heading",
     "level": 3,
     "metadata": {},
     "source": [
      "Imports and Helper Functions"
     ]
    },
    {
     "cell_type": "code",
     "collapsed": false,
     "input": [
      "import NotebookImport\n",
      "from Age_Models_All_Patients import *"
     ],
     "language": "python",
     "metadata": {},
     "outputs": [],
     "prompt_number": 2
    },
    {
     "cell_type": "heading",
     "level": 2,
     "metadata": {},
     "source": [
      "Cell Composition"
     ]
    },
    {
     "cell_type": "code",
     "collapsed": false,
     "input": [
      "screen_feature(age.ix[ti(in_set==True)], pearson_pandas, cell_counts.T)"
     ],
     "language": "python",
     "metadata": {},
     "outputs": [
      {
       "html": [
        "<div style=\"max-height:1000px;max-width:1500px;overflow:auto;\">\n",
        "<table border=\"1\" class=\"dataframe\">\n",
        "  <thead>\n",
        "    <tr style=\"text-align: right;\">\n",
        "      <th></th>\n",
        "      <th>rho</th>\n",
        "      <th>p</th>\n",
        "      <th>q</th>\n",
        "    </tr>\n",
        "  </thead>\n",
        "  <tbody>\n",
        "    <tr>\n",
        "      <th>Mono</th>\n",
        "      <td> 0.19</td>\n",
        "      <td> 2.81e-05</td>\n",
        "      <td> 1.69e-04</td>\n",
        "    </tr>\n",
        "    <tr>\n",
        "      <th>CD8T</th>\n",
        "      <td>-0.17</td>\n",
        "      <td> 1.82e-04</td>\n",
        "      <td> 5.47e-04</td>\n",
        "    </tr>\n",
        "    <tr>\n",
        "      <th>Bcell</th>\n",
        "      <td>-0.12</td>\n",
        "      <td> 1.21e-02</td>\n",
        "      <td> 2.42e-02</td>\n",
        "    </tr>\n",
        "    <tr>\n",
        "      <th>NK</th>\n",
        "      <td> 0.08</td>\n",
        "      <td> 6.87e-02</td>\n",
        "      <td> 1.00e-01</td>\n",
        "    </tr>\n",
        "    <tr>\n",
        "      <th>CD4T</th>\n",
        "      <td>-0.08</td>\n",
        "      <td> 8.37e-02</td>\n",
        "      <td> 1.00e-01</td>\n",
        "    </tr>\n",
        "    <tr>\n",
        "      <th>Gran</th>\n",
        "      <td> 0.07</td>\n",
        "      <td> 1.40e-01</td>\n",
        "      <td> 1.40e-01</td>\n",
        "    </tr>\n",
        "  </tbody>\n",
        "</table>\n",
        "</div>"
       ],
       "metadata": {},
       "output_type": "pyout",
       "prompt_number": 5,
       "text": [
        "        rho         p         q\n",
        "Mono   0.19  2.81e-05  1.69e-04\n",
        "CD8T  -0.17  1.82e-04  5.47e-04\n",
        "Bcell -0.12  1.21e-02  2.42e-02\n",
        "NK     0.08  6.87e-02  1.00e-01\n",
        "CD4T  -0.08  8.37e-02  1.00e-01\n",
        "Gran   0.07  1.40e-01  1.40e-01"
       ]
      }
     ],
     "prompt_number": 5
    },
    {
     "cell_type": "code",
     "collapsed": false,
     "input": [
      "screen_feature(pred_c.ix[ti(in_set==True)], pearson_pandas, cell_counts.T)"
     ],
     "language": "python",
     "metadata": {},
     "outputs": [
      {
       "html": [
        "<div style=\"max-height:1000px;max-width:1500px;overflow:auto;\">\n",
        "<table border=\"1\" class=\"dataframe\">\n",
        "  <thead>\n",
        "    <tr style=\"text-align: right;\">\n",
        "      <th></th>\n",
        "      <th>rho</th>\n",
        "      <th>p</th>\n",
        "      <th>q</th>\n",
        "    </tr>\n",
        "  </thead>\n",
        "  <tbody>\n",
        "    <tr>\n",
        "      <th>CD8T</th>\n",
        "      <td>-0.20</td>\n",
        "      <td> 1.33e-05</td>\n",
        "      <td> 5.51e-05</td>\n",
        "    </tr>\n",
        "    <tr>\n",
        "      <th>Mono</th>\n",
        "      <td> 0.20</td>\n",
        "      <td> 1.84e-05</td>\n",
        "      <td> 5.51e-05</td>\n",
        "    </tr>\n",
        "    <tr>\n",
        "      <th>Bcell</th>\n",
        "      <td>-0.14</td>\n",
        "      <td> 1.75e-03</td>\n",
        "      <td> 3.51e-03</td>\n",
        "    </tr>\n",
        "    <tr>\n",
        "      <th>CD4T</th>\n",
        "      <td>-0.12</td>\n",
        "      <td> 1.23e-02</td>\n",
        "      <td> 1.85e-02</td>\n",
        "    </tr>\n",
        "    <tr>\n",
        "      <th>NK</th>\n",
        "      <td> 0.10</td>\n",
        "      <td> 2.86e-02</td>\n",
        "      <td> 3.00e-02</td>\n",
        "    </tr>\n",
        "    <tr>\n",
        "      <th>Gran</th>\n",
        "      <td> 0.10</td>\n",
        "      <td> 3.00e-02</td>\n",
        "      <td> 3.00e-02</td>\n",
        "    </tr>\n",
        "  </tbody>\n",
        "</table>\n",
        "</div>"
       ],
       "metadata": {},
       "output_type": "pyout",
       "prompt_number": 6,
       "text": [
        "        rho         p         q\n",
        "CD8T  -0.20  1.33e-05  5.51e-05\n",
        "Mono   0.20  1.84e-05  5.51e-05\n",
        "Bcell -0.14  1.75e-03  3.51e-03\n",
        "CD4T  -0.12  1.23e-02  1.85e-02\n",
        "NK     0.10  2.86e-02  3.00e-02\n",
        "Gran   0.10  3.00e-02  3.00e-02"
       ]
      }
     ],
     "prompt_number": 6
    },
    {
     "cell_type": "code",
     "collapsed": false,
     "input": [
      "screen_feature((pred_c - age).ix[ti(in_set==True)], pearson_pandas, cell_counts.T)"
     ],
     "language": "python",
     "metadata": {},
     "outputs": [
      {
       "html": [
        "<div style=\"max-height:1000px;max-width:1500px;overflow:auto;\">\n",
        "<table border=\"1\" class=\"dataframe\">\n",
        "  <thead>\n",
        "    <tr style=\"text-align: right;\">\n",
        "      <th></th>\n",
        "      <th>rho</th>\n",
        "      <th>p</th>\n",
        "      <th>q</th>\n",
        "    </tr>\n",
        "  </thead>\n",
        "  <tbody>\n",
        "    <tr>\n",
        "      <th>CD4T</th>\n",
        "      <td>-0.06</td>\n",
        "      <td> 0.23</td>\n",
        "      <td> 0.74</td>\n",
        "    </tr>\n",
        "    <tr>\n",
        "      <th>Gran</th>\n",
        "      <td> 0.05</td>\n",
        "      <td> 0.28</td>\n",
        "      <td> 0.74</td>\n",
        "    </tr>\n",
        "    <tr>\n",
        "      <th>Bcell</th>\n",
        "      <td>-0.04</td>\n",
        "      <td> 0.42</td>\n",
        "      <td> 0.74</td>\n",
        "    </tr>\n",
        "    <tr>\n",
        "      <th>CD8T</th>\n",
        "      <td>-0.03</td>\n",
        "      <td> 0.52</td>\n",
        "      <td> 0.74</td>\n",
        "    </tr>\n",
        "    <tr>\n",
        "      <th>NK</th>\n",
        "      <td> 0.02</td>\n",
        "      <td> 0.66</td>\n",
        "      <td> 0.74</td>\n",
        "    </tr>\n",
        "    <tr>\n",
        "      <th>Mono</th>\n",
        "      <td>-0.02</td>\n",
        "      <td> 0.74</td>\n",
        "      <td> 0.74</td>\n",
        "    </tr>\n",
        "  </tbody>\n",
        "</table>\n",
        "</div>"
       ],
       "metadata": {},
       "output_type": "pyout",
       "prompt_number": 7,
       "text": [
        "        rho     p     q\n",
        "CD4T  -0.06  0.23  0.74\n",
        "Gran   0.05  0.28  0.74\n",
        "Bcell -0.04  0.42  0.74\n",
        "CD8T  -0.03  0.52  0.74\n",
        "NK     0.02  0.66  0.74\n",
        "Mono  -0.02  0.74  0.74"
       ]
      }
     ],
     "prompt_number": 7
    },
    {
     "cell_type": "code",
     "collapsed": false,
     "input": [
      "residual = (pred_c - age).ix[ti(in_set==True)]\n",
      "residual.name = 'residual'\n",
      "\n",
      "df = process_factors([residual, cell_counts.NK, cell_counts.CD4T, cell_counts.CD8T,\n",
      "                      cell_counts.Bcell, cell_counts.Mono, cell_counts.Gran],\n",
      "                     standardize=False)\n",
      "fmla = robjects.Formula('residual ~ NK + CD4T + CD8T + Bcell + Mono + Gran')\n",
      "m = robjects.r.lm(fmla, df)\n",
      "s = robjects.r.summary(m)\n",
      "print '\\n\\n'.join(str(s).split('\\n\\n')[-3:])"
     ],
     "language": "python",
     "metadata": {},
     "outputs": [
      {
       "output_type": "stream",
       "stream": "stdout",
       "text": [
        "Coefficients: (1 not defined because of singularities)\n",
        "            Estimate Std. Error t value Pr(>|t|)  \n",
        "(Intercept)    2.268      1.295   1.752   0.0804 .\n",
        "NK             3.107      5.359   0.580   0.5624  \n",
        "CD4T          -5.729      4.679  -1.224   0.2215  \n",
        "CD8T          -4.814      6.148  -0.783   0.4340  \n",
        "Bcell         -3.817      8.919  -0.428   0.6689  \n",
        "Mono          -8.951     10.330  -0.866   0.3867  \n",
        "Gran              NA         NA      NA       NA  \n",
        "---\n",
        "Signif. codes:  0 \u2018***\u2019 0.001 \u2018**\u2019 0.01 \u2018*\u2019 0.05 \u2018.\u2019 0.1 \u2018 \u2019 1\n",
        "\n",
        "Residual standard error: 4.966 on 464 degrees of freedom\n",
        "Multiple R-squared:  0.006561,\tAdjusted R-squared:  -0.004144 \n",
        "F-statistic: 0.6129 on 5 and 464 DF,  p-value: 0.6901\n",
        "\n",
        "\n"
       ]
      }
     ],
     "prompt_number": 8
    },
    {
     "cell_type": "code",
     "collapsed": false,
     "input": [
      "age.name = 'age'\n",
      "pred_c.name = 'pred_age'\n",
      "\n",
      "df = process_factors([age.ix[ti(in_set==True)], cell_counts.NK, cell_counts.CD4T, cell_counts.CD8T,\n",
      "                      cell_counts.Bcell, cell_counts.Mono, cell_counts.Gran,\n",
      "                      pred_c], standardize=False)\n",
      "fmla = robjects.Formula('age ~ pred_age + NK + CD4T + CD8T + Bcell + Mono + Gran')\n",
      "m = robjects.r.lm(fmla, df)\n",
      "s = robjects.r.summary(m)\n",
      "print '\\n\\n'.join(str(s).split('\\n\\n')[-3:])"
     ],
     "language": "python",
     "metadata": {},
     "outputs": [
      {
       "output_type": "stream",
       "stream": "stdout",
       "text": [
        "Coefficients: (1 not defined because of singularities)\n",
        "            Estimate Std. Error t value Pr(>|t|)    \n",
        "(Intercept)  2.06068    1.89271   1.089    0.277    \n",
        "pred_age     0.91776    0.02644  34.714   <2e-16 ***\n",
        "NK          -0.54996    5.37259  -0.102    0.919    \n",
        "CD4T         4.74097    4.64698   1.020    0.308    \n",
        "CD8T         1.20413    6.20085   0.194    0.846    \n",
        "Bcell        2.57310    8.84590   0.291    0.771    \n",
        "Mono        13.18363   10.32529   1.277    0.202    \n",
        "Gran              NA         NA      NA       NA    \n",
        "---\n",
        "Signif. codes:  0 \u2018***\u2019 0.001 \u2018**\u2019 0.01 \u2018*\u2019 0.05 \u2018.\u2019 0.1 \u2018 \u2019 1\n",
        "\n",
        "Residual standard error: 4.92 on 463 degrees of freedom\n",
        "Multiple R-squared:  0.743,\tAdjusted R-squared:  0.7397 \n",
        "F-statistic: 223.2 on 6 and 463 DF,  p-value: < 2.2e-16\n",
        "\n",
        "\n"
       ]
      }
     ],
     "prompt_number": 9
    },
    {
     "cell_type": "code",
     "collapsed": false,
     "input": [
      "df = process_factors([age.ix[ti(in_set==True)], cell_counts.NK, cell_counts.CD4T, cell_counts.CD8T,\n",
      "                      cell_counts.Bcell, cell_counts.Mono, cell_counts.Gran,\n",
      "                      pred_c], standardize=False)\n",
      "fmla = robjects.Formula('pred_age ~  age + NK + CD4T + CD8T + Bcell + Mono + Gran')\n",
      "m = robjects.r.lm(fmla, df)\n",
      "s = robjects.r.summary(m)\n",
      "print '\\n\\n'.join(str(s).split('\\n\\n')[-3:])"
     ],
     "language": "python",
     "metadata": {},
     "outputs": [
      {
       "output_type": "stream",
       "stream": "stdout",
       "text": [
        "Coefficients: (1 not defined because of singularities)\n",
        "             Estimate Std. Error t value Pr(>|t|)    \n",
        "(Intercept)  12.98874    1.64806   7.881 2.34e-14 ***\n",
        "age           0.78717    0.02268  34.714  < 2e-16 ***\n",
        "NK            9.06173    4.95790   1.828   0.0682 .  \n",
        "CD4T         -7.06559    4.29599  -1.645   0.1007    \n",
        "CD8T        -13.13203    5.71049  -2.300   0.0219 *  \n",
        "Bcell        -6.22299    8.18807  -0.760   0.4476    \n",
        "Mono          3.90909    9.57762   0.408   0.6834    \n",
        "Gran               NA         NA      NA       NA    \n",
        "---\n",
        "Signif. codes:  0 \u2018***\u2019 0.001 \u2018**\u2019 0.01 \u2018*\u2019 0.05 \u2018.\u2019 0.1 \u2018 \u2019 1\n",
        "\n",
        "Residual standard error: 4.557 on 463 degrees of freedom\n",
        "Multiple R-squared:  0.7492,\tAdjusted R-squared:  0.7459 \n",
        "F-statistic: 230.5 on 6 and 463 DF,  p-value: < 2.2e-16\n",
        "\n",
        "\n"
       ]
      }
     ],
     "prompt_number": 10
    },
    {
     "cell_type": "code",
     "collapsed": false,
     "input": [
      "pred.name = 'pred_age'"
     ],
     "language": "python",
     "metadata": {},
     "outputs": [],
     "prompt_number": 11
    },
    {
     "cell_type": "code",
     "collapsed": false,
     "input": [
      "df = process_factors([age.ix[ti(in_set==True)], cell_counts.NK, cell_counts.CD4T, cell_counts.CD8T,\n",
      "                      cell_counts.Bcell, cell_counts.Mono, cell_counts.Gran,\n",
      "                      pred_c], standardize=False)\n",
      "fmla = robjects.Formula('pred_age ~  age + CD8T')\n",
      "m = robjects.r.lm(fmla, df)\n",
      "s = robjects.r.summary(m)\n",
      "print '\\n\\n'.join(str(s).split('\\n\\n')[-3:])"
     ],
     "language": "python",
     "metadata": {},
     "outputs": [
      {
       "output_type": "stream",
       "stream": "stdout",
       "text": [
        "Coefficients:\n",
        "             Estimate Std. Error t value Pr(>|t|)    \n",
        "(Intercept)  11.97996    1.28907   9.294   <2e-16 ***\n",
        "age           0.79874    0.02226  35.887   <2e-16 ***\n",
        "CD8T        -11.67341    5.22675  -2.233    0.026 *  \n",
        "---\n",
        "Signif. codes:  0 \u2018***\u2019 0.001 \u2018**\u2019 0.01 \u2018*\u2019 0.05 \u2018.\u2019 0.1 \u2018 \u2019 1\n",
        "\n",
        "Residual standard error: 4.58 on 467 degrees of freedom\n",
        "Multiple R-squared:  0.7445,\tAdjusted R-squared:  0.7434 \n",
        "F-statistic: 680.3 on 2 and 467 DF,  p-value: < 2.2e-16\n",
        "\n",
        "\n"
       ]
      }
     ],
     "prompt_number": 12
    }
   ],
   "metadata": {}
  }
 ]
}
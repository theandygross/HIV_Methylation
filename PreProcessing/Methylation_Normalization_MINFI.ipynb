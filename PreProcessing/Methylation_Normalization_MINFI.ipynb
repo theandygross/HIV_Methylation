{
 "metadata": {
  "kernelspec": {
   "codemirror_mode": {
    "name": "ipython",
    "version": 2
   },
   "display_name": "IPython (Python 2)",
   "language": "python",
   "name": "python2"
  },
  "name": "",
  "signature": "sha256:f9018c431040aa7f1e67e7f17f2437516338a056f64c19f237ebb0bde0ec753c"
 },
 "nbformat": 3,
 "nbformat_minor": 0,
 "worksheets": [
  {
   "cells": [
    {
     "cell_type": "heading",
     "level": 1,
     "metadata": {},
     "source": [
      "Methylation Normalization Protocol"
     ]
    },
    {
     "cell_type": "markdown",
     "metadata": {},
     "source": [
      "    require(minfi)\n",
      "###Save Hannum Data \n",
      "\n",
      "\n",
      "    baseDir = '/cellar/users/agross/Data/Hannum_Methylation/idats/'\n",
      "    targets = read.450k.sheet(baseDir)\n",
      "    rgSet <- read.450k.exp(base = baseDir, targets = targets)\n",
      "\n",
      "    ##detectionP(rgSet, type = \"m+u\")\n",
      "    Mset.quantile = preprocessQuantile(rgSet, removeBadSamples = TRUE)\n",
      "    beta = getBeta(Mset.quantile)\n",
      "    write.csv(beta, file = '/cellar/users/agross/TCGA_Code/Methlation/Hannum \n",
      "    cellCounts = estimateCellCounts(rgSet, meanPlot=FALSE)\n",
      "    write.csv(cellCounts, file = '/cellar/users/agross/TCGA_Code/Methlation/Hannum/cell_counts_2.csv') \n",
      "    \n",
      "###Read in HIV Data  \n",
      "\n",
      "\n",
      "    baseDir = '/cellar/users/agross/TCGA_Code/Methlation/UCSD_Methylation/Raw_Data/AllFiles/'\n",
      "    targets2 <- read.450k.sheet(baseDir)\n",
      "    rgSet2 = read.450k.exp(base = baseDir, targets = targets2)\n",
      "    \n",
      "###Combine Hannum and HIV\n",
      "    \n",
      "    newpd <- data.frame(sampleNames = c(sampleNames(rgSet), sampleNames(rgSet2)), studyIndex = rep(c(\"user\", \"reference\"), times = c(ncol(rgSet), ncol(rgSet2))), stringsAsFactors = FALSE)\n",
      "    oldpd1 = pData(rgSet)\n",
      "    pData(rgSet) = newpd\n",
      "    oldpd2 = pData(rgSet2)\n",
      "    pData(rgSet2) = newpd\n",
      "    rgSetC <- combine(rgSet, rgSet2)\n",
      "    pData(rgSetC) = newpd\n",
      "\n",
      "###Add EPIC Data into the Mix\n",
      "    \n",
      "    baseDir = '/cellar/users/agross/Data/Methylation_Controls/EPIC_ITALY'\n",
      "    rgSet3 <- read.450k.exp(baseDir)\n",
      "    newpd1 = data.frame(sampleNames = c(oldpd1[[1]], oldpd2[[2]], sampleNames(rgSet3)), studyIndex = rep(c(\"s1\", \"s2\",\"s3\"), times = c(nrow(oldpd1), nrow(oldpd2), ncol(rgSet3))), stringsAsFactors = FALSE)\n",
      "    oldpd3 = pData(rgSet3)\n",
      "    pData(rgSet) = newpd1\n",
      "    pData(rgSet2) = newpd1\n",
      "    pData(rgSet3) = newpd1\n",
      "    pData(rgSetC) = newpd1\n",
      "    \n",
      "    rgSetD <- combine(rgSetC, rgSet3)\n",
      "    \n",
      "###Run Quantile Normalization\n",
      "    \n",
      "    Mset.quantile = preprocessQuantile(rgSetD, removeBadSamples = TRUE)\n",
      "    beta = getBeta(Mset.quantile)\n",
      "    write.csv(beta, '/cellar/users/agross/TCGA_Code/Methlation/beta_combined_quantile.csv')\n",
      "    df <- colData(Mset.quantile)\n",
      "    write.csv(df, '/cellar/users/agross/TCGA_Code/Methlation/beta_combined_quantile_labels.csv') \n",
      "    \n",
      "###Run estimateCellCounts \n",
      "    cell_counts = estimateCellCounts(rgSetD)\n",
      "\n",
      "###Horvath Pipeline \n",
      "\n",
      "    require(WGCNA)\n",
      "    source(\"/cellar/users/agross/Data/MethylationAge/Horvath/NORMALIZATION.R\")\n",
      "    f = '/cellar/users/agross/Data/MethylationAge/Horvath/probeAnnotation21kdatMethUsed.csv'\n",
      "    gold_standard = read.csv(f)\n"
     ]
    }
   ],
   "metadata": {}
  }
 ]
}
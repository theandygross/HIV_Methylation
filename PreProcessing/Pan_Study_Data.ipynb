{
 "cells": [
  {
   "cell_type": "markdown",
   "metadata": {},
   "source": [
    "# Process Normalized Cross-Study Dataset"
   ]
  },
  {
   "cell_type": "markdown",
   "metadata": {},
   "source": [
    "For differential expression analysis, we processed all of the data together on a high memory node.  This was done using the minfi package in R, and all data were normalized using the preprocessQuantile function.  For a full script of the R pipeline see the [Methylation_Normalization_MINFI](./Methylation_Normalization_MINFI.ipynb) notebook."
   ]
  },
  {
   "cell_type": "markdown",
   "metadata": {},
   "source": [
    "Imports and helper functions from [Imports](Imports.ipynb) notebook."
   ]
  },
  {
   "cell_type": "code",
   "execution_count": 1,
   "metadata": {
    "collapsed": false
   },
   "outputs": [
    {
     "name": "stdout",
     "output_type": "stream",
     "text": [
      "/cellar/users/agross/TCGA_Code/Methlation\n"
     ]
    }
   ],
   "source": [
    "cd .."
   ]
  },
  {
   "cell_type": "code",
   "execution_count": 3,
   "metadata": {
    "collapsed": false
   },
   "outputs": [],
   "source": [
    "import NotebookImport\n",
    "from Setup.Imports import *"
   ]
  },
  {
   "cell_type": "markdown",
   "metadata": {},
   "source": [
    "###Read in Data Normalized Together  \n",
    "* I had a few issues getting the dataset out of R, so I had to export the data and the sample labels seperately.  \n",
    "* Here I combine these two files together"
   ]
  },
  {
   "cell_type": "code",
   "execution_count": 4,
   "metadata": {
    "collapsed": false
   },
   "outputs": [],
   "source": [
    "ann = pd.read_csv(path + 'data/beta_combined_quantile_labels.csv',\n",
    "                  index_col=0)\n",
    "idx = ann.set_index(['studyIndex','sampleNames']).index\n",
    "\n",
    "df = pd.read_csv(path + 'data/beta_combined_quantile.csv', index_col=0,\n",
    "                 low_memory=True, engine='c')\n",
    "df.columns = idx\n",
    "betas = df"
   ]
  },
  {
   "cell_type": "code",
   "execution_count": 5,
   "metadata": {
    "collapsed": false
   },
   "outputs": [],
   "source": [
    "fix_col = lambda s: s if s[0] != 's3' else (s[0], '_'.join(s[1].split('_')[1:]))\n",
    "betas.columns = pd.MultiIndex.from_tuples(betas.columns.map(fix_col))"
   ]
  },
  {
   "cell_type": "markdown",
   "metadata": {},
   "source": [
    "####Read in HIV methylation data annotations "
   ]
  },
  {
   "cell_type": "code",
   "execution_count": 6,
   "metadata": {
    "collapsed": false
   },
   "outputs": [],
   "source": [
    "c1 = pd.read_excel(ucsd_path + 'DESIGN_Fox_v2_Samples-ChipLAyout-Clinical UNMC-UCSD methylomestudy.xlsx', \n",
    "                   'HIV- samples from OldStudy', index_col=0)\n",
    "c2 = pd.read_excel(ucsd_path + 'DESIGN_Fox_v2_Samples-ChipLAyout-Clinical UNMC-UCSD methylomestudy.xlsx', \n",
    "                   'HIV+ samples', index_col=0)\n",
    "clinical = c1.append(c2)"
   ]
  },
  {
   "cell_type": "markdown",
   "metadata": {},
   "source": [
    "Update clinical data with new data provided by Howard Fox"
   ]
  },
  {
   "cell_type": "code",
   "execution_count": 7,
   "metadata": {
    "collapsed": false
   },
   "outputs": [],
   "source": [
    "age_new = pd.read_csv(ucsd_path + 'UpdatesAges-Infection.csv', index_col=0)\n",
    "age = age_new.age.combine_first(clinical.age)\n",
    "age.name= 'age'\n",
    "clinical['age'] = age\n",
    "l = 'estimated duration hiv (months)'\n",
    "clinical[l] = age_new['Estimated Duration HIV+ (months)'].combine_first(clinical[l])"
   ]
  },
  {
   "cell_type": "code",
   "execution_count": 8,
   "metadata": {
    "collapsed": false
   },
   "outputs": [],
   "source": [
    "duration = clinical['estimated duration hiv (months)']\n",
    "duration = (1.*duration.notnull()) + (1.*duration > 100)\n",
    "duration = duration.map({0:'HIV Control',1:'HIV Short',2:'HIV Long'})"
   ]
  },
  {
   "cell_type": "code",
   "execution_count": 9,
   "metadata": {
    "collapsed": false
   },
   "outputs": [],
   "source": [
    "hiv_age = age\n",
    "hiv_clinical = clinical\n",
    "hiv_gender = hiv_clinical.gender.replace(1,'M').combine_first(hiv_clinical.sex)"
   ]
  },
  {
   "cell_type": "code",
   "execution_count": 10,
   "metadata": {
    "collapsed": false
   },
   "outputs": [
    {
     "data": {
      "text/plain": [
       "HIV Long       105\n",
       "HIV Control     50\n",
       "HIV Short       37\n",
       "dtype: int64"
      ]
     },
     "execution_count": 10,
     "metadata": {},
     "output_type": "execute_result"
    }
   ],
   "source": [
    "duration.value_counts()"
   ]
  },
  {
   "cell_type": "markdown",
   "metadata": {},
   "source": [
    "### EPIC Italy Cohort"
   ]
  },
  {
   "cell_type": "markdown",
   "metadata": {},
   "source": [
    "* Prospective cohort study on assesing cancer risk  \n",
    "* Also record age at menarche, published epigenetic markers associated with this \n",
    "* This data was collected post Hannum/Horvath, we want to use this as a control for our models \n",
    "* As we are only looking at men in our study we can just look at men here"
   ]
  },
  {
   "cell_type": "code",
   "execution_count": 11,
   "metadata": {
    "collapsed": false
   },
   "outputs": [],
   "source": [
    "f = path_italy + 'GSE51032_series_matrix.txt'\n",
    "ann = pd.read_table(f, skiprows=range(32), low_memory=False, nrows=33, header=0)\n",
    "ann.iloc[:,0] = ann.iloc[:,0].map(lambda s: s.split('!Sample_')[1])\n",
    "ann = ann.set_index('!Sample_title')\n",
    "age_italy = ann.iloc[9].map(lambda s: s.split(': ')[1]).astype(float)\n",
    "age_italy.name = 'Age'\n",
    "gender_italy = ann.iloc[8].map(lambda s: s.split(': ')[1])\n",
    "gender_italy.name = 'Gender'"
   ]
  },
  {
   "cell_type": "markdown",
   "metadata": {},
   "source": [
    "### Hannum Cohort"
   ]
  },
  {
   "cell_type": "markdown",
   "metadata": {},
   "source": [
    "* [Genome-wide methylation profiles reveal quantitative views of human aging rates.](http://www.ncbi.nlm.nih.gov/pubmed/23177740) \n",
    "* All relatively normal samples (from Glaucoma GWAS?)  \n",
    "* Half are female, about 1/3 are Hispanic "
   ]
  },
  {
   "cell_type": "code",
   "execution_count": 12,
   "metadata": {
    "collapsed": false
   },
   "outputs": [],
   "source": [
    "f = '/cellar/users/agross/Data/Hannum_Methylation/idats/Full Illumina List Nov 9.txt'\n",
    "clin = pd.read_table(f, index_col=0)\n",
    "clin.index = clin.index.map(str)\n",
    "gender_hannum = clin.sex\n",
    "age_hannum = clin.Age\n",
    "ethnicity_hannum = clin.ethnicity\n",
    "hannum_clinical = pd.concat([age_hannum, gender_hannum, ethnicity_hannum], axis=1,\n",
    "                            keys=['age', 'gender', 'ethnicity'])"
   ]
  },
  {
   "cell_type": "code",
   "execution_count": 13,
   "metadata": {
    "collapsed": false
   },
   "outputs": [
    {
     "data": {
      "text/html": [
       "<div style=\"max-height:1000px;max-width:1500px;overflow:auto;\">\n",
       "<table border=\"1\" class=\"dataframe\">\n",
       "  <thead>\n",
       "    <tr style=\"text-align: right;\">\n",
       "      <th>gender</th>\n",
       "      <th>F</th>\n",
       "      <th>M</th>\n",
       "    </tr>\n",
       "    <tr>\n",
       "      <th>ethnicity</th>\n",
       "      <th></th>\n",
       "      <th></th>\n",
       "    </tr>\n",
       "  </thead>\n",
       "  <tbody>\n",
       "    <tr>\n",
       "      <th>Asian - Chinese</th>\n",
       "      <td>   1</td>\n",
       "      <td>   0</td>\n",
       "    </tr>\n",
       "    <tr>\n",
       "      <th>Asian - Filipino</th>\n",
       "      <td>   1</td>\n",
       "      <td>   0</td>\n",
       "    </tr>\n",
       "    <tr>\n",
       "      <th>Asian - Japanese</th>\n",
       "      <td>   0</td>\n",
       "      <td>   1</td>\n",
       "    </tr>\n",
       "    <tr>\n",
       "      <th>Asian - Taiwanese</th>\n",
       "      <td>   0</td>\n",
       "      <td>   1</td>\n",
       "    </tr>\n",
       "    <tr>\n",
       "      <th>Asian - Unknown</th>\n",
       "      <td>   1</td>\n",
       "      <td>   0</td>\n",
       "    </tr>\n",
       "    <tr>\n",
       "      <th>Asian - Vietnamese</th>\n",
       "      <td>   1</td>\n",
       "      <td>   1</td>\n",
       "    </tr>\n",
       "    <tr>\n",
       "      <th>Caribbean</th>\n",
       "      <td>   1</td>\n",
       "      <td>   0</td>\n",
       "    </tr>\n",
       "    <tr>\n",
       "      <th>Caucasian - European</th>\n",
       "      <td> 319</td>\n",
       "      <td> 288</td>\n",
       "    </tr>\n",
       "    <tr>\n",
       "      <th>Caucasian - Middle Eastern</th>\n",
       "      <td>   0</td>\n",
       "      <td>   1</td>\n",
       "    </tr>\n",
       "    <tr>\n",
       "      <th>Hispanic - European</th>\n",
       "      <td>   1</td>\n",
       "      <td>   0</td>\n",
       "    </tr>\n",
       "    <tr>\n",
       "      <th>Hispanic - Mexican</th>\n",
       "      <td> 160</td>\n",
       "      <td> 131</td>\n",
       "    </tr>\n",
       "    <tr>\n",
       "      <th>Hispanic - Other </th>\n",
       "      <td>   1</td>\n",
       "      <td>   0</td>\n",
       "    </tr>\n",
       "    <tr>\n",
       "      <th>Mixture</th>\n",
       "      <td>   2</td>\n",
       "      <td>   0</td>\n",
       "    </tr>\n",
       "    <tr>\n",
       "      <th>Native American</th>\n",
       "      <td>   1</td>\n",
       "      <td>   0</td>\n",
       "    </tr>\n",
       "  </tbody>\n",
       "</table>\n",
       "</div>"
      ],
      "text/plain": [
       "gender                        F    M\n",
       "ethnicity                           \n",
       "Asian - Chinese               1    0\n",
       "Asian - Filipino              1    0\n",
       "Asian - Japanese              0    1\n",
       "Asian - Taiwanese             0    1\n",
       "Asian - Unknown               1    0\n",
       "Asian - Vietnamese            1    1\n",
       "Caribbean                     1    0\n",
       "Caucasian - European        319  288\n",
       "Caucasian - Middle Eastern    0    1\n",
       "Hispanic - European           1    0\n",
       "Hispanic - Mexican          160  131\n",
       "Hispanic - Other              1    0\n",
       "Mixture                       2    0\n",
       "Native American               1    0"
      ]
     },
     "execution_count": 13,
     "metadata": {},
     "output_type": "execute_result"
    }
   ],
   "source": [
    "pd.crosstab(hannum_clinical.gender, hannum_clinical.ethnicity).T"
   ]
  },
  {
   "cell_type": "markdown",
   "metadata": {},
   "source": [
    "# Combine Clinical Data"
   ]
  },
  {
   "cell_type": "code",
   "execution_count": 14,
   "metadata": {
    "collapsed": false
   },
   "outputs": [],
   "source": [
    "age = pd.concat([hiv_clinical.age, age_hannum, age_italy])\n",
    "age.name = 'age'\n",
    "\n",
    "gender = pd.concat([hiv_gender, gender_hannum, gender_italy])\n",
    "gender.name = 'gender'"
   ]
  },
  {
   "cell_type": "code",
   "execution_count": 16,
   "metadata": {
    "collapsed": false
   },
   "outputs": [],
   "source": [
    "study = {}\n",
    "for i in betas.columns:\n",
    "    if i[0] == 's2':\n",
    "        study[i[1]] = duration.ix[i[1]]\n",
    "    else:\n",
    "        study[i[1]] = i[0]\n",
    "study = pd.Series(study)"
   ]
  },
  {
   "cell_type": "code",
   "execution_count": 17,
   "metadata": {
    "collapsed": false
   },
   "outputs": [
    {
     "data": {
      "image/png": "[encoded data removed]",
      "text/plain": [
       "<matplotlib.figure.Figure at 0x7ff9467e77d0>"
      ]
     },
     "metadata": {},
     "output_type": "display_data"
    }
   ],
   "source": [
    "#Do not import\n",
    "o = ['s1','s3','HIV Control','HIV Short', 'HIV Long']\n",
    "violin_plot_pandas(study, age, order=o)"
   ]
  },
  {
   "cell_type": "code",
   "execution_count": 18,
   "metadata": {
    "collapsed": false
   },
   "outputs": [],
   "source": [
    "hiv = study.isin(['HIV Short','HIV Long'])"
   ]
  },
  {
   "cell_type": "markdown",
   "metadata": {},
   "source": [
    "### Comparing to Cell-Type Specific Markers"
   ]
  },
  {
   "cell_type": "code",
   "execution_count": 19,
   "metadata": {
    "collapsed": false
   },
   "outputs": [],
   "source": [
    "cell_counts = pd.read_csv(path + 'data/beta_combined_cell_counts.csv', index_col=0, \n",
    "                      low_memory=False)\n",
    "ann = pd.read_csv(path + 'data/beta_combined_quantile_labels1.csv',\n",
    "                  index_col=0)\n",
    "cell_counts.index = cell_counts.index.map(lambda s: ann.sampleNames.ix[s])\n",
    "fix_col = lambda s: s if s.startswith('GSM') ==False else '_'.join(s.split('_')[1:])\n",
    "cell_counts.index = cell_counts.index.map(fix_col)\n",
    "cell_counts = cell_counts.div(cell_counts.sum(1), axis=0)"
   ]
  },
  {
   "cell_type": "code",
   "execution_count": 20,
   "metadata": {
    "collapsed": false
   },
   "outputs": [
    {
     "data": {
      "text/html": [
       "<div style=\"max-height:1000px;max-width:1500px;overflow:auto;\">\n",
       "<table border=\"1\" class=\"dataframe\">\n",
       "  <thead>\n",
       "    <tr style=\"text-align: right;\">\n",
       "      <th></th>\n",
       "      <th>H</th>\n",
       "      <th>p</th>\n",
       "      <th>q</th>\n",
       "    </tr>\n",
       "  </thead>\n",
       "  <tbody>\n",
       "    <tr>\n",
       "      <th>CD8T</th>\n",
       "      <td> 247.99</td>\n",
       "      <td> 1.77e-52</td>\n",
       "      <td> 1.06e-51</td>\n",
       "    </tr>\n",
       "    <tr>\n",
       "      <th>CD4T</th>\n",
       "      <td> 181.48</td>\n",
       "      <td> 3.58e-38</td>\n",
       "      <td> 1.08e-37</td>\n",
       "    </tr>\n",
       "    <tr>\n",
       "      <th>Mono</th>\n",
       "      <td>  60.02</td>\n",
       "      <td> 2.88e-12</td>\n",
       "      <td> 5.76e-12</td>\n",
       "    </tr>\n",
       "    <tr>\n",
       "      <th>Bcell</th>\n",
       "      <td>  54.52</td>\n",
       "      <td> 4.09e-11</td>\n",
       "      <td> 6.14e-11</td>\n",
       "    </tr>\n",
       "    <tr>\n",
       "      <th>Gran</th>\n",
       "      <td>  14.31</td>\n",
       "      <td> 6.38e-03</td>\n",
       "      <td> 7.65e-03</td>\n",
       "    </tr>\n",
       "    <tr>\n",
       "      <th>NK</th>\n",
       "      <td>  11.62</td>\n",
       "      <td> 2.04e-02</td>\n",
       "      <td> 2.04e-02</td>\n",
       "    </tr>\n",
       "  </tbody>\n",
       "</table>\n",
       "</div>"
      ],
      "text/plain": [
       "            H         p         q\n",
       "CD8T   247.99  1.77e-52  1.06e-51\n",
       "CD4T   181.48  3.58e-38  1.08e-37\n",
       "Mono    60.02  2.88e-12  5.76e-12\n",
       "Bcell   54.52  4.09e-11  6.14e-11\n",
       "Gran    14.31  6.38e-03  7.65e-03\n",
       "NK      11.62  2.04e-02  2.04e-02"
      ]
     },
     "execution_count": 20,
     "metadata": {},
     "output_type": "execute_result"
    }
   ],
   "source": [
    "screen_feature(study, kruskal_pandas, cell_counts.T, align=False)"
   ]
  },
  {
   "cell_type": "code",
   "execution_count": 21,
   "metadata": {
    "collapsed": false
   },
   "outputs": [
    {
     "data": {
      "image/png": "[encoded data removed]",
      "text/plain": [
       "<matplotlib.figure.Figure at 0x7ff9461e5190>"
      ]
     },
     "metadata": {},
     "output_type": "display_data"
    }
   ],
   "source": [
    "#Do not import\n",
    "violin_plot_pandas(study, cell_counts.CD8T, order=o)"
   ]
  },
  {
   "cell_type": "code",
   "execution_count": 22,
   "metadata": {
    "collapsed": false
   },
   "outputs": [
    {
     "data": {
      "image/png": "[encoded data removed]",
      "text/plain": [
       "<matplotlib.figure.Figure at 0x7ff945f410d0>"
      ]
     },
     "metadata": {},
     "output_type": "display_data"
    }
   ],
   "source": [
    "#Do not import\n",
    "violin_plot_pandas(study, cell_counts.CD4T, order=o)"
   ]
  },
  {
   "cell_type": "markdown",
   "metadata": {},
   "source": [
    "Looks like some outliers in one of the controls... would be best to drop them."
   ]
  },
  {
   "cell_type": "code",
   "execution_count": 23,
   "metadata": {
    "collapsed": false
   },
   "outputs": [
    {
     "data": {
      "image/png": "[encoded data removed]",
      "text/plain": [
       "<matplotlib.figure.Figure at 0x7ff945efbcd0>"
      ]
     },
     "metadata": {},
     "output_type": "display_data"
    }
   ],
   "source": [
    "#Do not import\n",
    "violin_plot_pandas(study, cell_counts.Bcell, order=o)"
   ]
  },
  {
   "cell_type": "code",
   "execution_count": 24,
   "metadata": {
    "collapsed": false
   },
   "outputs": [],
   "source": [
    "study = study.ix[ti(cell_counts.Bcell < .25)].dropna()\n",
    "keepers = study.index"
   ]
  },
  {
   "cell_type": "code",
   "execution_count": 26,
   "metadata": {
    "collapsed": false
   },
   "outputs": [],
   "source": [
    "betas = betas.astype(float)"
   ]
  },
  {
   "cell_type": "code",
   "execution_count": 27,
   "metadata": {
    "collapsed": false
   },
   "outputs": [],
   "source": [
    "store = pd.HDFStore(HDFS_DIR + 'dx_methylation.h5')"
   ]
  },
  {
   "cell_type": "code",
   "execution_count": 28,
   "metadata": {
    "collapsed": false
   },
   "outputs": [],
   "source": [
    "store.append('betas', betas)\n",
    "store.create_table_index('betas', optlevel=9, kind='full')"
   ]
  },
  {
   "cell_type": "code",
   "execution_count": 30,
   "metadata": {
    "collapsed": false
   },
   "outputs": [],
   "source": [
    "store['age'] = age\n",
    "store['study'] = study\n",
    "store['gender'] = gender"
   ]
  },
  {
   "cell_type": "code",
   "execution_count": 31,
   "metadata": {
    "collapsed": false
   },
   "outputs": [],
   "source": [
    "store.append('cell_counts', cell_counts)\n",
    "store.create_table_index('cell_counts', optlevel=9, kind='full')"
   ]
  },
  {
   "cell_type": "code",
   "execution_count": 32,
   "metadata": {
    "collapsed": false
   },
   "outputs": [],
   "source": [
    "store.close()"
   ]
  }
 ],
 "metadata": {
  "kernelspec": {
   "display_name": "Python 2",
   "language": "python",
   "name": "python2"
  },
  "language_info": {
   "codemirror_mode": {
    "name": "ipython",
    "version": 2
   },
   "file_extension": ".py",
   "mimetype": "text/x-python",
   "name": "python",
   "nbconvert_exporter": "python",
   "pygments_lexer": "ipython2",
   "version": "2.7.9"
  }
 },
 "nbformat": 4,
 "nbformat_minor": 0
}

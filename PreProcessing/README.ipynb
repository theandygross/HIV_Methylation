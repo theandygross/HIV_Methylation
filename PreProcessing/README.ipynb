{
 "cells": [
  {
   "cell_type": "markdown",
   "metadata": {},
   "source": [
    "# Data Processing Pipeline"
   ]
  },
  {
   "cell_type": "markdown",
   "metadata": {},
   "source": [
    "## Processing Summary"
   ]
  },
  {
   "cell_type": "markdown",
   "metadata": {},
   "source": [
    "* Primary processing done with MINFI R package, described in this [notebook](./Methylation_Normalization_MINFI.ipynb)  \n",
    "    * All data quantile normalized together \n",
    "    * Needs large memory machine (~100GB)\n",
    "* Cell-counts calculated using estimateCellCounts \n",
    "    * Uses flow-sorted data \n",
    "        * from [Housmann et. al paper](http://www.ncbi.nlm.nih.gov/pubmed/22568884)\n",
    "        * Obtained from R Bioconductor package [FlowSorted.Blood.450k](http://www.bioconductor.org/packages/release/data/experiment/html/FlowSorted.Blood.450k.html)\n",
    "        * Quantile normalized with rest of data for consistancy\n",
    "    * Benchmarked for HIV data in [Cell Composition Benchmark](../Benchmarks/Cell_Composition_Bechmark.ipynb)\n",
    "* Detection p-values obtained by detectionP function\n",
    "    * Processed and dumped to HDFS in [this notebook](../PreProcessing/save_detection_p_values.ipynb)  \n",
    "* Data are read in from the flat .csv generated in the R pipeline and dumped into HDFS files in [this notebook](./PreProcessing/Pan_Study_Data.ipynb) \n",
    "    * Considerable savings in both time and memory usage \n",
    "    * I like to keep these HDFS files on my SSD to speed things up even more\n",
    "* All data normalized to reference distribution via BMIQ \n",
    "    * Modified code from Horvath paper \n",
    "    * Use Hannum data, as gold standard for Hannum model, Horvath's supplied gold-standard for his model  \n",
    "    * [Horvath pipeline script](../PreProcessing/BMIQ_Horvath.ipynb)  \n",
    "    * [Hannum pipeline script](../PreProcessing/BMIQ_Normalization.ipynb)\n",
    "* Each probe adjusted for cell-composition\n",
    "    * Hannum: quantile normalization -> adjustment -> BMIQ\n",
    "    * Horvath: quantile normalization -> BMIQ -> adjustement \n",
    "    * Exploration of this processing step is done [here](../Benchmarks/Cell_Composition_Bechmark.ipynb)\n",
    "* Probe annotations obtained from R Bioconductor 450k annotation package [link](http://www.bioconductor.org/packages/release/data/annotation/html/IlluminaHumanMethylation450kanno.ilmn12.hg19.html), dumped into HDFS format in [this notebook](../PreProcessing/Compile_Probe_Annotations.ipynb)"
   ]
  },
  {
   "cell_type": "markdown",
   "metadata": {},
   "source": [
    "## Pipeline Dependencies"
   ]
  },
  {
   "cell_type": "markdown",
   "metadata": {},
   "source": [
    "1. Process Raw Data\n",
    "    * [Methylation_Normalization_MINFI](../PreProcessing/Methylation_Normalization_MINFI.ipynb) \n",
    "2. Prepare data, save into HDFS \n",
    "    * [Pan_Study_Data](../PreProcessing/Pan_Study_Data.ipynb) \n",
    "    * [save_detection_p_values](../PreProcessing/save_detection_p_values.ipynb)  \n",
    "    * [Compile_Probe_Annotations](../PreProcessing/Compile_Probe_Annotations.ipynb)\n",
    "3. Adjust for cell composition and preform BMIQ normalization \n",
    "    * [BMIQ_Horvath](../PreProcessing/BMIQ_Horvath.ipynb)\n",
    "    * [BMIQ_Normalization](../PreProcessing/BMIQ_Normalization.ipynb)"
   ]
  },
  {
   "cell_type": "markdown",
   "metadata": {},
   "source": [
    "## Datasets"
   ]
  },
  {
   "cell_type": "markdown",
   "metadata": {},
   "source": [
    "#### HIV Dataset   \n",
    "* Our dataset collected for this study \n",
    "* 142 cases, 50 controls  \n",
    "\n",
    "#### Hannum Dataset \n",
    "* Data used in [Hannum et al.](http://www.ncbi.nlm.nih.gov/pubmed/23177740)\n",
    "* Data available from GEO ([GSE40279](http://www.ncbi.nlm.nih.gov/geo/query/acc.cgi?acc=GSE40279)) \n",
    "* 908 patients \n",
    "\n",
    "#### EPIC Dataset \n",
    "* European Prospective Investigation into Cancer and Nutrition (link)[http://www.ncbi.nlm.nih.gov/pubmed/12639222]\n",
    "* Data available from GEO ([GSE51032](http://www.ncbi.nlm.nih.gov/geo/query/acc.cgi?acc=GSE51032)) \n",
    "* 845 patients"
   ]
  },
  {
   "cell_type": "markdown",
   "metadata": {},
   "source": [
    "#### Summary"
   ]
  },
  {
   "cell_type": "markdown",
   "metadata": {},
   "source": [
    "* Summarized in [Read HIV Data](../Setup.Read_HIV_Data) notebook \n",
    "* 142 cases, 50 controls\n",
    "* All white, 2 with current alcohol use, 1 with cannabis  \n",
    "* None are diabetic or HCV+ \n",
    "* All adherent to drugs"
   ]
  },
  {
   "cell_type": "markdown",
   "metadata": {},
   "source": [
    "#### Filters (QC)"
   ]
  },
  {
   "cell_type": "markdown",
   "metadata": {},
   "source": [
    "* 5 patients not treated with HAART therepy \n",
    "* 2 female controls removed \n",
    "* 2 controls removed due to data quality (MINFI pipeline, probe detection criteria) "
   ]
  },
  {
   "cell_type": "markdown",
   "metadata": {},
   "source": [
    "#### Filters (age models)"
   ]
  },
  {
   "cell_type": "markdown",
   "metadata": {},
   "source": [
    "Looking at agreement between Hannum and Horvath models.  The idea here is that when they disagree it is likely a sign of poor data quality, or that our models do a great job of describing the aging process for a particular patien ([Relavant code](../HIV_Age_Advancement_Composition_Adj.ipynb#Quality-Control)).\n",
    "\n",
    "* Drop 5 cases, 1 control \n",
    "* 2/6 samples have non-zero detection p-values for probes in one or both of the models"
   ]
  }
 ],
 "metadata": {
  "kernelspec": {
   "display_name": "Python 2",
   "language": "python",
   "name": "python2"
  },
  "language_info": {
   "codemirror_mode": {
    "name": "ipython",
    "version": 2
   },
   "file_extension": ".py",
   "mimetype": "text/x-python",
   "name": "python",
   "nbconvert_exporter": "python",
   "pygments_lexer": "ipython2",
   "version": "2.7.7"
  }
 },
 "nbformat": 4,
 "nbformat_minor": 0
}

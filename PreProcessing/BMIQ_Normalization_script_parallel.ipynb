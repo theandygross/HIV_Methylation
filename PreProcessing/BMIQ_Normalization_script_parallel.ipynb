{
 "cells": [
  {
   "cell_type": "markdown",
   "metadata": {},
   "source": [
    "## BMIQ Normalization"
   ]
  },
  {
   "cell_type": "markdown",
   "metadata": {},
   "source": [
    "Here we are running [BMIQ normalization](http://www.ncbi.nlm.nih.gov/pubmed/23175756) on all of our quantile-normalized data together.  I am using the implementation provided by Steve Horvath along with his recent methylation-age paper.  We are doing this as a result of [this paper's](http://www.ncbi.nlm.nih.gov/pubmed/23422812) recomendation to run both quantile normalization and BMIQ in series on the same datasets.  "
   ]
  },
  {
   "cell_type": "code",
   "execution_count": 182,
   "metadata": {
    "collapsed": false
   },
   "outputs": [
    {
     "name": "stdout",
     "output_type": "stream",
     "text": [
      "Overwriting ./sge/run_model.py\n"
     ]
    }
   ],
   "source": [
    "%%file ./sge/run_model.py\n",
    "#!/cellar/users/agross/anaconda2/bin/ipython\n",
    "\n",
    "import sys\n",
    "import pandas as pd\n",
    "\n",
    "import rpy2.robjects as robjects\n",
    "from pandas.rpy.common import convert_to_r_dataframe\n",
    "from pandas.rpy.common import convert_robj\n",
    "from IPython.display import clear_output\n",
    "\n",
    "store = sys.argv[1]\n",
    "table_name = sys.argv[2]\n",
    "gold_standard_name = sys.argv[3]\n",
    "batch = sys.argv[4]\n",
    "print sys.argv\n",
    "\n",
    "batches = pd.read_csv('/cellar/users/agross/TCGA_Code/Methlation/PreProcessing/batch.csv', \n",
    "                      names=['sample','batch'], header=None)\n",
    "patients = list(batches[batches.batch == 1].sample)\n",
    "\n",
    "betas = pd.read_hdf(store, table_name, columns=patients)\n",
    "gold_standard = pd.read_hdf(store, gold_standard_name)\n",
    "betas = betas.ix[gold_standard.index]\n",
    "if betas.isnull().sum().sum() > 0:\n",
    "    betas = betas.T.fillna(gold_standard).T\n",
    "    \n",
    "robjects.r.library('WGCNA');\n",
    "robjects.r.source(\"/cellar/users/agross/Data/MethylationAge/Horvath/NORMALIZATION.R\");\n",
    "\n",
    "df_r = robjects.r.t(convert_to_r_dataframe(betas))\n",
    "gs = list(gold_standard.ix[betas.index])\n",
    "gs_r = robjects.FloatVector(gs)\n",
    "del betas\n",
    "\n",
    "data_n = robjects.r.BMIQcalibration(df_r, gs_r)\n",
    "data_n = convert_robj(data_n).T\n",
    "\n",
    "data_n.columns = data_n.columns.map(lambda s: s.replace('.','-'))\n",
    "data_n.columns = data_n.columns.map(lambda s: s[1:] if s.startswith('X') else s)\n",
    "print data_n.shape\n",
    "print store\n",
    "print '{}_BMIQ_batch_{}'.format(table_name, batch)\n",
    "data_n.to_hdf('{}_BMIQ.h5'.format(store[:-3]), '{}_batch_{}'.format(table_name, batch))"
   ]
  },
  {
   "cell_type": "code",
   "execution_count": 183,
   "metadata": {
    "collapsed": true
   },
   "outputs": [],
   "source": [
    "!chmod 755 ./sge/run_model.py"
   ]
  },
  {
   "cell_type": "code",
   "execution_count": 184,
   "metadata": {
    "collapsed": true
   },
   "outputs": [],
   "source": [
    "import pandas as pd\n",
    "import os as os"
   ]
  },
  {
   "cell_type": "code",
   "execution_count": 185,
   "metadata": {
    "collapsed": false
   },
   "outputs": [],
   "source": [
    "store = '/cellar/users/agross/Data/tmp/methylation_norm.h5'\n",
    "table = 'betas_adj'\n",
    "gold_standard = 'Hannum_gold_standard'"
   ]
  },
  {
   "cell_type": "code",
   "execution_count": 5,
   "metadata": {
    "collapsed": false
   },
   "outputs": [],
   "source": [
    "df = pd.read_hdf(store, table)"
   ]
  },
  {
   "cell_type": "code",
   "execution_count": 103,
   "metadata": {
    "collapsed": true
   },
   "outputs": [],
   "source": [
    "del s['betas_adj']"
   ]
  },
  {
   "cell_type": "code",
   "execution_count": 107,
   "metadata": {
    "collapsed": false
   },
   "outputs": [],
   "source": [
    "df.to_hdf(store, table, format='t')"
   ]
  },
  {
   "cell_type": "code",
   "execution_count": 97,
   "metadata": {
    "collapsed": false
   },
   "outputs": [],
   "source": [
    "s = pd.HDFStore(store)"
   ]
  },
  {
   "cell_type": "code",
   "execution_count": 186,
   "metadata": {
    "collapsed": true
   },
   "outputs": [],
   "source": [
    "def generate_sge(njobs, store, table, gold_standard,\n",
    "                 script_dir='.', threads=16):\n",
    "    print 'Writing scripts and SGE driver to {}'.format(script_dir)\n",
    "    if not os.path.isdir(script_dir):\n",
    "        os.makedirs(script_dir)\n",
    "\n",
    "    sge =  ['#! /bin/csh']\n",
    "    sge += ['#$ -S /bin/csh']\n",
    "    sge += ['#$ -o {}'.format(script_dir)]\n",
    "    sge += ['#$ -e {}'.format(script_dir)]\n",
    "    sge += ['#$ -cwd']\n",
    "    sge += ['#$ -t 1-{}'.format(njobs)]\n",
    "    sge += ['#$ -tc {}'.format(threads)]\n",
    "    \n",
    "    sge += ['hostname']\n",
    "    sge += ['date']\n",
    "    sge += [('{}/run_model.py {} {} {} '\n",
    "             '$SGE_TASK_ID').format(script_dir, store, table, \n",
    "                                    gold_standard)]\n",
    "    sge += ['date']\n",
    "    \n",
    "    sge = '\\n'.join(sge)\n",
    "    \n",
    "    f = open('{}/sge_{}_BMIQ.sh'.format(script_dir, table), \n",
    "             'wb')\n",
    "    f.write(sge)\n",
    "    f.close()  "
   ]
  },
  {
   "cell_type": "code",
   "execution_count": 187,
   "metadata": {
    "collapsed": false
   },
   "outputs": [
    {
     "data": {
      "text/plain": [
       "183.0"
      ]
     },
     "execution_count": 187,
     "metadata": {},
     "output_type": "execute_result"
    }
   ],
   "source": [
    "s = pd.Series(range(len(df.columns)), df.columns)\n",
    "batch = pd.np.floor(s / 10) + 1\n",
    "batch.to_csv('./batch.csv')\n",
    "batch.max()"
   ]
  },
  {
   "cell_type": "code",
   "execution_count": 190,
   "metadata": {
    "collapsed": false
   },
   "outputs": [
    {
     "name": "stdout",
     "output_type": "stream",
     "text": [
      "Writing scripts and SGE driver to /cellar/users/agross/TCGA_Code/Methlation/PreProcessing/sge\n"
     ]
    }
   ],
   "source": [
    "generate_sge(183, store, table, gold_standard, \n",
    "             '/cellar/users/agross/TCGA_Code/Methlation/PreProcessing/sge', \n",
    "             threads=36) "
   ]
  },
  {
   "cell_type": "code",
   "execution_count": 181,
   "metadata": {
    "collapsed": false,
    "scrolled": true
   },
   "outputs": [
    {
     "name": "stdout",
     "output_type": "stream",
     "text": [
      "['/cellar/users/agross/TCGA_Code/Methlation/PreProcessing/sge/run_model.py', '/cellar/users/agross/Data/tmp/methylation_norm.h5', 'betas_adj', 'Hannum_gold_standard', '100']\n",
      "Loading required package: dynamicTreeCut\n",
      "Loading required package: flashClust\n",
      "\n",
      "Attaching package: ‘flashClust’\n",
      "\n",
      "The following object is masked from ‘package:stats’:\n",
      "\n",
      "    hclust\n",
      "\n",
      "==========================================================================\n",
      "*\n",
      "*  Package WGCNA 1.41.1 loaded.\n",
      "*\n",
      "*    Important note: It appears that your system supports multi-threading,\n",
      "*    but it is not enabled within WGCNA in R. \n",
      "*    To allow multi-threading within WGCNA with all available cores, use \n",
      "*\n",
      "*          allowWGCNAThreads()\n",
      "*\n",
      "*    within R. Use disableWGCNAThreads() to disable threading if necessary.\n",
      "*    Alternatively, set the following environment variable on your system:\n",
      "*\n",
      "*          ALLOW_WGCNA_THREADS=<number_of_processors>\n",
      "*\n",
      "*    for example \n",
      "*\n",
      "*          ALLOW_WGCNA_THREADS=8\n",
      "*\n",
      "*    To set the environment variable in linux bash shell, type \n",
      "*\n",
      "*           export ALLOW_WGCNA_THREADS=8\n",
      "*\n",
      "*     before running R. Other operating systems or shells will\n",
      "*     have a similar command to achieve the same aim.\n",
      "*\n",
      "==========================================================================\n",
      "\n",
      "\n",
      "\n",
      "Attaching package: ‘WGCNA’\n",
      "\n",
      "The following object is masked from ‘package:stats’:\n",
      "\n",
      "    cor\n",
      "\n",
      "Loading required package: RPMM\n",
      "Loading required package: cluster\n",
      "[1] \"Fitting EM beta mixture to goldstandard probes\"\n",
      "[1] Inf\n",
      "[1] 0.00284889\n",
      "[1] 0.001488458\n",
      "[1] 0.001385431\n",
      "[1] 0.00121727\n",
      "[1] \"Done\"\n",
      "ii= 1\n",
      "[1] \"Fitting EM beta mixture to input probes\"\n",
      "[1] Inf\n",
      "[1] 0.004563755\n",
      "[1] 0.003165958\n",
      "[1] 0.002789814\n",
      "[1] 0.002738367\n",
      "[1] \"Done\"\n",
      "[1] \"Start normalising input probes\"\n",
      "ii= 2\n",
      "[1] \"Fitting EM beta mixture to input probes\"\n",
      "[1] Inf\n",
      "[1] 0.002088403\n",
      "[1] 0.001701839\n",
      "[1] 0.001581493\n",
      "[1] 0.001494624\n",
      "[1] \"Done\"\n",
      "[1] \"Start normalising input probes\"\n",
      "ii= 3\n",
      "[1] \"Fitting EM beta mixture to input probes\"\n",
      "[1] Inf\n",
      "[1] 0.003715084\n",
      "[1] 0.003215857\n",
      "[1] 0.003056814\n",
      "[1] 0.002944045\n",
      "[1] \"Done\"\n",
      "[1] \"Start normalising input probes\"\n",
      "ii= 4\n",
      "[1] \"Fitting EM beta mixture to input probes\"\n",
      "[1] Inf\n",
      "[1] 0.001796054\n",
      "[1] 0.001479678\n",
      "[1] 0.001305084\n",
      "[1] 0.001238874\n",
      "[1] \"Done\"\n",
      "[1] \"Start normalising input probes\"\n",
      "ii= 5\n",
      "[1] \"Fitting EM beta mixture to input probes\"\n",
      "[1] Inf\n",
      "[1] 0.00428869\n",
      "[1] 0.003260741\n",
      "[1] 0.002927392\n",
      "[1] 0.002752399\n",
      "[1] \"Done\"\n",
      "[1] \"Start normalising input probes\"\n",
      "ii= 6\n",
      "[1] \"Fitting EM beta mixture to input probes\"\n",
      "[1] Inf\n",
      "[1] 0.004417906\n",
      "[1] 0.003547183\n",
      "[1] 0.003458557\n",
      "[1] 0.003428129\n",
      "[1] \"Done\"\n",
      "[1] \"Start normalising input probes\"\n",
      "ii= 7\n",
      "[1] \"Fitting EM beta mixture to input probes\"\n",
      "[1] Inf\n",
      "[1] 0.006366752\n",
      "[1] 0.005445768\n",
      "[1] 0.005070871\n",
      "[1] 0.004839397\n",
      "[1] \"Done\"\n",
      "[1] \"Start normalising input probes\"\n",
      "ii= 8\n",
      "[1] \"Fitting EM beta mixture to input probes\"\n",
      "[1] Inf\n",
      "[1] 0.00327086\n",
      "[1] 0.002717354\n",
      "[1] 0.002306499\n",
      "[1] 0.00185628\n",
      "[1] \"Done\"\n",
      "[1] \"Start normalising input probes\"\n",
      "ii= 9\n",
      "[1] \"Fitting EM beta mixture to input probes\"\n",
      "[1] Inf\n",
      "[1] 0.007695471\n",
      "[1] 0.006436979\n",
      "[1] 0.005916033\n",
      "[1] 0.00558456\n",
      "[1] \"Done\"\n",
      "[1] \"Start normalising input probes\"\n",
      "ii= 10\n",
      "[1] \"Fitting EM beta mixture to input probes\"\n",
      "[1] Inf\n",
      "[1] 0.001280389\n",
      "[1] 0.001016756\n",
      "[1] 0.001111275\n",
      "[1] 0.00109407\n",
      "[1] \"Done\"\n",
      "[1] \"Start normalising input probes\"\n",
      "(485512, 10)\n",
      "/cellar/users/agross/Data/tmp/methylation_norm.h5\n",
      "betas_adj_BMIQ_batch_100\n"
     ]
    }
   ],
   "source": [
    "!./sge/run_model.py $store $table $gold_standard 100"
   ]
  },
  {
   "cell_type": "code",
   "execution_count": 13,
   "metadata": {
    "collapsed": false
   },
   "outputs": [],
   "source": [
    "#store = pd.HDFStore('/data_ssd/methylation_norm.h5')\n",
    "#store.append('quant_BMIQ_adj', data_n)\n",
    "#store.create_table_index('quant_BMIQ_adj', optlevel=9, kind='full')"
   ]
  }
 ],
 "metadata": {
  "kernelspec": {
   "display_name": "Python 2",
   "language": "python",
   "name": "python2"
  },
  "language_info": {
   "codemirror_mode": {
    "name": "ipython",
    "version": 2
   },
   "file_extension": ".py",
   "mimetype": "text/x-python",
   "name": "python",
   "nbconvert_exporter": "python",
   "pygments_lexer": "ipython2",
   "version": "2.7.7"
  }
 },
 "nbformat": 4,
 "nbformat_minor": 0
}

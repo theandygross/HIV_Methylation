{
 "cells": [
  {
   "cell_type": "markdown",
   "metadata": {},
   "source": [
    "## Cell Composition Adjustement"
   ]
  },
  {
   "cell_type": "markdown",
   "metadata": {},
   "source": [
    "One very important step to note is that we are adjusting each patient's beta-values by the expected value given their cell composition.  We are including this step to reduce the variablility in methylation levels that is purely resulting from differing cellular compositions. We are preforming this step after quantile normalization, but before the BMIQ step.  This could be done in other sections of the pipeline but should not have too big of an impact on downstream results."
   ]
  },
  {
   "cell_type": "code",
   "execution_count": 1,
   "metadata": {
    "collapsed": false
   },
   "outputs": [
    {
     "name": "stdout",
     "output_type": "stream",
     "text": [
      "/cellar/users/agross/TCGA_Code/Methlation\n"
     ]
    }
   ],
   "source": [
    "cd /cellar/users/agross/TCGA_Code/Methlation/"
   ]
  },
  {
   "cell_type": "code",
   "execution_count": 2,
   "metadata": {
    "collapsed": false,
    "scrolled": true
   },
   "outputs": [
    {
     "name": "stderr",
     "output_type": "stream",
     "text": [
      "/cellar/users/agross/anaconda2/lib/python2.7/site-packages/IPython/nbformat/current.py:19: UserWarning: IPython.nbformat.current is deprecated.\n",
      "\n",
      "- use IPython.nbformat for read/write/validate public API\n",
      "- use IPython.nbformat.vX directly to composing notebooks of a particular version\n",
      "\n",
      "  \"\"\")\n"
     ]
    },
    {
     "data": {
      "text/html": [
       "importing IPython notebook from <a href='./Setup/Imports.ipynb' target='_blank'>Setup/Imports</a>"
      ]
     },
     "metadata": {},
     "output_type": "display_data"
    },
    {
     "name": "stdout",
     "output_type": "stream",
     "text": [
      "Populating the interactive namespace from numpy and matplotlib\n"
     ]
    }
   ],
   "source": [
    "import NotebookImport\n",
    "from Setup.Imports import *"
   ]
  },
  {
   "cell_type": "markdown",
   "metadata": {},
   "source": [
    "## Hannum"
   ]
  },
  {
   "cell_type": "markdown",
   "metadata": {},
   "source": [
    "Read in quantile-normalized beta values and cell counts from the MINFI pipeline."
   ]
  },
  {
   "cell_type": "code",
   "execution_count": 3,
   "metadata": {
    "collapsed": false
   },
   "outputs": [],
   "source": [
    "betas = pd.read_hdf('/data_ssd/dx_methylation.h5', 'betas')\n",
    "betas = betas['s1']\n",
    "betas = betas.groupby(axis=0, level=0).first()\n",
    "\n",
    "cell_counts = pd.read_hdf('/data_ssd/dx_methylation.h5', 'cell_counts')\n",
    "cell_counts = cell_counts.groupby(level=0).first()\n",
    "cell_counts = cell_counts.ix[betas.columns]"
   ]
  },
  {
   "cell_type": "markdown",
   "metadata": {},
   "source": [
    "Read in cell compositions from probe annotations."
   ]
  },
  {
   "cell_type": "code",
   "execution_count": 4,
   "metadata": {
    "collapsed": false
   },
   "outputs": [],
   "source": [
    "flow_sorted_data = pd.read_hdf('/data_ssd/methylation_annotation.h5','flow_sorted_data')\n",
    "flow_sorted_data = flow_sorted_data.groupby(level=0).first()\n",
    "flow_sorted_data = flow_sorted_data.ix[betas.index]\n",
    "cell_type = pd.read_hdf('/data_ssd/methylation_annotation.h5', 'label_map')"
   ]
  },
  {
   "cell_type": "code",
   "execution_count": 5,
   "metadata": {
    "collapsed": false
   },
   "outputs": [],
   "source": [
    "n2 = flow_sorted_data.groupby(cell_type, axis=1).mean()\n",
    "avg = n2[cell_counts.columns].dot(cell_counts.T)"
   ]
  },
  {
   "cell_type": "markdown",
   "metadata": {},
   "source": [
    "Adjust data to account for differences in cellular composition.  "
   ]
  },
  {
   "cell_type": "code",
   "execution_count": 6,
   "metadata": {
    "collapsed": false
   },
   "outputs": [],
   "source": [
    "cc = avg.mean(1)\n",
    "adj = (betas - avg).add(cc, axis=0)\n",
    "adj = adj.dropna(how='all', axis=1)"
   ]
  },
  {
   "cell_type": "markdown",
   "metadata": {},
   "source": [
    "Here s1 is the Hannum data, which we used to train our model.  We are normalizeing all of our data with the median value of the Hannum cohort as our reference for each probe."
   ]
  },
  {
   "cell_type": "code",
   "execution_count": 7,
   "metadata": {
    "collapsed": false
   },
   "outputs": [],
   "source": [
    "gold_standard_ah = adj.median(1)"
   ]
  },
  {
   "cell_type": "code",
   "execution_count": null,
   "metadata": {
    "collapsed": true
   },
   "outputs": [],
   "source": [
    "store = pd.HDFStore('/data_ssd/methylation_norm.h5')\n",
    "store['Hannum_gold_standard'] = gold_standard_ah\n",
    "store.append('Hannum_adj', adj)\n",
    "store.create_table_index('Hannum_adj', optlevel=9, kind='full')"
   ]
  },
  {
   "cell_type": "markdown",
   "metadata": {},
   "source": [
    "## EPIC"
   ]
  },
  {
   "cell_type": "code",
   "execution_count": 14,
   "metadata": {
    "collapsed": true
   },
   "outputs": [],
   "source": [
    "betas = pd.read_hdf('/data_ssd/dx_methylation.h5', 'betas')\n",
    "betas = betas['s3']\n",
    "betas = betas.groupby(axis=0, level=0).first()\n",
    "\n",
    "cell_counts = pd.read_hdf('/data_ssd/dx_methylation.h5', 'cell_counts')\n",
    "cell_counts = cell_counts.groupby(level=0).first()\n",
    "cell_counts = cell_counts.ix[betas.columns]"
   ]
  },
  {
   "cell_type": "code",
   "execution_count": 15,
   "metadata": {
    "collapsed": true
   },
   "outputs": [],
   "source": [
    "flow_sorted_data = pd.read_hdf('/data_ssd/methylation_annotation.h5','flow_sorted_data')\n",
    "flow_sorted_data = flow_sorted_data.groupby(level=0).first()\n",
    "flow_sorted_data = flow_sorted_data.ix[betas.index]\n",
    "cell_type = pd.read_hdf('/data_ssd/methylation_annotation.h5', 'label_map')"
   ]
  },
  {
   "cell_type": "code",
   "execution_count": 16,
   "metadata": {
    "collapsed": true
   },
   "outputs": [],
   "source": [
    "n2 = flow_sorted_data.groupby(cell_type, axis=1).mean()\n",
    "avg = n2[cell_counts.columns].dot(cell_counts.T)"
   ]
  },
  {
   "cell_type": "code",
   "execution_count": 17,
   "metadata": {
    "collapsed": true
   },
   "outputs": [],
   "source": [
    "cc = avg.mean(1)\n",
    "adj = (betas - avg).add(cc, axis=0)\n",
    "adj = adj.dropna(how='all', axis=1)"
   ]
  },
  {
   "cell_type": "code",
   "execution_count": 19,
   "metadata": {
    "collapsed": true
   },
   "outputs": [],
   "source": [
    "store.append('EPIC_adj', adj)\n",
    "store.create_table_index('EPIC_adj', optlevel=9, kind='full')"
   ]
  },
  {
   "cell_type": "markdown",
   "metadata": {},
   "source": [
    "## UCSD HIV Cohort"
   ]
  },
  {
   "cell_type": "code",
   "execution_count": 20,
   "metadata": {
    "collapsed": true
   },
   "outputs": [],
   "source": [
    "betas = pd.read_hdf('/data_ssd/dx_methylation.h5', 'betas')\n",
    "betas = betas['s2']\n",
    "betas = betas.groupby(axis=0, level=0).first()\n",
    "\n",
    "cell_counts = pd.read_hdf('/data_ssd/dx_methylation.h5', 'cell_counts')\n",
    "cell_counts = cell_counts.groupby(level=0).first()\n",
    "cell_counts = cell_counts.ix[betas.columns]"
   ]
  },
  {
   "cell_type": "code",
   "execution_count": 21,
   "metadata": {
    "collapsed": true
   },
   "outputs": [],
   "source": [
    "flow_sorted_data = pd.read_hdf('/data_ssd/methylation_annotation.h5','flow_sorted_data')\n",
    "flow_sorted_data = flow_sorted_data.groupby(level=0).first()\n",
    "flow_sorted_data = flow_sorted_data.ix[betas.index]\n",
    "cell_type = pd.read_hdf('/data_ssd/methylation_annotation.h5', 'label_map')"
   ]
  },
  {
   "cell_type": "code",
   "execution_count": 22,
   "metadata": {
    "collapsed": true
   },
   "outputs": [],
   "source": [
    "n2 = flow_sorted_data.groupby(cell_type, axis=1).mean()\n",
    "avg = n2[cell_counts.columns].dot(cell_counts.T)"
   ]
  },
  {
   "cell_type": "code",
   "execution_count": 23,
   "metadata": {
    "collapsed": true
   },
   "outputs": [],
   "source": [
    "cc = avg.mean(1)\n",
    "adj = (betas - avg).add(cc, axis=0)\n",
    "adj = adj.dropna(how='all', axis=1)"
   ]
  },
  {
   "cell_type": "code",
   "execution_count": 24,
   "metadata": {
    "collapsed": true
   },
   "outputs": [],
   "source": [
    "store.append('HIV_adj', adj)\n",
    "store.create_table_index('HIV_adj', optlevel=9, kind='full')"
   ]
  },
  {
   "cell_type": "code",
   "execution_count": 25,
   "metadata": {
    "collapsed": true
   },
   "outputs": [],
   "source": [
    "del betas, adj, avg"
   ]
  },
  {
   "cell_type": "code",
   "execution_count": 33,
   "metadata": {
    "collapsed": false
   },
   "outputs": [],
   "source": [
    "s1 = pd.read_hdf('/data_ssd/methylation_norm.h5', 'Hannum_adj')\n",
    "s2 = pd.read_hdf('/data_ssd/methylation_norm.h5', 'HIV_adj')\n",
    "s3 = pd.read_hdf('/data_ssd/methylation_norm.h5', 'EPIC_adj')"
   ]
  },
  {
   "cell_type": "code",
   "execution_count": 34,
   "metadata": {
    "collapsed": true
   },
   "outputs": [],
   "source": [
    "sc = pd.concat([s1, s2, s3], axis=1)"
   ]
  },
  {
   "cell_type": "code",
   "execution_count": 36,
   "metadata": {
    "collapsed": true
   },
   "outputs": [],
   "source": [
    "del s1, s2, s3"
   ]
  },
  {
   "cell_type": "code",
   "execution_count": 40,
   "metadata": {
    "collapsed": false
   },
   "outputs": [],
   "source": [
    "store.append('betas_adj', sc)\n",
    "store.create_table_index('betas_adj', optlevel=9, kind='full')"
   ]
  },
  {
   "cell_type": "code",
   "execution_count": 41,
   "metadata": {
    "collapsed": true
   },
   "outputs": [],
   "source": [
    "store.close()"
   ]
  }
 ],
 "metadata": {
  "kernelspec": {
   "display_name": "Python 2",
   "language": "python",
   "name": "python2"
  },
  "language_info": {
   "codemirror_mode": {
    "name": "ipython",
    "version": 2
   },
   "file_extension": ".py",
   "mimetype": "text/x-python",
   "name": "python",
   "nbconvert_exporter": "python",
   "pygments_lexer": "ipython2",
   "version": "2.7.7"
  }
 },
 "nbformat": 4,
 "nbformat_minor": 0
}

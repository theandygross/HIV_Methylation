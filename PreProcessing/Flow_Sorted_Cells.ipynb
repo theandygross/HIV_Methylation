{
 "metadata": {
  "kernelspec": {
   "codemirror_mode": {
    "name": "ipython",
    "version": 2
   },
   "display_name": "IPython (Python 2)",
   "language": "python",
   "name": "python2"
  },
  "name": "",
  "signature": "sha256:03714df820292b1db1e8a61bc90f726699a7efa5c4052a70f5e70ce1e676dd06"
 },
 "nbformat": 3,
 "nbformat_minor": 0,
 "worksheets": [
  {
   "cells": [
    {
     "cell_type": "code",
     "collapsed": false,
     "input": [
      "cd .."
     ],
     "language": "python",
     "metadata": {},
     "outputs": [
      {
       "output_type": "stream",
       "stream": "stdout",
       "text": [
        "/cellar/users/agross/TCGA_Code/Methlation\n"
       ]
      }
     ],
     "prompt_number": 2
    },
    {
     "cell_type": "code",
     "collapsed": false,
     "input": [
      "import NotebookImport\n",
      "from Imports import *"
     ],
     "language": "python",
     "metadata": {},
     "outputs": [
      {
       "output_type": "stream",
       "stream": "stdout",
       "text": [
        "importing IPython notebook from Imports.ipynb\n",
        "Populating the interactive namespace from numpy and matplotlib\n",
        "changing to source dirctory\n"
       ]
      }
     ],
     "prompt_number": 3
    },
    {
     "cell_type": "code",
     "collapsed": false,
     "input": [
      "%pylab inline"
     ],
     "language": "python",
     "metadata": {},
     "outputs": [
      {
       "output_type": "stream",
       "stream": "stdout",
       "text": [
        "Populating the interactive namespace from numpy and matplotlib\n"
       ]
      },
      {
       "output_type": "stream",
       "stream": "stderr",
       "text": [
        "WARNING: pylab import has clobbered these variables: ['plt', 'colors']\n",
        "`%matplotlib` prevents importing * from pylab and numpy\n"
       ]
      }
     ],
     "prompt_number": 4
    },
    {
     "cell_type": "code",
     "collapsed": false,
     "input": [
      "import os as os\n",
      "import pandas as pd\n",
      "from pandas.rpy.common import convert_to_r_dataframe, convert_robj\n",
      "import rpy2.robjects as robjects\n",
      "from IPython.display import clear_output"
     ],
     "language": "python",
     "metadata": {},
     "outputs": []
    },
    {
     "cell_type": "markdown",
     "metadata": {},
     "source": [
      "Load Horvath normalization source into R namespace."
     ]
    },
    {
     "cell_type": "code",
     "collapsed": false,
     "input": [
      "robjects.r.library('WGCNA');\n",
      "robjects.r.source(\"/cellar/users/agross/Data/MethylationAge/Horvath/NORMALIZATION.R\");"
     ],
     "language": "python",
     "metadata": {},
     "outputs": [
      {
       "output_type": "stream",
       "stream": "stdout",
       "text": [
        "==========================================================================\n",
        "*\n",
        "*  Package WGCNA 1.41.1 loaded.\n",
        "*\n",
        "*    Important note: It appears that your system supports multi-threading,\n",
        "*    but it is not enabled within WGCNA in R. \n",
        "*    To allow multi-threading within WGCNA with all available cores, use \n",
        "*\n",
        "*          allowWGCNAThreads()\n",
        "*\n",
        "*    within R. Use disableWGCNAThreads() to disable threading if necessary.\n",
        "*    Alternatively, set the following environment variable on your system:\n",
        "*\n",
        "*          ALLOW_WGCNA_THREADS=<number_of_processors>\n",
        "*\n",
        "*    for example \n",
        "*\n",
        "*          ALLOW_WGCNA_THREADS=8\n",
        "*\n",
        "*    To set the environment variable in linux bash shell, type \n",
        "*\n",
        "*           export ALLOW_WGCNA_THREADS=8\n",
        "*\n",
        "*     before running R. Other operating systems or shells will\n",
        "*     have a similar command to achieve the same aim.\n",
        "*\n",
        "==========================================================================\n",
        "\n",
        "\n"
       ]
      }
     ],
     "prompt_number": 6
    },
    {
     "cell_type": "markdown",
     "metadata": {},
     "source": [
      "Load Files"
     ]
    },
    {
     "cell_type": "markdown",
     "metadata": {},
     "source": [
      "Normalization Step"
     ]
    },
    {
     "cell_type": "markdown",
     "metadata": {},
     "source": [
      "Age transformation and probe annotation functions"
     ]
    },
    {
     "cell_type": "code",
     "collapsed": false,
     "input": [
      "def tranfer_fx(x, adult_age=20):\n",
      "    x = np.float(x)\n",
      "    x=(x+1)/(1+adult_age)\n",
      "    y = np.log(x) if x <= 1 else x - 1\n",
      "    return y\n",
      "    \n",
      "\n",
      "def anti_tranfer_fx(x, adult_age=20):\n",
      "    if x < 0:\n",
      "        return (1+adult_age)*np.exp(x)-1\n",
      "    else:\n",
      "        return (1+adult_age)*x+adult_age"
     ],
     "language": "python",
     "metadata": {},
     "outputs": [],
     "prompt_number": 7
    },
    {
     "cell_type": "code",
     "collapsed": false,
     "input": [
      "gold_standard = pd.read_csv('/cellar/users/agross/Data/MethylationAge/Horvath/probeAnnotation21kdatMethUsed.csv', index_col=0)\n",
      "horvath = pd.read_table('/cellar/users/agross/TCGA_Code/Methlation/Horvath_Model.csv', index_col=0, skiprows=[0,1])\n",
      "intercept = horvath.CoefficientTraining['(Intercept)']\n",
      "horvath = horvath.iloc[1:]"
     ],
     "language": "python",
     "metadata": {},
     "outputs": [],
     "prompt_number": 8
    },
    {
     "cell_type": "code",
     "collapsed": false,
     "input": [
      "flow_sorted_data = pd.read_hdf('/data/methylation_annotation.h5','flow_sorted_data')"
     ],
     "language": "python",
     "metadata": {},
     "outputs": [],
     "prompt_number": 9
    },
    {
     "cell_type": "code",
     "collapsed": false,
     "input": [
      "def normalize_meth(df):\n",
      "    df = df.ix[gold_standard.index]\n",
      "    df = df.T.fillna(gold_standard.goldstandard2).T\n",
      "\n",
      "    df_r = robjects.r.t(convert_to_r_dataframe(df))\n",
      "    gs = list(gold_standard.goldstandard2.ix[df.index])\n",
      "    gs_r = robjects.FloatVector(gs)\n",
      "    data_n_r = robjects.r.BMIQcalibration(df_r, gs_r)\n",
      "    data_n = convert_robj(data_n_r).T\n",
      "    return data_n\n",
      "\n",
      "def predict_age(data_n):\n",
      "    data_n = data_n.T.fillna(horvath.medianByCpG).T\n",
      "    data_n = data_n.ix[horvath.CoefficientTraining.dropna().index]\n",
      "    pred = data_n.T.dot(horvath.CoefficientTraining.dropna()) + intercept\n",
      "    pred_age = pred.map(anti_tranfer_fx)\n",
      "    return pred_age"
     ],
     "language": "python",
     "metadata": {},
     "outputs": [],
     "prompt_number": 10
    },
    {
     "cell_type": "code",
     "collapsed": false,
     "input": [
      "data_n = normalize_meth(flow_sorted_data)"
     ],
     "language": "python",
     "metadata": {},
     "outputs": []
    },
    {
     "cell_type": "code",
     "collapsed": false,
     "input": [
      "data_n.to_hdf('/data/methylation_annotation.h5','flow_sorted_data_horvath_norm')"
     ],
     "language": "python",
     "metadata": {},
     "outputs": [],
     "prompt_number": 12
    }
   ],
   "metadata": {}
  }
 ]
}
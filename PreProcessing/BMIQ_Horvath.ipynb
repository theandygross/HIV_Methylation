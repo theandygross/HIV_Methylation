{
 "metadata": {
  "kernelspec": {
   "codemirror_mode": {
    "name": "ipython",
    "version": 2
   },
   "display_name": "IPython (Python 2)",
   "language": "python",
   "name": "python2"
  },
  "name": "",
  "signature": "sha256:f79debdd0946fc1aee047ad4adb5e2c85e049b54c49eca5b0dcb92d7085196bd"
 },
 "nbformat": 3,
 "nbformat_minor": 0,
 "worksheets": [
  {
   "cells": [
    {
     "cell_type": "heading",
     "level": 1,
     "metadata": {},
     "source": [
      "Horvath Normalization Pipeline"
     ]
    },
    {
     "cell_type": "markdown",
     "metadata": {},
     "source": [
      "Here we run the data normalization pipeline following Steve Horvath's method.  Briefly he uses a variant of BMIQ which normalizes all of the data to a gold standard.  His method only uses a subset of the probes, so we can throw out the majority of the data here.   \n",
      "\n",
      "Unlike the normalization with the full data I do not yet do an adjustment for cellular composition as this was not in Horvath's pipeline.  Rather, I do the adjustment _after_ the normalization."
     ]
    },
    {
     "cell_type": "code",
     "collapsed": false,
     "input": [
      "cd .."
     ],
     "language": "python",
     "metadata": {},
     "outputs": [
      {
       "output_type": "stream",
       "stream": "stdout",
       "text": [
        "/cellar/users/agross/TCGA_Code/Methlation\n"
       ]
      }
     ],
     "prompt_number": 4
    },
    {
     "cell_type": "code",
     "collapsed": false,
     "input": [
      "import NotebookImport\n",
      "from Setup.Imports import *"
     ],
     "language": "python",
     "metadata": {},
     "outputs": [
      {
       "html": [
        "importing IPython notebook from <a href='./Setup/Imports.ipynb' target='_blank'>Setup/Imports</a>"
       ],
       "metadata": {},
       "output_type": "display_data"
      },
      {
       "output_type": "stream",
       "stream": "stdout",
       "text": [
        "Populating the interactive namespace from numpy and matplotlib\n"
       ]
      }
     ],
     "prompt_number": 5
    },
    {
     "cell_type": "code",
     "collapsed": false,
     "input": [
      "%pylab inline"
     ],
     "language": "python",
     "metadata": {},
     "outputs": [
      {
       "output_type": "stream",
       "stream": "stdout",
       "text": [
        "Populating the interactive namespace from numpy and matplotlib\n"
       ]
      }
     ],
     "prompt_number": 8
    },
    {
     "cell_type": "code",
     "collapsed": false,
     "input": [
      "import os as os\n",
      "import pandas as pd\n",
      "from pandas.rpy.common import convert_to_r_dataframe, convert_robj\n",
      "import rpy2.robjects as robjects\n",
      "from IPython.display import clear_output"
     ],
     "language": "python",
     "metadata": {},
     "outputs": [],
     "prompt_number": 11
    },
    {
     "cell_type": "markdown",
     "metadata": {},
     "source": [
      "Load Horvath normalization source into R namespace."
     ]
    },
    {
     "cell_type": "code",
     "collapsed": false,
     "input": [
      "robjects.r.library('WGCNA');\n",
      "robjects.r.source(\"/cellar/users/agross/Data/MethylationAge/Horvath/NORMALIZATION.R\")\n",
      "clear_output()"
     ],
     "language": "python",
     "metadata": {},
     "outputs": [],
     "prompt_number": 12
    },
    {
     "cell_type": "markdown",
     "metadata": {},
     "source": [
      "Read in Betas"
     ]
    },
    {
     "cell_type": "code",
     "collapsed": false,
     "input": [
      "path = '/cellar/users/agross/TCGA_Code/Methlation/'\n",
      "f = path + 'all_betas_raw.csv'\n",
      "df = pd.read_csv(f, low_memory=True, header=0, index_col=0)"
     ],
     "language": "python",
     "metadata": {},
     "outputs": [],
     "prompt_number": 13
    },
    {
     "cell_type": "code",
     "collapsed": false,
     "input": [
      "labels = pd.read_csv(path + 'all_betas_raw_pdata.csv',\n",
      "                     index_col=0)"
     ],
     "language": "python",
     "metadata": {},
     "outputs": [],
     "prompt_number": 166
    },
    {
     "cell_type": "markdown",
     "metadata": {},
     "source": [
      "Normalization Step"
     ]
    },
    {
     "cell_type": "code",
     "collapsed": false,
     "input": [
      "gold_standard = pd.read_csv('/cellar/users/agross/Data/MethylationAge/Horvath/probeAnnotation21kdatMethUsed.csv', index_col=0)\n",
      "horvath = pd.read_table('/cellar/users/agross/TCGA_Code/Methlation/Horvath_Model.csv', index_col=0, skiprows=[0,1])\n",
      "intercept = horvath.CoefficientTraining['(Intercept)']\n",
      "horvath = horvath.iloc[1:]"
     ],
     "language": "python",
     "metadata": {},
     "outputs": [],
     "prompt_number": 39
    },
    {
     "cell_type": "code",
     "collapsed": false,
     "input": [
      "df = df.ix[gold_standard.index]\n",
      "df = df.T.fillna(gold_standard.goldstandard2).T"
     ],
     "language": "python",
     "metadata": {},
     "outputs": [],
     "prompt_number": 44
    },
    {
     "cell_type": "code",
     "collapsed": false,
     "input": [
      "df_r = robjects.r.t(convert_to_r_dataframe(df))\n",
      "gs = list(gold_standard.goldstandard2.ix[df.index])\n",
      "gs_r = robjects.FloatVector(gs)"
     ],
     "language": "python",
     "metadata": {},
     "outputs": [],
     "prompt_number": 48
    },
    {
     "cell_type": "code",
     "collapsed": false,
     "input": [
      "del df"
     ],
     "language": "python",
     "metadata": {},
     "outputs": []
    },
    {
     "cell_type": "code",
     "collapsed": false,
     "input": [
      "data_n = robjects.r.BMIQcalibration(df_r, gs_r)\n",
      "data_n = convert_robj(data_n).T\n",
      "clear_output()"
     ],
     "language": "python",
     "metadata": {},
     "outputs": []
    },
    {
     "cell_type": "markdown",
     "metadata": {},
     "source": [
      "Now we need to fix the labels a little bit."
     ]
    },
    {
     "cell_type": "code",
     "collapsed": false,
     "input": [
      "c1 = pd.read_excel(ucsd_path + 'DESIGN_Fox_v2_Samples-ChipLAyout-Clinical UNMC-UCSD methylomestudy.xlsx', \n",
      "                   'HIV- samples from OldStudy', index_col=0)\n",
      "c2 = pd.read_excel(ucsd_path + 'DESIGN_Fox_v2_Samples-ChipLAyout-Clinical UNMC-UCSD methylomestudy.xlsx', \n",
      "                   'HIV+ samples', index_col=0)\n",
      "clinical = c1.append(c2)"
     ],
     "language": "python",
     "metadata": {},
     "outputs": [],
     "prompt_number": 79
    },
    {
     "cell_type": "code",
     "collapsed": false,
     "input": [
      "s = labels[labels.studyIndex == 's2'].sampleNames\n",
      "ss = clinical[['Sample_Plate','Sample_Well']].sort(['Sample_Plate','Sample_Well'])\n",
      "assert(alltrue(ss.Sample_Well == s))"
     ],
     "language": "python",
     "metadata": {},
     "outputs": [],
     "prompt_number": 167
    },
    {
     "cell_type": "code",
     "collapsed": false,
     "input": [
      "new_label = clinical.sort(['Sample_Plate','Sample_Well']).index\n",
      "new_label = pd.Series(new_label, s.index)\n",
      "new_names = labels['sampleNames'].replace(new_label.to_dict())\n",
      "new_labels = labels['sampleNames'].ix[new_label.index] = new_label\n",
      "new_labels = new_labels.combine_first(labels.sampleNames)"
     ],
     "language": "python",
     "metadata": {},
     "outputs": [],
     "prompt_number": 172
    },
    {
     "cell_type": "code",
     "collapsed": false,
     "input": [
      "labels['sampleNames'] = new_labels\n",
      "new_labels2 = labels[labels.studyIndex == 's3'].sampleNames\n",
      "new_labels2 = new_labels2.map(lambda s: '_'.join(s.split('_')[1:]))\n",
      "new_labels2 = new_labels2.combine_first(new_labels)\n",
      "labels['sampleNames'] = new_labels2"
     ],
     "language": "python",
     "metadata": {},
     "outputs": [],
     "prompt_number": 193
    },
    {
     "cell_type": "code",
     "collapsed": false,
     "input": [
      "data_n.columns = list(new_labels2)\n",
      "data_n = data_n.astype(float)\n",
      "data_n.to_hdf('/data/methylation_norm.h5','BMIQ_Horvath')"
     ],
     "language": "python",
     "metadata": {},
     "outputs": [],
     "prompt_number": 207
    },
    {
     "cell_type": "code",
     "collapsed": false,
     "input": [
      "labels.to_hdf('/data/methylation_norm.h5','labels')"
     ],
     "language": "python",
     "metadata": {},
     "outputs": [],
     "prompt_number": 215
    }
   ],
   "metadata": {}
  }
 ]
}
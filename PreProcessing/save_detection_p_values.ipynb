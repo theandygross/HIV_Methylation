{
 "metadata": {
  "kernelspec": {
   "codemirror_mode": {
    "name": "ipython",
    "version": 2
   },
   "display_name": "IPython (Python 2)",
   "language": "python",
   "name": "python2"
  },
  "name": "",
  "signature": "sha256:61eb84f589aa5eeebaa104b9c7acfe34729a09e80be493c2a5d6a50cf631e7c6"
 },
 "nbformat": 3,
 "nbformat_minor": 0,
 "worksheets": [
  {
   "cells": [
    {
     "cell_type": "heading",
     "level": 1,
     "metadata": {},
     "source": [
      "Save Detection P-Values"
     ]
    },
    {
     "cell_type": "markdown",
     "metadata": {},
     "source": [
      "I have saved the detection p-values in .csv files in the MINFI processing pipeline.  Here I am just converting those files into HDFS to make it a bit easier to read in the data and manipulate.  \n",
      "\n",
      "For now I am also saving these in compressed form as most of the p-values are 0.  "
     ]
    },
    {
     "cell_type": "code",
     "collapsed": false,
     "input": [
      "cd /cellar/users/agross/TCGA_Code/Methlation/"
     ],
     "language": "python",
     "metadata": {},
     "outputs": [
      {
       "output_type": "stream",
       "stream": "stdout",
       "text": [
        "/cellar/users/agross/TCGA_Code/Methlation\n"
       ]
      }
     ],
     "prompt_number": 3
    },
    {
     "cell_type": "code",
     "collapsed": false,
     "input": [
      "import NotebookImport\n",
      "from Setup.Imports import *"
     ],
     "language": "python",
     "metadata": {},
     "outputs": [
      {
       "html": [
        "importing IPython notebook from <a href='./Setup/Imports.ipynb' target='_blank'>Setup/Imports</a>"
       ],
       "metadata": {},
       "output_type": "display_data"
      },
      {
       "output_type": "stream",
       "stream": "stdout",
       "text": [
        "Populating the interactive namespace from numpy and matplotlib\n"
       ]
      }
     ],
     "prompt_number": 4
    },
    {
     "cell_type": "markdown",
     "metadata": {},
     "source": [
      "Epic Data"
     ]
    },
    {
     "cell_type": "code",
     "collapsed": false,
     "input": [
      "epic = pd.read_csv('/cellar/users/agross/TCGA_Code/Methlation/EPIC_ITALY/detectionP.csv',\n",
      "                   index_col=0)\n",
      "pData = pd.read_csv('/cellar/users/agross/TCGA_Code/Methlation/EPIC_ITALY/pData.csv',\n",
      "                    dtype='str', index_col=0)\n",
      "epic.columns = epic.columns.map(lambda s: '_'.join(s.split('_')[1:]))\n",
      "epic = epic.replace(0, nan)\n",
      "epic = epic.stack()"
     ],
     "language": "python",
     "metadata": {},
     "outputs": [],
     "prompt_number": 5
    },
    {
     "cell_type": "markdown",
     "metadata": {},
     "source": [
      "Hannum"
     ]
    },
    {
     "cell_type": "code",
     "collapsed": false,
     "input": [
      "hannum = pd.read_csv('/cellar/users/agross/TCGA_Code/Methlation/Hannum/detectionP.csv',\n",
      "                   index_col=0)\n",
      "pData = pd.read_csv('/cellar/users/agross/TCGA_Code/Methlation/Hannum/pData.csv',\n",
      "                    dtype='str', index_col=0)\n",
      "hannum.columns = hannum.columns.map(lambda s: pData.Sample_Name[s])\n",
      "hannum = hannum.replace(0, nan)\n",
      "hannum = hannum.stack()"
     ],
     "language": "python",
     "metadata": {},
     "outputs": [],
     "prompt_number": 18
    },
    {
     "cell_type": "markdown",
     "metadata": {},
     "source": [
      "UCSD"
     ]
    },
    {
     "cell_type": "code",
     "collapsed": false,
     "input": [
      "ucsd = pd.read_csv('/cellar/users/agross/TCGA_Code/Methlation/UCSD_Methylation/detectionP.csv',\n",
      "                index_col=0)\n",
      "p = pd.read_csv('/cellar/users/agross/TCGA_Code/Methlation/UCSD_Methylation/pData.csv',\n",
      "                index_col=0)\n",
      "ucsd.columns = p.Sample_Name\n",
      "ucsd = ucsd.replace(0, nan)\n",
      "ucsd = ucsd.stack()"
     ],
     "language": "python",
     "metadata": {},
     "outputs": []
    },
    {
     "cell_type": "code",
     "collapsed": false,
     "input": [
      "detection_p = pd.concat([ucsd, hannum, epic])"
     ],
     "language": "python",
     "metadata": {},
     "outputs": [],
     "prompt_number": 26
    },
    {
     "cell_type": "code",
     "collapsed": false,
     "input": [
      "detection_p = detection_p.reset_index()"
     ],
     "language": "python",
     "metadata": {},
     "outputs": [],
     "prompt_number": 28
    },
    {
     "cell_type": "code",
     "collapsed": false,
     "input": [
      "detection_p.to_hdf('/data/dx_methylation.h5', 'detection_p')"
     ],
     "language": "python",
     "metadata": {},
     "outputs": [
      {
       "output_type": "stream",
       "stream": "stderr",
       "text": [
        "/cellar/users/agross/anaconda2/lib/python2.7/site-packages/pandas/io/pytables.py:2441: PerformanceWarning: \n",
        "your performance may suffer as PyTables will pickle object types that it cannot\n",
        "map directly to c-types [inferred_type->mixed-integer,key->axis0] [items->None]\n",
        "\n",
        "  warnings.warn(ws, PerformanceWarning)\n"
       ]
      }
     ],
     "prompt_number": 29
    }
   ],
   "metadata": {}
  }
 ]
}
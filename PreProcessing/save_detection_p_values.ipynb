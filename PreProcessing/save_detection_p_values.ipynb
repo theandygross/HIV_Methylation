{
 "cells": [
  {
   "cell_type": "markdown",
   "metadata": {},
   "source": [
    "# Save Detection P-Values"
   ]
  },
  {
   "cell_type": "markdown",
   "metadata": {},
   "source": [
    "I have saved the detection p-values in .csv files in the MINFI processing pipeline.  Here I am just converting those files into HDFS to make it a bit easier to read in the data and manipulate.  \n",
    "\n",
    "For now I am also saving these in compressed form as most of the p-values are 0.  "
   ]
  },
  {
   "cell_type": "code",
   "execution_count": 1,
   "metadata": {
    "collapsed": false
   },
   "outputs": [],
   "source": [
    "PATH = '/cellar/users/agross/TCGA_Code/Methlation/'"
   ]
  },
  {
   "cell_type": "code",
   "execution_count": 2,
   "metadata": {
    "collapsed": false
   },
   "outputs": [
    {
     "name": "stdout",
     "output_type": "stream",
     "text": [
      "/cellar/users/agross/TCGA_Code/Methlation\n"
     ]
    }
   ],
   "source": [
    "cd $PATH"
   ]
  },
  {
   "cell_type": "code",
   "execution_count": 3,
   "metadata": {
    "collapsed": false
   },
   "outputs": [
    {
     "name": "stderr",
     "output_type": "stream",
     "text": [
      "/cellar/users/agross/anaconda2/lib/python2.7/site-packages/IPython/nbformat/current.py:19: UserWarning: IPython.nbformat.current is deprecated.\n",
      "\n",
      "- use IPython.nbformat for read/write/validate public API\n",
      "- use IPython.nbformat.vX directly to composing notebooks of a particular version\n",
      "\n",
      "  \"\"\")\n"
     ]
    },
    {
     "data": {
      "text/html": [
       "importing IPython notebook from <a href='./Setup/Imports.ipynb' target='_blank'>Setup/Imports</a>"
      ]
     },
     "metadata": {},
     "output_type": "display_data"
    },
    {
     "name": "stdout",
     "output_type": "stream",
     "text": [
      "Populating the interactive namespace from numpy and matplotlib\n"
     ]
    }
   ],
   "source": [
    "import NotebookImport\n",
    "from Setup.Imports import *"
   ]
  },
  {
   "cell_type": "markdown",
   "metadata": {},
   "source": [
    "Epic Data"
   ]
  },
  {
   "cell_type": "code",
   "execution_count": 5,
   "metadata": {
    "collapsed": false
   },
   "outputs": [
    {
     "name": "stdout",
     "output_type": "stream",
     "text": [
      "The history saving thread hit an unexpected error (OperationalError('database is locked',)).History will not be written to the database.\n"
     ]
    }
   ],
   "source": [
    "epic = pd.read_csv(PATH + 'data/EPIC_ITALY/detectionP.csv',\n",
    "                   index_col=0)\n",
    "pData = pd.read_csv(PATH + 'data/EPIC_ITALY/pData.csv',\n",
    "                    dtype='str', index_col=0)\n",
    "epic.columns = epic.columns.map(lambda s: '_'.join(s.split('_')[1:]))\n",
    "epic = epic.replace(0, nan)\n",
    "epic = epic.stack()"
   ]
  },
  {
   "cell_type": "markdown",
   "metadata": {},
   "source": [
    "Hannum"
   ]
  },
  {
   "cell_type": "code",
   "execution_count": 6,
   "metadata": {
    "collapsed": false
   },
   "outputs": [],
   "source": [
    "hannum = pd.read_csv(PATH + 'data/Hannum/detectionP.csv',\n",
    "                   index_col=0)\n",
    "pData = pd.read_csv(PATH + 'data/Hannum/pData.csv',\n",
    "                    dtype='str', index_col=0)\n",
    "hannum.columns = hannum.columns.map(lambda s: pData.Sample_Name[s])\n",
    "hannum = hannum.replace(0, nan)\n",
    "hannum = hannum.stack()"
   ]
  },
  {
   "cell_type": "markdown",
   "metadata": {},
   "source": [
    "UCSD"
   ]
  },
  {
   "cell_type": "code",
   "execution_count": 7,
   "metadata": {
    "collapsed": false
   },
   "outputs": [],
   "source": [
    "ucsd = pd.read_csv(PATH + 'data/UCSD_Methylation/detectionP.csv',\n",
    "                index_col=0)\n",
    "p = pd.read_csv(PATH + 'data/UCSD_Methylation/pData.csv',\n",
    "                index_col=0)\n",
    "ucsd.columns = p.Sample_Name\n",
    "ucsd = ucsd.replace(0, nan)\n",
    "ucsd = ucsd.stack()"
   ]
  },
  {
   "cell_type": "code",
   "execution_count": 8,
   "metadata": {
    "collapsed": false
   },
   "outputs": [],
   "source": [
    "detection_p = pd.concat([ucsd, hannum, epic])"
   ]
  },
  {
   "cell_type": "code",
   "execution_count": 9,
   "metadata": {
    "collapsed": false
   },
   "outputs": [],
   "source": [
    "detection_p = detection_p.reset_index()"
   ]
  },
  {
   "cell_type": "code",
   "execution_count": 10,
   "metadata": {
    "collapsed": false
   },
   "outputs": [
    {
     "name": "stderr",
     "output_type": "stream",
     "text": [
      "/cellar/users/agross/anaconda2/lib/python2.7/site-packages/pandas/io/pytables.py:2441: PerformanceWarning: \n",
      "your performance may suffer as PyTables will pickle object types that it cannot\n",
      "map directly to c-types [inferred_type->mixed-integer,key->axis0] [items->None]\n",
      "\n",
      "  warnings.warn(ws, PerformanceWarning)\n"
     ]
    }
   ],
   "source": [
    "detection_p.to_hdf('/data_ssd/dx_methylation.h5', 'detection_p')"
   ]
  }
 ],
 "metadata": {
  "kernelspec": {
   "display_name": "Python 2",
   "language": "python",
   "name": "python2"
  },
  "language_info": {
   "codemirror_mode": {
    "name": "ipython",
    "version": 2
   },
   "file_extension": ".py",
   "mimetype": "text/x-python",
   "name": "python",
   "nbconvert_exporter": "python",
   "pygments_lexer": "ipython2",
   "version": "2.7.7"
  }
 },
 "nbformat": 4,
 "nbformat_minor": 0
}

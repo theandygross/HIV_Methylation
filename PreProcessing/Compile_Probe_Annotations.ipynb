{
 "metadata": {
  "kernelspec": {
   "codemirror_mode": {
    "name": "ipython",
    "version": 2
   },
   "display_name": "IPython (Python 2)",
   "language": "python",
   "name": "python2"
  },
  "name": "",
  "signature": "sha256:302baf67c72e703bd3b79304bcf64a6a4886df0f446efefc6feb9066eabd0bd0"
 },
 "nbformat": 3,
 "nbformat_minor": 0,
 "worksheets": [
  {
   "cells": [
    {
     "cell_type": "heading",
     "level": 1,
     "metadata": {},
     "source": [
      "Compile Probe Annotations"
     ]
    },
    {
     "cell_type": "markdown",
     "metadata": {},
     "source": [
      "Got to do this in rpy2"
     ]
    },
    {
     "cell_type": "code",
     "collapsed": false,
     "input": [
      "import pandas as pd"
     ],
     "language": "python",
     "metadata": {},
     "outputs": [],
     "prompt_number": 1
    },
    {
     "cell_type": "code",
     "collapsed": false,
     "input": [
      "from pandas.rpy.common import convert_robj\n",
      "import rpy2.robjects as robjects"
     ],
     "language": "python",
     "metadata": {},
     "outputs": [],
     "prompt_number": 2
    },
    {
     "cell_type": "code",
     "collapsed": false,
     "input": [
      "%load_ext rpy2.ipython"
     ],
     "language": "python",
     "metadata": {},
     "outputs": [],
     "prompt_number": 3
    },
    {
     "cell_type": "code",
     "collapsed": false,
     "input": [
      "%%R\n",
      "require('IlluminaHumanMethylation450kanno.ilmn12.hg19')\n",
      "ann = IlluminaHumanMethylation450kanno.ilmn12.hg19\n",
      "data = ann@data"
     ],
     "language": "python",
     "metadata": {},
     "outputs": [
      {
       "metadata": {},
       "output_type": "display_data",
       "text": [
        "Loading required package: IlluminaHumanMethylation450kanno.ilmn12.hg19\n",
        "Loading required package: minfi\n",
        "Loading required package: BiocGenerics\n",
        "Loading required package: parallel\n",
        "\n",
        "Attaching package: \u2018BiocGenerics\u2019\n",
        "\n",
        "The following objects are masked from \u2018package:parallel\u2019:\n",
        "\n",
        "    clusterApply, clusterApplyLB, clusterCall, clusterEvalQ,\n",
        "    clusterExport, clusterMap, parApply, parCapply, parLapply,\n",
        "    parLapplyLB, parRapply, parSapply, parSapplyLB\n",
        "\n",
        "The following object is masked from \u2018package:stats\u2019:\n",
        "\n",
        "    xtabs\n",
        "\n",
        "The following objects are masked from \u2018package:base\u2019:\n",
        "\n",
        "    anyDuplicated, append, as.data.frame, as.vector, cbind, colnames,\n",
        "    duplicated, eval, evalq, Filter, Find, get, intersect, is.unsorted,\n",
        "    lapply, Map, mapply, match, mget, order, paste, pmax, pmax.int,\n",
        "    pmin, pmin.int, Position, rank, rbind, Reduce, rep.int, rownames,\n",
        "    sapply, setdiff, sort, table, tapply, union, unique, unlist\n",
        "\n",
        "Loading required package: Biobase\n",
        "Welcome to Bioconductor\n",
        "\n",
        "    Vignettes contain introductory material; view with\n",
        "    'browseVignettes()'. To cite Bioconductor, see\n",
        "    'citation(\"Biobase\")', and for packages 'citation(\"pkgname\")'.\n",
        "\n",
        "Loading required package: lattice\n",
        "Loading required package: reshape\n",
        "Loading required package: GenomicRanges\n",
        "Loading required package: IRanges\n",
        "\n",
        "Attaching package: \u2018IRanges\u2019\n",
        "\n",
        "The following object is masked from \u2018package:reshape\u2019:\n",
        "\n",
        "    expand, rename\n",
        "\n",
        "Loading required package: XVector\n",
        "Loading required package: Biostrings\n",
        "Loading required package: bumphunter\n",
        "Loading required package: foreach\n",
        "foreach: simple, scalable parallel programming from Revolution Analytics\n",
        "Use Revolution R for scalability, fault tolerance and more.\n",
        "http://www.revolutionanalytics.com\n",
        "Loading required package: iterators\n",
        "Loading required package: locfit\n",
        "locfit 1.5-9.1 \t 2013-03-22\n",
        "\n",
        "Attaching package: \u2018locfit\u2019\n",
        "\n",
        "The following object is masked from \u2018package:GenomicRanges\u2019:\n",
        "\n",
        "    left, right\n",
        "\n"
       ]
      }
     ],
     "prompt_number": 4
    },
    {
     "cell_type": "code",
     "collapsed": false,
     "input": [
      "islands = convert_robj(robjects.r(\"data.frame(data[['Islands.UCSC']])\"))\n",
      "locations = convert_robj(robjects.r(\"data.frame(data[['Locations']])\"))\n",
      "other = convert_robj(robjects.r(\"data.frame(data[['Other']])\"))\n",
      "other = other.ix[:, 2:] #first two columns are probe sequences which take up a lot of space\n",
      "snps = convert_robj(robjects.r(\"data.frame(data[['SNPs.Illumina']])\"))"
     ],
     "language": "python",
     "metadata": {},
     "outputs": []
    },
    {
     "cell_type": "code",
     "collapsed": false,
     "input": [
      "PATH = '/cellar/users/agross/Data/GeneSets/methylation450_annotations.csv'\n",
      "probe_annotations = pd.read_csv(PATH, index_col=0)"
     ],
     "language": "python",
     "metadata": {},
     "outputs": []
    },
    {
     "cell_type": "code",
     "collapsed": false,
     "input": [
      "store = pd.HDFStore('/data/methylation_annotation.h5')\n",
      "store.append('islands', islands)\n",
      "store.create_table_index('islands', optlevel=9, kind='full')\n",
      "store.append('locations', locations)\n",
      "store.create_stable_index('locations', optlevel=9, kind='full')\n",
      "store.append('other', other)\n",
      "store.create_table_index('other', optlevel=9, kind='full')\n",
      "store.append('snps', snps)\n",
      "store.create_table_index('snps', optlevel=9, kind='full')\n",
      "store.append('probe_annotations', probe_annotations)\n",
      "store.create_table_index('probe_annotations', optlevel=9, kind='full')"
     ],
     "language": "python",
     "metadata": {},
     "outputs": []
    },
    {
     "cell_type": "heading",
     "level": 3,
     "metadata": {},
     "source": [
      "Read in Flow Sorted Data and Convert to More Usable Format"
     ]
    },
    {
     "cell_type": "code",
     "collapsed": false,
     "input": [
      "%%R\n",
      "require(minfi)\n",
      "require(minfiData)\n",
      "require(doParallel)\n",
      "\n",
      "referencePkg <- \"FlowSorted.Blood.450k\"\n",
      "require(referencePkg, character.only = TRUE)\n",
      "data(list = referencePkg)\n",
      "referenceRGset <- get(referencePkg)"
     ],
     "language": "python",
     "metadata": {},
     "outputs": [
      {
       "metadata": {},
       "output_type": "display_data",
       "text": [
        "Loading required package: minfiData\n",
        "Loading required package: IlluminaHumanMethylation450kmanifest\n",
        "Loading required package: doParallel\n",
        "Loading required package: FlowSorted.Blood.450k\n"
       ]
      }
     ],
     "prompt_number": 5
    },
    {
     "cell_type": "code",
     "collapsed": false,
     "input": [
      "%%R\n",
      "Mset.quantile = preprocessQuantile(referenceRGset, removeBadSamples = TRUE)\n",
      "beta = getBeta(Mset.quantile)"
     ],
     "language": "python",
     "metadata": {},
     "outputs": [
      {
       "metadata": {},
       "output_type": "display_data",
       "text": [
        "[preprocessQuantile] Mapping to genome.\n",
        "[preprocessQuantile] Fixing outliers.\n",
        "[preprocessQuantile] Quantile normalizing.\n"
       ]
      }
     ],
     "prompt_number": 13
    },
    {
     "cell_type": "code",
     "collapsed": false,
     "input": [
      "beta = convert_robj(robjects.r(\"data.frame(beta)\"))"
     ],
     "language": "python",
     "metadata": {},
     "outputs": [],
     "prompt_number": 14
    },
    {
     "cell_type": "code",
     "collapsed": false,
     "input": [
      "labels = convert_robj(robjects.r('referenceRGset$CellType'))\n",
      "label_map = pd.Series(labels, beta.columns)"
     ],
     "language": "python",
     "metadata": {},
     "outputs": [],
     "prompt_number": 23
    },
    {
     "cell_type": "code",
     "collapsed": false,
     "input": [
      "store['label_map'] = label_map"
     ],
     "language": "python",
     "metadata": {},
     "outputs": [],
     "prompt_number": 24
    },
    {
     "cell_type": "code",
     "collapsed": false,
     "input": [
      "store.append('flow_sorted_data', beta)\n",
      "store.create_table_index('flow_sorted_data', optlevel=9, kind='full')"
     ],
     "language": "python",
     "metadata": {},
     "outputs": []
    },
    {
     "cell_type": "code",
     "collapsed": false,
     "input": [
      "store.close()"
     ],
     "language": "python",
     "metadata": {},
     "outputs": [],
     "prompt_number": 25
    }
   ],
   "metadata": {}
  }
 ]
}
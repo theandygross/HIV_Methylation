{
 "metadata": {
  "kernelspec": {
   "codemirror_mode": {
    "name": "ipython",
    "version": 2
   },
   "display_name": "IPython (Python 2)",
   "language": "python",
   "name": "python2"
  },
  "name": "",
  "signature": "sha256:968f48b1e925f8d92274f2a775aff796442a84a3fd26cf4e0216eab1a7d804dd"
 },
 "nbformat": 3,
 "nbformat_minor": 0,
 "worksheets": [
  {
   "cells": [
    {
     "cell_type": "heading",
     "level": 2,
     "metadata": {},
     "source": [
      "BMIQ Normalization"
     ]
    },
    {
     "cell_type": "markdown",
     "metadata": {},
     "source": [
      "Here we are running [BMIQ normalization](http://www.ncbi.nlm.nih.gov/pubmed/23175756) on all of our quantile-normalized data together.  I am using the implementation provided by Steve Horvath along with his recent methylation-age paper.  We are doing this as a result of [this paper's](http://www.ncbi.nlm.nih.gov/pubmed/23422812) recomendation to run both quantile normalization and BMIQ in series on the same datasets.  \n",
      "\n",
      "One very important step to note is that we are adjusting each patient's beta-values by the expected value given their cell composition.  We are including this step to reduce the variablility in methylation levels that is purely resulting from differing cellular compositions. We are preforming this step after quantile normalization, but before the BMIQ step.  This could be done in other sections of the pipeline but should not have too big of an impact on downstream results."
     ]
    },
    {
     "cell_type": "code",
     "collapsed": false,
     "input": [
      "cd /cellar/users/agross/TCGA_Code/Methlation/"
     ],
     "language": "python",
     "metadata": {},
     "outputs": [
      {
       "output_type": "stream",
       "stream": "stdout",
       "text": [
        "/cellar/users/agross/TCGA_Code/Methlation\n"
       ]
      }
     ],
     "prompt_number": 1
    },
    {
     "cell_type": "code",
     "collapsed": false,
     "input": [
      "import NotebookImport\n",
      "from Imports import *"
     ],
     "language": "python",
     "metadata": {},
     "outputs": []
    },
    {
     "cell_type": "code",
     "collapsed": false,
     "input": [
      "from IPython.display import clear_output"
     ],
     "language": "python",
     "metadata": {},
     "outputs": [],
     "prompt_number": 3
    },
    {
     "cell_type": "markdown",
     "metadata": {},
     "source": [
      "Load Horvath normalization source into R namespace."
     ]
    },
    {
     "cell_type": "code",
     "collapsed": false,
     "input": [
      "robjects.r.library('WGCNA');\n",
      "robjects.r.source(\"/cellar/users/agross/Data/MethylationAge/Horvath/NORMALIZATION.R\");\n",
      "clear_output()"
     ],
     "language": "python",
     "metadata": {},
     "outputs": [],
     "prompt_number": 4
    },
    {
     "cell_type": "markdown",
     "metadata": {},
     "source": [
      "Read in quantile-normalized beta values and cell counts from the MINFI pipeline."
     ]
    },
    {
     "cell_type": "code",
     "collapsed": false,
     "input": [
      "betas = pd.read_hdf('/data/dx_methylation.h5', 'betas')\n",
      "cell_counts = pd.read_hdf('/data/dx_methylation.h5', 'cell_counts')"
     ],
     "language": "python",
     "metadata": {},
     "outputs": [],
     "prompt_number": 5
    },
    {
     "cell_type": "markdown",
     "metadata": {},
     "source": [
      "Read in cell compositions from probe annotations."
     ]
    },
    {
     "cell_type": "code",
     "collapsed": false,
     "input": [
      "flow_sorted_data = pd.read_hdf('/data/methylation_annotation.h5','flow_sorted_data')\n",
      "cell_type = pd.read_hdf('/data/methylation_annotation.h5', 'label_map')"
     ],
     "language": "python",
     "metadata": {},
     "outputs": [],
     "prompt_number": 6
    },
    {
     "cell_type": "code",
     "collapsed": false,
     "input": [
      "n2 = flow_sorted_data.groupby(cell_type, axis=1).mean()\n",
      "avg = n2[cell_counts.columns].dot(cell_counts.T)"
     ],
     "language": "python",
     "metadata": {},
     "outputs": [],
     "prompt_number": 7
    },
    {
     "cell_type": "markdown",
     "metadata": {},
     "source": [
      "Adjust data to account for differences in cellular composition.  "
     ]
    },
    {
     "cell_type": "code",
     "collapsed": false,
     "input": [
      "study = betas.columns\n",
      "study = pd.Series(study.get_level_values(0), study.get_level_values(1))\n",
      "betas.columns = betas.columns.get_level_values(1)"
     ],
     "language": "python",
     "metadata": {},
     "outputs": [],
     "prompt_number": 8
    },
    {
     "cell_type": "code",
     "collapsed": false,
     "input": [
      "cc = avg.mean(1)\n",
      "adj = (betas - avg).add(cc, axis=0)\n",
      "adj = adj.dropna(how='all', axis=1)"
     ],
     "language": "python",
     "metadata": {},
     "outputs": [],
     "prompt_number": 9
    },
    {
     "cell_type": "markdown",
     "metadata": {},
     "source": [
      "Here s1 is the Hannum data, which we used to train our model.  We are normalizeing all of our data with the median value of the Hannum cohort as our reference for each probe."
     ]
    },
    {
     "cell_type": "code",
     "collapsed": false,
     "input": [
      "gold_standard_ah = adj.ix[:, ti(study=='s1')].median(1)"
     ],
     "language": "python",
     "metadata": {},
     "outputs": [],
     "prompt_number": 10
    },
    {
     "cell_type": "code",
     "collapsed": false,
     "input": [
      "del betas\n",
      "del avg"
     ],
     "language": "python",
     "metadata": {},
     "outputs": [],
     "prompt_number": 12
    },
    {
     "cell_type": "code",
     "collapsed": false,
     "input": [
      "df = adj\n",
      "df = df.ix[gold_standard_ah.index]\n",
      "df = df.T.fillna(gold_standard_ah).T"
     ],
     "language": "python",
     "metadata": {},
     "outputs": [],
     "prompt_number": 14
    },
    {
     "cell_type": "code",
     "collapsed": false,
     "input": [
      "df_r = robjects.r.t(convert_to_r_dataframe(df))\n",
      "gs = list(gold_standard_ah.ix[df.index])\n",
      "gs_r = robjects.FloatVector(gs)"
     ],
     "language": "python",
     "metadata": {},
     "outputs": [],
     "prompt_number": 15
    },
    {
     "cell_type": "code",
     "collapsed": false,
     "input": [
      "del df"
     ],
     "language": "python",
     "metadata": {},
     "outputs": [],
     "prompt_number": 16
    },
    {
     "cell_type": "code",
     "collapsed": false,
     "input": [
      "data_n = robjects.r.BMIQcalibration(df_r, gs_r)\n",
      "data_n = convert_robj(data_n).T\n",
      "clear_output()"
     ],
     "language": "python",
     "metadata": {},
     "outputs": [],
     "prompt_number": 17
    },
    {
     "cell_type": "code",
     "collapsed": false,
     "input": [
      "data_n.columns = data_n.columns.map(lambda s: s.replace('.','-'))\n",
      "data_n.columns = data_n.columns.map(lambda s: s[1:] if s.startswith('X') else s)"
     ],
     "language": "python",
     "metadata": {},
     "outputs": [],
     "prompt_number": 22
    },
    {
     "cell_type": "code",
     "collapsed": false,
     "input": [
      "store = pd.HDFStore('/data/methylation_norm.h5')\n",
      "store.append('quant_BMIQ_adj', data_n)\n",
      "store.create_table_index('quant_BMIQ_adj', optlevel=9, kind='full')"
     ],
     "language": "python",
     "metadata": {},
     "outputs": [],
     "prompt_number": 17
    }
   ],
   "metadata": {}
  }
 ]
}